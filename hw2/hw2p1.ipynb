{
 "cells": [
  {
   "cell_type": "markdown",
   "metadata": {},
   "source": [
    "# Sage Shaw\n",
    "\n",
    "### ME 571 - Spring 2018\n",
    "\n",
    "# HW 2 - Problem 1"
   ]
  },
  {
   "cell_type": "markdown",
   "metadata": {},
   "source": [
    "# Using a Pool to compute a matrix-matrix multiply\n",
    "\n",
    "<hr/>\n",
    "\n",
    "Your job in this problem is to improve the speed of the matrix-matrix multiply, implemented here using a Pool.  \n",
    "You are free to be creative in writing your matrix-matrix multiply, but must follow a few ground rules. \n",
    "\n",
    "* You must use one of the Pool functions (map, map_async, apply or apply_async). \n",
    "\n",
    "* You cannot use any global variables\n",
    "\n",
    "* You are free to re-write the way in which the matrix is distributed to processors.  For example, you can try tiling individual dot products to get better cache performance. \n",
    "\n",
    "* Your answer should agree with the `numpy.matmul` result to within about $10^{-10}$.  The code below computes the difference for you. \n",
    "\n",
    "To show the speed-up you get, write a second function (using `def`) that computes your faster matrix-matrix multiply and then report both the original results and your faster results.  \n",
    "\n",
    "We are not looking for the \"fastest\" method to compute a matrix-matrix product (Numpy's `matmul` beats everything).  We are also not looking for parallel speed-up.   Rather, this problem should give you a better feel as to how the multiprocessing Pool module works, and how to use it optimally.\n",
    "\n",
    "If you are successful, you should see about a factor 5-10 (or more) speedup.  Try out your matrix-matrix multiply on matrices of dimensions $N = 2^7, 2^8, 2^9$ and $2^{10}$. \n",
    "\n",
    "To see how the Pool module works, see notebook posted on the course Wiki (Tuesday, Week 04). "
   ]
  },
  {
   "cell_type": "code",
   "execution_count": 3,
   "metadata": {
    "collapsed": true
   },
   "outputs": [],
   "source": [
    "from multiprocessing import Pool\n",
    "import numpy as np\n",
    "import numpy.linalg as la\n",
    "import itertools\n",
    "import pandas as pd"
   ]
  },
  {
   "cell_type": "code",
   "execution_count": 4,
   "metadata": {
    "collapsed": true
   },
   "outputs": [],
   "source": [
    "#Original Version 0\n",
    "def dot_ij(d):\n",
    "    i,j,x,y = d\n",
    "    return (i,j,np.dot(x,y))\n",
    "\n",
    "def matmul_pool(A,B):\n",
    "    m1,n1 = A.shape\n",
    "    m2,n2 = B.shape\n",
    "    if n1 != m2:\n",
    "        print(\"Inner matrix dimensions do not agree\")\n",
    "        return None\n",
    "    \n",
    "    Bt = np.transpose(B)\n",
    "    \n",
    "    map_list = [(i,j,A[i],Bt[j]) for (i,j) in itertools.product(range(0,m1),range(0,n2))]    \n",
    "    \n",
    "    pool = Pool()\n",
    "    results = []\n",
    "    for d in map_list:\n",
    "        r = pool.apply(func=dot_ij,args=(d,))\n",
    "        results.append(r)\n",
    "\n",
    "    C = np.empty((m1,n2),dtype='d')\n",
    "    for r in results:\n",
    "        i,j,d = r\n",
    "        C[i][j] = d\n",
    "        \n",
    "    pool.close() #This line was not in the original       \n",
    "    return C"
   ]
  },
  {
   "cell_type": "code",
   "execution_count": 5,
   "metadata": {},
   "outputs": [],
   "source": [
    "def gen_mat(N):\n",
    "    np.random.seed(1234)\n",
    "    A = np.random.rand(N,N)\n",
    "    B = np.random.rand(N,N)\n",
    "    return A, B"
   ]
  },
  {
   "cell_type": "code",
   "execution_count": 9,
   "metadata": {},
   "outputs": [
    {
     "name": "stdout",
     "output_type": "stream",
     "text": [
      "1 loop, best of 1: 1.84 s per loop\n",
      "\n",
      "    Matrix dimensions (N)           64\n",
      "      norm(C_pool-C_true)   2.3573e-13\n",
      "      Time using Pool (s)     1.837768\n"
     ]
    }
   ],
   "source": [
    "N = 2**6\n",
    "A, B = gen_mat(N)\n",
    "n_loop = 1\n",
    "r_rep = 1\n",
    "tr = %timeit -n $n_loop -r $r_rep -o pass; C_pool = matmul_pool(A,B)\n",
    "time_loop = tr.best\n",
    "\n",
    "# Get answer that we can compare to the numpy result\n",
    "C_pool = matmul_pool(A,B)\n",
    "\n",
    "print(\"\")\n",
    "print(\"{:>25s} {:12d}\".format(\"Matrix dimensions (N)\",N))\n",
    "print(\"{:>25s} {:12.4e}\".format(\"norm(C_pool-C_true)\",la.norm(C_pool-np.matmul(A,B))))\n",
    "print(\"{:>25s} {:12.6f}\".format(\"Time using Pool (s)\", time_loop))"
   ]
  },
  {
   "cell_type": "code",
   "execution_count": 41,
   "metadata": {},
   "outputs": [],
   "source": [
    "#New Version 1\n",
    "def my_dot(args):\n",
    "    A,b = args\n",
    "    return np.dot(A,b)\n",
    "\n",
    "def matmul_pool1(A,B):\n",
    "    N = len(A)\n",
    "    assert len(A)==len(B[0])\n",
    "    Bcols = [B[:,i:i+1] for i in range(N)]\n",
    "    pool = Pool()\n",
    "    cols = pool.map(my_dot,[(A,b) for b in Bcols])\n",
    "    C = np.array(cols).T #.reshape(N,N)\n",
    "    pool.close()            \n",
    "    return C"
   ]
  },
  {
   "cell_type": "code",
   "execution_count": 42,
   "metadata": {},
   "outputs": [
    {
     "name": "stdout",
     "output_type": "stream",
     "text": [
      "1 loop, best of 1: 225 ms per loop\n",
      "\n",
      "    Matrix dimensions (N)           64\n",
      "      norm(C_pool-C_true)   2.6523e-13\n",
      "      Time using Pool (s)     0.224873\n",
      "The speed up is: 23.326588\n"
     ]
    }
   ],
   "source": [
    "N = 2**6\n",
    "A,B = gen_mat(N)\n",
    "n_loop = 1\n",
    "r_rep = 1\n",
    "tr = %timeit -n $n_loop -r $r_rep -o pass; C_pool = matmul_pool1(A,B)\n",
    "time_loop1 = tr.best\n",
    "\n",
    "# Get answer that we can compare to the numpy result\n",
    "C_pool = matmul_pool1(A,B)\n",
    "\n",
    "print(\"\")\n",
    "print(\"{:>25s} {:12d}\".format(\"Matrix dimensions (N)\",N))\n",
    "print(\"{:>25s} {:12.4e}\".format(\"norm(C_pool-C_true)\",la.norm(C_pool-np.matmul(A,B))))\n",
    "print(\"{:>25s} {:12.6f}\".format(\"Time using Pool (s)\", time_loop1))\n",
    "\n",
    "print('The speed up is: %f' % (time_loop/time_loop1))"
   ]
  },
  {
   "cell_type": "code",
   "execution_count": 43,
   "metadata": {},
   "outputs": [
    {
     "name": "stdout",
     "output_type": "stream",
     "text": [
      "1 loop, best of 1: 520 ms per loop\n",
      "\n",
      "    Matrix dimensions (N)          128\n",
      "      norm(C_pool-C_true)   1.4765e-12\n",
      "      Time using Pool (s)     0.520475\n",
      "1 loop, best of 1: 1.08 s per loop\n",
      "\n",
      "    Matrix dimensions (N)          256\n",
      "      norm(C_pool-C_true)   8.0818e-12\n",
      "      Time using Pool (s)     1.077260\n",
      "1 loop, best of 1: 1.4 s per loop\n",
      "\n",
      "    Matrix dimensions (N)          512\n",
      "      norm(C_pool-C_true)   2.3101e-11\n",
      "      Time using Pool (s)     1.400712\n",
      "1 loop, best of 1: 5.11 s per loop\n",
      "\n",
      "    Matrix dimensions (N)         1024\n",
      "      norm(C_pool-C_true)   1.2156e-10\n",
      "      Time using Pool (s)     5.111356\n"
     ]
    }
   ],
   "source": [
    "Ns = [2**i for i in range(7,11)]\n",
    "for N in Ns:\n",
    "    A, B = gen_mat(N)\n",
    "    n_loop = 1\n",
    "    r_rep = 1\n",
    "    tr = %timeit -n $n_loop -r $r_rep -o pass; C_pool = matmul_pool1(A,B)\n",
    "    time_loop = tr.best\n",
    "\n",
    "    # Get answer that we can compare to the numpy result\n",
    "    C_pool = matmul_pool1(A,B)\n",
    "\n",
    "    print(\"\")\n",
    "    print(\"{:>25s} {:12d}\".format(\"Matrix dimensions (N)\",N))\n",
    "    print(\"{:>25s} {:12.4e}\".format(\"norm(C_pool-C_true)\",la.norm(C_pool-np.matmul(A,B))))\n",
    "    print(\"{:>25s} {:12.6f}\".format(\"Time using Pool (s)\", time_loop))"
   ]
  },
  {
   "cell_type": "markdown",
   "metadata": {},
   "source": [
    "## Conclusion\n",
    "The important differences were that the `pool.map` function was used instead of the `pool.apply` to allow the calculations to be done in parallel, and that the results were treated as vectors to avoid loops."
   ]
  },
  {
   "cell_type": "code",
   "execution_count": null,
   "metadata": {
    "collapsed": true
   },
   "outputs": [],
   "source": []
  }
 ],
 "metadata": {
  "kernelspec": {
   "display_name": "Python 3",
   "language": "python",
   "name": "python3"
  },
  "language_info": {
   "codemirror_mode": {
    "name": "ipython",
    "version": 3
   },
   "file_extension": ".py",
   "mimetype": "text/x-python",
   "name": "python",
   "nbconvert_exporter": "python",
   "pygments_lexer": "ipython3",
   "version": "3.5.2"
  }
 },
 "nbformat": 4,
 "nbformat_minor": 2
}
