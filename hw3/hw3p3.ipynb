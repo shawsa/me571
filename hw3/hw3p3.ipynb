{
 "cells": [
  {
   "cell_type": "markdown",
   "metadata": {},
   "source": [
    "# Sage Shaw\n",
    "\n",
    "### ME 571 - Spring 2018\n",
    "\n",
    "# HW 3 - Problem 3"
   ]
  },
  {
   "cell_type": "code",
   "execution_count": 17,
   "metadata": {},
   "outputs": [],
   "source": [
    "import matplotlib.pyplot as plt\n",
    "import numpy as np\n"
   ]
  },
  {
   "cell_type": "markdown",
   "metadata": {},
   "source": [
    "# Donna's Node Centered"
   ]
  },
  {
   "cell_type": "code",
   "execution_count": 221,
   "metadata": {},
   "outputs": [],
   "source": [
    "%%bash\n",
    "mpicc demo_util.c hw3p3_node.c -o bin/hw3p3_node -lm\n",
    "mpirun -n 4 bin/hw3p3_node -p 5 --itermax 4 --tol 1.0e-10 > csv/results_node_CG.csv"
   ]
  },
  {
   "cell_type": "code",
   "execution_count": 222,
   "metadata": {},
   "outputs": [
    {
     "name": "stdout",
     "output_type": "stream",
     "text": [
      "iterations: 4\n",
      "residual: 0.890133\n",
      "nodes: 129\n",
      "error: 1.83207\n"
     ]
    },
    {
     "data": {
      "text/plain": [
       "[<matplotlib.lines.Line2D at 0x7f33c8393cf8>]"
      ]
     },
     "execution_count": 222,
     "metadata": {},
     "output_type": "execute_result"
    },
    {
     "data": {
      "image/png": "[encoded data removed]",
      "text/plain": [
       "<matplotlib.figure.Figure at 0x7f33c8393be0>"
      ]
     },
     "metadata": {},
     "output_type": "display_data"
    }
   ],
   "source": [
    "A = np.genfromtxt('csv/results_node_CG.csv', delimiter=',')\n",
    "print(\"iterations: %d\" % A[-2])\n",
    "print(\"residual: %g\" % A[-1])\n",
    "A = A[:-2]\n",
    "print(\"nodes: %d\" % len(A))\n",
    "x = np.linspace(0,1,len(A))\n",
    "print(\"error: %g\" % np.max(np.abs(A - np.cos(2*np.pi*x))))\n",
    "plt.plot(x,A,'r.')\n",
    "plt.plot(x, np.cos(2*np.pi*x), 'b-')"
   ]
  },
  {
   "cell_type": "markdown",
   "metadata": {},
   "source": [
    "# Cell centered"
   ]
  },
  {
   "cell_type": "code",
   "execution_count": 91,
   "metadata": {},
   "outputs": [],
   "source": [
    "%%bash\n",
    "mpicc demo_util.c hw3p3_cell.c -o hw3p3_cell -lm\n",
    "mpirun -n 4 ./hw3p3_cell -p 2 --itermax 4 --tol 1.0e-10 > results_cell_CG.csv"
   ]
  },
  {
   "cell_type": "code",
   "execution_count": 92,
   "metadata": {},
   "outputs": [
    {
     "name": "stdout",
     "output_type": "stream",
     "text": [
      "iterations: 4\n",
      "residual: 2.37272\n",
      "cells: 16\n",
      "error: 6.09281\n"
     ]
    },
    {
     "data": {
      "text/plain": [
       "[<matplotlib.lines.Line2D at 0x7f33c8cf8828>]"
      ]
     },
     "execution_count": 92,
     "metadata": {},
     "output_type": "execute_result"
    },
    {
     "data": {
      "image/png": "[encoded data removed]",
      "text/plain": [
       "<matplotlib.figure.Figure at 0x7f33c8d01240>"
      ]
     },
     "metadata": {},
     "output_type": "display_data"
    }
   ],
   "source": [
    "A = np.genfromtxt('results_cell_CG.csv', delimiter=',')\n",
    "print(\"iterations: %d\" % A[-2])\n",
    "print(\"residual: %g\" % A[-1])\n",
    "A = A[:-2]\n",
    "cells = len(A)\n",
    "h = 1/cells\n",
    "print(\"cells: %d\" % len(A))\n",
    "x = np.linspace(h/2,1-h/2,cells)\n",
    "print(\"error: %g\" % np.max(np.abs(A - np.cos(2*np.pi*x))))\n",
    "plt.plot(x,A,'r.')\n",
    "plt.plot(x, np.cos(2*np.pi*x), 'b-')"
   ]
  },
  {
   "cell_type": "code",
   "execution_count": 183,
   "metadata": {},
   "outputs": [],
   "source": [
    "def cg_solve(A, x, b, tol, max_iter=10**9):\n",
    "    #n = len(x)\n",
    "    #N = int(np.sqrt(n))\n",
    "    #assert N**2 == n\n",
    "    #assert N>= 3\n",
    "    b_old = b\n",
    "    b[0] = 2 - x[0] - b_old[0]\n",
    "    b[-1] = 2 - x[-1] - b_old[-1]\n",
    "    x_old = x\n",
    "    r = b - A@x\n",
    "    #print(r)\n",
    "    res_norms = [np.linalg.norm(r)]\n",
    "    \n",
    "    iterations = 1\n",
    "    delta = np.dot(r, r)\n",
    "    #print(delta)\n",
    "    b_delta = np.dot(b,b)\n",
    "    p = r\n",
    "    while delta > b_delta * tol**2 and iterations < max_iter:\n",
    "        s = A.dot(p)\n",
    "        alpha = delta/np.dot(p,s)\n",
    "        #print('alpha: %f'%alpha)\n",
    "        x_new = x_old + alpha*p\n",
    "        r -= alpha * s\n",
    "        res_norms.append(np.linalg.norm(r))\n",
    "        delta_new = np.dot(r,r)\n",
    "        p = r + delta_new/delta * p\n",
    "        x_old, delta = x_new, delta_new\n",
    "        iterations += 1\n",
    "        b[0] = 2 - x[0] - b_old[0]\n",
    "        b[-1] = 2 - x[-1] - b_old[-1]\n",
    "    #cond = (1+np.cos(np.pi/(N+1)))/(1-np.cos(np.pi/(N+1)))\n",
    "    return x_new, iterations, res_norms"
   ]
  },
  {
   "cell_type": "code",
   "execution_count": 184,
   "metadata": {},
   "outputs": [
    {
     "name": "stdout",
     "output_type": "stream",
     "text": [
      "141\n"
     ]
    },
    {
     "data": {
      "image/png": "[encoded data removed]",
      "text/plain": [
       "<matplotlib.figure.Figure at 0x7f33c87b97f0>"
      ]
     },
     "metadata": {},
     "output_type": "display_data"
    }
   ],
   "source": [
    "def foo(x):\n",
    "    return -(2*np.pi)**2*np.cos(2*np.pi*x)\n",
    "\n",
    "N = 128\n",
    "h = 1/N\n",
    "xs = np.linspace(h/2,1-h/2,N)\n",
    "A = np.diag([2]*N) + np.diag([-1]*(N-1),k=1) + np.diag([-1]*(N-1),k=-1)\n",
    "b = np.array([-h**2*foo(xi) for xi in xs])\n",
    "\n",
    "u = np.zeros(N)\n",
    "u_new, iterations, res_norms = cg_solve(A,u, b, tol=10**-5, max_iter=1000)\n",
    "plt.plot(xs, u_new)\n",
    "print(iterations)"
   ]
  },
  {
   "cell_type": "code",
   "execution_count": 170,
   "metadata": {},
   "outputs": [
    {
     "data": {
      "text/plain": [
       "array([[ 2, -1,  0, ...,  0,  0,  0],\n",
       "       [-1,  2, -1, ...,  0,  0,  0],\n",
       "       [ 0, -1,  2, ...,  0,  0,  0],\n",
       "       ..., \n",
       "       [ 0,  0,  0, ...,  2, -1,  0],\n",
       "       [ 0,  0,  0, ..., -1,  2, -1],\n",
       "       [ 0,  0,  0, ...,  0, -1,  2]])"
      ]
     },
     "execution_count": 170,
     "metadata": {},
     "output_type": "execute_result"
    }
   ],
   "source": [
    "A"
   ]
  },
  {
   "cell_type": "code",
   "execution_count": null,
   "metadata": {},
   "outputs": [],
   "source": []
  }
 ],
 "metadata": {
  "kernelspec": {
   "display_name": "Python 3",
   "language": "python",
   "name": "python3"
  },
  "language_info": {
   "codemirror_mode": {
    "name": "ipython",
    "version": 3
   },
   "file_extension": ".py",
   "mimetype": "text/x-python",
   "name": "python",
   "nbconvert_exporter": "python",
   "pygments_lexer": "ipython3",
   "version": "3.5.2"
  }
 },
 "nbformat": 4,
 "nbformat_minor": 2
}
