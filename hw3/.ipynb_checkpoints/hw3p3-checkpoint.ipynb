{
 "cells": [
  {
   "cell_type": "markdown",
   "metadata": {},
   "source": [
    "# Sage Shaw\n",
    "\n",
    "### ME 571 - Spring 2018\n",
    "\n",
    "# HW 3 - Problem 3"
   ]
  },
  {
   "cell_type": "code",
   "execution_count": 3,
   "metadata": {},
   "outputs": [],
   "source": [
    "import matplotlib.pyplot as plt\n",
    "import numpy as np\n"
   ]
  },
  {
   "cell_type": "markdown",
   "metadata": {},
   "source": [
    "# Donna's Node Centered"
   ]
  },
  {
   "cell_type": "code",
   "execution_count": 89,
   "metadata": {},
   "outputs": [],
   "source": [
    "%%bash\n",
    "mpicc demo_util.c hw3p3_node.c -o bin/hw3p3_node -lm\n",
    "mpirun -n 4 bin/hw3p3_node -p 5 --itermax 100 --tol 1.0e-10 > csv/results_node_CG.csv"
   ]
  },
  {
   "cell_type": "code",
   "execution_count": 90,
   "metadata": {},
   "outputs": [
    {
     "name": "stdout",
     "output_type": "stream",
     "text": [
      "iterations: 64\n",
      "residual: 3.71719e-16\n",
      "nodes: 129\n",
      "error: 0.000401644\n"
     ]
    },
    {
     "data": {
      "text/plain": [
       "[<matplotlib.lines.Line2D at 0x7f11393fcfd0>]"
      ]
     },
     "execution_count": 90,
     "metadata": {},
     "output_type": "execute_result"
    },
    {
     "data": {
      "image/png": "[encoded data removed]",
      "text/plain": [
       "<matplotlib.figure.Figure at 0x7f113918d908>"
      ]
     },
     "metadata": {},
     "output_type": "display_data"
    }
   ],
   "source": [
    "A = np.genfromtxt('csv/results_node_CG.csv', delimiter=',')\n",
    "print(\"iterations: %d\" % A[-2])\n",
    "print(\"residual: %g\" % A[-1])\n",
    "A = A[:-2]\n",
    "print(\"nodes: %d\" % len(A))\n",
    "x = np.linspace(0,1,len(A))\n",
    "print(\"error: %g\" % np.max(np.abs(A - np.cos(2*np.pi*x))))\n",
    "plt.plot(x,A,'r.')\n",
    "plt.plot(x, np.cos(2*np.pi*x), 'b-')"
   ]
  },
  {
   "cell_type": "code",
   "execution_count": 79,
   "metadata": {},
   "outputs": [],
   "source": [
    "def cg_solve(A, x, b, tol, max_iter=10**9):\n",
    "    #n = len(x)\n",
    "    #N = int(np.sqrt(n))\n",
    "    #assert N**2 == n\n",
    "    #assert N>= 3\n",
    "    x_old = x\n",
    "    r = b - A@x\n",
    "    res_norms = [np.linalg.norm(r)]\n",
    "    \n",
    "    iterations = 1\n",
    "    delta = np.dot(r, r)\n",
    "    print(\"delta: %f\" % delta)\n",
    "    b_delta = np.dot(b,b)\n",
    "    p = r\n",
    "    \n",
    "    while delta > b_delta * tol**2 and iterations <= max_iter:\n",
    "        s = A.dot(p)\n",
    "        if iterations in (1,2):\n",
    "            print(r.reshape((len(r),1)))\n",
    "            print(p.reshape((len(p),1)))\n",
    "            print(s.reshape((len(s),1)))\n",
    "            pass\n",
    "        alpha = delta/np.dot(p,s)\n",
    "        print(\"alpha: %f\" % alpha)\n",
    "        x_new = x_old + alpha*p\n",
    "        \n",
    "        r -= alpha * s\n",
    "        res_norms.append(np.linalg.norm(r))\n",
    "        delta_new = np.dot(r,r)\n",
    "        print(\"delta_new %f\" % delta_new)\n",
    "        p = r + delta_new/delta * p\n",
    "        x_old, delta = x_new, delta_new\n",
    "        print(\"delta: %f\" % delta)\n",
    "        iterations += 1\n",
    "    #cond = (1+np.cos(np.pi/(N+1)))/(1-np.cos(np.pi/(N+1)))\n",
    "    return x_new, iterations, res_norms"
   ]
  },
  {
   "cell_type": "code",
   "execution_count": 80,
   "metadata": {},
   "outputs": [
    {
     "name": "stdout",
     "output_type": "stream",
     "text": [
      "delta: 2.736366\n",
      "[[  1.14247384e+00]\n",
      " [  1.09044753e-01]\n",
      " [  5.90145951e-02]\n",
      " [  9.44279644e-18]\n",
      " [ -5.90145951e-02]\n",
      " [ -1.09044753e-01]\n",
      " [ -1.42473836e-01]\n",
      " [ -1.54212569e-01]\n",
      " [ -1.42473836e-01]\n",
      " [ -1.09044753e-01]\n",
      " [ -5.90145951e-02]\n",
      " [ -2.83283893e-17]\n",
      " [  5.90145951e-02]\n",
      " [  1.09044753e-01]\n",
      " [  1.14247384e+00]]\n",
      "[[  1.14247384e+00]\n",
      " [  1.09044753e-01]\n",
      " [  5.90145951e-02]\n",
      " [  9.44279644e-18]\n",
      " [ -5.90145951e-02]\n",
      " [ -1.09044753e-01]\n",
      " [ -1.42473836e-01]\n",
      " [ -1.54212569e-01]\n",
      " [ -1.42473836e-01]\n",
      " [ -1.09044753e-01]\n",
      " [ -5.90145951e-02]\n",
      " [ -2.83283893e-17]\n",
      " [  5.90145951e-02]\n",
      " [  1.09044753e-01]\n",
      " [  1.14247384e+00]]\n",
      "[[  2.17590292e+00]\n",
      " [ -9.83398925e-01]\n",
      " [  8.98443714e-03]\n",
      " [ -1.93108884e-18]\n",
      " [ -8.98443714e-03]\n",
      " [ -1.66010752e-02]\n",
      " [ -2.16903500e-02]\n",
      " [ -2.34774657e-02]\n",
      " [ -2.16903500e-02]\n",
      " [ -1.66010752e-02]\n",
      " [ -8.98443714e-03]\n",
      " [ -1.14562739e-18]\n",
      " [  8.98443714e-03]\n",
      " [ -9.83398925e-01]\n",
      " [  2.17590292e+00]]\n",
      "alpha: 0.573313\n",
      "delta_new 1.012527\n",
      "delta: 1.012527\n",
      "[[ -1.05000317e-01]\n",
      " [  6.72840467e-01]\n",
      " [  5.38636975e-02]\n",
      " [  1.05499154e-17]\n",
      " [ -5.38636975e-02]\n",
      " [ -9.95271354e-02]\n",
      " [ -1.30038469e-01]\n",
      " [ -1.40752625e-01]\n",
      " [ -1.30038469e-01]\n",
      " [ -9.95271354e-02]\n",
      " [ -5.38636975e-02]\n",
      " [ -2.76715859e-17]\n",
      " [  5.38636975e-02]\n",
      " [  6.72840467e-01]\n",
      " [ -1.05000317e-01]]\n",
      "[[ -1.43853163e-01]\n",
      " [  9.21808928e-01]\n",
      " [  7.37946656e-02]\n",
      " [  1.44536583e-17]\n",
      " [ -7.37946656e-02]\n",
      " [ -1.36354762e-01]\n",
      " [ -1.78156082e-01]\n",
      " [ -1.92834754e-01]\n",
      " [ -1.78156082e-01]\n",
      " [ -1.36354762e-01]\n",
      " [ -7.37946656e-02]\n",
      " [ -3.79107918e-17]\n",
      " [  7.37946656e-02]\n",
      " [  9.21808928e-01]\n",
      " [ -1.43853163e-01]]\n",
      "[[ -1.20951525e+00]\n",
      " [  1.91367635e+00]\n",
      " [ -7.74219597e-01]\n",
      " [  1.15174101e-18]\n",
      " [ -1.12345689e-02]\n",
      " [ -2.07587765e-02]\n",
      " [ -2.71226486e-02]\n",
      " [ -2.93573433e-02]\n",
      " [ -2.71226486e-02]\n",
      " [ -2.07587765e-02]\n",
      " [ -1.12345689e-02]\n",
      " [ -6.43264459e-18]\n",
      " [ -7.74219597e-01]\n",
      " [  1.91367635e+00]\n",
      " [ -1.20951525e+00]]\n",
      "alpha: 0.267549\n",
      "delta_new 0.354209\n",
      "delta: 0.354209\n",
      "alpha: 0.679445\n",
      "delta_new 0.443181\n",
      "delta: 0.443181\n",
      "alpha: 0.378998\n",
      "delta_new 0.135038\n",
      "delta: 0.135038\n",
      "alpha: 0.334226\n",
      "delta_new 0.054452\n",
      "delta: 0.054452\n",
      "6\n"
     ]
    },
    {
     "data": {
      "image/png": "[encoded data removed]",
      "text/plain": [
       "<matplotlib.figure.Figure at 0x7f1138f930f0>"
      ]
     },
     "metadata": {},
     "output_type": "display_data"
    }
   ],
   "source": [
    "def foo(x):\n",
    "    return -(2*np.pi)**2*np.cos(2*np.pi*x)\n",
    "\n",
    "N = 15\n",
    "h = 1/(N+1)\n",
    "xs = np.linspace(h,1-h,N)\n",
    "A = np.diag([2]*N) + np.diag([-1]*(N-1),k=1) + np.diag([-1]*(N-1),k=-1)\n",
    "b = np.array([-h**2*foo(xi) for xi in xs])\n",
    "b[0] += 1\n",
    "b[-1] += 1\n",
    "\n",
    "u = np.zeros(N)\n",
    "u_new, iterations, res_norms = cg_solve(A,u, b, tol=10**-5, max_iter=5)\n",
    "plt.plot(xs, u_new)\n",
    "print(iterations)"
   ]
  },
  {
   "cell_type": "code",
   "execution_count": 50,
   "metadata": {},
   "outputs": [
    {
     "name": "stdout",
     "output_type": "stream",
     "text": [
      "[0.0625 0.125  0.1875 0.25   0.3125 0.375  0.4375 0.5    0.5625 0.625\n",
      " 0.6875 0.75   0.8125 0.875  0.9375]\n"
     ]
    }
   ],
   "source": [
    "print(xs)"
   ]
  },
  {
   "cell_type": "code",
   "execution_count": 82,
   "metadata": {},
   "outputs": [
    {
     "data": {
      "text/plain": [
       "0.317745265727611"
      ]
     },
     "execution_count": 82,
     "metadata": {},
     "output_type": "execute_result"
    }
   ],
   "source": [
    "-0.105000 + 1.012527/2.736366 * 1.142474"
   ]
  },
  {
   "cell_type": "code",
   "execution_count": null,
   "metadata": {},
   "outputs": [],
   "source": []
  }
 ],
 "metadata": {
  "kernelspec": {
   "display_name": "Python 3",
   "language": "python",
   "name": "python3"
  },
  "language_info": {
   "codemirror_mode": {
    "name": "ipython",
    "version": 3
   },
   "file_extension": ".py",
   "mimetype": "text/x-python",
   "name": "python",
   "nbconvert_exporter": "python",
   "pygments_lexer": "ipython3",
   "version": "3.5.2"
  }
 },
 "nbformat": 4,
 "nbformat_minor": 2
}
