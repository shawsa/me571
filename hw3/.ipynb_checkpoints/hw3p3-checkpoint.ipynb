{
 "cells": [
  {
   "cell_type": "markdown",
   "metadata": {},
   "source": [
    "# Sage Shaw\n",
    "\n",
    "### ME 571 - Spring 2018\n",
    "\n",
    "# HW 3 - Problem 3"
   ]
  },
  {
   "cell_type": "code",
   "execution_count": 3,
   "metadata": {},
   "outputs": [],
   "source": [
    "import matplotlib.pyplot as plt\n",
    "import numpy as np\n"
   ]
  },
  {
   "cell_type": "markdown",
   "metadata": {},
   "source": [
    "# Donna's Node Centered"
   ]
  },
  {
   "cell_type": "code",
   "execution_count": 79,
   "metadata": {},
   "outputs": [],
   "source": [
    "%%bash\n",
    "mpicc demo_util.c hw3p3_node.c -o bin/hw3p3_node -lm\n",
    "mpirun -n 4 bin/hw3p3_node -p 3 --itermax 5 --tol 1.0e-10 > csv/results_node_CG.csv"
   ]
  },
  {
   "cell_type": "code",
   "execution_count": 80,
   "metadata": {},
   "outputs": [
    {
     "name": "stdout",
     "output_type": "stream",
     "text": [
      "iterations: 5\n",
      "residual: 1.10507\n",
      "nodes: 33\n",
      "error: 3.40059\n"
     ]
    },
    {
     "data": {
      "text/plain": [
       "[<matplotlib.lines.Line2D at 0x7f591cd41c50>]"
      ]
     },
     "execution_count": 80,
     "metadata": {},
     "output_type": "execute_result"
    },
    {
     "data": {
      "image/png": "[encoded data removed]",
      "text/plain": [
       "<matplotlib.figure.Figure at 0x7f591ccc8c50>"
      ]
     },
     "metadata": {},
     "output_type": "display_data"
    }
   ],
   "source": [
    "A = np.genfromtxt('csv/results_node_CG.csv', delimiter=',')\n",
    "print(\"iterations: %d\" % A[-2])\n",
    "print(\"residual: %g\" % A[-1])\n",
    "A = A[:-2]\n",
    "print(\"nodes: %d\" % len(A))\n",
    "x = np.linspace(0,1,len(A))\n",
    "print(\"error: %g\" % np.max(np.abs(A - np.cos(2*np.pi*x))))\n",
    "plt.plot(x,A,'r.')\n",
    "plt.plot(x, np.cos(2*np.pi*x), 'b-')"
   ]
  },
  {
   "cell_type": "code",
   "execution_count": 93,
   "metadata": {},
   "outputs": [],
   "source": [
    "def cg_solve(A, x, b, tol, max_iter=10**9):\n",
    "    #n = len(x)\n",
    "    #N = int(np.sqrt(n))\n",
    "    #assert N**2 == n\n",
    "    #assert N>= 3\n",
    "    x_old = x\n",
    "    r = b - A@x\n",
    "    res_norms = [np.linalg.norm(r)]\n",
    "    \n",
    "    iterations = 1\n",
    "    delta = np.dot(r, r)\n",
    "    print(delta)\n",
    "    b_delta = np.dot(b,b)\n",
    "    p = r\n",
    "    print(p)\n",
    "    \n",
    "    while delta > b_delta * tol**2 and iterations <= max_iter:\n",
    "        s = A.dot(p)\n",
    "        \n",
    "        alpha = delta/np.dot(p,s)\n",
    "        print('alpha: %f'%alpha)\n",
    "        x_new = x_old + alpha*p\n",
    "        if iterations==1: print(x_new)\n",
    "        r -= alpha * s\n",
    "        res_norms.append(np.linalg.norm(r))\n",
    "        delta_new = np.dot(r,r)\n",
    "        p = r + delta_new/delta * p\n",
    "        x_old, delta = x_new, delta_new\n",
    "        iterations += 1\n",
    "    #cond = (1+np.cos(np.pi/(N+1)))/(1-np.cos(np.pi/(N+1)))\n",
    "    return x_new, iterations, res_norms"
   ]
  },
  {
   "cell_type": "code",
   "execution_count": 94,
   "metadata": {},
   "outputs": [
    {
     "name": "stdout",
     "output_type": "stream",
     "text": [
      "2.736365958319424\n",
      "[ 1.14247384e+00  1.09044753e-01  5.90145951e-02  9.44279644e-18\n",
      " -5.90145951e-02 -1.09044753e-01 -1.42473836e-01 -1.54212569e-01\n",
      " -1.42473836e-01 -1.09044753e-01 -5.90145951e-02 -2.83283893e-17\n",
      "  5.90145951e-02  1.09044753e-01  1.14247384e+00]\n",
      "alpha: 0.573313\n",
      "[ 6.54995482e-01  6.25168108e-02  3.38338542e-02  5.41368109e-18\n",
      " -3.38338542e-02 -6.25168108e-02 -8.16821496e-02 -8.84121216e-02\n",
      " -8.16821496e-02 -6.25168108e-02 -3.38338542e-02 -1.62410433e-17\n",
      "  3.38338542e-02  6.25168108e-02  6.54995482e-01]\n",
      "alpha: 0.267549\n",
      "3\n"
     ]
    },
    {
     "data": {
      "image/png": "[encoded data removed]",
      "text/plain": [
       "<matplotlib.figure.Figure at 0x7f591cb4ff28>"
      ]
     },
     "metadata": {},
     "output_type": "display_data"
    }
   ],
   "source": [
    "def foo(x):\n",
    "    return -(2*np.pi)**2*np.cos(2*np.pi*x)\n",
    "\n",
    "N = 15\n",
    "h = 1/(N+1)\n",
    "xs = np.linspace(h,1-h,N)\n",
    "A = np.diag([2]*N) + np.diag([-1]*(N-1),k=1) + np.diag([-1]*(N-1),k=-1)\n",
    "b = np.array([-h**2*foo(xi) for xi in xs])\n",
    "b[0] += 1\n",
    "b[-1] += 1\n",
    "\n",
    "u = np.zeros(N)\n",
    "u_new, iterations, res_norms = cg_solve(A,u, b, tol=10**-5, max_iter=2)\n",
    "plt.plot(xs, u_new)\n",
    "print(iterations)"
   ]
  },
  {
   "cell_type": "code",
   "execution_count": 50,
   "metadata": {},
   "outputs": [
    {
     "name": "stdout",
     "output_type": "stream",
     "text": [
      "[0.0625 0.125  0.1875 0.25   0.3125 0.375  0.4375 0.5    0.5625 0.625\n",
      " 0.6875 0.75   0.8125 0.875  0.9375]\n"
     ]
    }
   ],
   "source": [
    "print(xs)"
   ]
  },
  {
   "cell_type": "code",
   "execution_count": null,
   "metadata": {},
   "outputs": [],
   "source": []
  }
 ],
 "metadata": {
  "kernelspec": {
   "display_name": "Python 3",
   "language": "python",
   "name": "python3"
  },
  "language_info": {
   "codemirror_mode": {
    "name": "ipython",
    "version": 3
   },
   "file_extension": ".py",
   "mimetype": "text/x-python",
   "name": "python",
   "nbconvert_exporter": "python",
   "pygments_lexer": "ipython3",
   "version": "3.5.2"
  }
 },
 "nbformat": 4,
 "nbformat_minor": 2
}
