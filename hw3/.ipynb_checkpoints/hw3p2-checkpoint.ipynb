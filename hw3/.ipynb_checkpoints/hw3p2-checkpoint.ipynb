{
 "cells": [
  {
   "cell_type": "code",
   "execution_count": 28,
   "metadata": {},
   "outputs": [],
   "source": [
    "import matplotlib.pyplot as plt\n",
    "import numpy as np\n"
   ]
  },
  {
   "cell_type": "code",
   "execution_count": 53,
   "metadata": {},
   "outputs": [],
   "source": [
    "%%bash\n",
    "mpicc demo_util.c hw3p2_sage.c -o hw3p2_sage -lm\n",
    "mpirun -n 4 ./hw3p2_sage -p 5 --itermax 100000 --tol 1.0e-10 > results_sage_GS.csv"
   ]
  },
  {
   "cell_type": "code",
   "execution_count": 54,
   "metadata": {},
   "outputs": [
    {
     "name": "stdout",
     "output_type": "stream",
     "text": [
      "iterations: 25586\n",
      "residual: 9.99649e-11\n",
      "nodes: 130\n",
      "error: 0.000395208\n"
     ]
    },
    {
     "data": {
      "text/plain": [
       "[<matplotlib.lines.Line2D at 0x7fd8f2307400>]"
      ]
     },
     "execution_count": 54,
     "metadata": {},
     "output_type": "execute_result"
    },
    {
     "data": {
      "image/png": "[encoded data removed]",
      "text/plain": [
       "<matplotlib.figure.Figure at 0x7fd8f23075c0>"
      ]
     },
     "metadata": {},
     "output_type": "display_data"
    }
   ],
   "source": [
    "A = np.genfromtxt('results_sage_GS.csv', delimiter=',')\n",
    "print(\"iterations: %d\" % A[-2])\n",
    "print(\"residual: %g\" % A[-1])\n",
    "A = A[:-2]\n",
    "print(\"nodes: %d\" % len(A))\n",
    "x = np.linspace(0,1,len(A))\n",
    "print(\"error: %g\" % np.max(np.abs(A - np.cos(2*np.pi*x))))\n",
    "plt.plot(x,A,'r.')\n",
    "plt.plot(x, np.cos(2*np.pi*x), 'b-')"
   ]
  },
  {
   "cell_type": "code",
   "execution_count": 14,
   "metadata": {},
   "outputs": [],
   "source": [
    "A = np.arange(6**2).reshape((6,6))\n",
    "A = np.array([[100*x+y for x in range(6)] for y in range(6)])"
   ]
  },
  {
   "cell_type": "code",
   "execution_count": 15,
   "metadata": {},
   "outputs": [
    {
     "data": {
      "text/plain": [
       "array([[  0, 100, 200, 300, 400, 500],\n",
       "       [  1, 101, 201, 301, 401, 501],\n",
       "       [  2, 102, 202, 302, 402, 502],\n",
       "       [  3, 103, 203, 303, 403, 503],\n",
       "       [  4, 104, 204, 304, 404, 504],\n",
       "       [  5, 105, 205, 305, 405, 505]])"
      ]
     },
     "execution_count": 15,
     "metadata": {},
     "output_type": "execute_result"
    }
   ],
   "source": [
    "A"
   ]
  },
  {
   "cell_type": "code",
   "execution_count": 18,
   "metadata": {},
   "outputs": [],
   "source": [
    "def red_black(A):\n",
    "    return np.block([[A[0::2,0::2], A[0::2,1::2]], [A[1::2,0::2] , A[1::2,1::2]]])"
   ]
  },
  {
   "cell_type": "code",
   "execution_count": 17,
   "metadata": {},
   "outputs": [
    {
     "data": {
      "text/plain": [
       "array([[  0, 200, 400, 100, 300, 500],\n",
       "       [  2, 202, 402, 102, 302, 502],\n",
       "       [  4, 204, 404, 104, 304, 504],\n",
       "       [  1, 201, 401, 101, 301, 501],\n",
       "       [  3, 203, 403, 103, 303, 503],\n",
       "       [  5, 205, 405, 105, 305, 505]])"
      ]
     },
     "execution_count": 17,
     "metadata": {},
     "output_type": "execute_result"
    }
   ],
   "source": [
    "np.block([[A[0::2,0::2], A[0::2,1::2]], [A[1::2,0::2] , A[1::2,1::2]]])"
   ]
  },
  {
   "cell_type": "code",
   "execution_count": 19,
   "metadata": {},
   "outputs": [
    {
     "data": {
      "text/plain": [
       "array([[  0, 200, 400, 100, 300, 500],\n",
       "       [  2, 202, 402, 102, 302, 502],\n",
       "       [  4, 204, 404, 104, 304, 504],\n",
       "       [  1, 201, 401, 101, 301, 501],\n",
       "       [  3, 203, 403, 103, 303, 503],\n",
       "       [  5, 205, 405, 105, 305, 505]])"
      ]
     },
     "execution_count": 19,
     "metadata": {},
     "output_type": "execute_result"
    }
   ],
   "source": [
    "red_black(A)"
   ]
  },
  {
   "cell_type": "code",
   "execution_count": 20,
   "metadata": {},
   "outputs": [],
   "source": [
    "n = 8\n",
    "D = np.diag([2]*n) + np.diag([-1]*(n-1),k=1) + np.diag([-1]*(n-1),k=-1)"
   ]
  },
  {
   "cell_type": "code",
   "execution_count": 21,
   "metadata": {},
   "outputs": [
    {
     "data": {
      "text/plain": [
       "array([[ 2, -1,  0,  0,  0,  0,  0,  0],\n",
       "       [-1,  2, -1,  0,  0,  0,  0,  0],\n",
       "       [ 0, -1,  2, -1,  0,  0,  0,  0],\n",
       "       [ 0,  0, -1,  2, -1,  0,  0,  0],\n",
       "       [ 0,  0,  0, -1,  2, -1,  0,  0],\n",
       "       [ 0,  0,  0,  0, -1,  2, -1,  0],\n",
       "       [ 0,  0,  0,  0,  0, -1,  2, -1],\n",
       "       [ 0,  0,  0,  0,  0,  0, -1,  2]])"
      ]
     },
     "execution_count": 21,
     "metadata": {},
     "output_type": "execute_result"
    }
   ],
   "source": [
    "D"
   ]
  },
  {
   "cell_type": "code",
   "execution_count": 22,
   "metadata": {},
   "outputs": [
    {
     "data": {
      "text/plain": [
       "array([[ 2,  0,  0,  0, -1,  0,  0,  0],\n",
       "       [ 0,  2,  0,  0, -1, -1,  0,  0],\n",
       "       [ 0,  0,  2,  0,  0, -1, -1,  0],\n",
       "       [ 0,  0,  0,  2,  0,  0, -1, -1],\n",
       "       [-1, -1,  0,  0,  2,  0,  0,  0],\n",
       "       [ 0, -1, -1,  0,  0,  2,  0,  0],\n",
       "       [ 0,  0, -1, -1,  0,  0,  2,  0],\n",
       "       [ 0,  0,  0, -1,  0,  0,  0,  2]])"
      ]
     },
     "execution_count": 22,
     "metadata": {},
     "output_type": "execute_result"
    }
   ],
   "source": [
    "red_black(D)"
   ]
  },
  {
   "cell_type": "code",
   "execution_count": null,
   "metadata": {},
   "outputs": [],
   "source": []
  }
 ],
 "metadata": {
  "kernelspec": {
   "display_name": "Python 3",
   "language": "python",
   "name": "python3"
  },
  "language_info": {
   "codemirror_mode": {
    "name": "ipython",
    "version": 3
   },
   "file_extension": ".py",
   "mimetype": "text/x-python",
   "name": "python",
   "nbconvert_exporter": "python",
   "pygments_lexer": "ipython3",
   "version": "3.5.2"
  }
 },
 "nbformat": 4,
 "nbformat_minor": 2
}
