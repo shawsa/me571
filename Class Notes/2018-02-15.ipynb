{
 "cells": [
  {
   "cell_type": "markdown",
   "metadata": {},
   "source": [
    "Start with a delta function\n",
    "### delta function\n",
    "\n",
    "approximate with \n",
    "$$$\n",
    "d_h(x) = \\begin{cases}\n",
    "    (\\frac{x}{h}+1) \\frac{1}{h} & \\text{if } -h < x < 0 \\\\\n",
    "    (-\\frac{x}{h}+1) \\frac{1}{h} & \\text{else} \n",
    "\\end{cases}\n",
    "$$\n",
    "    \n",
    "Then $\\lim_{h \\to 0}d_h(x) = \\delta(x)$."
   ]
  },
  {
   "cell_type": "markdown",
   "metadata": {},
   "source": [
    "### Heaviside Function\n",
    "\n",
    "$$\n",
    "H(x) = \\int_{-\\inf}^{x} \\delta(t) dt = \\begin{cases}0 & \\text{if } x<0 \\\\ 1 & \\text{if } 0<x \\end{cases}\n",
    "$$\n",
    "### Ramp function\n",
    "$$\n",
    "R(x) = \\int_{-\\inf}^{x} H(t) dt = \\begin{cases}0 & \\text{if } x<0 \\\\ x & \\text{if } 0\\leq x \\end{cases}\n",
    "$$\n",
    "\n",
    "### getting weird...\n",
    "Let's allow\n",
    "$$\n",
    "H^{\\prime}(x) = \\delta (x)\n",
    "$$\n",
    "$$\n",
    "R^{\\prime}(x) = H(x)\n",
    "$$"
   ]
  },
  {
   "cell_type": "markdown",
   "metadata": {},
   "source": [
    "### Solve\n",
    "\\begin{align*}\n",
    "    G^{\\prime\\prime}(x;t) & = \\delta(x-t) \\\\\n",
    "    G^{\\prime}(x;t) & = H(x-t) + A \\\\\n",
    "    G(x;t) & = R(x-t) + Ax + B\n",
    "\\end{align*}\n",
    "Add boundary conditions for the interval $(0, 1)$.\n",
    "\n",
    "$$\n",
    "0 = G(0;t) = R(0-t) + A0+B = B\n",
    "$$\n",
    "$$\n",
    "0 = G(1;t) = R(1-t) + A = 1-t + A\n",
    "$$\n",
    "$$\n",
    "A = t-1\n",
    "$$\n",
    "\n",
    "So \n",
    "\\begin{align*}\n",
    "G(x;t) & = R(x-t) + (t-1)x \\\\\n",
    "& = \\begin{cases}\n",
    "        (x-1)t & \\text{if } t \\leq x \\\\\n",
    "        (t-1)x & \\text{else}\n",
    "    \\end{cases}\n",
    "\\end{align*}"
   ]
  },
  {
   "cell_type": "markdown",
   "metadata": {},
   "source": [
    "### back to the ODE\n",
    "\\begin{align*}\n",
    "    u^{\\prime\\prime}(x) & = f(x) & \\text{(with respect to x of course)}\\\\\n",
    "    & = \\int_0^1 \\delta(x-t) f(t) dt \\\\\n",
    "    u(x) & = \\int_0^1 G(x;t) f(t) dt & u(0)=u(1)=0\n",
    "\\end{align*}\n",
    "\n",
    "Add a linear term to generaliz\n",
    "$$\n",
    "u(x) = A(1-x) + Bx + \\int_0^1 G(x;t) f(t) dt\n",
    "$$\n",
    "with $u(0) = A$ and $u(1) = B$."
   ]
  },
  {
   "cell_type": "markdown",
   "metadata": {},
   "source": [
    "### Cost\n",
    "Calculating $u(x)$ at one value is $\\mathcal{O}(n)$. To do this at $n$ locations with step sizes $\\frac{1}{n}$ it is $\\mathcal{O}(n^2)$ so it is much more expensive, however there is no ill-conditioned matrix. Allowing for greater accuracy."
   ]
  },
  {
   "cell_type": "markdown",
   "metadata": {},
   "source": [
    "### End Notes\n",
    "Check course notes for links and further reading.\n",
    "\n",
    "Fast Multipole Method\n",
    "High arithmetic intensity\n"
   ]
  }
 ],
 "metadata": {
  "kernelspec": {
   "display_name": "Python 3",
   "language": "python",
   "name": "python3"
  },
  "language_info": {
   "codemirror_mode": {
    "name": "ipython",
    "version": 3
   },
   "file_extension": ".py",
   "mimetype": "text/x-python",
   "name": "python",
   "nbconvert_exporter": "python",
   "pygments_lexer": "ipython3",
   "version": "3.5.2"
  }
 },
 "nbformat": 4,
 "nbformat_minor": 2
}
