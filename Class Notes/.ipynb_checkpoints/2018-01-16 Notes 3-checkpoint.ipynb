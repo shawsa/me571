{
 "cells": [
  {
   "cell_type": "code",
   "execution_count": 1,
   "metadata": {},
   "outputs": [],
   "source": [
    "import multiprocessing as mp\n",
    "import os\n",
    "import time"
   ]
  },
  {
   "cell_type": "code",
   "execution_count": 10,
   "metadata": {},
   "outputs": [
    {
     "name": "stdout",
     "output_type": "stream",
     "text": [
      "Process-72 has finished\n"
     ]
    },
    {
     "name": "stderr",
     "output_type": "stream",
     "text": [
      "Process Process-72:\n"
     ]
    },
    {
     "name": "stdout",
     "output_type": "stream",
     "text": [
      "Process-73 has finished\n"
     ]
    },
    {
     "name": "stderr",
     "output_type": "stream",
     "text": [
      "Process Process-73:\n",
      "Traceback (most recent call last):\n",
      "Traceback (most recent call last):\n"
     ]
    },
    {
     "name": "stdout",
     "output_type": "stream",
     "text": [
      "Process-74 has finished\n"
     ]
    },
    {
     "name": "stderr",
     "output_type": "stream",
     "text": [
      "  File \"/usr/lib/python3.5/multiprocessing/process.py\", line 249, in _bootstrap\n",
      "    self.run()\n",
      "  File \"/usr/lib/python3.5/multiprocessing/process.py\", line 93, in run\n",
      "    self._target(*self._args, **self._kwargs)\n",
      "Process Process-74:\n",
      "  File \"<ipython-input-10-05975ec67dbe>\", line 8, in hello\n",
      "    k += int(1)\n",
      "Traceback (most recent call last):\n",
      "TypeError: unsupported operand type(s) for +=: 'Synchronized' and 'int'\n",
      "  File \"/usr/lib/python3.5/multiprocessing/process.py\", line 249, in _bootstrap\n",
      "    self.run()\n",
      "  File \"/usr/lib/python3.5/multiprocessing/process.py\", line 249, in _bootstrap\n",
      "    self.run()\n"
     ]
    },
    {
     "name": "stdout",
     "output_type": "stream",
     "text": [
      "Process-75 has finished\n"
     ]
    },
    {
     "name": "stderr",
     "output_type": "stream",
     "text": [
      "  File \"/usr/lib/python3.5/multiprocessing/process.py\", line 93, in run\n",
      "    self._target(*self._args, **self._kwargs)\n",
      "  File \"/usr/lib/python3.5/multiprocessing/process.py\", line 93, in run\n",
      "    self._target(*self._args, **self._kwargs)\n",
      "Process Process-75:\n",
      "  File \"<ipython-input-10-05975ec67dbe>\", line 8, in hello\n",
      "    k += int(1)\n",
      "Traceback (most recent call last):\n",
      "  File \"<ipython-input-10-05975ec67dbe>\", line 8, in hello\n",
      "    k += int(1)\n",
      "TypeError: unsupported operand type(s) for +=: 'Synchronized' and 'int'\n"
     ]
    },
    {
     "name": "stdout",
     "output_type": "stream",
     "text": [
      "Process-76 has finished\n"
     ]
    },
    {
     "name": "stderr",
     "output_type": "stream",
     "text": [
      "TypeError: unsupported operand type(s) for +=: 'Synchronized' and 'int'\n",
      "  File \"/usr/lib/python3.5/multiprocessing/process.py\", line 249, in _bootstrap\n",
      "    self.run()\n",
      "Process Process-76:\n"
     ]
    },
    {
     "name": "stdout",
     "output_type": "stream",
     "text": [
      "Process-77 has finished\n"
     ]
    },
    {
     "name": "stderr",
     "output_type": "stream",
     "text": [
      "Process Process-77:\n",
      "  File \"/usr/lib/python3.5/multiprocessing/process.py\", line 93, in run\n",
      "    self._target(*self._args, **self._kwargs)\n",
      "Traceback (most recent call last):\n",
      "Traceback (most recent call last):\n",
      "  File \"/usr/lib/python3.5/multiprocessing/process.py\", line 249, in _bootstrap\n",
      "    self.run()\n",
      "  File \"/usr/lib/python3.5/multiprocessing/process.py\", line 93, in run\n",
      "    self._target(*self._args, **self._kwargs)\n",
      "  File \"/usr/lib/python3.5/multiprocessing/process.py\", line 249, in _bootstrap\n",
      "    self.run()\n"
     ]
    },
    {
     "name": "stdout",
     "output_type": "stream",
     "text": [
      "Process-78 has finished\n"
     ]
    },
    {
     "name": "stderr",
     "output_type": "stream",
     "text": [
      "  File \"<ipython-input-10-05975ec67dbe>\", line 8, in hello\n",
      "    k += int(1)\n",
      "  File \"<ipython-input-10-05975ec67dbe>\", line 8, in hello\n",
      "    k += int(1)\n",
      "  File \"/usr/lib/python3.5/multiprocessing/process.py\", line 93, in run\n",
      "    self._target(*self._args, **self._kwargs)\n"
     ]
    },
    {
     "name": "stdout",
     "output_type": "stream",
     "text": [
      "Process-79 has finished\n"
     ]
    },
    {
     "name": "stderr",
     "output_type": "stream",
     "text": [
      "Process Process-78:\n",
      "  File \"<ipython-input-10-05975ec67dbe>\", line 8, in hello\n",
      "    k += int(1)\n",
      "TypeError: unsupported operand type(s) for +=: 'Synchronized' and 'int'\n",
      "Process Process-79:\n",
      "TypeError: unsupported operand type(s) for +=: 'Synchronized' and 'int'\n",
      "TypeError: unsupported operand type(s) for +=: 'Synchronized' and 'int'\n",
      "Traceback (most recent call last):\n",
      "Traceback (most recent call last):\n",
      "  File \"/usr/lib/python3.5/multiprocessing/process.py\", line 249, in _bootstrap\n",
      "    self.run()\n",
      "  File \"/usr/lib/python3.5/multiprocessing/process.py\", line 93, in run\n",
      "    self._target(*self._args, **self._kwargs)\n",
      "  File \"/usr/lib/python3.5/multiprocessing/process.py\", line 249, in _bootstrap\n",
      "    self.run()\n",
      "  File \"<ipython-input-10-05975ec67dbe>\", line 8, in hello\n",
      "    k += int(1)\n",
      "TypeError: unsupported operand type(s) for +=: 'Synchronized' and 'int'\n",
      "  File \"/usr/lib/python3.5/multiprocessing/process.py\", line 93, in run\n",
      "    self._target(*self._args, **self._kwargs)\n",
      "Traceback (most recent call last):\n",
      "Process Process-80:\n",
      "TypeError: unsupported operand type(s) for +=: 'Synchronized' and 'int'\n",
      "  File \"<ipython-input-10-05975ec67dbe>\", line 8, in hello\n",
      "    k += int(1)\n"
     ]
    },
    {
     "name": "stdout",
     "output_type": "stream",
     "text": [
      "Process-80 has finished\n"
     ]
    },
    {
     "name": "stderr",
     "output_type": "stream",
     "text": [
      "  File \"/usr/lib/python3.5/multiprocessing/process.py\", line 249, in _bootstrap\n",
      "    self.run()\n"
     ]
    },
    {
     "name": "stdout",
     "output_type": "stream",
     "text": [
      "Process-81 has finished\n"
     ]
    },
    {
     "name": "stderr",
     "output_type": "stream",
     "text": [
      "  File \"/usr/lib/python3.5/multiprocessing/process.py\", line 93, in run\n",
      "    self._target(*self._args, **self._kwargs)\n",
      "Process Process-81:\n",
      "Traceback (most recent call last):\n",
      "  File \"<ipython-input-10-05975ec67dbe>\", line 8, in hello\n",
      "    k += int(1)\n",
      "TypeError: unsupported operand type(s) for +=: 'Synchronized' and 'int'\n",
      "  File \"/usr/lib/python3.5/multiprocessing/process.py\", line 249, in _bootstrap\n",
      "    self.run()\n",
      "  File \"/usr/lib/python3.5/multiprocessing/process.py\", line 93, in run\n",
      "    self._target(*self._args, **self._kwargs)\n",
      "  File \"<ipython-input-10-05975ec67dbe>\", line 8, in hello\n",
      "    k += int(1)\n",
      "TypeError: unsupported operand type(s) for +=: 'Synchronized' and 'int'\n"
     ]
    },
    {
     "name": "stdout",
     "output_type": "stream",
     "text": [
      "0\n",
      "0\n"
     ]
    }
   ],
   "source": [
    "k = mp.Value('i',0)\n",
    "\n",
    "def hello(k):\n",
    "    id = mp.current_process().name\n",
    "    #print(\"{} will add {} and {} to get : {}\".format(id,x,y,x+y))\n",
    "    #time.sleep(1)\n",
    "    print(\"{} has finished\".format(id))\n",
    "    k += int(1)\n",
    "    print(\"\")\n",
    "    \n",
    "\n",
    "    \n",
    "num_proc = 10\n",
    "x = 5\n",
    "y = 7\n",
    "jobs = [mp.Process(target=hello,args=[k]) for i in range(num_proc)]\n",
    "for job in jobs:\n",
    "    job.start()\n",
    "#jobs = []\n",
    "'''\n",
    "for i in range(num_proc):\n",
    "    job = mp.Process(target=hello,args=(x,y))\n",
    "    job.start()\n",
    "    jobs.append(job)\n",
    "'''\n",
    "\n",
    "print(k.value)\n",
    "    \n",
    "for job in jobs:\n",
    "    job.join()\n",
    "    \n",
    "print(k.value)\n",
    "    \n",
    "for job in jobs:\n",
    "    job.terminate()\n",
    "    \n"
   ]
  },
  {
   "cell_type": "code",
   "execution_count": null,
   "metadata": {},
   "outputs": [],
   "source": []
  },
  {
   "cell_type": "code",
   "execution_count": null,
   "metadata": {},
   "outputs": [],
   "source": []
  }
 ],
 "metadata": {
  "kernelspec": {
   "display_name": "Python 3",
   "language": "python",
   "name": "python3"
  },
  "language_info": {
   "codemirror_mode": {
    "name": "ipython",
    "version": 3
   },
   "file_extension": ".py",
   "mimetype": "text/x-python",
   "name": "python",
   "nbconvert_exporter": "python",
   "pygments_lexer": "ipython3",
   "version": "3.5.2"
  }
 },
 "nbformat": 4,
 "nbformat_minor": 2
}
