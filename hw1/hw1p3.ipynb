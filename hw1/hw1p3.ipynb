{
 "cells": [
  {
   "cell_type": "markdown",
   "metadata": {},
   "source": [
    "# Sage Shaw\n",
    "\n",
    "### ME 571 - Spring 2018\n",
    "\n",
    "# HW 1 - Problem 3"
   ]
  },
  {
   "cell_type": "code",
   "execution_count": 2,
   "metadata": {
    "collapsed": true
   },
   "outputs": [],
   "source": [
    "%matplotlib inline\n",
    "import matplotlib.pyplot as plt\n",
    "import multiprocessing as mp\n",
    "import numpy as np\n",
    "import pandas as pd\n",
    "\n",
    "from random import random\n",
    "from itertools import repeat\n",
    "\n",
    "N = 10**3\n",
    "A = [ [random() for i in range(N)] for j in range(N) ]\n",
    "x = [random() for i in range(N)]"
   ]
  },
  {
   "cell_type": "markdown",
   "metadata": {},
   "source": [
    "## In Serial"
   ]
  },
  {
   "cell_type": "code",
   "execution_count": 3,
   "metadata": {
    "collapsed": true
   },
   "outputs": [],
   "source": [
    "def in_serial(A,x):\n",
    "    return [sum(a+b for a,b in zip(r,x)) for r in A ]"
   ]
  },
  {
   "cell_type": "markdown",
   "metadata": {},
   "source": [
    "## In Parallel by Row"
   ]
  },
  {
   "cell_type": "code",
   "execution_count": 4,
   "metadata": {
    "collapsed": true
   },
   "outputs": [],
   "source": [
    "def sub_matrix_mult(i, A1, x1, ret):\n",
    "    ret[i] = in_serial(A1,x1)"
   ]
  },
  {
   "cell_type": "code",
   "execution_count": 5,
   "metadata": {
    "collapsed": true
   },
   "outputs": [],
   "source": [
    "def sub_matrix_mult(i, A1, x1, ret):\n",
    "    ret[i] = in_serial(A1,x1)\n",
    "\n",
    "def in_parallel_row(A,x,p):\n",
    "    manager = mp.Manager()\n",
    "    ret = manager.list([0]*p)\n",
    "    rows_per_proc = len(A)//p\n",
    "    \n",
    "    if N%p != 0:\n",
    "        rows_per_proc += 1\n",
    "    submatrices = [A[i:i+rows_per_proc] for i in range(0, N, rows_per_proc)]\n",
    "    if len(submatrices)<p:\n",
    "        submatrices += [A[rows_per_proc*(p-1):]]\n",
    "\n",
    "    jobs = [mp.Process(target=sub_matrix_mult, \n",
    "            args=(i, submatrix, x, ret))\n",
    "            for i, submatrix in enumerate(submatrices)]\n",
    "    for job in jobs: job.start()\n",
    "    for job in jobs: job.join()\n",
    "    b = []\n",
    "    for b1 in ret: b += b1\n",
    "    return b"
   ]
  },
  {
   "cell_type": "markdown",
   "metadata": {},
   "source": [
    "## In Parallel by Column"
   ]
  },
  {
   "cell_type": "code",
   "execution_count": 6,
   "metadata": {
    "collapsed": true
   },
   "outputs": [],
   "source": [
    "def add_matrices(matrices):\n",
    "    rows = len(matrices[0])\n",
    "    columns = len(matrices[0][0])\n",
    "    return [ [ sum([A[i][j] for A in matrices]) for j in range(columns)] for i in range(rows) ]\n",
    "def add_vectors(vectors):\n",
    "    return [sum([v[i] for v in vectors]) for i in range(len(vectors[0]))]"
   ]
  },
  {
   "cell_type": "code",
   "execution_count": 7,
   "metadata": {
    "collapsed": true
   },
   "outputs": [],
   "source": [
    "def in_parallel_col(A,x,p):\n",
    "    manager = mp.Manager()\n",
    "    ret = manager.list([0]*p)\n",
    "    \n",
    "    if N%p == 0:\n",
    "        cols_per_proc = len(A)//p\n",
    "    else:\n",
    "        cols_per_proc = len(A)//p + 1\n",
    "    \n",
    "    submatrices = [ [A[r][i*cols_per_proc:(i+1)*cols_per_proc]  for r in range(len(A))] for i in range(p-1)]\n",
    "    subvectors = [x[i*cols_per_proc:(i+1)*cols_per_proc] for i in range(p-1)]\n",
    "    \n",
    "    if len(submatrices)<p:\n",
    "        submatrices.append([ A[r][cols_per_proc*(p-1):] for r in range(len(A))])\n",
    "        #submatrices += [ A[r][cols_per_proc*(p-1):] for r in range(len(A))]\n",
    "        subvectors += [x[cols_per_proc*(p-1):]]     \n",
    "        \n",
    "    jobs = [mp.Process(target=sub_matrix_mult, \n",
    "            args=(i, submatrix, subvector, ret))\n",
    "            for i, (submatrix, subvector) in enumerate(zip(submatrices, subvectors))]\n",
    "    for job in jobs: job.start()\n",
    "    for job in jobs: job.join()\n",
    "    return add_vectors(ret)"
   ]
  },
  {
   "cell_type": "markdown",
   "metadata": {
    "collapsed": true
   },
   "source": [
    "# Times"
   ]
  },
  {
   "cell_type": "code",
   "execution_count": 8,
   "metadata": {
    "collapsed": false
   },
   "outputs": [],
   "source": [
    "N = 10**3\n",
    "A = [ [random() for i in range(N)] for j in range(N) ]\n",
    "x = [random() for i in range(N)]\n",
    "\n",
    "columns = ['Time', 'Processors', 'Speed-Up', 'Efficiency', 'Theoretical Speed-Up', 'Theoretical Efficiency']\n",
    "row_data = pd.DataFrame(columns=columns)\n",
    "col_data = pd.DataFrame(columns=columns)"
   ]
  },
  {
   "cell_type": "code",
   "execution_count": 9,
   "metadata": {
    "collapsed": false
   },
   "outputs": [
    {
     "name": "stdout",
     "output_type": "stream",
     "text": [
      "10 loops, best of 3: 106 ms per loop\n",
      "10 loops, best of 3: 163 ms per loop\n",
      "1 loop, best of 3: 523 ms per loop\n",
      "10 loops, best of 3: 99.6 ms per loop\n",
      "1 loop, best of 3: 636 ms per loop\n",
      "10 loops, best of 3: 73.4 ms per loop\n",
      "1 loop, best of 3: 1.05 s per loop\n",
      "10 loops, best of 3: 71.4 ms per loop\n",
      "1 loop, best of 3: 1.81 s per loop\n",
      "10 loops, best of 3: 93.1 ms per loop\n",
      "1 loop, best of 3: 3.35 s per loop\n",
      "10 loops, best of 3: 148 ms per loop\n",
      "1 loop, best of 3: 6.35 s per loop\n"
     ]
    }
   ],
   "source": [
    "def stats_from_timeit(timeit_result, num_proc, description):\n",
    "    t = timeit_result.best\n",
    "    data_row = {'Time': t, 'Processors': num_proc}\n",
    "    return pd.Series(data=data_row, name=description)\n",
    "\n",
    "my_time = %timeit -o w = in_serial(A,x)\n",
    "row_data = row_data.append(stats_from_timeit(my_time, 1, 'Serial'))\n",
    "col_data = col_data.append(stats_from_timeit(my_time, 1, 'Serial'))\n",
    "T0 = my_time.best\n",
    "\n",
    "process_counts = range(0, int(np.log(mp.cpu_count())/np.log(2))+2)\n",
    "process_counts = [2**p for p in process_counts]\n",
    "\n",
    "for p in process_counts:\n",
    "    my_time = %timeit -o w = in_parallel_row(A,x,p)\n",
    "    row_data = row_data.append(stats_from_timeit(my_time, p, 'Parallel'))\n",
    "    my_time = %timeit -o w = in_parallel_col(A,x,p)\n",
    "    col_data = col_data.append(stats_from_timeit(my_time, p, 'Parallel'))"
   ]
  },
  {
   "cell_type": "code",
   "execution_count": 10,
   "metadata": {
    "collapsed": true
   },
   "outputs": [],
   "source": [
    "row_data['Speed-Up'] = T0/row_data['Time']\n",
    "row_data['Efficiency'] = row_data['Speed-Up']/row_data['Processors']\n",
    "row_data['Theoretical Speed-Up'] = row_data['Processors']\n",
    "row_data['Theoretical Efficiency'] = 1\n",
    "\n",
    "col_data['Speed-Up'] = T0/col_data['Time']\n",
    "col_data['Efficiency'] = col_data['Speed-Up']/col_data['Processors']\n",
    "col_data['Theoretical Speed-Up'] = col_data['Processors']\n",
    "col_data['Theoretical Efficiency'] = 1"
   ]
  },
  {
   "cell_type": "code",
   "execution_count": 11,
   "metadata": {
    "collapsed": false
   },
   "outputs": [
    {
     "data": {
      "text/html": [
       "<div>\n",
       "<style scoped>\n",
       "    .dataframe tbody tr th:only-of-type {\n",
       "        vertical-align: middle;\n",
       "    }\n",
       "\n",
       "    .dataframe tbody tr th {\n",
       "        vertical-align: top;\n",
       "    }\n",
       "\n",
       "    .dataframe thead th {\n",
       "        text-align: right;\n",
       "    }\n",
       "</style>\n",
       "<table border=\"1\" class=\"dataframe\">\n",
       "  <thead>\n",
       "    <tr style=\"text-align: right;\">\n",
       "      <th></th>\n",
       "      <th>Time</th>\n",
       "      <th>Processors</th>\n",
       "      <th>Speed-Up</th>\n",
       "      <th>Efficiency</th>\n",
       "      <th>Theoretical Speed-Up</th>\n",
       "      <th>Theoretical Efficiency</th>\n",
       "    </tr>\n",
       "  </thead>\n",
       "  <tbody>\n",
       "    <tr>\n",
       "      <th>Serial</th>\n",
       "      <td>0.105904</td>\n",
       "      <td>1.0</td>\n",
       "      <td>1.000000</td>\n",
       "      <td>1.000000</td>\n",
       "      <td>1.0</td>\n",
       "      <td>1</td>\n",
       "    </tr>\n",
       "    <tr>\n",
       "      <th>Parallel</th>\n",
       "      <td>0.162577</td>\n",
       "      <td>1.0</td>\n",
       "      <td>0.651407</td>\n",
       "      <td>0.651407</td>\n",
       "      <td>1.0</td>\n",
       "      <td>1</td>\n",
       "    </tr>\n",
       "    <tr>\n",
       "      <th>Parallel</th>\n",
       "      <td>0.099562</td>\n",
       "      <td>2.0</td>\n",
       "      <td>1.063703</td>\n",
       "      <td>0.531852</td>\n",
       "      <td>2.0</td>\n",
       "      <td>1</td>\n",
       "    </tr>\n",
       "    <tr>\n",
       "      <th>Parallel</th>\n",
       "      <td>0.073399</td>\n",
       "      <td>4.0</td>\n",
       "      <td>1.442855</td>\n",
       "      <td>0.360714</td>\n",
       "      <td>4.0</td>\n",
       "      <td>1</td>\n",
       "    </tr>\n",
       "    <tr>\n",
       "      <th>Parallel</th>\n",
       "      <td>0.071401</td>\n",
       "      <td>8.0</td>\n",
       "      <td>1.483230</td>\n",
       "      <td>0.185404</td>\n",
       "      <td>8.0</td>\n",
       "      <td>1</td>\n",
       "    </tr>\n",
       "    <tr>\n",
       "      <th>Parallel</th>\n",
       "      <td>0.093056</td>\n",
       "      <td>16.0</td>\n",
       "      <td>1.138067</td>\n",
       "      <td>0.071129</td>\n",
       "      <td>16.0</td>\n",
       "      <td>1</td>\n",
       "    </tr>\n",
       "    <tr>\n",
       "      <th>Parallel</th>\n",
       "      <td>0.147815</td>\n",
       "      <td>32.0</td>\n",
       "      <td>0.716463</td>\n",
       "      <td>0.022389</td>\n",
       "      <td>32.0</td>\n",
       "      <td>1</td>\n",
       "    </tr>\n",
       "  </tbody>\n",
       "</table>\n",
       "</div>"
      ],
      "text/plain": [
       "              Time  Processors  Speed-Up  Efficiency  Theoretical Speed-Up  \\\n",
       "Serial    0.105904         1.0  1.000000    1.000000                   1.0   \n",
       "Parallel  0.162577         1.0  0.651407    0.651407                   1.0   \n",
       "Parallel  0.099562         2.0  1.063703    0.531852                   2.0   \n",
       "Parallel  0.073399         4.0  1.442855    0.360714                   4.0   \n",
       "Parallel  0.071401         8.0  1.483230    0.185404                   8.0   \n",
       "Parallel  0.093056        16.0  1.138067    0.071129                  16.0   \n",
       "Parallel  0.147815        32.0  0.716463    0.022389                  32.0   \n",
       "\n",
       "          Theoretical Efficiency  \n",
       "Serial                         1  \n",
       "Parallel                       1  \n",
       "Parallel                       1  \n",
       "Parallel                       1  \n",
       "Parallel                       1  \n",
       "Parallel                       1  \n",
       "Parallel                       1  "
      ]
     },
     "execution_count": 11,
     "metadata": {},
     "output_type": "execute_result"
    }
   ],
   "source": [
    "row_data"
   ]
  },
  {
   "cell_type": "code",
   "execution_count": 12,
   "metadata": {
    "collapsed": false
   },
   "outputs": [
    {
     "data": {
      "text/html": [
       "<div>\n",
       "<style scoped>\n",
       "    .dataframe tbody tr th:only-of-type {\n",
       "        vertical-align: middle;\n",
       "    }\n",
       "\n",
       "    .dataframe tbody tr th {\n",
       "        vertical-align: top;\n",
       "    }\n",
       "\n",
       "    .dataframe thead th {\n",
       "        text-align: right;\n",
       "    }\n",
       "</style>\n",
       "<table border=\"1\" class=\"dataframe\">\n",
       "  <thead>\n",
       "    <tr style=\"text-align: right;\">\n",
       "      <th></th>\n",
       "      <th>Time</th>\n",
       "      <th>Processors</th>\n",
       "      <th>Speed-Up</th>\n",
       "      <th>Efficiency</th>\n",
       "      <th>Theoretical Speed-Up</th>\n",
       "      <th>Theoretical Efficiency</th>\n",
       "    </tr>\n",
       "  </thead>\n",
       "  <tbody>\n",
       "    <tr>\n",
       "      <th>Serial</th>\n",
       "      <td>0.105904</td>\n",
       "      <td>1.0</td>\n",
       "      <td>1.000000</td>\n",
       "      <td>1.000000</td>\n",
       "      <td>1.0</td>\n",
       "      <td>1</td>\n",
       "    </tr>\n",
       "    <tr>\n",
       "      <th>Parallel</th>\n",
       "      <td>0.522844</td>\n",
       "      <td>1.0</td>\n",
       "      <td>0.202554</td>\n",
       "      <td>0.202554</td>\n",
       "      <td>1.0</td>\n",
       "      <td>1</td>\n",
       "    </tr>\n",
       "    <tr>\n",
       "      <th>Parallel</th>\n",
       "      <td>0.636369</td>\n",
       "      <td>2.0</td>\n",
       "      <td>0.166419</td>\n",
       "      <td>0.083210</td>\n",
       "      <td>2.0</td>\n",
       "      <td>1</td>\n",
       "    </tr>\n",
       "    <tr>\n",
       "      <th>Parallel</th>\n",
       "      <td>1.053806</td>\n",
       "      <td>4.0</td>\n",
       "      <td>0.100497</td>\n",
       "      <td>0.025124</td>\n",
       "      <td>4.0</td>\n",
       "      <td>1</td>\n",
       "    </tr>\n",
       "    <tr>\n",
       "      <th>Parallel</th>\n",
       "      <td>1.813379</td>\n",
       "      <td>8.0</td>\n",
       "      <td>0.058401</td>\n",
       "      <td>0.007300</td>\n",
       "      <td>8.0</td>\n",
       "      <td>1</td>\n",
       "    </tr>\n",
       "    <tr>\n",
       "      <th>Parallel</th>\n",
       "      <td>3.349861</td>\n",
       "      <td>16.0</td>\n",
       "      <td>0.031614</td>\n",
       "      <td>0.001976</td>\n",
       "      <td>16.0</td>\n",
       "      <td>1</td>\n",
       "    </tr>\n",
       "    <tr>\n",
       "      <th>Parallel</th>\n",
       "      <td>6.348006</td>\n",
       "      <td>32.0</td>\n",
       "      <td>0.016683</td>\n",
       "      <td>0.000521</td>\n",
       "      <td>32.0</td>\n",
       "      <td>1</td>\n",
       "    </tr>\n",
       "  </tbody>\n",
       "</table>\n",
       "</div>"
      ],
      "text/plain": [
       "              Time  Processors  Speed-Up  Efficiency  Theoretical Speed-Up  \\\n",
       "Serial    0.105904         1.0  1.000000    1.000000                   1.0   \n",
       "Parallel  0.522844         1.0  0.202554    0.202554                   1.0   \n",
       "Parallel  0.636369         2.0  0.166419    0.083210                   2.0   \n",
       "Parallel  1.053806         4.0  0.100497    0.025124                   4.0   \n",
       "Parallel  1.813379         8.0  0.058401    0.007300                   8.0   \n",
       "Parallel  3.349861        16.0  0.031614    0.001976                  16.0   \n",
       "Parallel  6.348006        32.0  0.016683    0.000521                  32.0   \n",
       "\n",
       "          Theoretical Efficiency  \n",
       "Serial                         1  \n",
       "Parallel                       1  \n",
       "Parallel                       1  \n",
       "Parallel                       1  \n",
       "Parallel                       1  \n",
       "Parallel                       1  \n",
       "Parallel                       1  "
      ]
     },
     "execution_count": 12,
     "metadata": {},
     "output_type": "execute_result"
    }
   ],
   "source": [
    "col_data"
   ]
  },
  {
   "cell_type": "code",
   "execution_count": 13,
   "metadata": {
    "collapsed": false
   },
   "outputs": [
    {
     "data": {
      "image/png": "[encoded data removed]",
      "text/plain": [
       "<matplotlib.figure.Figure at 0x7fc40a3eaf98>"
      ]
     },
     "metadata": {},
     "output_type": "display_data"
    }
   ],
   "source": [
    "parallel_data = row_data.loc['Parallel'][['Processors','Speed-Up','Theoretical Speed-Up']]\n",
    "plt = parallel_data.plot(x='Processors',style='.-', loglog=True)\n",
    "plt.set_title('Calculating by Row',fontsize=18);\n",
    "plt.set_xlabel('Processes',fontsize=16);\n",
    "plt.set_ylabel('Speed-Up',fontsize=16);"
   ]
  },
  {
   "cell_type": "code",
   "execution_count": 17,
   "metadata": {
    "collapsed": false
   },
   "outputs": [
    {
     "data": {
      "image/png": "[encoded data removed]",
      "text/plain": [
       "<matplotlib.figure.Figure at 0x7fc40a369160>"
      ]
     },
     "metadata": {},
     "output_type": "display_data"
    }
   ],
   "source": [
    "parallel_data = row_data.loc['Parallel'][['Processors','Efficiency','Theoretical Efficiency']]\n",
    "plt = parallel_data.plot(x='Processors',style='.-', logx=True)\n",
    "plt.set_title(\"Calculating by Row\",fontsize=18);\n",
    "plt.set_xlabel('Processes',fontsize=16);\n",
    "plt.set_ylabel('Efficiency',fontsize=16);\n",
    "plt.set_ylim(-0.1, 1.1);"
   ]
  },
  {
   "cell_type": "code",
   "execution_count": 15,
   "metadata": {
    "collapsed": false
   },
   "outputs": [
    {
     "data": {
      "image/png": "[encoded data removed]",
      "text/plain": [
       "<matplotlib.figure.Figure at 0x7fc42099f278>"
      ]
     },
     "metadata": {},
     "output_type": "display_data"
    }
   ],
   "source": [
    "parallel_data = col_data.loc['Parallel'][['Processors','Speed-Up','Theoretical Speed-Up']]\n",
    "plt = parallel_data.plot(x='Processors',style='.-', loglog=True)\n",
    "plt.set_title('Calculating by Column',fontsize=18);\n",
    "plt.set_xlabel('Processes',fontsize=16);\n",
    "plt.set_ylabel('Speed-Up',fontsize=16);"
   ]
  },
  {
   "cell_type": "code",
   "execution_count": 18,
   "metadata": {
    "collapsed": false
   },
   "outputs": [
    {
     "data": {
      "image/png": "[encoded data removed]",
      "text/plain": [
       "<matplotlib.figure.Figure at 0x7fc420966dd8>"
      ]
     },
     "metadata": {},
     "output_type": "display_data"
    }
   ],
   "source": [
    "parallel_data = col_data.loc['Parallel'][['Processors','Efficiency','Theoretical Efficiency']]\n",
    "plt = parallel_data.plot(x='Processors',style='.-', logx=True)\n",
    "plt.set_title(\"Calculating by Column\",fontsize=18);\n",
    "plt.set_xlabel('Processes',fontsize=16);\n",
    "plt.set_ylabel('Efficiency',fontsize=16);\n",
    "plt.set_ylim(-0.1, 1.1);"
   ]
  },
  {
   "cell_type": "markdown",
   "metadata": {},
   "source": [
    "# Analysis"
   ]
  },
  {
   "cell_type": "markdown",
   "metadata": {},
   "source": [
    "Distributing rows worked much better. \n",
    "\n",
    "I think this is because looping over the columns for a few reasons. First, the multi-dimensional list I constructed to represent a matrix was organized as a list of rows (also lists). Distributing over rows was very easy, but distributing over columns probably required more overhead.\n",
    "\n",
    "Second, The column approach required us to loop over the output columns and sum them in serial. This takes about as many additions as doing the entire operation in serial. Not to mention that it requires more memory writes, and object creations."
   ]
  }
 ],
 "metadata": {
  "kernelspec": {
   "display_name": "Python 3",
   "language": "python",
   "name": "python3"
  },
  "language_info": {
   "codemirror_mode": {
    "name": "ipython",
    "version": 3
   },
   "file_extension": ".py",
   "mimetype": "text/x-python",
   "name": "python",
   "nbconvert_exporter": "python",
   "pygments_lexer": "ipython3",
   "version": "3.5.4"
  }
 },
 "nbformat": 4,
 "nbformat_minor": 2
}
