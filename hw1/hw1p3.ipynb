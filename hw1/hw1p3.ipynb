{
 "cells": [
  {
   "cell_type": "code",
   "execution_count": 1,
   "metadata": {
    "collapsed": true
   },
   "outputs": [],
   "source": [
    "%matplotlib inline\n",
    "import matplotlib.pyplot as plt\n",
    "import multiprocessing as mp\n",
    "import numpy as np\n",
    "import pandas as pd\n",
    "\n",
    "from random import random\n",
    "from itertools import repeat\n",
    "\n",
    "N = 10**3\n",
    "A = [ [random() for i in range(N)] for j in range(N) ]\n",
    "x = [random() for i in range(N)]"
   ]
  },
  {
   "cell_type": "markdown",
   "metadata": {},
   "source": [
    "## In Serial"
   ]
  },
  {
   "cell_type": "code",
   "execution_count": 2,
   "metadata": {
    "collapsed": true
   },
   "outputs": [],
   "source": [
    "def in_serial(A,x):\n",
    "    return [sum(a+b for a,b in zip(r,x)) for r in A ]"
   ]
  },
  {
   "cell_type": "markdown",
   "metadata": {},
   "source": [
    "## In Parallel by Row"
   ]
  },
  {
   "cell_type": "code",
   "execution_count": 3,
   "metadata": {
    "collapsed": true
   },
   "outputs": [],
   "source": [
    "def sub_matrix_mult(i, A1, x1, ret):\n",
    "    ret[i] = in_serial(A1,x1)"
   ]
  },
  {
   "cell_type": "code",
   "execution_count": 4,
   "metadata": {
    "collapsed": true
   },
   "outputs": [],
   "source": [
    "def sub_matrix_mult(i, A1, x1, ret):\n",
    "    ret[i] = in_serial(A1,x1)\n",
    "\n",
    "def in_parallel_row(A,x,p):\n",
    "    manager = mp.Manager()\n",
    "    ret = manager.list([0]*p)\n",
    "    rows_per_proc = len(A)//p\n",
    "    \n",
    "    if N%p != 0:\n",
    "        rows_per_proc += 1\n",
    "    submatrices = [A[i:i+rows_per_proc] for i in range(0, N, rows_per_proc)]\n",
    "    if len(submatrices)<p:\n",
    "        submatrices += [A[rows_per_proc*(p-1):]]\n",
    "\n",
    "    jobs = [mp.Process(target=sub_matrix_mult, \n",
    "            args=(i, submatrix, x, ret))\n",
    "            for i, submatrix in enumerate(submatrices)]\n",
    "    for job in jobs: job.start()\n",
    "    for job in jobs: job.join()\n",
    "    b = []\n",
    "    for b1 in ret: b += b1\n",
    "    return b"
   ]
  },
  {
   "cell_type": "markdown",
   "metadata": {},
   "source": [
    "## In Parallel by Column"
   ]
  },
  {
   "cell_type": "code",
   "execution_count": 5,
   "metadata": {
    "collapsed": true
   },
   "outputs": [],
   "source": [
    "def add_matrices(matrices):\n",
    "    rows = len(matrices[0])\n",
    "    columns = len(matrices[0][0])\n",
    "    return [ [ sum([A[i][j] for A in matrices]) for j in range(columns)] for i in range(rows) ]\n",
    "def add_vectors(vectors):\n",
    "    return [sum([v[i] for v in vectors]) for i in range(len(vectors[0]))]"
   ]
  },
  {
   "cell_type": "code",
   "execution_count": 6,
   "metadata": {
    "collapsed": true
   },
   "outputs": [],
   "source": [
    "def in_parallel_col(A,x,p):\n",
    "    manager = mp.Manager()\n",
    "    ret = manager.list([0]*p)\n",
    "    \n",
    "    if N%p == 0:\n",
    "        cols_per_proc = len(A)//p\n",
    "    else:\n",
    "        cols_per_proc = len(A)//p + 1\n",
    "    \n",
    "    submatrices = [ [A[r][i*cols_per_proc:(i+1)*cols_per_proc]  for r in range(len(A))] for i in range(p-1)]\n",
    "    subvectors = [x[i*cols_per_proc:(i+1)*cols_per_proc] for i in range(p-1)]\n",
    "    \n",
    "    if len(submatrices)<p:\n",
    "        submatrices.append([ A[r][cols_per_proc*(p-1):] for r in range(len(A))])\n",
    "        #submatrices += [ A[r][cols_per_proc*(p-1):] for r in range(len(A))]\n",
    "        subvectors += [x[cols_per_proc*(p-1):]]     \n",
    "        \n",
    "    jobs = [mp.Process(target=sub_matrix_mult, \n",
    "            args=(i, submatrix, subvector, ret))\n",
    "            for i, (submatrix, subvector) in enumerate(zip(submatrices, subvectors))]\n",
    "    for job in jobs: job.start()\n",
    "    for job in jobs: job.join()\n",
    "    return add_vectors(ret)"
   ]
  },
  {
   "cell_type": "markdown",
   "metadata": {
    "collapsed": true
   },
   "source": [
    "# Times"
   ]
  },
  {
   "cell_type": "code",
   "execution_count": 11,
   "metadata": {
    "collapsed": false
   },
   "outputs": [],
   "source": [
    "N = 10**3\n",
    "A = [ [random() for i in range(N)] for j in range(N) ]\n",
    "x = [random() for i in range(N)]\n",
    "\n",
    "columns = ['Time', 'Processors', 'Speed-Up', 'Efficiency', 'Theoretical Speed-Up', 'Theoretical Efficiency']\n",
    "row_data = pd.DataFrame(columns=columns)\n",
    "col_data = pd.DataFrame(columns=columns)"
   ]
  },
  {
   "cell_type": "code",
   "execution_count": 12,
   "metadata": {
    "collapsed": false
   },
   "outputs": [
    {
     "name": "stdout",
     "output_type": "stream",
     "text": [
      "10 loops, best of 3: 105 ms per loop\n",
      "1 loop, best of 3: 1.45 s per loop\n",
      "1 loop, best of 3: 1.83 s per loop\n",
      "1 loop, best of 3: 1.71 s per loop\n",
      "1 loop, best of 3: 2.29 s per loop\n",
      "1 loop, best of 3: 2.32 s per loop\n",
      "1 loop, best of 3: 3.31 s per loop\n",
      "1 loop, best of 3: 3.57 s per loop\n",
      "1 loop, best of 3: 5.38 s per loop\n",
      "1 loop, best of 3: 6.12 s per loop\n",
      "1 loop, best of 3: 9.5 s per loop\n",
      "1 loop, best of 3: 11.1 s per loop\n",
      "1 loop, best of 3: 17.6 s per loop\n"
     ]
    }
   ],
   "source": [
    "def stats_from_timeit(timeit_result, num_proc, description):\n",
    "    t = timeit_result.best\n",
    "    data_row = {'Time': t, 'Processors': num_proc}\n",
    "    return pd.Series(data=data_row, name=description)\n",
    "\n",
    "my_time = %timeit -o w = in_serial(A,x)\n",
    "row_data = row_data.append(stats_from_timeit(my_time, 1, 'Serial'))\n",
    "col_data = col_data.append(stats_from_timeit(my_time, 1, 'Serial'))\n",
    "T0 = my_time.best\n",
    "\n",
    "process_counts = range(0, int(np.log(mp.cpu_count())/np.log(2))+2)\n",
    "process_counts = [2**p for p in process_counts]\n",
    "\n",
    "for p in process_counts:\n",
    "    my_time = %timeit -o w = in_parallel_row(A,x,p)\n",
    "    row_data = row_data.append(stats_from_timeit(my_time, p, 'Parallel'))\n",
    "    my_time = %timeit -o w = in_parallel_col(A,x,p)\n",
    "    col_data = col_data.append(stats_from_timeit(my_time, p, 'Parallel'))"
   ]
  },
  {
   "cell_type": "code",
   "execution_count": 13,
   "metadata": {
    "collapsed": true
   },
   "outputs": [],
   "source": [
    "row_data['Speed-Up'] = T0/row_data['Time']\n",
    "row_data['Efficiency'] = row_data['Speed-Up']/row_data['Processors']\n",
    "row_data['Theoretical Speed-Up'] = row_data['Processors']\n",
    "row_data['Theoretical Efficiency'] = 1\n",
    "\n",
    "col_data['Speed-Up'] = T0/col_data['Time']\n",
    "col_data['Efficiency'] = col_data['Speed-Up']/col_data['Processors']\n",
    "col_data['Theoretical Speed-Up'] = col_data['Processors']\n",
    "col_data['Theoretical Efficiency'] = 1"
   ]
  },
  {
   "cell_type": "code",
   "execution_count": 14,
   "metadata": {
    "collapsed": false
   },
   "outputs": [
    {
     "data": {
      "text/html": [
       "<div>\n",
       "<style scoped>\n",
       "    .dataframe tbody tr th:only-of-type {\n",
       "        vertical-align: middle;\n",
       "    }\n",
       "\n",
       "    .dataframe tbody tr th {\n",
       "        vertical-align: top;\n",
       "    }\n",
       "\n",
       "    .dataframe thead th {\n",
       "        text-align: right;\n",
       "    }\n",
       "</style>\n",
       "<table border=\"1\" class=\"dataframe\">\n",
       "  <thead>\n",
       "    <tr style=\"text-align: right;\">\n",
       "      <th></th>\n",
       "      <th>Time</th>\n",
       "      <th>Processors</th>\n",
       "      <th>Speed-Up</th>\n",
       "      <th>Efficiency</th>\n",
       "      <th>Theoretical Speed-Up</th>\n",
       "      <th>Theoretical Efficiency</th>\n",
       "    </tr>\n",
       "  </thead>\n",
       "  <tbody>\n",
       "    <tr>\n",
       "      <th>Serial</th>\n",
       "      <td>0.104829</td>\n",
       "      <td>1.0</td>\n",
       "      <td>1.000000</td>\n",
       "      <td>1.000000</td>\n",
       "      <td>1.0</td>\n",
       "      <td>1</td>\n",
       "    </tr>\n",
       "    <tr>\n",
       "      <th>Parallel</th>\n",
       "      <td>1.453512</td>\n",
       "      <td>1.0</td>\n",
       "      <td>0.072121</td>\n",
       "      <td>0.072121</td>\n",
       "      <td>1.0</td>\n",
       "      <td>1</td>\n",
       "    </tr>\n",
       "    <tr>\n",
       "      <th>Parallel</th>\n",
       "      <td>1.706956</td>\n",
       "      <td>2.0</td>\n",
       "      <td>0.061413</td>\n",
       "      <td>0.030706</td>\n",
       "      <td>2.0</td>\n",
       "      <td>1</td>\n",
       "    </tr>\n",
       "    <tr>\n",
       "      <th>Parallel</th>\n",
       "      <td>2.321952</td>\n",
       "      <td>4.0</td>\n",
       "      <td>0.045147</td>\n",
       "      <td>0.011287</td>\n",
       "      <td>4.0</td>\n",
       "      <td>1</td>\n",
       "    </tr>\n",
       "    <tr>\n",
       "      <th>Parallel</th>\n",
       "      <td>3.568030</td>\n",
       "      <td>8.0</td>\n",
       "      <td>0.029380</td>\n",
       "      <td>0.003672</td>\n",
       "      <td>8.0</td>\n",
       "      <td>1</td>\n",
       "    </tr>\n",
       "    <tr>\n",
       "      <th>Parallel</th>\n",
       "      <td>6.120727</td>\n",
       "      <td>16.0</td>\n",
       "      <td>0.017127</td>\n",
       "      <td>0.001070</td>\n",
       "      <td>16.0</td>\n",
       "      <td>1</td>\n",
       "    </tr>\n",
       "    <tr>\n",
       "      <th>Parallel</th>\n",
       "      <td>11.098958</td>\n",
       "      <td>32.0</td>\n",
       "      <td>0.009445</td>\n",
       "      <td>0.000295</td>\n",
       "      <td>32.0</td>\n",
       "      <td>1</td>\n",
       "    </tr>\n",
       "  </tbody>\n",
       "</table>\n",
       "</div>"
      ],
      "text/plain": [
       "               Time  Processors  Speed-Up  Efficiency  Theoretical Speed-Up  \\\n",
       "Serial     0.104829         1.0  1.000000    1.000000                   1.0   \n",
       "Parallel   1.453512         1.0  0.072121    0.072121                   1.0   \n",
       "Parallel   1.706956         2.0  0.061413    0.030706                   2.0   \n",
       "Parallel   2.321952         4.0  0.045147    0.011287                   4.0   \n",
       "Parallel   3.568030         8.0  0.029380    0.003672                   8.0   \n",
       "Parallel   6.120727        16.0  0.017127    0.001070                  16.0   \n",
       "Parallel  11.098958        32.0  0.009445    0.000295                  32.0   \n",
       "\n",
       "          Theoretical Efficiency  \n",
       "Serial                         1  \n",
       "Parallel                       1  \n",
       "Parallel                       1  \n",
       "Parallel                       1  \n",
       "Parallel                       1  \n",
       "Parallel                       1  \n",
       "Parallel                       1  "
      ]
     },
     "execution_count": 14,
     "metadata": {},
     "output_type": "execute_result"
    }
   ],
   "source": [
    "row_data"
   ]
  },
  {
   "cell_type": "code",
   "execution_count": 15,
   "metadata": {
    "collapsed": false
   },
   "outputs": [
    {
     "data": {
      "text/html": [
       "<div>\n",
       "<style scoped>\n",
       "    .dataframe tbody tr th:only-of-type {\n",
       "        vertical-align: middle;\n",
       "    }\n",
       "\n",
       "    .dataframe tbody tr th {\n",
       "        vertical-align: top;\n",
       "    }\n",
       "\n",
       "    .dataframe thead th {\n",
       "        text-align: right;\n",
       "    }\n",
       "</style>\n",
       "<table border=\"1\" class=\"dataframe\">\n",
       "  <thead>\n",
       "    <tr style=\"text-align: right;\">\n",
       "      <th></th>\n",
       "      <th>Time</th>\n",
       "      <th>Processors</th>\n",
       "      <th>Speed-Up</th>\n",
       "      <th>Efficiency</th>\n",
       "      <th>Theoretical Speed-Up</th>\n",
       "      <th>Theoretical Efficiency</th>\n",
       "    </tr>\n",
       "  </thead>\n",
       "  <tbody>\n",
       "    <tr>\n",
       "      <th>Serial</th>\n",
       "      <td>0.104829</td>\n",
       "      <td>1.0</td>\n",
       "      <td>1.000000</td>\n",
       "      <td>1.000000</td>\n",
       "      <td>1.0</td>\n",
       "      <td>1</td>\n",
       "    </tr>\n",
       "    <tr>\n",
       "      <th>Parallel</th>\n",
       "      <td>1.825134</td>\n",
       "      <td>1.0</td>\n",
       "      <td>0.057436</td>\n",
       "      <td>0.057436</td>\n",
       "      <td>1.0</td>\n",
       "      <td>1</td>\n",
       "    </tr>\n",
       "    <tr>\n",
       "      <th>Parallel</th>\n",
       "      <td>2.294158</td>\n",
       "      <td>2.0</td>\n",
       "      <td>0.045694</td>\n",
       "      <td>0.022847</td>\n",
       "      <td>2.0</td>\n",
       "      <td>1</td>\n",
       "    </tr>\n",
       "    <tr>\n",
       "      <th>Parallel</th>\n",
       "      <td>3.311359</td>\n",
       "      <td>4.0</td>\n",
       "      <td>0.031657</td>\n",
       "      <td>0.007914</td>\n",
       "      <td>4.0</td>\n",
       "      <td>1</td>\n",
       "    </tr>\n",
       "    <tr>\n",
       "      <th>Parallel</th>\n",
       "      <td>5.380530</td>\n",
       "      <td>8.0</td>\n",
       "      <td>0.019483</td>\n",
       "      <td>0.002435</td>\n",
       "      <td>8.0</td>\n",
       "      <td>1</td>\n",
       "    </tr>\n",
       "    <tr>\n",
       "      <th>Parallel</th>\n",
       "      <td>9.496522</td>\n",
       "      <td>16.0</td>\n",
       "      <td>0.011039</td>\n",
       "      <td>0.000690</td>\n",
       "      <td>16.0</td>\n",
       "      <td>1</td>\n",
       "    </tr>\n",
       "    <tr>\n",
       "      <th>Parallel</th>\n",
       "      <td>17.582664</td>\n",
       "      <td>32.0</td>\n",
       "      <td>0.005962</td>\n",
       "      <td>0.000186</td>\n",
       "      <td>32.0</td>\n",
       "      <td>1</td>\n",
       "    </tr>\n",
       "  </tbody>\n",
       "</table>\n",
       "</div>"
      ],
      "text/plain": [
       "               Time  Processors  Speed-Up  Efficiency  Theoretical Speed-Up  \\\n",
       "Serial     0.104829         1.0  1.000000    1.000000                   1.0   \n",
       "Parallel   1.825134         1.0  0.057436    0.057436                   1.0   \n",
       "Parallel   2.294158         2.0  0.045694    0.022847                   2.0   \n",
       "Parallel   3.311359         4.0  0.031657    0.007914                   4.0   \n",
       "Parallel   5.380530         8.0  0.019483    0.002435                   8.0   \n",
       "Parallel   9.496522        16.0  0.011039    0.000690                  16.0   \n",
       "Parallel  17.582664        32.0  0.005962    0.000186                  32.0   \n",
       "\n",
       "          Theoretical Efficiency  \n",
       "Serial                         1  \n",
       "Parallel                       1  \n",
       "Parallel                       1  \n",
       "Parallel                       1  \n",
       "Parallel                       1  \n",
       "Parallel                       1  \n",
       "Parallel                       1  "
      ]
     },
     "execution_count": 15,
     "metadata": {},
     "output_type": "execute_result"
    }
   ],
   "source": [
    "col_data"
   ]
  },
  {
   "cell_type": "code",
   "execution_count": 16,
   "metadata": {
    "collapsed": false
   },
   "outputs": [
    {
     "data": {
      "image/png": "[encoded data removed]",
      "text/plain": [
       "<matplotlib.figure.Figure at 0x7f4bdcb89eb8>"
      ]
     },
     "metadata": {},
     "output_type": "display_data"
    }
   ],
   "source": [
    "parallel_data = row_data.loc['Parallel'][['Processors','Speed-Up','Theoretical Speed-Up']]\n",
    "plt = parallel_data.plot(x='Processors',style='.-', loglog=True)\n",
    "plt.set_title('Calculating by Row',fontsize=18);\n",
    "plt.set_xlabel('Processes',fontsize=16);\n",
    "plt.set_ylabel('Speed-Up',fontsize=16);"
   ]
  },
  {
   "cell_type": "code",
   "execution_count": 17,
   "metadata": {
    "collapsed": false
   },
   "outputs": [
    {
     "data": {
      "image/png": "[encoded data removed]",
      "text/plain": [
       "<matplotlib.figure.Figure at 0x7f4bd5e2e550>"
      ]
     },
     "metadata": {},
     "output_type": "display_data"
    }
   ],
   "source": [
    "parallel_data = col_data.loc['Parallel'][['Processors','Speed-Up','Theoretical Speed-Up']]\n",
    "plt = parallel_data.plot(x='Processors',style='.-', loglog=True)\n",
    "plt.set_title('Calculating by Column',fontsize=18);\n",
    "plt.set_xlabel('Processes',fontsize=16);\n",
    "plt.set_ylabel('Speed-Up',fontsize=16);"
   ]
  },
  {
   "cell_type": "code",
   "execution_count": null,
   "metadata": {
    "collapsed": true
   },
   "outputs": [],
   "source": []
  }
 ],
 "metadata": {
  "kernelspec": {
   "display_name": "Python 3",
   "language": "python",
   "name": "python3"
  },
  "language_info": {
   "codemirror_mode": {
    "name": "ipython",
    "version": 3
   },
   "file_extension": ".py",
   "mimetype": "text/x-python",
   "name": "python",
   "nbconvert_exporter": "python",
   "pygments_lexer": "ipython3",
   "version": "3.5.4"
  }
 },
 "nbformat": 4,
 "nbformat_minor": 2
}
