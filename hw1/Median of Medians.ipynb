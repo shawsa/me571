{
 "cells": [
  {
   "cell_type": "markdown",
   "metadata": {},
   "source": [
    "# Sage Shaw\n",
    "\n",
    "### ME 571 - Spring 2018\n",
    "\n",
    "# HW 1 - Problem 2 - Median of Medians"
   ]
  },
  {
   "cell_type": "code",
   "execution_count": 1,
   "metadata": {
    "collapsed": true
   },
   "outputs": [],
   "source": [
    "%matplotlib inline\n",
    "\n",
    "import matplotlib.pyplot as plt\n",
    "import multiprocessing as mp\n",
    "import numpy as np\n",
    "import pandas as pd\n",
    "\n",
    "from random import shuffle\n",
    "from itertools import repeat"
   ]
  },
  {
   "cell_type": "code",
   "execution_count": 2,
   "metadata": {
    "collapsed": false
   },
   "outputs": [],
   "source": [
    "#quick select functions\n",
    "def select_split(lst):\n",
    "    assert len(lst)>0\n",
    "    if len(lst)==1: return lst[0]\n",
    "    pivot = lst[0]\n",
    "    left = [l for l in lst[1:] if l<pivot]\n",
    "    right = [l for l in lst[1:] if pivot<l]\n",
    "    return left, pivot, right\n",
    "''' Reaching recursion limit\n",
    "def quick_select(lst, rank):\n",
    "    if len(lst)==1: return lst[0]\n",
    "    left, pivot, right = select_split(lst)\n",
    "    l = len(left)\n",
    "    if l==rank:\n",
    "        return pivot\n",
    "    elif len(left)<rank:\n",
    "        return quick_select(right, rank - (l+1))\n",
    "    else:\n",
    "        return quick_select(left, rank)\n",
    "'''\n",
    "\n",
    "# Non-recursive version\n",
    "def quick_select(lst, rank):\n",
    "    l = 0\n",
    "    while l >= 0:\n",
    "        if len(lst)==1: return lst[0]\n",
    "        left, pivot, right = select_split(lst)\n",
    "        l = len(left)\n",
    "        if l == rank:\n",
    "            return pivot\n",
    "        elif l < rank:\n",
    "            lst = right\n",
    "            rank -= l+1\n",
    "        else:\n",
    "            lst = left\n",
    "    \n",
    "#MoM functions\n",
    "\n",
    "def my_map(arg):\n",
    "    return quick_select(arg[0],arg[1])\n",
    "\n",
    "def my_partition(arg):\n",
    "    lst, MoM = arg\n",
    "    left = [x for x in lst if x<=MoM]\n",
    "    right = [x for x in lst if x>MoM]\n",
    "    return left, right\n",
    "    \n",
    "    \n",
    "def MoM(lst, p):\n",
    "    #print(lst)\n",
    "    rank = len(lst)//2 - 1\n",
    "    #print('starting rank of %d' % rank)\n",
    "    my_list = lst\n",
    "    pool = mp.Pool(p)\n",
    "    \n",
    "    while len(my_list)>p**2 and len(my_list)>2*p:\n",
    "        child_ranks = len(my_list)//(p*2)\n",
    "        sublists = [my_list[i::p] for i in range(p)]\n",
    "        #children find medians\n",
    "        meds = pool.map(my_map, zip(sublists, repeat(child_ranks)))\n",
    "        #calculate MoM\n",
    "        #print('MoM turn')\n",
    "        MoM = quick_select(meds, p//2)\n",
    "        #print(MoM)\n",
    "        #children partition lists and return them\n",
    "        partitions = pool.map(my_partition, zip(sublists, repeat(MoM)), )       \n",
    "        #print(partitions)\n",
    "        #MoM counts and discards side\n",
    "        count = sum([len(left) for left, right in partitions])\n",
    "        if count >= rank:\n",
    "            my_list = [x for left, right in partitions for x in left]\n",
    "        else:\n",
    "            my_list = [x for left, right in partitions for x in right]\n",
    "            rank -= count\n",
    "        #print(my_list)\n",
    "        #print(rank)\n",
    "    pool.close()\n",
    "    pool.join()\n",
    "        \n",
    "    return quick_select(my_list, rank)\n"
   ]
  },
  {
   "cell_type": "code",
   "execution_count": 3,
   "metadata": {
    "collapsed": false
   },
   "outputs": [
    {
     "data": {
      "text/plain": [
       "\"\\nA = list(range(10**6))\\nprint('shuffle')\\n#shuffle(A)\\nprint('MoM')\\nMoM(A, 16)\\n\""
      ]
     },
     "execution_count": 3,
     "metadata": {},
     "output_type": "execute_result"
    }
   ],
   "source": [
    "'''\n",
    "A = list(range(10**6))\n",
    "print('shuffle')\n",
    "#shuffle(A)\n",
    "print('MoM')\n",
    "MoM(A, 16)\n",
    "'''"
   ]
  },
  {
   "cell_type": "code",
   "execution_count": 4,
   "metadata": {
    "collapsed": true
   },
   "outputs": [],
   "source": [
    "def stats_from_timeit(timeit_result, num_proc, description):\n",
    "    t = timeit_result.best\n",
    "    data_row = {'Time': t, 'Processors': num_proc}\n",
    "    return pd.Series(data=data_row, name=description)"
   ]
  },
  {
   "cell_type": "code",
   "execution_count": 5,
   "metadata": {
    "collapsed": true
   },
   "outputs": [],
   "source": [
    "N = 10**7\n",
    "lst = list(range(N))\n",
    "shuffle(lst)\n",
    "\n",
    "columns = ['Time', 'Processors', 'Speed-Up', 'Efficiency', 'Theoretical Speed-Up', 'Theoretical Efficiency']\n",
    "median_data = pd.DataFrame(columns=columns)"
   ]
  },
  {
   "cell_type": "code",
   "execution_count": 6,
   "metadata": {
    "collapsed": false
   },
   "outputs": [
    {
     "name": "stdout",
     "output_type": "stream",
     "text": [
      "1 loop, best of 3: 24.3 s per loop\n",
      "1 loop, best of 3: 16.2 s per loop\n",
      "1 loop, best of 3: 12.3 s per loop\n",
      "1 loop, best of 3: 11.2 s per loop\n",
      "1 loop, best of 3: 11.3 s per loop\n",
      "1 loop, best of 3: 12.3 s per loop\n"
     ]
    }
   ],
   "source": [
    "#process_counts = range(0, int(np.log(mp.cpu_count())/np.log(2))+3)\n",
    "process_counts = [2**p for p in range(6)]\n",
    "\n",
    "#my_time = %timeit -o w = quick_select(lst, len(lst)//2)\n",
    "#T0 = my_time.best\n",
    "#median_data = median_data.append(stats_from_timeit(my_time, 1, 'Serial'))\n",
    "\n",
    "for p in process_counts:\n",
    "    my_time = %timeit -o w = MoM(lst, p)\n",
    "    if p==1: T0 = my_time.best\n",
    "    median_data = median_data.append(stats_from_timeit(my_time, p, 'Parallel'))"
   ]
  },
  {
   "cell_type": "code",
   "execution_count": 7,
   "metadata": {
    "collapsed": false
   },
   "outputs": [
    {
     "data": {
      "text/html": [
       "<div>\n",
       "<style scoped>\n",
       "    .dataframe tbody tr th:only-of-type {\n",
       "        vertical-align: middle;\n",
       "    }\n",
       "\n",
       "    .dataframe tbody tr th {\n",
       "        vertical-align: top;\n",
       "    }\n",
       "\n",
       "    .dataframe thead th {\n",
       "        text-align: right;\n",
       "    }\n",
       "</style>\n",
       "<table border=\"1\" class=\"dataframe\">\n",
       "  <thead>\n",
       "    <tr style=\"text-align: right;\">\n",
       "      <th></th>\n",
       "      <th>Time</th>\n",
       "      <th>Processors</th>\n",
       "      <th>Speed-Up</th>\n",
       "      <th>Efficiency</th>\n",
       "      <th>Theoretical Speed-Up</th>\n",
       "      <th>Theoretical Efficiency</th>\n",
       "    </tr>\n",
       "  </thead>\n",
       "  <tbody>\n",
       "    <tr>\n",
       "      <th>Parallel</th>\n",
       "      <td>24.250555</td>\n",
       "      <td>1.0</td>\n",
       "      <td>1.000000</td>\n",
       "      <td>1.000000</td>\n",
       "      <td>1.0</td>\n",
       "      <td>1</td>\n",
       "    </tr>\n",
       "    <tr>\n",
       "      <th>Parallel</th>\n",
       "      <td>16.228655</td>\n",
       "      <td>2.0</td>\n",
       "      <td>1.494305</td>\n",
       "      <td>0.747152</td>\n",
       "      <td>2.0</td>\n",
       "      <td>1</td>\n",
       "    </tr>\n",
       "    <tr>\n",
       "      <th>Parallel</th>\n",
       "      <td>12.341375</td>\n",
       "      <td>4.0</td>\n",
       "      <td>1.964980</td>\n",
       "      <td>0.491245</td>\n",
       "      <td>4.0</td>\n",
       "      <td>1</td>\n",
       "    </tr>\n",
       "    <tr>\n",
       "      <th>Parallel</th>\n",
       "      <td>11.241395</td>\n",
       "      <td>8.0</td>\n",
       "      <td>2.157255</td>\n",
       "      <td>0.269657</td>\n",
       "      <td>8.0</td>\n",
       "      <td>1</td>\n",
       "    </tr>\n",
       "    <tr>\n",
       "      <th>Parallel</th>\n",
       "      <td>11.276676</td>\n",
       "      <td>16.0</td>\n",
       "      <td>2.150506</td>\n",
       "      <td>0.134407</td>\n",
       "      <td>16.0</td>\n",
       "      <td>1</td>\n",
       "    </tr>\n",
       "    <tr>\n",
       "      <th>Parallel</th>\n",
       "      <td>12.253120</td>\n",
       "      <td>32.0</td>\n",
       "      <td>1.979133</td>\n",
       "      <td>0.061848</td>\n",
       "      <td>32.0</td>\n",
       "      <td>1</td>\n",
       "    </tr>\n",
       "  </tbody>\n",
       "</table>\n",
       "</div>"
      ],
      "text/plain": [
       "               Time  Processors  Speed-Up  Efficiency  Theoretical Speed-Up  \\\n",
       "Parallel  24.250555         1.0  1.000000    1.000000                   1.0   \n",
       "Parallel  16.228655         2.0  1.494305    0.747152                   2.0   \n",
       "Parallel  12.341375         4.0  1.964980    0.491245                   4.0   \n",
       "Parallel  11.241395         8.0  2.157255    0.269657                   8.0   \n",
       "Parallel  11.276676        16.0  2.150506    0.134407                  16.0   \n",
       "Parallel  12.253120        32.0  1.979133    0.061848                  32.0   \n",
       "\n",
       "          Theoretical Efficiency  \n",
       "Parallel                       1  \n",
       "Parallel                       1  \n",
       "Parallel                       1  \n",
       "Parallel                       1  \n",
       "Parallel                       1  \n",
       "Parallel                       1  "
      ]
     },
     "execution_count": 7,
     "metadata": {},
     "output_type": "execute_result"
    }
   ],
   "source": [
    "median_data['Speed-Up'] = T0/median_data['Time']\n",
    "median_data['Efficiency'] = median_data['Speed-Up']/median_data['Processors']\n",
    "median_data['Theoretical Speed-Up'] = median_data['Processors']\n",
    "median_data['Theoretical Efficiency'] = 1\n",
    "median_data"
   ]
  },
  {
   "cell_type": "code",
   "execution_count": 8,
   "metadata": {
    "collapsed": false
   },
   "outputs": [
    {
     "data": {
      "image/png": "[encoded data removed]",
      "text/plain": [
       "<matplotlib.figure.Figure at 0x7f81121360b8>"
      ]
     },
     "metadata": {},
     "output_type": "display_data"
    }
   ],
   "source": [
    "parallel_data = median_data.loc['Parallel'][['Processors','Speed-Up','Theoretical Speed-Up']]\n",
    "plt = parallel_data.plot(x='Processors',style='.-', loglog=True)\n",
    "plt.set_title('Calculating the Median',fontsize=18);\n",
    "plt.set_xlabel('Processes',fontsize=16);\n",
    "plt.set_ylabel('Speed-Up',fontsize=16);"
   ]
  },
  {
   "cell_type": "code",
   "execution_count": 9,
   "metadata": {
    "collapsed": false
   },
   "outputs": [
    {
     "data": {
      "image/png": "[encoded data removed]",
      "text/plain": [
       "<matplotlib.figure.Figure at 0x7f80f69b4470>"
      ]
     },
     "metadata": {},
     "output_type": "display_data"
    }
   ],
   "source": [
    "parallel_data = median_data.loc['Parallel'][['Processors','Efficiency','Theoretical Efficiency']]\n",
    "plt = parallel_data.plot(x='Processors',style='.-', logx=True)\n",
    "plt.set_title(\"Calculating the Median\",fontsize=18);\n",
    "plt.set_xlabel('Processes',fontsize=16);\n",
    "plt.set_ylabel('Efficiency',fontsize=16);\n",
    "plt.set_ylim(-0.1, 1.1);"
   ]
  },
  {
   "cell_type": "markdown",
   "metadata": {
    "collapsed": true
   },
   "source": [
    "# Analysis"
   ]
  },
  {
   "cell_type": "markdown",
   "metadata": {},
   "source": [
    "Whew!!! Fourth time's the charm I suppose.\n",
    "\n",
    "The code all works except that for lists that are too big I reach the recursion limit. This can be solved by using a version of Quick Sort that is non-recursive. It is interesting to note that since the work is divided up among the processes, this can be fixed by using enough processes. This is of course a terrible way to avoid a recursion limit, but I found it an interesting side-effect. In the end I modified my Quick Select to run in a loop.\n",
    "\n",
    "I was very surprised that this program actually shows speed-up! The earlier parallelized algorithms in this problem (problem 2) experienced little to no speed-up. I believe this is because the serialized Quick Sort is roughly as memory intensive as the MoM algorith. The Sum/Mean/SD functions required very little, so the overhead of chuncking the lists was significant. While this was true for the MoM algorithm, it is also true for the serialized Quick Select and thus there are still savings when parallelizing."
   ]
  }
 ],
 "metadata": {
  "kernelspec": {
   "display_name": "Python 3",
   "language": "python",
   "name": "python3"
  },
  "language_info": {
   "codemirror_mode": {
    "name": "ipython",
    "version": 3
   },
   "file_extension": ".py",
   "mimetype": "text/x-python",
   "name": "python",
   "nbconvert_exporter": "python",
   "pygments_lexer": "ipython3",
   "version": "3.5.4"
  }
 },
 "nbformat": 4,
 "nbformat_minor": 0
}
