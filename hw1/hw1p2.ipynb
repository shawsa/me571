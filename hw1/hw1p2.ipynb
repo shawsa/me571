{
 "cells": [
  {
   "cell_type": "markdown",
   "metadata": {},
   "source": [
    "# Sage Shaw\n",
    "\n",
    "### ME 571 - Spring 2018\n",
    "\n",
    "# HW 1 - Problem 2\n",
    "\n",
    "### See separate notebook for the Median of Medians"
   ]
  },
  {
   "cell_type": "code",
   "execution_count": 1,
   "metadata": {
    "collapsed": true
   },
   "outputs": [],
   "source": [
    "%matplotlib inline\n",
    "import collections\n",
    "import matplotlib.pyplot as plt\n",
    "import multiprocessing as mp\n",
    "import numpy as np\n",
    "import pandas as pd\n",
    "\n",
    "from random import random, shuffle\n",
    "from itertools import repeat\n",
    "from statistics import median\n",
    "from time import sleep"
   ]
  },
  {
   "cell_type": "markdown",
   "metadata": {},
   "source": [
    "# In Serial"
   ]
  },
  {
   "cell_type": "code",
   "execution_count": 28,
   "metadata": {
    "collapsed": true
   },
   "outputs": [],
   "source": [
    "def serial_mean(lst):\n",
    "    return sum(lst)/len(lst)\n",
    "def serial_sd(lst, u=None):\n",
    "    if u==None:\n",
    "        u = serial_mean(lst)\n",
    "    return sum([(x-u)**2 for x in lst])/(len(lst) - 1)"
   ]
  },
  {
   "cell_type": "markdown",
   "metadata": {},
   "source": [
    "# In Parallel"
   ]
  },
  {
   "cell_type": "markdown",
   "metadata": {},
   "source": [
    "### Parallel Mean"
   ]
  },
  {
   "cell_type": "code",
   "execution_count": 3,
   "metadata": {
    "collapsed": true
   },
   "outputs": [],
   "source": [
    "def parallel_mean1(lst, p):\n",
    "    pool = mp.Pool(processes = p)\n",
    "    l = len(lst)\n",
    "    size = l//p + 1\n",
    "    my_lst = [lst[i:i + size] for i in range(0, l, size)]\n",
    "    my_lst = pool.map(sum, my_lst)\n",
    "    pool.close()\n",
    "    pool.join()\n",
    "    return sum(my_lst)/len(lst)\n",
    "    "
   ]
  },
  {
   "cell_type": "code",
   "execution_count": 4,
   "metadata": {
    "collapsed": true
   },
   "outputs": [],
   "source": [
    "def proc_sum3(args):\n",
    "    lst, i, size = args[0], args[1], args[2]\n",
    "    my_sum = 0\n",
    "    for num in lst[i*size:(i+1)*size]:\n",
    "        my_sum+= num\n",
    "    return sum(lst[i*size:(i+1)*size])\n",
    "\n",
    "def parallel_mean3(lst,p):\n",
    "    manager = mp.Manager()\n",
    "    shared_list = manager.list(lst)\n",
    "    pool = mp.Pool(processes = p)\n",
    "    l = len(lst)\n",
    "    size = l//p + 1\n",
    "    sums = pool.map(proc_sum3, [(shared_list, i,size) for i in range(p)])\n",
    "    pool.close()\n",
    "    pool.join()\n",
    "    return sum(sums)/l"
   ]
  },
  {
   "cell_type": "code",
   "execution_count": 5,
   "metadata": {
    "collapsed": true
   },
   "outputs": [],
   "source": [
    "def proc_sum4(i, size, lst, ret_list):\n",
    "    #lst, i, size = args[0], args[1], args[2]\n",
    "    my_sum = 0\n",
    "    for num in lst[i*size:(i+1)*size]:\n",
    "        my_sum+= num\n",
    "    ret_list[i] = sum(lst[i*size:(i+1)*size])\n",
    "    return \n",
    "\n",
    "def parallel_mean4(lst,p):\n",
    "    manager = mp.Manager()\n",
    "    shared_list = manager.list(lst)\n",
    "    ret_list = manager.list([0]*p)\n",
    "    #pool = mp.Pool(processes = p)\n",
    "    l = len(lst)\n",
    "    size = l//p + 1\n",
    "    jobs = [mp.Process(target=proc_sum4, args=(i, size, shared_list, ret_list)) for i in range(p)]\n",
    "    #sums = pool.map(proc_sum, [(shared_list, i,size) for i in range(p)])\n",
    "    for job in jobs: job.start()\n",
    "    for job in jobs: job.join()\n",
    "    return sum(ret_list)/l"
   ]
  },
  {
   "cell_type": "code",
   "execution_count": 6,
   "metadata": {
    "collapsed": true
   },
   "outputs": [],
   "source": [
    "def proc_sum5(args):\n",
    "    lst, i, size = args[0], args[1], args[2]\n",
    "    my_sum = 0\n",
    "    for num in lst[i*size:(i+1)*size]:\n",
    "        my_sum+= num\n",
    "    return sum(lst[i*size:(i+1)*size])\n",
    "\n",
    "def parallel_mean5(lst,p):\n",
    "    manager = mp.Manager()\n",
    "    shared_list = manager.Array('f',lst)\n",
    "    pool = mp.Pool(processes = p)\n",
    "    l = len(lst)\n",
    "    size = l//p + 1\n",
    "    sums = pool.map(proc_sum3, [(shared_list, i,size) for i in range(p)])\n",
    "    pool.close()\n",
    "    pool.join()\n",
    "    return sum(sums)/l"
   ]
  },
  {
   "cell_type": "code",
   "execution_count": 3,
   "metadata": {
    "collapsed": true
   },
   "outputs": [],
   "source": [
    "def proc_sum6(i, size, lst, ret_list):\n",
    "    ret_list[i] = sum(lst[i*size:(i+1)*size])\n",
    "    return \n",
    "\n",
    "def parallel_mean6(lst,p):\n",
    "    manager = mp.Manager()\n",
    "    shared_list = manager.list(lst)\n",
    "    ret_list = manager.list([0]*p)\n",
    "    #pool = mp.Pool(processes = p)\n",
    "    l = len(lst)\n",
    "    size = l//p + 1\n",
    "    jobs = [mp.Process(target=proc_sum6, args=(i, size, shared_list, ret_list)) for i in range(p)]\n",
    "    #sums = pool.map(proc_sum, [(shared_list, i,size) for i in range(p)])\n",
    "    for job in jobs: job.start()\n",
    "    for job in jobs: job.join()\n",
    "    return sum(ret_list)/l\n",
    "\n",
    "parallel_mean = parallel_mean6"
   ]
  },
  {
   "cell_type": "markdown",
   "metadata": {},
   "source": [
    "### Parallel Mean Testings"
   ]
  },
  {
   "cell_type": "code",
   "execution_count": 4,
   "metadata": {
    "collapsed": true
   },
   "outputs": [],
   "source": [
    "N = 10**8\n",
    "lst = [random() for i in range(N)]\n",
    "u_serial = serial_mean(lst)\n",
    "p = mp.cpu_count()"
   ]
  },
  {
   "cell_type": "code",
   "execution_count": 18,
   "metadata": {
    "collapsed": false
   },
   "outputs": [
    {
     "name": "stdout",
     "output_type": "stream",
     "text": [
      "10 loops, best of 3: 159 ms per loop\n"
     ]
    }
   ],
   "source": [
    "%%timeit\n",
    "parallel_mean1(lst,p)"
   ]
  },
  {
   "cell_type": "code",
   "execution_count": 20,
   "metadata": {
    "collapsed": false
   },
   "outputs": [
    {
     "name": "stdout",
     "output_type": "stream",
     "text": [
      "10 loops, best of 3: 181 ms per loop\n"
     ]
    }
   ],
   "source": [
    "%%timeit\n",
    "parallel_mean3(lst,p)"
   ]
  },
  {
   "cell_type": "code",
   "execution_count": 21,
   "metadata": {
    "collapsed": false
   },
   "outputs": [
    {
     "name": "stdout",
     "output_type": "stream",
     "text": [
      "10 loops, best of 3: 88.5 ms per loop\n"
     ]
    }
   ],
   "source": [
    "%%timeit\n",
    "parallel_mean4(lst,p)"
   ]
  },
  {
   "cell_type": "code",
   "execution_count": 22,
   "metadata": {
    "collapsed": false
   },
   "outputs": [
    {
     "name": "stdout",
     "output_type": "stream",
     "text": [
      "10 loops, best of 3: 180 ms per loop\n"
     ]
    }
   ],
   "source": [
    "%%timeit\n",
    "parallel_mean5(lst,p)"
   ]
  },
  {
   "cell_type": "code",
   "execution_count": 6,
   "metadata": {
    "collapsed": false
   },
   "outputs": [
    {
     "name": "stdout",
     "output_type": "stream",
     "text": [
      "1 loop, best of 3: 17.5 s per loop\n"
     ]
    }
   ],
   "source": [
    "%%timeit\n",
    "parallel_mean6(lst,p)"
   ]
  },
  {
   "cell_type": "markdown",
   "metadata": {},
   "source": [
    "### Mean Verifications"
   ]
  },
  {
   "cell_type": "code",
   "execution_count": 8,
   "metadata": {
    "collapsed": false
   },
   "outputs": [],
   "source": [
    "N = 10**4\n",
    "tolerance = 10**-8\n",
    "\n",
    "p = mp.cpu_count()\n",
    "lst = [random() for i in range(N)]\n",
    "u_serial = serial_mean(lst)\n",
    "assert u_serial - parallel_mean1(lst,p) < tolerance\n",
    "assert u_serial - parallel_mean3(lst,p) < tolerance\n",
    "assert u_serial - parallel_mean4(lst,p) < tolerance\n",
    "assert u_serial - parallel_mean5(lst,p) < tolerance\n",
    "assert u_serial - parallel_mean6(lst,p) < tolerance"
   ]
  },
  {
   "cell_type": "markdown",
   "metadata": {},
   "source": [
    "### Parallel Standard Deviation"
   ]
  },
  {
   "cell_type": "code",
   "execution_count": 9,
   "metadata": {
    "collapsed": true
   },
   "outputs": [],
   "source": [
    "def proc_sd(i, u, size, lst, ret_list):\n",
    "    ret_list[i] = sum([ (x-u)**2  for x in lst[i*size:(i+1)*size] ])\n",
    "    return\n",
    "\n",
    "def parallel_sd(lst,p, u=None):\n",
    "    if u == None:\n",
    "        u = parallel_mean(lst,p)\n",
    "        \n",
    "    manager = mp.Manager()\n",
    "    shared_list = manager.list(lst)\n",
    "    ret_list = manager.list([0]*p)\n",
    "    l = len(lst)\n",
    "    size = l//p + 1\n",
    "    jobs = [mp.Process(target=proc_sd, args=(i, u, size, shared_list, ret_list)) for i in range(p)]\n",
    "    for job in jobs: job.start()\n",
    "    for job in jobs: job.join()\n",
    "    return sum(ret_list)/(l-1)"
   ]
  },
  {
   "cell_type": "markdown",
   "metadata": {},
   "source": [
    "### Standard Deviation Verification"
   ]
  },
  {
   "cell_type": "code",
   "execution_count": 10,
   "metadata": {
    "collapsed": false
   },
   "outputs": [],
   "source": [
    "N = 10**4\n",
    "tolerance = 10**-8\n",
    "\n",
    "p = mp.cpu_count()\n",
    "lst = [random() for i in range(N)]\n",
    "\n",
    "sd_serial = serial_sd(lst)\n",
    "assert sd_serial - parallel_sd(lst,1) < tolerance"
   ]
  },
  {
   "cell_type": "markdown",
   "metadata": {},
   "source": [
    "### Parallel Min & Max"
   ]
  },
  {
   "cell_type": "code",
   "execution_count": 34,
   "metadata": {
    "collapsed": true
   },
   "outputs": [],
   "source": [
    "def parallel_extreme(lst, p, ext=min):\n",
    "    assert (ext==min or ext==max)\n",
    "    sublists = [list(lst[i::p]) for i in range(p)]\n",
    "    pool = mp.Pool(processes = p)\n",
    "    mins = pool.map(ext, sublists)\n",
    "    pool.close()\n",
    "    pool.join()\n",
    "    return ext(mins)\n",
    "\n",
    "def parallel_min(lst, p):\n",
    "    return parallel_extreme(lst,p)\n",
    "\n",
    "def parallel_max(lst,p):\n",
    "    return parallel_extreme(lst, p, ext=max)"
   ]
  },
  {
   "cell_type": "markdown",
   "metadata": {},
   "source": [
    "### Min verification"
   ]
  },
  {
   "cell_type": "code",
   "execution_count": 43,
   "metadata": {
    "collapsed": false
   },
   "outputs": [],
   "source": [
    "N = 10**5\n",
    "\n",
    "p = mp.cpu_count()\n",
    "lst = [random() for i in range(N)]\n",
    "\n",
    "my_min = min(lst)\n",
    "my_max = max(lst)"
   ]
  },
  {
   "cell_type": "code",
   "execution_count": 44,
   "metadata": {
    "collapsed": false
   },
   "outputs": [],
   "source": [
    "assert parallel_min(lst,16) == my_min\n",
    "assert parallel_max(lst,16) == my_max"
   ]
  },
  {
   "cell_type": "markdown",
   "metadata": {
    "collapsed": true
   },
   "source": [
    "# Times"
   ]
  },
  {
   "cell_type": "code",
   "execution_count": 37,
   "metadata": {
    "collapsed": false
   },
   "outputs": [],
   "source": [
    "N = 10**5\n",
    "lst = [random() for i in range(N)]\n",
    "\n",
    "columns = ['Time', 'Processors', 'Speed-Up', 'Efficiency', 'Theoretical Speed-Up', 'Theoretical Efficiency']\n",
    "mean_data = pd.DataFrame(columns=columns)\n",
    "sd_data = pd.DataFrame(columns=columns)\n",
    "min_data = pd.DataFrame(columns=columns)\n",
    "max_data = pd.DataFrame(columns=columns)"
   ]
  },
  {
   "cell_type": "code",
   "execution_count": 2,
   "metadata": {
    "collapsed": false
   },
   "outputs": [],
   "source": [
    "def stats_from_timeit(timeit_result, num_proc, description):\n",
    "    t = timeit_result.best\n",
    "    data_row = {'Time': t, 'Processors': num_proc}\n",
    "    return pd.Series(data=data_row, name=description)"
   ]
  },
  {
   "cell_type": "markdown",
   "metadata": {},
   "source": [
    "### Mean Times"
   ]
  },
  {
   "cell_type": "code",
   "execution_count": 69,
   "metadata": {
    "collapsed": false
   },
   "outputs": [
    {
     "name": "stdout",
     "output_type": "stream",
     "text": [
      "100 loops, best of 3: 6.61 ms per loop\n"
     ]
    }
   ],
   "source": [
    "my_time = %timeit -o w = serial_mean(lst)\n",
    "mean_data = mean_data.append(stats_from_timeit(my_time, 1, 'Serial'))\n",
    "T0 = my_time.best"
   ]
  },
  {
   "cell_type": "code",
   "execution_count": 70,
   "metadata": {
    "collapsed": false
   },
   "outputs": [
    {
     "name": "stdout",
     "output_type": "stream",
     "text": [
      "1 loop, best of 3: 469 ms per loop\n",
      "1 loop, best of 3: 463 ms per loop\n",
      "1 loop, best of 3: 513 ms per loop\n",
      "1 loop, best of 3: 696 ms per loop\n",
      "1 loop, best of 3: 1.07 s per loop\n",
      "1 loop, best of 3: 1.85 s per loop\n",
      "1 loop, best of 3: 3.41 s per loop\n"
     ]
    }
   ],
   "source": [
    "process_counts = range(0, int(np.log(mp.cpu_count())/np.log(2))+3)\n",
    "process_counts = [2**p for p in process_counts]\n",
    "\n",
    "for p in process_counts:\n",
    "    my_time = %timeit -o w = parallel_mean(lst,p)\n",
    "    mean_data = mean_data.append(stats_from_timeit(my_time, p, 'Parallel'))"
   ]
  },
  {
   "cell_type": "code",
   "execution_count": 71,
   "metadata": {
    "collapsed": false
   },
   "outputs": [],
   "source": [
    "mean_data['Speed-Up'] = T0/mean_data['Time']\n",
    "mean_data['Efficiency'] = mean_data['Speed-Up']/mean_data['Processors']\n",
    "mean_data['Theoretical Speed-Up'] = mean_data['Processors']\n",
    "mean_data['Theoretical Efficiency'] = 1"
   ]
  },
  {
   "cell_type": "code",
   "execution_count": 72,
   "metadata": {
    "collapsed": false
   },
   "outputs": [
    {
     "data": {
      "text/html": [
       "<div>\n",
       "<style scoped>\n",
       "    .dataframe tbody tr th:only-of-type {\n",
       "        vertical-align: middle;\n",
       "    }\n",
       "\n",
       "    .dataframe tbody tr th {\n",
       "        vertical-align: top;\n",
       "    }\n",
       "\n",
       "    .dataframe thead th {\n",
       "        text-align: right;\n",
       "    }\n",
       "</style>\n",
       "<table border=\"1\" class=\"dataframe\">\n",
       "  <thead>\n",
       "    <tr style=\"text-align: right;\">\n",
       "      <th></th>\n",
       "      <th>Time</th>\n",
       "      <th>Processors</th>\n",
       "      <th>Speed-Up</th>\n",
       "      <th>Efficiency</th>\n",
       "      <th>Theoretical Speed-Up</th>\n",
       "      <th>Theoretical Efficiency</th>\n",
       "    </tr>\n",
       "  </thead>\n",
       "  <tbody>\n",
       "    <tr>\n",
       "      <th>Serial</th>\n",
       "      <td>0.006607</td>\n",
       "      <td>1.0</td>\n",
       "      <td>1.000000</td>\n",
       "      <td>1.000000</td>\n",
       "      <td>1.0</td>\n",
       "      <td>1</td>\n",
       "    </tr>\n",
       "    <tr>\n",
       "      <th>Parallel</th>\n",
       "      <td>0.468722</td>\n",
       "      <td>1.0</td>\n",
       "      <td>0.014095</td>\n",
       "      <td>0.014095</td>\n",
       "      <td>1.0</td>\n",
       "      <td>1</td>\n",
       "    </tr>\n",
       "    <tr>\n",
       "      <th>Parallel</th>\n",
       "      <td>0.463141</td>\n",
       "      <td>2.0</td>\n",
       "      <td>0.014265</td>\n",
       "      <td>0.007133</td>\n",
       "      <td>2.0</td>\n",
       "      <td>1</td>\n",
       "    </tr>\n",
       "    <tr>\n",
       "      <th>Parallel</th>\n",
       "      <td>0.513400</td>\n",
       "      <td>4.0</td>\n",
       "      <td>0.012869</td>\n",
       "      <td>0.003217</td>\n",
       "      <td>4.0</td>\n",
       "      <td>1</td>\n",
       "    </tr>\n",
       "    <tr>\n",
       "      <th>Parallel</th>\n",
       "      <td>0.695732</td>\n",
       "      <td>8.0</td>\n",
       "      <td>0.009496</td>\n",
       "      <td>0.001187</td>\n",
       "      <td>8.0</td>\n",
       "      <td>1</td>\n",
       "    </tr>\n",
       "    <tr>\n",
       "      <th>Parallel</th>\n",
       "      <td>1.072743</td>\n",
       "      <td>16.0</td>\n",
       "      <td>0.006159</td>\n",
       "      <td>0.000385</td>\n",
       "      <td>16.0</td>\n",
       "      <td>1</td>\n",
       "    </tr>\n",
       "    <tr>\n",
       "      <th>Parallel</th>\n",
       "      <td>1.849156</td>\n",
       "      <td>32.0</td>\n",
       "      <td>0.003573</td>\n",
       "      <td>0.000112</td>\n",
       "      <td>32.0</td>\n",
       "      <td>1</td>\n",
       "    </tr>\n",
       "    <tr>\n",
       "      <th>Parallel</th>\n",
       "      <td>3.414265</td>\n",
       "      <td>64.0</td>\n",
       "      <td>0.001935</td>\n",
       "      <td>0.000030</td>\n",
       "      <td>64.0</td>\n",
       "      <td>1</td>\n",
       "    </tr>\n",
       "  </tbody>\n",
       "</table>\n",
       "</div>"
      ],
      "text/plain": [
       "              Time  Processors  Speed-Up  Efficiency  Theoretical Speed-Up  \\\n",
       "Serial    0.006607         1.0  1.000000    1.000000                   1.0   \n",
       "Parallel  0.468722         1.0  0.014095    0.014095                   1.0   \n",
       "Parallel  0.463141         2.0  0.014265    0.007133                   2.0   \n",
       "Parallel  0.513400         4.0  0.012869    0.003217                   4.0   \n",
       "Parallel  0.695732         8.0  0.009496    0.001187                   8.0   \n",
       "Parallel  1.072743        16.0  0.006159    0.000385                  16.0   \n",
       "Parallel  1.849156        32.0  0.003573    0.000112                  32.0   \n",
       "Parallel  3.414265        64.0  0.001935    0.000030                  64.0   \n",
       "\n",
       "          Theoretical Efficiency  \n",
       "Serial                         1  \n",
       "Parallel                       1  \n",
       "Parallel                       1  \n",
       "Parallel                       1  \n",
       "Parallel                       1  \n",
       "Parallel                       1  \n",
       "Parallel                       1  \n",
       "Parallel                       1  "
      ]
     },
     "execution_count": 72,
     "metadata": {},
     "output_type": "execute_result"
    }
   ],
   "source": [
    "mean_data"
   ]
  },
  {
   "cell_type": "code",
   "execution_count": 73,
   "metadata": {
    "collapsed": false
   },
   "outputs": [
    {
     "data": {
      "image/png": "[encoded data removed]",
      "text/plain": [
       "<matplotlib.figure.Figure at 0x7f26d0003fd0>"
      ]
     },
     "metadata": {},
     "output_type": "display_data"
    }
   ],
   "source": [
    "parallel_data = mean_data.loc['Parallel'][['Processors','Speed-Up','Theoretical Speed-Up']]\n",
    "plt = parallel_data.plot(x='Processors',style='.-', loglog=True)\n",
    "plt.set_title('Calculating the Mean',fontsize=18);\n",
    "plt.set_xlabel('Processes',fontsize=16);\n",
    "plt.set_ylabel('Speed-Up',fontsize=16);"
   ]
  },
  {
   "cell_type": "code",
   "execution_count": 87,
   "metadata": {
    "collapsed": false
   },
   "outputs": [
    {
     "data": {
      "image/png": "[encoded data removed]",
      "text/plain": [
       "<matplotlib.figure.Figure at 0x7f26d00031d0>"
      ]
     },
     "metadata": {},
     "output_type": "display_data"
    }
   ],
   "source": [
    "parallel_data = mean_data.loc['Parallel'][['Processors','Efficiency','Theoretical Efficiency']]\n",
    "plt = parallel_data.plot(x='Processors',style='.-', logx=True)\n",
    "plt.set_title(\"Calculating the Mean\",fontsize=18);\n",
    "plt.set_xlabel('Processes',fontsize=16);\n",
    "plt.set_ylabel('Efficiency',fontsize=16);\n",
    "plt.set_ylim(-0.1, 1.1);"
   ]
  },
  {
   "cell_type": "markdown",
   "metadata": {},
   "source": [
    "### SD Times"
   ]
  },
  {
   "cell_type": "code",
   "execution_count": 75,
   "metadata": {
    "collapsed": false
   },
   "outputs": [
    {
     "name": "stdout",
     "output_type": "stream",
     "text": [
      "1 loop, best of 3: 207 ms per loop\n"
     ]
    }
   ],
   "source": [
    "my_time = %timeit -o w = serial_sd(lst)\n",
    "sd_data = sd_data.append(stats_from_timeit(my_time, 1, 'Serial'))\n",
    "T0 = my_time.best"
   ]
  },
  {
   "cell_type": "code",
   "execution_count": 76,
   "metadata": {
    "collapsed": false
   },
   "outputs": [
    {
     "name": "stdout",
     "output_type": "stream",
     "text": [
      "1 loop, best of 3: 1.13 s per loop\n",
      "1 loop, best of 3: 1.01 s per loop\n",
      "1 loop, best of 3: 1.07 s per loop\n",
      "1 loop, best of 3: 1.42 s per loop\n",
      "1 loop, best of 3: 2.15 s per loop\n",
      "1 loop, best of 3: 3.78 s per loop\n",
      "1 loop, best of 3: 6.83 s per loop\n"
     ]
    }
   ],
   "source": [
    "process_counts = range(0, int(np.log(mp.cpu_count())/np.log(2))+3)\n",
    "process_counts = [2**p for p in process_counts]\n",
    "\n",
    "for p in process_counts:\n",
    "    my_time = %timeit -o w = parallel_sd(lst,p)\n",
    "    sd_data = sd_data.append(stats_from_timeit(my_time, p, 'Parallel'))"
   ]
  },
  {
   "cell_type": "code",
   "execution_count": 79,
   "metadata": {
    "collapsed": false
   },
   "outputs": [
    {
     "data": {
      "text/html": [
       "<div>\n",
       "<style scoped>\n",
       "    .dataframe tbody tr th:only-of-type {\n",
       "        vertical-align: middle;\n",
       "    }\n",
       "\n",
       "    .dataframe tbody tr th {\n",
       "        vertical-align: top;\n",
       "    }\n",
       "\n",
       "    .dataframe thead th {\n",
       "        text-align: right;\n",
       "    }\n",
       "</style>\n",
       "<table border=\"1\" class=\"dataframe\">\n",
       "  <thead>\n",
       "    <tr style=\"text-align: right;\">\n",
       "      <th></th>\n",
       "      <th>Time</th>\n",
       "      <th>Processors</th>\n",
       "      <th>Speed-Up</th>\n",
       "      <th>Efficiency</th>\n",
       "      <th>Theoretical Speed-Up</th>\n",
       "      <th>Theoretical Efficiency</th>\n",
       "    </tr>\n",
       "  </thead>\n",
       "  <tbody>\n",
       "    <tr>\n",
       "      <th>Serial</th>\n",
       "      <td>0.206555</td>\n",
       "      <td>1.0</td>\n",
       "      <td>1.000000</td>\n",
       "      <td>1.000000</td>\n",
       "      <td>1.0</td>\n",
       "      <td>1</td>\n",
       "    </tr>\n",
       "    <tr>\n",
       "      <th>Parallel</th>\n",
       "      <td>1.130122</td>\n",
       "      <td>1.0</td>\n",
       "      <td>0.182773</td>\n",
       "      <td>0.182773</td>\n",
       "      <td>1.0</td>\n",
       "      <td>1</td>\n",
       "    </tr>\n",
       "    <tr>\n",
       "      <th>Parallel</th>\n",
       "      <td>1.005594</td>\n",
       "      <td>2.0</td>\n",
       "      <td>0.205406</td>\n",
       "      <td>0.102703</td>\n",
       "      <td>2.0</td>\n",
       "      <td>1</td>\n",
       "    </tr>\n",
       "    <tr>\n",
       "      <th>Parallel</th>\n",
       "      <td>1.074091</td>\n",
       "      <td>4.0</td>\n",
       "      <td>0.192307</td>\n",
       "      <td>0.048077</td>\n",
       "      <td>4.0</td>\n",
       "      <td>1</td>\n",
       "    </tr>\n",
       "    <tr>\n",
       "      <th>Parallel</th>\n",
       "      <td>1.416384</td>\n",
       "      <td>8.0</td>\n",
       "      <td>0.145833</td>\n",
       "      <td>0.018229</td>\n",
       "      <td>8.0</td>\n",
       "      <td>1</td>\n",
       "    </tr>\n",
       "    <tr>\n",
       "      <th>Parallel</th>\n",
       "      <td>2.149617</td>\n",
       "      <td>16.0</td>\n",
       "      <td>0.096089</td>\n",
       "      <td>0.006006</td>\n",
       "      <td>16.0</td>\n",
       "      <td>1</td>\n",
       "    </tr>\n",
       "    <tr>\n",
       "      <th>Parallel</th>\n",
       "      <td>3.778874</td>\n",
       "      <td>32.0</td>\n",
       "      <td>0.054661</td>\n",
       "      <td>0.001708</td>\n",
       "      <td>32.0</td>\n",
       "      <td>1</td>\n",
       "    </tr>\n",
       "    <tr>\n",
       "      <th>Parallel</th>\n",
       "      <td>6.833995</td>\n",
       "      <td>64.0</td>\n",
       "      <td>0.030225</td>\n",
       "      <td>0.000472</td>\n",
       "      <td>64.0</td>\n",
       "      <td>1</td>\n",
       "    </tr>\n",
       "  </tbody>\n",
       "</table>\n",
       "</div>"
      ],
      "text/plain": [
       "              Time  Processors  Speed-Up  Efficiency  Theoretical Speed-Up  \\\n",
       "Serial    0.206555         1.0  1.000000    1.000000                   1.0   \n",
       "Parallel  1.130122         1.0  0.182773    0.182773                   1.0   \n",
       "Parallel  1.005594         2.0  0.205406    0.102703                   2.0   \n",
       "Parallel  1.074091         4.0  0.192307    0.048077                   4.0   \n",
       "Parallel  1.416384         8.0  0.145833    0.018229                   8.0   \n",
       "Parallel  2.149617        16.0  0.096089    0.006006                  16.0   \n",
       "Parallel  3.778874        32.0  0.054661    0.001708                  32.0   \n",
       "Parallel  6.833995        64.0  0.030225    0.000472                  64.0   \n",
       "\n",
       "          Theoretical Efficiency  \n",
       "Serial                         1  \n",
       "Parallel                       1  \n",
       "Parallel                       1  \n",
       "Parallel                       1  \n",
       "Parallel                       1  \n",
       "Parallel                       1  \n",
       "Parallel                       1  \n",
       "Parallel                       1  "
      ]
     },
     "execution_count": 79,
     "metadata": {},
     "output_type": "execute_result"
    }
   ],
   "source": [
    "sd_data['Speed-Up'] = T0/sd_data['Time']\n",
    "sd_data['Efficiency'] = sd_data['Speed-Up']/sd_data['Processors']\n",
    "sd_data['Theoretical Speed-Up'] = sd_data['Processors']\n",
    "sd_data['Theoretical Efficiency'] = 1\n",
    "sd_data"
   ]
  },
  {
   "cell_type": "code",
   "execution_count": 80,
   "metadata": {
    "collapsed": false
   },
   "outputs": [
    {
     "data": {
      "image/png": "[encoded data removed]",
      "text/plain": [
       "<matplotlib.figure.Figure at 0x7f26ce7eee10>"
      ]
     },
     "metadata": {},
     "output_type": "display_data"
    }
   ],
   "source": [
    "parallel_data = sd_data.loc['Parallel'][['Processors','Speed-Up','Theoretical Speed-Up']]\n",
    "plt = parallel_data.plot(x='Processors',style='.-', loglog=True)\n",
    "plt.set_title('Calculating the Standard Deviation',fontsize=18);\n",
    "plt.set_xlabel('Processes',fontsize=16);\n",
    "plt.set_ylabel('Speed-Up',fontsize=16);"
   ]
  },
  {
   "cell_type": "code",
   "execution_count": 86,
   "metadata": {
    "collapsed": false
   },
   "outputs": [
    {
     "data": {
      "image/png": "[encoded data removed]",
      "text/plain": [
       "<matplotlib.figure.Figure at 0x7f26f0132588>"
      ]
     },
     "metadata": {},
     "output_type": "display_data"
    }
   ],
   "source": [
    "parallel_data = sd_data.loc['Parallel'][['Processors','Efficiency','Theoretical Efficiency']]\n",
    "plt = parallel_data.plot(x='Processors',style='.-', logx=True)\n",
    "plt.set_title(\"Calculating the Standard Deviation\",fontsize=18);\n",
    "plt.set_xlabel('Processes',fontsize=16);\n",
    "plt.set_ylabel('Efficiency',fontsize=16);\n",
    "plt.set_ylim(-0.1, 1.1);"
   ]
  },
  {
   "cell_type": "markdown",
   "metadata": {},
   "source": [
    "### Min Times"
   ]
  },
  {
   "cell_type": "code",
   "execution_count": 30,
   "metadata": {
    "collapsed": false
   },
   "outputs": [
    {
     "name": "stdout",
     "output_type": "stream",
     "text": [
      "100 loops, best of 3: 2.74 ms per loop\n",
      "10 loops, best of 3: 109 ms per loop\n",
      "10 loops, best of 3: 113 ms per loop\n",
      "10 loops, best of 3: 120 ms per loop\n",
      "10 loops, best of 3: 135 ms per loop\n",
      "10 loops, best of 3: 164 ms per loop\n",
      "1 loop, best of 3: 224 ms per loop\n",
      "1 loop, best of 3: 355 ms per loop\n"
     ]
    },
    {
     "data": {
      "text/html": [
       "<div>\n",
       "<style scoped>\n",
       "    .dataframe tbody tr th:only-of-type {\n",
       "        vertical-align: middle;\n",
       "    }\n",
       "\n",
       "    .dataframe tbody tr th {\n",
       "        vertical-align: top;\n",
       "    }\n",
       "\n",
       "    .dataframe thead th {\n",
       "        text-align: right;\n",
       "    }\n",
       "</style>\n",
       "<table border=\"1\" class=\"dataframe\">\n",
       "  <thead>\n",
       "    <tr style=\"text-align: right;\">\n",
       "      <th></th>\n",
       "      <th>Time</th>\n",
       "      <th>Processors</th>\n",
       "      <th>Speed-Up</th>\n",
       "      <th>Efficiency</th>\n",
       "      <th>Theoretical Speed-Up</th>\n",
       "      <th>Theoretical Efficiency</th>\n",
       "    </tr>\n",
       "  </thead>\n",
       "  <tbody>\n",
       "    <tr>\n",
       "      <th>Serial</th>\n",
       "      <td>0.002741</td>\n",
       "      <td>1.0</td>\n",
       "      <td>1.000000</td>\n",
       "      <td>1.000000</td>\n",
       "      <td>1.0</td>\n",
       "      <td>1</td>\n",
       "    </tr>\n",
       "    <tr>\n",
       "      <th>Parallel</th>\n",
       "      <td>0.108959</td>\n",
       "      <td>1.0</td>\n",
       "      <td>0.025160</td>\n",
       "      <td>0.025160</td>\n",
       "      <td>1.0</td>\n",
       "      <td>1</td>\n",
       "    </tr>\n",
       "    <tr>\n",
       "      <th>Parallel</th>\n",
       "      <td>0.112549</td>\n",
       "      <td>2.0</td>\n",
       "      <td>0.024358</td>\n",
       "      <td>0.012179</td>\n",
       "      <td>2.0</td>\n",
       "      <td>1</td>\n",
       "    </tr>\n",
       "    <tr>\n",
       "      <th>Parallel</th>\n",
       "      <td>0.120402</td>\n",
       "      <td>4.0</td>\n",
       "      <td>0.022769</td>\n",
       "      <td>0.005692</td>\n",
       "      <td>4.0</td>\n",
       "      <td>1</td>\n",
       "    </tr>\n",
       "    <tr>\n",
       "      <th>Parallel</th>\n",
       "      <td>0.134983</td>\n",
       "      <td>8.0</td>\n",
       "      <td>0.020310</td>\n",
       "      <td>0.002539</td>\n",
       "      <td>8.0</td>\n",
       "      <td>1</td>\n",
       "    </tr>\n",
       "    <tr>\n",
       "      <th>Parallel</th>\n",
       "      <td>0.164480</td>\n",
       "      <td>16.0</td>\n",
       "      <td>0.016667</td>\n",
       "      <td>0.001042</td>\n",
       "      <td>16.0</td>\n",
       "      <td>1</td>\n",
       "    </tr>\n",
       "    <tr>\n",
       "      <th>Parallel</th>\n",
       "      <td>0.223997</td>\n",
       "      <td>32.0</td>\n",
       "      <td>0.012239</td>\n",
       "      <td>0.000382</td>\n",
       "      <td>32.0</td>\n",
       "      <td>1</td>\n",
       "    </tr>\n",
       "    <tr>\n",
       "      <th>Parallel</th>\n",
       "      <td>0.355493</td>\n",
       "      <td>64.0</td>\n",
       "      <td>0.007712</td>\n",
       "      <td>0.000120</td>\n",
       "      <td>64.0</td>\n",
       "      <td>1</td>\n",
       "    </tr>\n",
       "  </tbody>\n",
       "</table>\n",
       "</div>"
      ],
      "text/plain": [
       "              Time  Processors  Speed-Up  Efficiency  Theoretical Speed-Up  \\\n",
       "Serial    0.002741         1.0  1.000000    1.000000                   1.0   \n",
       "Parallel  0.108959         1.0  0.025160    0.025160                   1.0   \n",
       "Parallel  0.112549         2.0  0.024358    0.012179                   2.0   \n",
       "Parallel  0.120402         4.0  0.022769    0.005692                   4.0   \n",
       "Parallel  0.134983         8.0  0.020310    0.002539                   8.0   \n",
       "Parallel  0.164480        16.0  0.016667    0.001042                  16.0   \n",
       "Parallel  0.223997        32.0  0.012239    0.000382                  32.0   \n",
       "Parallel  0.355493        64.0  0.007712    0.000120                  64.0   \n",
       "\n",
       "          Theoretical Efficiency  \n",
       "Serial                         1  \n",
       "Parallel                       1  \n",
       "Parallel                       1  \n",
       "Parallel                       1  \n",
       "Parallel                       1  \n",
       "Parallel                       1  \n",
       "Parallel                       1  \n",
       "Parallel                       1  "
      ]
     },
     "execution_count": 30,
     "metadata": {},
     "output_type": "execute_result"
    }
   ],
   "source": [
    "my_time = %timeit -o w = min(lst)\n",
    "min_data = min_data.append(stats_from_timeit(my_time, 1, 'Serial'))\n",
    "T0 = my_time.best\n",
    "\n",
    "process_counts = range(0, int(np.log(mp.cpu_count())/np.log(2))+3)\n",
    "process_counts = [2**p for p in process_counts]\n",
    "\n",
    "for p in process_counts:\n",
    "    my_time = %timeit -o w = parallel_min(lst,p)\n",
    "    min_data = min_data.append(stats_from_timeit(my_time, p, 'Parallel'))\n",
    "    \n",
    "min_data['Speed-Up'] = T0/min_data['Time']\n",
    "min_data['Efficiency'] = min_data['Speed-Up']/min_data['Processors']\n",
    "min_data['Theoretical Speed-Up'] = min_data['Processors']\n",
    "min_data['Theoretical Efficiency'] = 1\n",
    "min_data"
   ]
  },
  {
   "cell_type": "code",
   "execution_count": 31,
   "metadata": {
    "collapsed": false
   },
   "outputs": [
    {
     "data": {
      "image/png": "[encoded data removed]",
      "text/plain": [
       "<matplotlib.figure.Figure at 0x7faf6fa6ca90>"
      ]
     },
     "metadata": {},
     "output_type": "display_data"
    }
   ],
   "source": [
    "parallel_data = min_data.loc['Parallel'][['Processors','Speed-Up','Theoretical Speed-Up']]\n",
    "plt = parallel_data.plot(x='Processors',style='.-', loglog=True)\n",
    "plt.set_title('Calculating the Standard Deviation',fontsize=18);\n",
    "plt.set_xlabel('Processes',fontsize=16);\n",
    "plt.set_ylabel('Speed-Up',fontsize=16);"
   ]
  },
  {
   "cell_type": "code",
   "execution_count": 32,
   "metadata": {
    "collapsed": false
   },
   "outputs": [
    {
     "data": {
      "image/png": "[encoded data removed]",
      "text/plain": [
       "<matplotlib.figure.Figure at 0x7fb09c074f28>"
      ]
     },
     "metadata": {},
     "output_type": "display_data"
    }
   ],
   "source": [
    "parallel_data = min_data.loc['Parallel'][['Processors','Efficiency','Theoretical Efficiency']]\n",
    "plt = parallel_data.plot(x='Processors',style='.-', logx=True)\n",
    "plt.set_title(\"Calculating the Standard Deviation\",fontsize=18);\n",
    "plt.set_xlabel('Processes',fontsize=16);\n",
    "plt.set_ylabel('Efficiency',fontsize=16);\n",
    "plt.set_ylim(-0.1, 1.1);"
   ]
  },
  {
   "cell_type": "markdown",
   "metadata": {},
   "source": [
    "### Max Times"
   ]
  },
  {
   "cell_type": "code",
   "execution_count": 40,
   "metadata": {
    "collapsed": false
   },
   "outputs": [
    {
     "name": "stdout",
     "output_type": "stream",
     "text": [
      "100 loops, best of 3: 2.75 ms per loop\n",
      "10 loops, best of 3: 111 ms per loop\n",
      "10 loops, best of 3: 116 ms per loop\n",
      "10 loops, best of 3: 124 ms per loop\n",
      "10 loops, best of 3: 142 ms per loop\n",
      "10 loops, best of 3: 178 ms per loop\n",
      "1 loop, best of 3: 240 ms per loop\n",
      "1 loop, best of 3: 392 ms per loop\n"
     ]
    },
    {
     "data": {
      "text/html": [
       "<div>\n",
       "<style scoped>\n",
       "    .dataframe tbody tr th:only-of-type {\n",
       "        vertical-align: middle;\n",
       "    }\n",
       "\n",
       "    .dataframe tbody tr th {\n",
       "        vertical-align: top;\n",
       "    }\n",
       "\n",
       "    .dataframe thead th {\n",
       "        text-align: right;\n",
       "    }\n",
       "</style>\n",
       "<table border=\"1\" class=\"dataframe\">\n",
       "  <thead>\n",
       "    <tr style=\"text-align: right;\">\n",
       "      <th></th>\n",
       "      <th>Time</th>\n",
       "      <th>Processors</th>\n",
       "      <th>Speed-Up</th>\n",
       "      <th>Efficiency</th>\n",
       "      <th>Theoretical Speed-Up</th>\n",
       "      <th>Theoretical Efficiency</th>\n",
       "    </tr>\n",
       "  </thead>\n",
       "  <tbody>\n",
       "    <tr>\n",
       "      <th>Serial</th>\n",
       "      <td>0.002762</td>\n",
       "      <td>1.0</td>\n",
       "      <td>0.994790</td>\n",
       "      <td>0.994790</td>\n",
       "      <td>1.0</td>\n",
       "      <td>1</td>\n",
       "    </tr>\n",
       "    <tr>\n",
       "      <th>Serial</th>\n",
       "      <td>0.002747</td>\n",
       "      <td>1.0</td>\n",
       "      <td>1.000000</td>\n",
       "      <td>1.000000</td>\n",
       "      <td>1.0</td>\n",
       "      <td>1</td>\n",
       "    </tr>\n",
       "    <tr>\n",
       "      <th>Parallel</th>\n",
       "      <td>0.111125</td>\n",
       "      <td>1.0</td>\n",
       "      <td>0.024722</td>\n",
       "      <td>0.024722</td>\n",
       "      <td>1.0</td>\n",
       "      <td>1</td>\n",
       "    </tr>\n",
       "    <tr>\n",
       "      <th>Parallel</th>\n",
       "      <td>0.115689</td>\n",
       "      <td>2.0</td>\n",
       "      <td>0.023747</td>\n",
       "      <td>0.011874</td>\n",
       "      <td>2.0</td>\n",
       "      <td>1</td>\n",
       "    </tr>\n",
       "    <tr>\n",
       "      <th>Parallel</th>\n",
       "      <td>0.124415</td>\n",
       "      <td>4.0</td>\n",
       "      <td>0.022082</td>\n",
       "      <td>0.005520</td>\n",
       "      <td>4.0</td>\n",
       "      <td>1</td>\n",
       "    </tr>\n",
       "    <tr>\n",
       "      <th>Parallel</th>\n",
       "      <td>0.142175</td>\n",
       "      <td>8.0</td>\n",
       "      <td>0.019323</td>\n",
       "      <td>0.002415</td>\n",
       "      <td>8.0</td>\n",
       "      <td>1</td>\n",
       "    </tr>\n",
       "    <tr>\n",
       "      <th>Parallel</th>\n",
       "      <td>0.178088</td>\n",
       "      <td>16.0</td>\n",
       "      <td>0.015427</td>\n",
       "      <td>0.000964</td>\n",
       "      <td>16.0</td>\n",
       "      <td>1</td>\n",
       "    </tr>\n",
       "    <tr>\n",
       "      <th>Parallel</th>\n",
       "      <td>0.240327</td>\n",
       "      <td>32.0</td>\n",
       "      <td>0.011431</td>\n",
       "      <td>0.000357</td>\n",
       "      <td>32.0</td>\n",
       "      <td>1</td>\n",
       "    </tr>\n",
       "    <tr>\n",
       "      <th>Parallel</th>\n",
       "      <td>0.392232</td>\n",
       "      <td>64.0</td>\n",
       "      <td>0.007004</td>\n",
       "      <td>0.000109</td>\n",
       "      <td>64.0</td>\n",
       "      <td>1</td>\n",
       "    </tr>\n",
       "  </tbody>\n",
       "</table>\n",
       "</div>"
      ],
      "text/plain": [
       "              Time  Processors  Speed-Up  Efficiency  Theoretical Speed-Up  \\\n",
       "Serial    0.002762         1.0  0.994790    0.994790                   1.0   \n",
       "Serial    0.002747         1.0  1.000000    1.000000                   1.0   \n",
       "Parallel  0.111125         1.0  0.024722    0.024722                   1.0   \n",
       "Parallel  0.115689         2.0  0.023747    0.011874                   2.0   \n",
       "Parallel  0.124415         4.0  0.022082    0.005520                   4.0   \n",
       "Parallel  0.142175         8.0  0.019323    0.002415                   8.0   \n",
       "Parallel  0.178088        16.0  0.015427    0.000964                  16.0   \n",
       "Parallel  0.240327        32.0  0.011431    0.000357                  32.0   \n",
       "Parallel  0.392232        64.0  0.007004    0.000109                  64.0   \n",
       "\n",
       "          Theoretical Efficiency  \n",
       "Serial                         1  \n",
       "Serial                         1  \n",
       "Parallel                       1  \n",
       "Parallel                       1  \n",
       "Parallel                       1  \n",
       "Parallel                       1  \n",
       "Parallel                       1  \n",
       "Parallel                       1  \n",
       "Parallel                       1  "
      ]
     },
     "execution_count": 40,
     "metadata": {},
     "output_type": "execute_result"
    }
   ],
   "source": [
    "my_time = %timeit -o w = max(lst)\n",
    "max_data = max_data.append(stats_from_timeit(my_time, 1, 'Serial'))\n",
    "T0 = my_time.best\n",
    "\n",
    "process_counts = range(0, int(np.log(mp.cpu_count())/np.log(2))+3)\n",
    "process_counts = [2**p for p in process_counts]\n",
    "\n",
    "for p in process_counts:\n",
    "    my_time = %timeit -o w = parallel_max(lst,p)\n",
    "    max_data = max_data.append(stats_from_timeit(my_time, p, 'Parallel'))\n",
    "    \n",
    "max_data['Speed-Up'] = T0/max_data['Time']\n",
    "max_data['Efficiency'] = max_data['Speed-Up']/max_data['Processors']\n",
    "max_data['Theoretical Speed-Up'] = max_data['Processors']\n",
    "max_data['Theoretical Efficiency'] = 1\n",
    "max_data"
   ]
  },
  {
   "cell_type": "code",
   "execution_count": 41,
   "metadata": {
    "collapsed": false
   },
   "outputs": [
    {
     "data": {
      "image/png": "[encoded data removed]",
      "text/plain": [
       "<matplotlib.figure.Figure at 0x7fb08b99b588>"
      ]
     },
     "metadata": {},
     "output_type": "display_data"
    }
   ],
   "source": [
    "parallel_data = max_data.loc['Parallel'][['Processors','Speed-Up','Theoretical Speed-Up']]\n",
    "plt = parallel_data.plot(x='Processors',style='.-', loglog=True)\n",
    "plt.set_title('Calculating the Standard Deviation',fontsize=18);\n",
    "plt.set_xlabel('Processes',fontsize=16);\n",
    "plt.set_ylabel('Speed-Up',fontsize=16);"
   ]
  },
  {
   "cell_type": "code",
   "execution_count": 42,
   "metadata": {
    "collapsed": false
   },
   "outputs": [
    {
     "data": {
      "image/png": "[encoded data removed]",
      "text/plain": [
       "<matplotlib.figure.Figure at 0x7fb09c0684e0>"
      ]
     },
     "metadata": {},
     "output_type": "display_data"
    }
   ],
   "source": [
    "parallel_data = max_data.loc['Parallel'][['Processors','Efficiency','Theoretical Efficiency']]\n",
    "plt = parallel_data.plot(x='Processors',style='.-', logx=True)\n",
    "plt.set_title(\"Calculating the Standard Deviation\",fontsize=18);\n",
    "plt.set_xlabel('Processes',fontsize=16);\n",
    "plt.set_ylabel('Efficiency',fontsize=16);\n",
    "plt.set_ylim(-0.1, 1.1);"
   ]
  },
  {
   "cell_type": "code",
   "execution_count": null,
   "metadata": {
    "collapsed": true
   },
   "outputs": [],
   "source": []
  },
  {
   "cell_type": "markdown",
   "metadata": {},
   "source": [
    "# Analysis"
   ]
  },
  {
   "cell_type": "markdown",
   "metadata": {},
   "source": [
    "These parallelized algorithms are horrible!!!\n",
    "\n",
    "They are so much slower than performing the calculation in serial. The more processes are allocated, the longer it takes - the exact opposite expected when parallelizing computations. While these processes were running, I was watching the cpu load per core using $\\textbf{top}$ - a linux program for monitoring system processes. Regardless of the size of the list, there would be long periods where only one core was being used followed by short bursts where more cores were used. It appears that these implementations spend much more time dividing up the list than they do actually calculating the values. \n",
    "\n",
    "We can test this by pre-splitting the list."
   ]
  },
  {
   "cell_type": "code",
   "execution_count": 51,
   "metadata": {
    "collapsed": false
   },
   "outputs": [],
   "source": [
    "def proc_sum_divided(i, lst,ret_list):\n",
    "    ret_list[i] = sum(lst)\n",
    "    return \n",
    "\n",
    "def parallel_mean_divided(lists):\n",
    "    manager = mp.Manager()\n",
    "    ret_list = manager.list([0]*len(lists))\n",
    "    jobs = [mp.Process(target=proc_sum_divided, args=(i, lst, ret_list) ) for i, lst in enumerate(lists)]\n",
    "    for job in jobs: job.start()\n",
    "    for job in jobs: job.join()\n",
    "    return sum(ret_list)/sum([len(lst) for lst in lists])"
   ]
  },
  {
   "cell_type": "code",
   "execution_count": 52,
   "metadata": {
    "collapsed": true
   },
   "outputs": [],
   "source": [
    "N = 2 * 10**8\n",
    "lst = [random() for i in range(N)]\n",
    "\n",
    "columns = ['Time', 'Processors', 'Speed-Up', 'Efficiency', 'Theoretical Speed-Up', 'Theoretical Efficiency']\n",
    "divided_data = pd.DataFrame(columns=columns)"
   ]
  },
  {
   "cell_type": "code",
   "execution_count": 53,
   "metadata": {
    "collapsed": false
   },
   "outputs": [
    {
     "name": "stdout",
     "output_type": "stream",
     "text": [
      "1 loop, best of 3: 1.35 s per loop\n"
     ]
    }
   ],
   "source": [
    "my_time = %timeit -o w = serial_mean(lst)\n",
    "divided_data = divided_data.append(stats_from_timeit(my_time, 1, 'Serial'))\n",
    "T0 = my_time.best"
   ]
  },
  {
   "cell_type": "code",
   "execution_count": 54,
   "metadata": {
    "collapsed": false
   },
   "outputs": [
    {
     "name": "stdout",
     "output_type": "stream",
     "text": [
      "1 loop, best of 3: 5.13 s per loop\n",
      "1 loop, best of 3: 2.84 s per loop\n",
      "1 loop, best of 3: 1.81 s per loop\n",
      "1 loop, best of 3: 1.58 s per loop\n",
      "1 loop, best of 3: 1.93 s per loop\n",
      "1 loop, best of 3: 3.07 s per loop\n",
      "1 loop, best of 3: 5.68 s per loop\n"
     ]
    }
   ],
   "source": [
    "process_counts = range(0, int(np.log(mp.cpu_count())/np.log(2))+3)\n",
    "process_counts = [2**p for p in process_counts]\n",
    "\n",
    "for p in process_counts:\n",
    "    l = len(lst)\n",
    "    size = l//p + 1\n",
    "    lists = [lst[i*size:(i+1)*size] for i in range(p)]\n",
    "    my_time = %timeit -o w = parallel_mean_divided(lists)\n",
    "    divided_data = divided_data.append(stats_from_timeit(my_time, p, 'Parallel'))"
   ]
  },
  {
   "cell_type": "code",
   "execution_count": 55,
   "metadata": {
    "collapsed": false
   },
   "outputs": [
    {
     "data": {
      "text/html": [
       "<div>\n",
       "<style scoped>\n",
       "    .dataframe tbody tr th:only-of-type {\n",
       "        vertical-align: middle;\n",
       "    }\n",
       "\n",
       "    .dataframe tbody tr th {\n",
       "        vertical-align: top;\n",
       "    }\n",
       "\n",
       "    .dataframe thead th {\n",
       "        text-align: right;\n",
       "    }\n",
       "</style>\n",
       "<table border=\"1\" class=\"dataframe\">\n",
       "  <thead>\n",
       "    <tr style=\"text-align: right;\">\n",
       "      <th></th>\n",
       "      <th>Time</th>\n",
       "      <th>Processors</th>\n",
       "      <th>Speed-Up</th>\n",
       "      <th>Efficiency</th>\n",
       "      <th>Theoretical Speed-Up</th>\n",
       "      <th>Theoretical Efficiency</th>\n",
       "    </tr>\n",
       "  </thead>\n",
       "  <tbody>\n",
       "    <tr>\n",
       "      <th>Serial</th>\n",
       "      <td>1.352432</td>\n",
       "      <td>1.0</td>\n",
       "      <td>1.000000</td>\n",
       "      <td>1.000000</td>\n",
       "      <td>1.0</td>\n",
       "      <td>1</td>\n",
       "    </tr>\n",
       "    <tr>\n",
       "      <th>Parallel</th>\n",
       "      <td>5.130235</td>\n",
       "      <td>1.0</td>\n",
       "      <td>0.263620</td>\n",
       "      <td>0.263620</td>\n",
       "      <td>1.0</td>\n",
       "      <td>1</td>\n",
       "    </tr>\n",
       "    <tr>\n",
       "      <th>Parallel</th>\n",
       "      <td>2.843898</td>\n",
       "      <td>2.0</td>\n",
       "      <td>0.475556</td>\n",
       "      <td>0.237778</td>\n",
       "      <td>2.0</td>\n",
       "      <td>1</td>\n",
       "    </tr>\n",
       "    <tr>\n",
       "      <th>Parallel</th>\n",
       "      <td>1.813617</td>\n",
       "      <td>4.0</td>\n",
       "      <td>0.745709</td>\n",
       "      <td>0.186427</td>\n",
       "      <td>4.0</td>\n",
       "      <td>1</td>\n",
       "    </tr>\n",
       "    <tr>\n",
       "      <th>Parallel</th>\n",
       "      <td>1.583323</td>\n",
       "      <td>8.0</td>\n",
       "      <td>0.854173</td>\n",
       "      <td>0.106772</td>\n",
       "      <td>8.0</td>\n",
       "      <td>1</td>\n",
       "    </tr>\n",
       "    <tr>\n",
       "      <th>Parallel</th>\n",
       "      <td>1.928213</td>\n",
       "      <td>16.0</td>\n",
       "      <td>0.701391</td>\n",
       "      <td>0.043837</td>\n",
       "      <td>16.0</td>\n",
       "      <td>1</td>\n",
       "    </tr>\n",
       "    <tr>\n",
       "      <th>Parallel</th>\n",
       "      <td>3.074654</td>\n",
       "      <td>32.0</td>\n",
       "      <td>0.439865</td>\n",
       "      <td>0.013746</td>\n",
       "      <td>32.0</td>\n",
       "      <td>1</td>\n",
       "    </tr>\n",
       "    <tr>\n",
       "      <th>Parallel</th>\n",
       "      <td>5.678622</td>\n",
       "      <td>64.0</td>\n",
       "      <td>0.238162</td>\n",
       "      <td>0.003721</td>\n",
       "      <td>64.0</td>\n",
       "      <td>1</td>\n",
       "    </tr>\n",
       "  </tbody>\n",
       "</table>\n",
       "</div>"
      ],
      "text/plain": [
       "              Time  Processors  Speed-Up  Efficiency  Theoretical Speed-Up  \\\n",
       "Serial    1.352432         1.0  1.000000    1.000000                   1.0   \n",
       "Parallel  5.130235         1.0  0.263620    0.263620                   1.0   \n",
       "Parallel  2.843898         2.0  0.475556    0.237778                   2.0   \n",
       "Parallel  1.813617         4.0  0.745709    0.186427                   4.0   \n",
       "Parallel  1.583323         8.0  0.854173    0.106772                   8.0   \n",
       "Parallel  1.928213        16.0  0.701391    0.043837                  16.0   \n",
       "Parallel  3.074654        32.0  0.439865    0.013746                  32.0   \n",
       "Parallel  5.678622        64.0  0.238162    0.003721                  64.0   \n",
       "\n",
       "          Theoretical Efficiency  \n",
       "Serial                         1  \n",
       "Parallel                       1  \n",
       "Parallel                       1  \n",
       "Parallel                       1  \n",
       "Parallel                       1  \n",
       "Parallel                       1  \n",
       "Parallel                       1  \n",
       "Parallel                       1  "
      ]
     },
     "execution_count": 55,
     "metadata": {},
     "output_type": "execute_result"
    }
   ],
   "source": [
    "divided_data['Speed-Up'] = T0/divided_data['Time']\n",
    "divided_data['Efficiency'] = divided_data['Speed-Up']/divided_data['Processors']\n",
    "divided_data['Theoretical Speed-Up'] = divided_data['Processors']\n",
    "divided_data['Theoretical Efficiency'] = 1\n",
    "divided_data"
   ]
  },
  {
   "cell_type": "code",
   "execution_count": 56,
   "metadata": {
    "collapsed": false
   },
   "outputs": [
    {
     "data": {
      "image/png": "[encoded data removed]",
      "text/plain": [
       "<matplotlib.figure.Figure at 0x7effc4aa14a8>"
      ]
     },
     "metadata": {},
     "output_type": "display_data"
    }
   ],
   "source": [
    "parallel_data = divided_data.loc['Parallel'][['Processors','Speed-Up','Theoretical Speed-Up']]\n",
    "plt = parallel_data.plot(x='Processors',style='.-', loglog=True)\n",
    "plt.set_title('Pre-chunking the list',fontsize=18);\n",
    "plt.set_xlabel('Processes',fontsize=16);\n",
    "plt.set_ylabel('Speed-Up',fontsize=16);"
   ]
  },
  {
   "cell_type": "code",
   "execution_count": 57,
   "metadata": {
    "collapsed": false
   },
   "outputs": [
    {
     "data": {
      "image/png": "[encoded data removed]",
      "text/plain": [
       "<matplotlib.figure.Figure at 0x7effb8162c88>"
      ]
     },
     "metadata": {},
     "output_type": "display_data"
    }
   ],
   "source": [
    "parallel_data = divided_data.loc['Parallel'][['Processors','Efficiency','Theoretical Efficiency']]\n",
    "plt = parallel_data.plot(x='Processors',style='.-', logx=True)\n",
    "plt.set_title(\"Pre-chunking the list\",fontsize=18);\n",
    "plt.set_xlabel('Processes',fontsize=16);\n",
    "plt.set_ylabel('Efficiency',fontsize=16);\n",
    "plt.set_ylim(-0.1, 1.1);"
   ]
  },
  {
   "cell_type": "markdown",
   "metadata": {},
   "source": [
    "These results weakly support the hypothesis in that they do show much more improvement as the number of cores goes up, but they are still laughably slower than the simple way of performing the calculations in serial. "
   ]
  },
  {
   "cell_type": "markdown",
   "metadata": {},
   "source": [
    "# Calculating the Median"
   ]
  },
  {
   "cell_type": "markdown",
   "metadata": {},
   "source": [
    "## Note:\n",
    "I took another crack at the Median of Medians and got it working. I put it in a separate file to keep it clean. "
   ]
  },
  {
   "cell_type": "code",
   "execution_count": 3,
   "metadata": {
    "collapsed": true
   },
   "outputs": [],
   "source": [
    "N = 10**1\n",
    "lst = [random() for i in range(N)]"
   ]
  },
  {
   "cell_type": "code",
   "execution_count": 3,
   "metadata": {
    "collapsed": false
   },
   "outputs": [
    {
     "name": "stdout",
     "output_type": "stream",
     "text": [
      "0.4988558972724747\n"
     ]
    }
   ],
   "source": [
    "print(median(lst))"
   ]
  },
  {
   "cell_type": "code",
   "execution_count": 2,
   "metadata": {
    "collapsed": false
   },
   "outputs": [],
   "source": [
    "#Failed Attempt\n",
    "\n",
    "def partition(MoM_value, lst):\n",
    "    return [x for x in lst if x<MoM_value], [x for x in lst if x>=MoM_value]\n",
    "\n",
    "def quick_select(rank, lst):\n",
    "    #returns left_list, median, right_list\n",
    "    #currently not actually a quick select. This is a standin for a quick select\n",
    "    \n",
    "    #cases of list very small\n",
    "    if not isinstance(lst, collections.Iterable):\n",
    "        lst = [lst]\n",
    "    if len(lst) == 1: \n",
    "        return [], lst[0], []\n",
    "    elif rank >= len(lst): \n",
    "        my_max = max(lst)\n",
    "        return lst.remove(my_max), my_max, []\n",
    "    \n",
    "    #not small, find selected value\n",
    "    my_lst = sorted(lst)\n",
    "    if rank == 0:\n",
    "        return [], my_lst[0], my_lst[1:]\n",
    "    elif rank == len(lst)-1:\n",
    "        return my_lst[:-1], my_lst[-1], []\n",
    "    else:\n",
    "        return my_lst[:rank-1], my_lst[rank], my_lst[rank+1:]\n",
    "\n",
    "    \n",
    "def proc_task(i, rank, lst, children_medians, barrier, MoM, return_lists, discard_left, len_left):\n",
    "    left, med, right = quick_select(rank, lst)\n",
    "    children_medians[i] = med\n",
    "    \n",
    "    barrier.wait() #release the parent\n",
    "    sleep(10**-3)\n",
    "    barrier.wait() #wait for parent to find MoM\n",
    "    #partition list\n",
    "    left, right = partition(MoM.value, lst)\n",
    "    len_left[i] = len(left)\n",
    "    barrier.wait() #wait for parent, then discard list\n",
    "    sleep(10**-3)\n",
    "    if discard_left[i]:\n",
    "        return_lists.put(right)\n",
    "    else:\n",
    "        return_lists.put(left)\n",
    "    return\n",
    "    \n",
    "def MoM_step(rank, lst, p, barrier):\n",
    "    sublists = [list(lst[i::p]) for i in range(p)]\n",
    "    children_medians = mp.Array('f', [0]*p)\n",
    "    len_left = mp.Array('i', [0]*p)\n",
    "    return_lists = mp.Queue()\n",
    "    \n",
    "    MoM = mp.Value('f',0)\n",
    "    \n",
    "    #discard_left = mp.Value('b',False)\n",
    "    discard_left = mp.Array('b', [False]*p)\n",
    "    \n",
    "    jobs = [\n",
    "        mp.Process(\n",
    "            target=proc_task, \n",
    "            args=(i, rank//p, sublist, children_medians, barrier, MoM, return_lists, discard_left, len_left)\n",
    "        )\n",
    "        for i, sublist in enumerate(sublists)]\n",
    "    \n",
    "    for job in jobs: job.start()\n",
    "    #wait for children to find medians\n",
    "    barrier.wait()\n",
    "    #calculate MoM\n",
    "    MoM.value = quick_select(p//2, list(children_medians))[1]\n",
    "    #print('MoM: %f' % MoM.value)\n",
    "    barrier.wait() #let children resume\n",
    "    sleep(10**-3)\n",
    "    #wait for children to partition lists\n",
    "    barrier.wait()\n",
    "    #tell children which to discard\n",
    "    count_left = sum(len_left)\n",
    "    #print('sum_len_left: %d' % count_left)\n",
    "    old_rank = rank\n",
    "    if count_left < rank:\n",
    "        for i in range(p):\n",
    "            discard_left[i] = True\n",
    "        rank -= count_left\n",
    "    else:\n",
    "        for i in range(p):\n",
    "            discard_left[i] = False\n",
    "        \n",
    "    print('rank reduced from %d to %d' % (old_rank, rank))\n",
    "    \n",
    "    #wait for children to return lists\n",
    "    for job in jobs: job.join()\n",
    "    \n",
    "    \n",
    "    #rank -= sum(removed_from_left)\n",
    "    \n",
    "    new_list = []\n",
    "    while not return_lists.empty():\n",
    "        #l = return_lists.get()\n",
    "        #print(l)\n",
    "        new_list += return_lists.get()\n",
    "    #print('New list size: %d' % len(new_list))\n",
    "    return rank, new_list\n",
    "\n",
    "def median_parallel(lst,p):\n",
    "    rank = len(lst)//2\n",
    "    print('starting rank: %d' % rank)\n",
    "    barrier = mp.Barrier(p+1)\n",
    "    while len(lst)>max(p*3,30):\n",
    "        #print('Failed: %r' % (not 50 in lst))\n",
    "        #print('input rank: %d, list len: %d' % (rank, len(lst)))\n",
    "        rank, lst = MoM_step(rank, lst, p, barrier)\n",
    "        #print('%d left' % len(lst))\n",
    "        #print(lst)\n",
    "    #print(lst)\n",
    "    return quick_select(rank,lst)[1]\n",
    "    \n",
    "    \n",
    "    \n",
    "    "
   ]
  },
  {
   "cell_type": "code",
   "execution_count": null,
   "metadata": {
    "collapsed": false
   },
   "outputs": [
    {
     "name": "stdout",
     "output_type": "stream",
     "text": [
      "starting rank: 50000\n",
      "rank reduced from 50000 to 50000\n"
     ]
    }
   ],
   "source": [
    "lst = list(range(10**5))\n",
    "shuffle(lst)\n",
    "\n",
    "print(median_parallel(lst,16))"
   ]
  },
  {
   "cell_type": "code",
   "execution_count": 176,
   "metadata": {
    "collapsed": false
   },
   "outputs": [
    {
     "data": {
      "text/plain": [
       "([0, 1, 2, 3, 4, 5, 6, 7, 8, 9], [])"
      ]
     },
     "execution_count": 176,
     "metadata": {},
     "output_type": "execute_result"
    }
   ],
   "source": [
    "a = list(range(10))\n",
    "partition(10,a)"
   ]
  },
  {
   "cell_type": "code",
   "execution_count": null,
   "metadata": {
    "collapsed": true
   },
   "outputs": [],
   "source": []
  },
  {
   "cell_type": "code",
   "execution_count": 13,
   "metadata": {
    "collapsed": true
   },
   "outputs": [],
   "source": [
    "#Failed Attempt\n",
    "\n",
    "def partition(MoM_value, lst):\n",
    "    return [x for x in lst if x<MoM_value], [x for x in lst if x>=MoM_value]\n",
    "\n",
    "def quick_select(rank, lst):\n",
    "    #returns left_list, median, right_list\n",
    "    #currently not actually a quick select. This is a standin for a quick select\n",
    "    \n",
    "    #cases of list very small\n",
    "    if len(lst) == 0:\n",
    "        return None\n",
    "    if not isinstance(lst, collections.Iterable):\n",
    "        lst = [lst]\n",
    "    if len(lst) == 1: \n",
    "        return [], lst[0], []\n",
    "    elif rank >= len(lst): \n",
    "        my_max = max(lst)\n",
    "        return lst.remove(my_max), my_max, []\n",
    "    \n",
    "    #not small, find selected value\n",
    "    my_lst = sorted(lst)\n",
    "    if rank == 0:\n",
    "        return [], my_lst[0], my_lst[1:]\n",
    "    elif rank == len(lst)-1:\n",
    "        return my_lst[:-1], my_lst[-1], []\n",
    "    else:\n",
    "        return my_lst[:rank-1], my_lst[rank], my_lst[rank+1:]\n",
    "\n",
    "    \n",
    "def proc_task(i, rank, lst, children_medians, parent_go, children_go, MoM, return_lists, discard_left, len_left):\n",
    "    left, med, right = quick_select(rank, lst)\n",
    "    children_medians[i] = med\n",
    "    \n",
    "    parent_go.set() #release the parent\n",
    "    children_go.wait() #wait for parent to find MoM\n",
    "    children_go.clear()\n",
    "    #partition list\n",
    "    left, right = partition(MoM.value, lst)\n",
    "    len_left[i] = len(left)\n",
    "    parent_go.set() #wait for parent, then discard list\n",
    "    children_go.wait() \n",
    "    children_go.clear()\n",
    "    if discard_left[i]:\n",
    "        return_lists.put(right)\n",
    "    else:\n",
    "        return_lists.put(left)\n",
    "    return\n",
    "    \n",
    "def MoM_step(rank, lst, p, parent_go, children_go):\n",
    "    sublists = [list(lst[i::p]) for i in range(p)]\n",
    "    children_medians = mp.Array('f', [0]*p)\n",
    "    len_left = mp.Array('i', [0]*p)\n",
    "    return_lists = mp.Queue()\n",
    "    \n",
    "    MoM = mp.Value('f',0)\n",
    "    \n",
    "    #discard_left = mp.Value('b',False)\n",
    "    discard_left = mp.Array('b', [False]*p)\n",
    "    \n",
    "    jobs = [\n",
    "        mp.Process(\n",
    "            target=proc_task, \n",
    "            args=(i, rank//p, sublist, children_medians, parent_go[i], children_go, MoM, return_lists, discard_left, len_left)\n",
    "        )\n",
    "        for i, sublist in enumerate(sublists)]\n",
    "    \n",
    "    for job in jobs: job.start()\n",
    "    #wait for children to find medians\n",
    "    for e in parent_go:\n",
    "        e.wait()\n",
    "    for e in parent_go:\n",
    "        e.clear()\n",
    "    \n",
    "    #calculate MoM\n",
    "    MoM.value = quick_select(p//2, list(children_medians))[1]\n",
    "    #print('MoM: %f' % MoM.value)\n",
    "    children_go.set() #let children resume\n",
    "    #wait for children to partition lists\n",
    "    for e in parent_go:\n",
    "        e.wait()\n",
    "    for e in parent_go:\n",
    "        e.clear()\n",
    "    \n",
    "    #tell children which to discard\n",
    "    count_left = sum(len_left)\n",
    "    #print('sum_len_left: %d' % count_left)\n",
    "    old_rank = rank\n",
    "    if count_left < rank:\n",
    "        for i in range(p):\n",
    "            discard_left[i] = True\n",
    "        rank -= count_left\n",
    "    else:\n",
    "        for i in range(p):\n",
    "            discard_left[i] = False\n",
    "        \n",
    "    print('rank reduced from %d to %d' % (old_rank, rank))\n",
    "    \n",
    "    #wait for children to return lists\n",
    "    children_go.set()\n",
    "    for job in jobs: job.join()\n",
    "    \n",
    "    \n",
    "    #rank -= sum(removed_from_left)\n",
    "    \n",
    "    new_list = []\n",
    "    while not return_lists.empty():\n",
    "        #l = return_lists.get()\n",
    "        #print(l)\n",
    "        new_list += return_lists.get()\n",
    "    #print('New list size: %d' % len(new_list))\n",
    "    return rank, new_list\n",
    "\n",
    "def median_parallel(lst,p):\n",
    "    rank = len(lst)//2\n",
    "    print('starting rank: %d' % rank)\n",
    "    #barrier = mp.Barrier(p+1)\n",
    "    parent_go = [mp.Event() for i in range(p)]\n",
    "    children_go = mp.Event()\n",
    "    while len(lst)>max(p*3,30):\n",
    "        #print('Failed: %r' % (not 50 in lst))\n",
    "        #print('input rank: %d, list len: %d' % (rank, len(lst)))\n",
    "        rank, lst = MoM_step(rank, lst, p, parent_go, children_go)\n",
    "        #print('%d left' % len(lst))\n",
    "        #print(lst)\n",
    "    #print(lst)\n",
    "    return quick_select(rank,lst)[1]\n",
    "    \n",
    "    "
   ]
  },
  {
   "cell_type": "code",
   "execution_count": 20,
   "metadata": {
    "collapsed": false
   },
   "outputs": [
    {
     "name": "stdout",
     "output_type": "stream",
     "text": [
      "500\n"
     ]
    }
   ],
   "source": [
    "lst = list(range(10**3))\n",
    "shuffle(lst)\n",
    "\n",
    "print(median_parallel(lst,4))"
   ]
  },
  {
   "cell_type": "markdown",
   "metadata": {
    "collapsed": true
   },
   "source": [
    "# A Note on the Parallelizing the Median"
   ]
  },
  {
   "cell_type": "markdown",
   "metadata": {},
   "source": [
    "**Update: It is working now. See below... **\n",
    "\n",
    "I have gotten close, but as of yet I have been unable to produce a reliable implementation of the Median of Medians algorithm. \n",
    "\n",
    "Firstly, this algorithm requires some sort of quick select since it needs to be able to find an element of a list of a given rank. At first this rank is half the size of the list, but as elements get eliminated from the list, the required rank on each search goes down. The median of a list of 100 elements is the same as the second smallest element in the top 52 elements. I decided to use a slow stand-in until I could get the interesting parts of the algorithm working. Since I haven't succeeded at that, I see no reason to write my own quick sort.\n",
    "\n",
    "It seems to be very difficult to allow for child processes to wait for the parent process to compute before continuing. From my testing using the **sleep** function, I have determined that using **barriers** is not an effective way to comunicate with the parent process, although it is perfectly effective at communicating with sibling processes. Using **events** seems better, but this has introduced new bugs to the code I have.\n",
    "\n",
    "Presently, the code I have will often run if there are up to 1,000 elements in the list and if it doesn't stall, it will return a value close to the median if not the median itself. "
   ]
  },
  {
   "cell_type": "code",
   "execution_count": 5,
   "metadata": {
    "collapsed": true
   },
   "outputs": [],
   "source": [
    "#\"Successful\" Attempt\n",
    "\n",
    "def partition(MoM_value, lst):\n",
    "    return [x for x in lst if x<MoM_value], [x for x in lst if x>=MoM_value]\n",
    "\n",
    "def quick_select(rank, lst):\n",
    "    #returns left_list, median, right_list\n",
    "    #currently not actually a quick select. This is a standin for a quick select\n",
    "    \n",
    "    #cases of list very small\n",
    "    if not isinstance(lst, collections.Iterable):\n",
    "        lst = [lst]        \n",
    "    if len(lst) == 1: \n",
    "        return [], lst[0], []\n",
    "    elif rank >= len(lst): \n",
    "        my_max = max(lst)\n",
    "        return lst.remove(my_max), my_max, []\n",
    "    \n",
    "    #not small, find selected value\n",
    "    my_lst = sorted(lst)\n",
    "    if rank == 0:\n",
    "        return [], my_lst[0], my_lst[1:]\n",
    "    elif rank == len(lst)-1:\n",
    "        return my_lst[:-1], my_lst[-1], []\n",
    "    else:\n",
    "        return my_lst[:rank-1], my_lst[rank], my_lst[rank+1:]\n",
    "\n",
    "    \n",
    "def proc_select(i, rank, lst, children_medians):\n",
    "    left, med, right = quick_select(rank, lst)\n",
    "    children_medians[i] = med\n",
    "    return\n",
    "\n",
    "def proc_partition(i, lst, MoM, left_lists, right_lists, left_lengths):\n",
    "    left, right = partition(MoM, lst)\n",
    "    left_lengths[i] = len(left)\n",
    "    right_lists.put(right)\n",
    "    left_lists.put(left)\n",
    "    return\n",
    "    \n",
    "    \n",
    "def MoM_step(rank, lst, p, barrier):\n",
    "    sublists = [list(lst[i::p]) for i in range(p)]\n",
    "    children_medians = mp.Array('f', [0]*p)\n",
    "    left_lists = mp.Queue()\n",
    "    right_lists = mp.Queue()\n",
    "    left_lengths = mp.Array('i', [0]*p)\n",
    "    \n",
    "    #find medians\n",
    "    jobs = [\n",
    "        mp.Process(\n",
    "            target=proc_select, \n",
    "            args=(i, rank//p, sublist, children_medians)\n",
    "        )\n",
    "        for i, sublist in enumerate(sublists)]\n",
    "    \n",
    "    for job in jobs: job.start()\n",
    "    for job in jobs: job.join()\n",
    "        \n",
    "    MoM = quick_select(p//2, list(children_medians))[1]\n",
    "    \n",
    "    #partition list\n",
    "    jobs = [\n",
    "        mp.Process(\n",
    "            target=proc_partition, \n",
    "            args=(i, sublist, MoM, left_lists, right_lists, left_lengths)\n",
    "        )\n",
    "        for i, sublist in enumerate(sublists)]\n",
    "    \n",
    "    for job in jobs: job.start()\n",
    "    for job in jobs: job.join()\n",
    "    \n",
    "    count_left = sum(left_lengths)\n",
    "\n",
    "    new_list = []\n",
    "    \n",
    "    old_rank = rank\n",
    "    if count_left < rank:\n",
    "        for i in range(p):\n",
    "            while not right_lists.empty():\n",
    "                new_list += right_lists.get()\n",
    "        rank -= count_left\n",
    "    else:\n",
    "        for i in range(p):\n",
    "            while not left_lists.empty():\n",
    "                new_list += left_lists.get()\n",
    "                \n",
    "    return rank, new_list\n",
    "\n",
    "def median_parallel(lst,p):\n",
    "    rank = len(lst)//2\n",
    "    #print('starting rank: %d' % rank)\n",
    "    barrier = mp.Barrier(p+1)\n",
    "    while len(lst)>max(p*3,30):\n",
    "        #print('Failed: %r' % (not 50 in lst))\n",
    "        #print('input rank: %d, list len: %d' % (rank, len(lst)))\n",
    "        rank, lst = MoM_step(rank, lst, p, barrier)\n",
    "        #print('%d left' % len(lst))\n",
    "        #print(lst)\n",
    "    #print(lst)\n",
    "    return quick_select(rank,lst)[1]\n",
    "    "
   ]
  },
  {
   "cell_type": "code",
   "execution_count": 30,
   "metadata": {
    "collapsed": false
   },
   "outputs": [
    {
     "name": "stdout",
     "output_type": "stream",
     "text": [
      "20000\n"
     ]
    }
   ],
   "source": [
    "lst = list(range(4*10**4))\n",
    "shuffle(lst)\n",
    "\n",
    "print(median_parallel(lst,16))"
   ]
  },
  {
   "cell_type": "markdown",
   "metadata": {},
   "source": [
    "# Finanl Thoughts"
   ]
  },
  {
   "cell_type": "markdown",
   "metadata": {},
   "source": [
    "Well, it looks like it's working, but only for lists of about 40,000 and lower. "
   ]
  },
  {
   "cell_type": "code",
   "execution_count": 12,
   "metadata": {
    "collapsed": true
   },
   "outputs": [],
   "source": [
    "N = 10**4\n",
    "lst = list(range(N))\n",
    "shuffle(lst)\n",
    "\n",
    "columns = ['Time', 'Processors', 'Speed-Up', 'Efficiency', 'Theoretical Speed-Up', 'Theoretical Efficiency']\n",
    "median_data = pd.DataFrame(columns=columns)"
   ]
  },
  {
   "cell_type": "code",
   "execution_count": 13,
   "metadata": {
    "collapsed": false
   },
   "outputs": [
    {
     "name": "stdout",
     "output_type": "stream",
     "text": [
      "10 loops, best of 3: 42.3 ms per loop\n",
      "10 loops, best of 3: 148 ms per loop\n",
      "1 loop, best of 3: 214 ms per loop\n",
      "10 loops, best of 3: 118 ms per loop\n",
      "1 loop, best of 3: 404 ms per loop\n",
      "1 loop, best of 3: 439 ms per loop\n",
      "1 loop, best of 3: 784 ms per loop\n"
     ]
    }
   ],
   "source": [
    "process_counts = range(0, int(np.log(mp.cpu_count())/np.log(2))+3)\n",
    "process_counts = [2**p for p in process_counts]\n",
    "\n",
    "for p in process_counts:\n",
    "    my_time = %timeit -o w = median_parallel(lst, p)\n",
    "    if p==1: T0 = my_time.best\n",
    "    median_data = median_data.append(stats_from_timeit(my_time, p, 'Parallel'))"
   ]
  },
  {
   "cell_type": "code",
   "execution_count": 14,
   "metadata": {
    "collapsed": false
   },
   "outputs": [
    {
     "data": {
      "text/html": [
       "<div>\n",
       "<style scoped>\n",
       "    .dataframe tbody tr th:only-of-type {\n",
       "        vertical-align: middle;\n",
       "    }\n",
       "\n",
       "    .dataframe tbody tr th {\n",
       "        vertical-align: top;\n",
       "    }\n",
       "\n",
       "    .dataframe thead th {\n",
       "        text-align: right;\n",
       "    }\n",
       "</style>\n",
       "<table border=\"1\" class=\"dataframe\">\n",
       "  <thead>\n",
       "    <tr style=\"text-align: right;\">\n",
       "      <th></th>\n",
       "      <th>Time</th>\n",
       "      <th>Processors</th>\n",
       "      <th>Speed-Up</th>\n",
       "      <th>Efficiency</th>\n",
       "      <th>Theoretical Speed-Up</th>\n",
       "      <th>Theoretical Efficiency</th>\n",
       "    </tr>\n",
       "  </thead>\n",
       "  <tbody>\n",
       "    <tr>\n",
       "      <th>Parallel</th>\n",
       "      <td>0.042303</td>\n",
       "      <td>1.0</td>\n",
       "      <td>1.000000</td>\n",
       "      <td>1.000000</td>\n",
       "      <td>1.0</td>\n",
       "      <td>1</td>\n",
       "    </tr>\n",
       "    <tr>\n",
       "      <th>Parallel</th>\n",
       "      <td>0.147905</td>\n",
       "      <td>2.0</td>\n",
       "      <td>0.286015</td>\n",
       "      <td>0.143008</td>\n",
       "      <td>2.0</td>\n",
       "      <td>1</td>\n",
       "    </tr>\n",
       "    <tr>\n",
       "      <th>Parallel</th>\n",
       "      <td>0.213961</td>\n",
       "      <td>4.0</td>\n",
       "      <td>0.197714</td>\n",
       "      <td>0.049429</td>\n",
       "      <td>4.0</td>\n",
       "      <td>1</td>\n",
       "    </tr>\n",
       "    <tr>\n",
       "      <th>Parallel</th>\n",
       "      <td>0.118474</td>\n",
       "      <td>8.0</td>\n",
       "      <td>0.357066</td>\n",
       "      <td>0.044633</td>\n",
       "      <td>8.0</td>\n",
       "      <td>1</td>\n",
       "    </tr>\n",
       "    <tr>\n",
       "      <th>Parallel</th>\n",
       "      <td>0.403996</td>\n",
       "      <td>16.0</td>\n",
       "      <td>0.104712</td>\n",
       "      <td>0.006544</td>\n",
       "      <td>16.0</td>\n",
       "      <td>1</td>\n",
       "    </tr>\n",
       "    <tr>\n",
       "      <th>Parallel</th>\n",
       "      <td>0.438559</td>\n",
       "      <td>32.0</td>\n",
       "      <td>0.096459</td>\n",
       "      <td>0.003014</td>\n",
       "      <td>32.0</td>\n",
       "      <td>1</td>\n",
       "    </tr>\n",
       "    <tr>\n",
       "      <th>Parallel</th>\n",
       "      <td>0.784342</td>\n",
       "      <td>64.0</td>\n",
       "      <td>0.053935</td>\n",
       "      <td>0.000843</td>\n",
       "      <td>64.0</td>\n",
       "      <td>1</td>\n",
       "    </tr>\n",
       "  </tbody>\n",
       "</table>\n",
       "</div>"
      ],
      "text/plain": [
       "              Time  Processors  Speed-Up  Efficiency  Theoretical Speed-Up  \\\n",
       "Parallel  0.042303         1.0  1.000000    1.000000                   1.0   \n",
       "Parallel  0.147905         2.0  0.286015    0.143008                   2.0   \n",
       "Parallel  0.213961         4.0  0.197714    0.049429                   4.0   \n",
       "Parallel  0.118474         8.0  0.357066    0.044633                   8.0   \n",
       "Parallel  0.403996        16.0  0.104712    0.006544                  16.0   \n",
       "Parallel  0.438559        32.0  0.096459    0.003014                  32.0   \n",
       "Parallel  0.784342        64.0  0.053935    0.000843                  64.0   \n",
       "\n",
       "          Theoretical Efficiency  \n",
       "Parallel                       1  \n",
       "Parallel                       1  \n",
       "Parallel                       1  \n",
       "Parallel                       1  \n",
       "Parallel                       1  \n",
       "Parallel                       1  \n",
       "Parallel                       1  "
      ]
     },
     "execution_count": 14,
     "metadata": {},
     "output_type": "execute_result"
    }
   ],
   "source": [
    "median_data['Speed-Up'] = T0/median_data['Time']\n",
    "median_data['Efficiency'] = median_data['Speed-Up']/median_data['Processors']\n",
    "median_data['Theoretical Speed-Up'] = median_data['Processors']\n",
    "median_data['Theoretical Efficiency'] = 1\n",
    "median_data"
   ]
  },
  {
   "cell_type": "code",
   "execution_count": 18,
   "metadata": {
    "collapsed": false
   },
   "outputs": [
    {
     "data": {
      "image/png": "[encoded data removed]",
      "text/plain": [
       "<matplotlib.figure.Figure at 0x7fb7f11c1320>"
      ]
     },
     "metadata": {},
     "output_type": "display_data"
    }
   ],
   "source": [
    "parallel_data = median_data.loc['Parallel'][['Processors','Speed-Up','Theoretical Speed-Up']]\n",
    "plt = parallel_data.plot(x='Processors',style='.-', loglog=True)\n",
    "plt.set_title('Calculating the Median',fontsize=18);\n",
    "plt.set_xlabel('Processes',fontsize=16);\n",
    "plt.set_ylabel('Speed-Up',fontsize=16);"
   ]
  },
  {
   "cell_type": "code",
   "execution_count": 19,
   "metadata": {
    "collapsed": false
   },
   "outputs": [
    {
     "data": {
      "image/png": "[encoded data removed]",
      "text/plain": [
       "<matplotlib.figure.Figure at 0x7fb7f10c4ba8>"
      ]
     },
     "metadata": {},
     "output_type": "display_data"
    }
   ],
   "source": [
    "parallel_data = median_data.loc['Parallel'][['Processors','Efficiency','Theoretical Efficiency']]\n",
    "plt = parallel_data.plot(x='Processors',style='.-', logx=True)\n",
    "plt.set_title(\"Calculating the Median\",fontsize=18);\n",
    "plt.set_xlabel('Processes',fontsize=16);\n",
    "plt.set_ylabel('Efficiency',fontsize=16);\n",
    "plt.set_ylim(-0.1, 1.1);"
   ]
  },
  {
   "cell_type": "markdown",
   "metadata": {},
   "source": [
    "## I took another crack at the Median of Medians and got it working. I put it in a separate file to keep it clean."
   ]
  }
 ],
 "metadata": {
  "kernelspec": {
   "display_name": "Python 3",
   "language": "python",
   "name": "python3"
  },
  "language_info": {
   "codemirror_mode": {
    "name": "ipython",
    "version": 3
   },
   "file_extension": ".py",
   "mimetype": "text/x-python",
   "name": "python",
   "nbconvert_exporter": "python",
   "pygments_lexer": "ipython3",
   "version": "3.5.4"
  }
 },
 "nbformat": 4,
 "nbformat_minor": 2
}
