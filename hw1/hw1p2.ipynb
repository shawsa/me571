{
 "cells": [
  {
   "cell_type": "code",
   "execution_count": 1,
   "metadata": {
    "collapsed": true
   },
   "outputs": [],
   "source": [
    "%matplotlib inline\n",
    "import matplotlib.pyplot as plt\n",
    "import multiprocessing as mp\n",
    "import numpy as np\n",
    "import pandas as pd\n",
    "\n",
    "from random import random\n",
    "from itertools import repeat"
   ]
  },
  {
   "cell_type": "markdown",
   "metadata": {},
   "source": [
    "# In Serial"
   ]
  },
  {
   "cell_type": "code",
   "execution_count": 2,
   "metadata": {
    "collapsed": true
   },
   "outputs": [],
   "source": [
    "def serial_mean(lst):\n",
    "    return sum(lst)/len(lst)\n",
    "def serial_sd(lst, u=None):\n",
    "    if u==None:\n",
    "        u = serial_mean(lst)\n",
    "    return sum([(x-u)**2 for x in lst])/(len(lst) - 1)"
   ]
  },
  {
   "cell_type": "markdown",
   "metadata": {},
   "source": [
    "# In Parallel"
   ]
  },
  {
   "cell_type": "markdown",
   "metadata": {},
   "source": [
    "### Parallel Mean"
   ]
  },
  {
   "cell_type": "code",
   "execution_count": 3,
   "metadata": {
    "collapsed": true
   },
   "outputs": [],
   "source": [
    "def parallel_mean1(lst, p):\n",
    "    pool = mp.Pool(processes = p)\n",
    "    l = len(lst)\n",
    "    size = l//p + 1\n",
    "    my_lst = [lst[i:i + size] for i in range(0, l, size)]\n",
    "    my_lst = pool.map(sum, my_lst)\n",
    "    pool.close()\n",
    "    pool.join()\n",
    "    return sum(my_lst)/len(lst)\n",
    "    "
   ]
  },
  {
   "cell_type": "code",
   "execution_count": 4,
   "metadata": {
    "collapsed": true
   },
   "outputs": [],
   "source": [
    "def proc_sum3(args):\n",
    "    lst, i, size = args[0], args[1], args[2]\n",
    "    my_sum = 0\n",
    "    for num in lst[i*size:(i+1)*size]:\n",
    "        my_sum+= num\n",
    "    return sum(lst[i*size:(i+1)*size])\n",
    "\n",
    "def parallel_mean3(lst,p):\n",
    "    manager = mp.Manager()\n",
    "    shared_list = manager.list(lst)\n",
    "    pool = mp.Pool(processes = p)\n",
    "    l = len(lst)\n",
    "    size = l//p + 1\n",
    "    sums = pool.map(proc_sum3, [(shared_list, i,size) for i in range(p)])\n",
    "    pool.close()\n",
    "    pool.join()\n",
    "    return sum(sums)/l"
   ]
  },
  {
   "cell_type": "code",
   "execution_count": 5,
   "metadata": {
    "collapsed": true
   },
   "outputs": [],
   "source": [
    "def proc_sum4(i, size, lst, ret_list):\n",
    "    #lst, i, size = args[0], args[1], args[2]\n",
    "    my_sum = 0\n",
    "    for num in lst[i*size:(i+1)*size]:\n",
    "        my_sum+= num\n",
    "    ret_list[i] = sum(lst[i*size:(i+1)*size])\n",
    "    return \n",
    "\n",
    "def parallel_mean4(lst,p):\n",
    "    manager = mp.Manager()\n",
    "    shared_list = manager.list(lst)\n",
    "    ret_list = manager.list([0]*p)\n",
    "    #pool = mp.Pool(processes = p)\n",
    "    l = len(lst)\n",
    "    size = l//p + 1\n",
    "    jobs = [mp.Process(target=proc_sum4, args=(i, size, shared_list, ret_list)) for i in range(p)]\n",
    "    #sums = pool.map(proc_sum, [(shared_list, i,size) for i in range(p)])\n",
    "    for job in jobs: job.start()\n",
    "    for job in jobs: job.join()\n",
    "    return sum(ret_list)/l"
   ]
  },
  {
   "cell_type": "code",
   "execution_count": 6,
   "metadata": {
    "collapsed": true
   },
   "outputs": [],
   "source": [
    "def proc_sum5(args):\n",
    "    lst, i, size = args[0], args[1], args[2]\n",
    "    my_sum = 0\n",
    "    for num in lst[i*size:(i+1)*size]:\n",
    "        my_sum+= num\n",
    "    return sum(lst[i*size:(i+1)*size])\n",
    "\n",
    "def parallel_mean5(lst,p):\n",
    "    manager = mp.Manager()\n",
    "    shared_list = manager.Array('f',lst)\n",
    "    pool = mp.Pool(processes = p)\n",
    "    l = len(lst)\n",
    "    size = l//p + 1\n",
    "    sums = pool.map(proc_sum3, [(shared_list, i,size) for i in range(p)])\n",
    "    pool.close()\n",
    "    pool.join()\n",
    "    return sum(sums)/l"
   ]
  },
  {
   "cell_type": "code",
   "execution_count": 7,
   "metadata": {
    "collapsed": true
   },
   "outputs": [],
   "source": [
    "def proc_sum6(i, size, lst, ret_list):\n",
    "    ret_list[i] = sum(lst[i*size:(i+1)*size])\n",
    "    return \n",
    "\n",
    "def parallel_mean6(lst,p):\n",
    "    manager = mp.Manager()\n",
    "    shared_list = manager.list(lst)\n",
    "    ret_list = manager.list([0]*p)\n",
    "    #pool = mp.Pool(processes = p)\n",
    "    l = len(lst)\n",
    "    size = l//p + 1\n",
    "    jobs = [mp.Process(target=proc_sum6, args=(i, size, shared_list, ret_list)) for i in range(p)]\n",
    "    #sums = pool.map(proc_sum, [(shared_list, i,size) for i in range(p)])\n",
    "    for job in jobs: job.start()\n",
    "    for job in jobs: job.join()\n",
    "    return sum(ret_list)/l\n",
    "\n",
    "parallel_mean = parallel_mean6"
   ]
  },
  {
   "cell_type": "markdown",
   "metadata": {},
   "source": [
    "### Parallel Mean Testings"
   ]
  },
  {
   "cell_type": "code",
   "execution_count": 17,
   "metadata": {
    "collapsed": true
   },
   "outputs": [],
   "source": [
    "N = 10**4\n",
    "lst = [random() for i in range(N)]\n",
    "u_serial = serial_mean(lst)\n",
    "p = mp.cpu_count()"
   ]
  },
  {
   "cell_type": "code",
   "execution_count": 18,
   "metadata": {
    "collapsed": false
   },
   "outputs": [
    {
     "name": "stdout",
     "output_type": "stream",
     "text": [
      "10 loops, best of 3: 159 ms per loop\n"
     ]
    }
   ],
   "source": [
    "%%timeit\n",
    "parallel_mean1(lst,p)"
   ]
  },
  {
   "cell_type": "code",
   "execution_count": 20,
   "metadata": {
    "collapsed": false
   },
   "outputs": [
    {
     "name": "stdout",
     "output_type": "stream",
     "text": [
      "10 loops, best of 3: 181 ms per loop\n"
     ]
    }
   ],
   "source": [
    "%%timeit\n",
    "parallel_mean3(lst,p)"
   ]
  },
  {
   "cell_type": "code",
   "execution_count": 21,
   "metadata": {
    "collapsed": false
   },
   "outputs": [
    {
     "name": "stdout",
     "output_type": "stream",
     "text": [
      "10 loops, best of 3: 88.5 ms per loop\n"
     ]
    }
   ],
   "source": [
    "%%timeit\n",
    "parallel_mean4(lst,p)"
   ]
  },
  {
   "cell_type": "code",
   "execution_count": 22,
   "metadata": {
    "collapsed": false
   },
   "outputs": [
    {
     "name": "stdout",
     "output_type": "stream",
     "text": [
      "10 loops, best of 3: 180 ms per loop\n"
     ]
    }
   ],
   "source": [
    "%%timeit\n",
    "parallel_mean5(lst,p)"
   ]
  },
  {
   "cell_type": "code",
   "execution_count": 23,
   "metadata": {
    "collapsed": false
   },
   "outputs": [
    {
     "name": "stdout",
     "output_type": "stream",
     "text": [
      "10 loops, best of 3: 86.6 ms per loop\n"
     ]
    }
   ],
   "source": [
    "%%timeit\n",
    "parallel_mean6(lst,p)"
   ]
  },
  {
   "cell_type": "markdown",
   "metadata": {},
   "source": [
    "### Mean Verifications"
   ]
  },
  {
   "cell_type": "code",
   "execution_count": 8,
   "metadata": {
    "collapsed": false
   },
   "outputs": [],
   "source": [
    "N = 10**4\n",
    "tolerance = 10**-8\n",
    "\n",
    "p = mp.cpu_count()\n",
    "lst = [random() for i in range(N)]\n",
    "u_serial = serial_mean(lst)\n",
    "assert u_serial - parallel_mean1(lst,p) < tolerance\n",
    "assert u_serial - parallel_mean3(lst,p) < tolerance\n",
    "assert u_serial - parallel_mean4(lst,p) < tolerance\n",
    "assert u_serial - parallel_mean5(lst,p) < tolerance\n",
    "assert u_serial - parallel_mean6(lst,p) < tolerance"
   ]
  },
  {
   "cell_type": "markdown",
   "metadata": {},
   "source": [
    "### Parallel Standard Deviation"
   ]
  },
  {
   "cell_type": "code",
   "execution_count": 9,
   "metadata": {
    "collapsed": true
   },
   "outputs": [],
   "source": [
    "def proc_sd(i, u, size, lst, ret_list):\n",
    "    ret_list[i] = sum([ (x-u)**2  for x in lst[i*size:(i+1)*size] ])\n",
    "    return\n",
    "\n",
    "def parallel_sd(lst,p, u=None):\n",
    "    if u == None:\n",
    "        u = parallel_mean(lst,p)\n",
    "        \n",
    "    manager = mp.Manager()\n",
    "    shared_list = manager.list(lst)\n",
    "    ret_list = manager.list([0]*p)\n",
    "    l = len(lst)\n",
    "    size = l//p + 1\n",
    "    jobs = [mp.Process(target=proc_sd, args=(i, u, size, shared_list, ret_list)) for i in range(p)]\n",
    "    for job in jobs: job.start()\n",
    "    for job in jobs: job.join()\n",
    "    return sum(ret_list)/(l-1)"
   ]
  },
  {
   "cell_type": "markdown",
   "metadata": {},
   "source": [
    "### Standard Deviation Verification"
   ]
  },
  {
   "cell_type": "code",
   "execution_count": 10,
   "metadata": {
    "collapsed": false
   },
   "outputs": [],
   "source": [
    "N = 10**4\n",
    "tolerance = 10**-8\n",
    "\n",
    "p = mp.cpu_count()\n",
    "lst = [random() for i in range(N)]\n",
    "\n",
    "sd_serial = serial_sd(lst)\n",
    "assert sd_serial - parallel_sd(lst,1) < tolerance"
   ]
  },
  {
   "cell_type": "markdown",
   "metadata": {
    "collapsed": true
   },
   "source": [
    "# Times"
   ]
  },
  {
   "cell_type": "code",
   "execution_count": 67,
   "metadata": {
    "collapsed": false
   },
   "outputs": [],
   "source": [
    "N = 10**6\n",
    "lst = [random() for i in range(N)]\n",
    "\n",
    "columns = ['Time', 'Processors', 'Speed-Up', 'Efficiency', 'Theoretical Speed-Up', 'Theoretical Efficiency']\n",
    "mean_data = pd.DataFrame(columns=columns)\n",
    "sd_data = pd.DataFrame(columns=columns)"
   ]
  },
  {
   "cell_type": "code",
   "execution_count": 68,
   "metadata": {
    "collapsed": false
   },
   "outputs": [],
   "source": [
    "def stats_from_timeit(timeit_result, num_proc, description):\n",
    "    t = timeit_result.best\n",
    "    data_row = {'Time': t, 'Processors': num_proc}\n",
    "    return pd.Series(data=data_row, name=description)"
   ]
  },
  {
   "cell_type": "code",
   "execution_count": 69,
   "metadata": {
    "collapsed": false
   },
   "outputs": [
    {
     "name": "stdout",
     "output_type": "stream",
     "text": [
      "100 loops, best of 3: 6.61 ms per loop\n"
     ]
    }
   ],
   "source": [
    "my_time = %timeit -o w = serial_mean(lst)\n",
    "mean_data = mean_data.append(stats_from_timeit(my_time, 1, 'Serial'))\n",
    "T0 = my_time.best"
   ]
  },
  {
   "cell_type": "code",
   "execution_count": 70,
   "metadata": {
    "collapsed": false
   },
   "outputs": [
    {
     "name": "stdout",
     "output_type": "stream",
     "text": [
      "1 loop, best of 3: 469 ms per loop\n",
      "1 loop, best of 3: 463 ms per loop\n",
      "1 loop, best of 3: 513 ms per loop\n",
      "1 loop, best of 3: 696 ms per loop\n",
      "1 loop, best of 3: 1.07 s per loop\n",
      "1 loop, best of 3: 1.85 s per loop\n",
      "1 loop, best of 3: 3.41 s per loop\n"
     ]
    }
   ],
   "source": [
    "process_counts = range(0, int(np.log(mp.cpu_count())/np.log(2))+3)\n",
    "process_counts = [2**p for p in process_counts]\n",
    "\n",
    "for p in process_counts:\n",
    "    my_time = %timeit -o w = parallel_mean(lst,p)\n",
    "    mean_data = mean_data.append(stats_from_timeit(my_time, p, 'Parallel'))"
   ]
  },
  {
   "cell_type": "code",
   "execution_count": 71,
   "metadata": {
    "collapsed": false
   },
   "outputs": [],
   "source": [
    "mean_data['Speed-Up'] = T0/mean_data['Time']\n",
    "mean_data['Efficiency'] = mean_data['Speed-Up']/mean_data['Processors']\n",
    "mean_data['Theoretical Speed-Up'] = mean_data['Processors']\n",
    "mean_data['Theoretical Efficiency'] = 1"
   ]
  },
  {
   "cell_type": "code",
   "execution_count": 72,
   "metadata": {
    "collapsed": false
   },
   "outputs": [
    {
     "data": {
      "text/html": [
       "<div>\n",
       "<style scoped>\n",
       "    .dataframe tbody tr th:only-of-type {\n",
       "        vertical-align: middle;\n",
       "    }\n",
       "\n",
       "    .dataframe tbody tr th {\n",
       "        vertical-align: top;\n",
       "    }\n",
       "\n",
       "    .dataframe thead th {\n",
       "        text-align: right;\n",
       "    }\n",
       "</style>\n",
       "<table border=\"1\" class=\"dataframe\">\n",
       "  <thead>\n",
       "    <tr style=\"text-align: right;\">\n",
       "      <th></th>\n",
       "      <th>Time</th>\n",
       "      <th>Processors</th>\n",
       "      <th>Speed-Up</th>\n",
       "      <th>Efficiency</th>\n",
       "      <th>Theoretical Speed-Up</th>\n",
       "      <th>Theoretical Efficiency</th>\n",
       "    </tr>\n",
       "  </thead>\n",
       "  <tbody>\n",
       "    <tr>\n",
       "      <th>Serial</th>\n",
       "      <td>0.006607</td>\n",
       "      <td>1.0</td>\n",
       "      <td>1.000000</td>\n",
       "      <td>1.000000</td>\n",
       "      <td>1.0</td>\n",
       "      <td>1</td>\n",
       "    </tr>\n",
       "    <tr>\n",
       "      <th>Parallel</th>\n",
       "      <td>0.468722</td>\n",
       "      <td>1.0</td>\n",
       "      <td>0.014095</td>\n",
       "      <td>0.014095</td>\n",
       "      <td>1.0</td>\n",
       "      <td>1</td>\n",
       "    </tr>\n",
       "    <tr>\n",
       "      <th>Parallel</th>\n",
       "      <td>0.463141</td>\n",
       "      <td>2.0</td>\n",
       "      <td>0.014265</td>\n",
       "      <td>0.007133</td>\n",
       "      <td>2.0</td>\n",
       "      <td>1</td>\n",
       "    </tr>\n",
       "    <tr>\n",
       "      <th>Parallel</th>\n",
       "      <td>0.513400</td>\n",
       "      <td>4.0</td>\n",
       "      <td>0.012869</td>\n",
       "      <td>0.003217</td>\n",
       "      <td>4.0</td>\n",
       "      <td>1</td>\n",
       "    </tr>\n",
       "    <tr>\n",
       "      <th>Parallel</th>\n",
       "      <td>0.695732</td>\n",
       "      <td>8.0</td>\n",
       "      <td>0.009496</td>\n",
       "      <td>0.001187</td>\n",
       "      <td>8.0</td>\n",
       "      <td>1</td>\n",
       "    </tr>\n",
       "    <tr>\n",
       "      <th>Parallel</th>\n",
       "      <td>1.072743</td>\n",
       "      <td>16.0</td>\n",
       "      <td>0.006159</td>\n",
       "      <td>0.000385</td>\n",
       "      <td>16.0</td>\n",
       "      <td>1</td>\n",
       "    </tr>\n",
       "    <tr>\n",
       "      <th>Parallel</th>\n",
       "      <td>1.849156</td>\n",
       "      <td>32.0</td>\n",
       "      <td>0.003573</td>\n",
       "      <td>0.000112</td>\n",
       "      <td>32.0</td>\n",
       "      <td>1</td>\n",
       "    </tr>\n",
       "    <tr>\n",
       "      <th>Parallel</th>\n",
       "      <td>3.414265</td>\n",
       "      <td>64.0</td>\n",
       "      <td>0.001935</td>\n",
       "      <td>0.000030</td>\n",
       "      <td>64.0</td>\n",
       "      <td>1</td>\n",
       "    </tr>\n",
       "  </tbody>\n",
       "</table>\n",
       "</div>"
      ],
      "text/plain": [
       "              Time  Processors  Speed-Up  Efficiency  Theoretical Speed-Up  \\\n",
       "Serial    0.006607         1.0  1.000000    1.000000                   1.0   \n",
       "Parallel  0.468722         1.0  0.014095    0.014095                   1.0   \n",
       "Parallel  0.463141         2.0  0.014265    0.007133                   2.0   \n",
       "Parallel  0.513400         4.0  0.012869    0.003217                   4.0   \n",
       "Parallel  0.695732         8.0  0.009496    0.001187                   8.0   \n",
       "Parallel  1.072743        16.0  0.006159    0.000385                  16.0   \n",
       "Parallel  1.849156        32.0  0.003573    0.000112                  32.0   \n",
       "Parallel  3.414265        64.0  0.001935    0.000030                  64.0   \n",
       "\n",
       "          Theoretical Efficiency  \n",
       "Serial                         1  \n",
       "Parallel                       1  \n",
       "Parallel                       1  \n",
       "Parallel                       1  \n",
       "Parallel                       1  \n",
       "Parallel                       1  \n",
       "Parallel                       1  \n",
       "Parallel                       1  "
      ]
     },
     "execution_count": 72,
     "metadata": {},
     "output_type": "execute_result"
    }
   ],
   "source": [
    "mean_data"
   ]
  },
  {
   "cell_type": "code",
   "execution_count": 73,
   "metadata": {
    "collapsed": false
   },
   "outputs": [
    {
     "data": {
      "image/png": "[encoded data removed]",
      "text/plain": [
       "<matplotlib.figure.Figure at 0x7f26d0003fd0>"
      ]
     },
     "metadata": {},
     "output_type": "display_data"
    }
   ],
   "source": [
    "parallel_data = mean_data.loc['Parallel'][['Processors','Speed-Up','Theoretical Speed-Up']]\n",
    "plt = parallel_data.plot(x='Processors',style='.-', loglog=True)\n",
    "plt.set_title('Calculating the Mean',fontsize=18);\n",
    "plt.set_xlabel('Processes',fontsize=16);\n",
    "plt.set_ylabel('Speed-Up',fontsize=16);"
   ]
  },
  {
   "cell_type": "code",
   "execution_count": 87,
   "metadata": {
    "collapsed": false
   },
   "outputs": [
    {
     "data": {
      "image/png": "[encoded data removed]",
      "text/plain": [
       "<matplotlib.figure.Figure at 0x7f26d00031d0>"
      ]
     },
     "metadata": {},
     "output_type": "display_data"
    }
   ],
   "source": [
    "parallel_data = mean_data.loc['Parallel'][['Processors','Efficiency','Theoretical Efficiency']]\n",
    "plt = parallel_data.plot(x='Processors',style='.-', logx=True)\n",
    "plt.set_title(\"Calculating the Mean\",fontsize=18);\n",
    "plt.set_xlabel('Processes',fontsize=16);\n",
    "plt.set_ylabel('Efficiency',fontsize=16);\n",
    "plt.set_ylim(-0.1, 1.1);"
   ]
  },
  {
   "cell_type": "code",
   "execution_count": 75,
   "metadata": {
    "collapsed": false
   },
   "outputs": [
    {
     "name": "stdout",
     "output_type": "stream",
     "text": [
      "1 loop, best of 3: 207 ms per loop\n"
     ]
    }
   ],
   "source": [
    "my_time = %timeit -o w = serial_sd(lst)\n",
    "sd_data = sd_data.append(stats_from_timeit(my_time, 1, 'Serial'))\n",
    "T0 = my_time.best"
   ]
  },
  {
   "cell_type": "code",
   "execution_count": 76,
   "metadata": {
    "collapsed": false
   },
   "outputs": [
    {
     "name": "stdout",
     "output_type": "stream",
     "text": [
      "1 loop, best of 3: 1.13 s per loop\n",
      "1 loop, best of 3: 1.01 s per loop\n",
      "1 loop, best of 3: 1.07 s per loop\n",
      "1 loop, best of 3: 1.42 s per loop\n",
      "1 loop, best of 3: 2.15 s per loop\n",
      "1 loop, best of 3: 3.78 s per loop\n",
      "1 loop, best of 3: 6.83 s per loop\n"
     ]
    }
   ],
   "source": [
    "process_counts = range(0, int(np.log(mp.cpu_count())/np.log(2))+3)\n",
    "process_counts = [2**p for p in process_counts]\n",
    "\n",
    "for p in process_counts:\n",
    "    my_time = %timeit -o w = parallel_sd(lst,p)\n",
    "    sd_data = sd_data.append(stats_from_timeit(my_time, p, 'Parallel'))"
   ]
  },
  {
   "cell_type": "code",
   "execution_count": 79,
   "metadata": {
    "collapsed": false
   },
   "outputs": [
    {
     "data": {
      "text/html": [
       "<div>\n",
       "<style scoped>\n",
       "    .dataframe tbody tr th:only-of-type {\n",
       "        vertical-align: middle;\n",
       "    }\n",
       "\n",
       "    .dataframe tbody tr th {\n",
       "        vertical-align: top;\n",
       "    }\n",
       "\n",
       "    .dataframe thead th {\n",
       "        text-align: right;\n",
       "    }\n",
       "</style>\n",
       "<table border=\"1\" class=\"dataframe\">\n",
       "  <thead>\n",
       "    <tr style=\"text-align: right;\">\n",
       "      <th></th>\n",
       "      <th>Time</th>\n",
       "      <th>Processors</th>\n",
       "      <th>Speed-Up</th>\n",
       "      <th>Efficiency</th>\n",
       "      <th>Theoretical Speed-Up</th>\n",
       "      <th>Theoretical Efficiency</th>\n",
       "    </tr>\n",
       "  </thead>\n",
       "  <tbody>\n",
       "    <tr>\n",
       "      <th>Serial</th>\n",
       "      <td>0.206555</td>\n",
       "      <td>1.0</td>\n",
       "      <td>1.000000</td>\n",
       "      <td>1.000000</td>\n",
       "      <td>1.0</td>\n",
       "      <td>1</td>\n",
       "    </tr>\n",
       "    <tr>\n",
       "      <th>Parallel</th>\n",
       "      <td>1.130122</td>\n",
       "      <td>1.0</td>\n",
       "      <td>0.182773</td>\n",
       "      <td>0.182773</td>\n",
       "      <td>1.0</td>\n",
       "      <td>1</td>\n",
       "    </tr>\n",
       "    <tr>\n",
       "      <th>Parallel</th>\n",
       "      <td>1.005594</td>\n",
       "      <td>2.0</td>\n",
       "      <td>0.205406</td>\n",
       "      <td>0.102703</td>\n",
       "      <td>2.0</td>\n",
       "      <td>1</td>\n",
       "    </tr>\n",
       "    <tr>\n",
       "      <th>Parallel</th>\n",
       "      <td>1.074091</td>\n",
       "      <td>4.0</td>\n",
       "      <td>0.192307</td>\n",
       "      <td>0.048077</td>\n",
       "      <td>4.0</td>\n",
       "      <td>1</td>\n",
       "    </tr>\n",
       "    <tr>\n",
       "      <th>Parallel</th>\n",
       "      <td>1.416384</td>\n",
       "      <td>8.0</td>\n",
       "      <td>0.145833</td>\n",
       "      <td>0.018229</td>\n",
       "      <td>8.0</td>\n",
       "      <td>1</td>\n",
       "    </tr>\n",
       "    <tr>\n",
       "      <th>Parallel</th>\n",
       "      <td>2.149617</td>\n",
       "      <td>16.0</td>\n",
       "      <td>0.096089</td>\n",
       "      <td>0.006006</td>\n",
       "      <td>16.0</td>\n",
       "      <td>1</td>\n",
       "    </tr>\n",
       "    <tr>\n",
       "      <th>Parallel</th>\n",
       "      <td>3.778874</td>\n",
       "      <td>32.0</td>\n",
       "      <td>0.054661</td>\n",
       "      <td>0.001708</td>\n",
       "      <td>32.0</td>\n",
       "      <td>1</td>\n",
       "    </tr>\n",
       "    <tr>\n",
       "      <th>Parallel</th>\n",
       "      <td>6.833995</td>\n",
       "      <td>64.0</td>\n",
       "      <td>0.030225</td>\n",
       "      <td>0.000472</td>\n",
       "      <td>64.0</td>\n",
       "      <td>1</td>\n",
       "    </tr>\n",
       "  </tbody>\n",
       "</table>\n",
       "</div>"
      ],
      "text/plain": [
       "              Time  Processors  Speed-Up  Efficiency  Theoretical Speed-Up  \\\n",
       "Serial    0.206555         1.0  1.000000    1.000000                   1.0   \n",
       "Parallel  1.130122         1.0  0.182773    0.182773                   1.0   \n",
       "Parallel  1.005594         2.0  0.205406    0.102703                   2.0   \n",
       "Parallel  1.074091         4.0  0.192307    0.048077                   4.0   \n",
       "Parallel  1.416384         8.0  0.145833    0.018229                   8.0   \n",
       "Parallel  2.149617        16.0  0.096089    0.006006                  16.0   \n",
       "Parallel  3.778874        32.0  0.054661    0.001708                  32.0   \n",
       "Parallel  6.833995        64.0  0.030225    0.000472                  64.0   \n",
       "\n",
       "          Theoretical Efficiency  \n",
       "Serial                         1  \n",
       "Parallel                       1  \n",
       "Parallel                       1  \n",
       "Parallel                       1  \n",
       "Parallel                       1  \n",
       "Parallel                       1  \n",
       "Parallel                       1  \n",
       "Parallel                       1  "
      ]
     },
     "execution_count": 79,
     "metadata": {},
     "output_type": "execute_result"
    }
   ],
   "source": [
    "sd_data['Speed-Up'] = T0/sd_data['Time']\n",
    "sd_data['Efficiency'] = sd_data['Speed-Up']/sd_data['Processors']\n",
    "sd_data['Theoretical Speed-Up'] = sd_data['Processors']\n",
    "sd_data['Theoretical Efficiency'] = 1\n",
    "sd_data"
   ]
  },
  {
   "cell_type": "code",
   "execution_count": 80,
   "metadata": {
    "collapsed": false
   },
   "outputs": [
    {
     "data": {
      "image/png": "[encoded data removed]",
      "text/plain": [
       "<matplotlib.figure.Figure at 0x7f26ce7eee10>"
      ]
     },
     "metadata": {},
     "output_type": "display_data"
    }
   ],
   "source": [
    "parallel_data = sd_data.loc['Parallel'][['Processors','Speed-Up','Theoretical Speed-Up']]\n",
    "plt = parallel_data.plot(x='Processors',style='.-', loglog=True)\n",
    "plt.set_title('Calculating the Standard Deviation',fontsize=18);\n",
    "plt.set_xlabel('Processes',fontsize=16);\n",
    "plt.set_ylabel('Speed-Up',fontsize=16);"
   ]
  },
  {
   "cell_type": "code",
   "execution_count": 86,
   "metadata": {
    "collapsed": false
   },
   "outputs": [
    {
     "data": {
      "image/png": "[encoded data removed]",
      "text/plain": [
       "<matplotlib.figure.Figure at 0x7f26f0132588>"
      ]
     },
     "metadata": {},
     "output_type": "display_data"
    }
   ],
   "source": [
    "parallel_data = sd_data.loc['Parallel'][['Processors','Efficiency','Theoretical Efficiency']]\n",
    "plt = parallel_data.plot(x='Processors',style='.-', logx=True)\n",
    "plt.set_title(\"Calculating the Standard Deviation\",fontsize=18);\n",
    "plt.set_xlabel('Processes',fontsize=16);\n",
    "plt.set_ylabel('Efficiency',fontsize=16);\n",
    "plt.set_ylim(-0.1, 1.1);"
   ]
  },
  {
   "cell_type": "markdown",
   "metadata": {},
   "source": [
    "# Analysis"
   ]
  },
  {
   "cell_type": "markdown",
   "metadata": {},
   "source": [
    "These parallelized algorithms are horrible!!!\n",
    "\n",
    "They are so much slower than performing the calculation in serial. The more processes are allocated, the longer it takes - the exact opposite expected when parallelizing computations. While these processes were running, I was watching the cpu load per core using $\\textbf{top}$ - a linux program for monitoring system processes. Regardless of the size of the list, there would be long periods where only one core was being used followed by short bursts where more cores were used. It appears that these implementations spend much more time dividing up the list than they do actually calculating the values. \n",
    "\n",
    "We can test this by pre-splitting the list."
   ]
  },
  {
   "cell_type": "code",
   "execution_count": 51,
   "metadata": {
    "collapsed": false
   },
   "outputs": [],
   "source": [
    "def proc_sum_divided(i, lst,ret_list):\n",
    "    ret_list[i] = sum(lst)\n",
    "    return \n",
    "\n",
    "def parallel_mean_divided(lists):\n",
    "    manager = mp.Manager()\n",
    "    ret_list = manager.list([0]*len(lists))\n",
    "    jobs = [mp.Process(target=proc_sum_divided, args=(i, lst, ret_list) ) for i, lst in enumerate(lists)]\n",
    "    for job in jobs: job.start()\n",
    "    for job in jobs: job.join()\n",
    "    return sum(ret_list)/sum([len(lst) for lst in lists])"
   ]
  },
  {
   "cell_type": "code",
   "execution_count": 52,
   "metadata": {
    "collapsed": true
   },
   "outputs": [],
   "source": [
    "N = 2 * 10**8\n",
    "lst = [random() for i in range(N)]\n",
    "\n",
    "columns = ['Time', 'Processors', 'Speed-Up', 'Efficiency', 'Theoretical Speed-Up', 'Theoretical Efficiency']\n",
    "divided_data = pd.DataFrame(columns=columns)"
   ]
  },
  {
   "cell_type": "code",
   "execution_count": 53,
   "metadata": {
    "collapsed": false
   },
   "outputs": [
    {
     "name": "stdout",
     "output_type": "stream",
     "text": [
      "1 loop, best of 3: 1.35 s per loop\n"
     ]
    }
   ],
   "source": [
    "my_time = %timeit -o w = serial_mean(lst)\n",
    "divided_data = divided_data.append(stats_from_timeit(my_time, 1, 'Serial'))\n",
    "T0 = my_time.best"
   ]
  },
  {
   "cell_type": "code",
   "execution_count": 54,
   "metadata": {
    "collapsed": false
   },
   "outputs": [
    {
     "name": "stdout",
     "output_type": "stream",
     "text": [
      "1 loop, best of 3: 5.13 s per loop\n",
      "1 loop, best of 3: 2.84 s per loop\n",
      "1 loop, best of 3: 1.81 s per loop\n",
      "1 loop, best of 3: 1.58 s per loop\n",
      "1 loop, best of 3: 1.93 s per loop\n",
      "1 loop, best of 3: 3.07 s per loop\n",
      "1 loop, best of 3: 5.68 s per loop\n"
     ]
    }
   ],
   "source": [
    "process_counts = range(0, int(np.log(mp.cpu_count())/np.log(2))+3)\n",
    "process_counts = [2**p for p in process_counts]\n",
    "\n",
    "for p in process_counts:\n",
    "    l = len(lst)\n",
    "    size = l//p + 1\n",
    "    lists = [lst[i*size:(i+1)*size] for i in range(p)]\n",
    "    my_time = %timeit -o w = parallel_mean_divided(lists)\n",
    "    divided_data = divided_data.append(stats_from_timeit(my_time, p, 'Parallel'))"
   ]
  },
  {
   "cell_type": "code",
   "execution_count": 55,
   "metadata": {
    "collapsed": false
   },
   "outputs": [
    {
     "data": {
      "text/html": [
       "<div>\n",
       "<style scoped>\n",
       "    .dataframe tbody tr th:only-of-type {\n",
       "        vertical-align: middle;\n",
       "    }\n",
       "\n",
       "    .dataframe tbody tr th {\n",
       "        vertical-align: top;\n",
       "    }\n",
       "\n",
       "    .dataframe thead th {\n",
       "        text-align: right;\n",
       "    }\n",
       "</style>\n",
       "<table border=\"1\" class=\"dataframe\">\n",
       "  <thead>\n",
       "    <tr style=\"text-align: right;\">\n",
       "      <th></th>\n",
       "      <th>Time</th>\n",
       "      <th>Processors</th>\n",
       "      <th>Speed-Up</th>\n",
       "      <th>Efficiency</th>\n",
       "      <th>Theoretical Speed-Up</th>\n",
       "      <th>Theoretical Efficiency</th>\n",
       "    </tr>\n",
       "  </thead>\n",
       "  <tbody>\n",
       "    <tr>\n",
       "      <th>Serial</th>\n",
       "      <td>1.352432</td>\n",
       "      <td>1.0</td>\n",
       "      <td>1.000000</td>\n",
       "      <td>1.000000</td>\n",
       "      <td>1.0</td>\n",
       "      <td>1</td>\n",
       "    </tr>\n",
       "    <tr>\n",
       "      <th>Parallel</th>\n",
       "      <td>5.130235</td>\n",
       "      <td>1.0</td>\n",
       "      <td>0.263620</td>\n",
       "      <td>0.263620</td>\n",
       "      <td>1.0</td>\n",
       "      <td>1</td>\n",
       "    </tr>\n",
       "    <tr>\n",
       "      <th>Parallel</th>\n",
       "      <td>2.843898</td>\n",
       "      <td>2.0</td>\n",
       "      <td>0.475556</td>\n",
       "      <td>0.237778</td>\n",
       "      <td>2.0</td>\n",
       "      <td>1</td>\n",
       "    </tr>\n",
       "    <tr>\n",
       "      <th>Parallel</th>\n",
       "      <td>1.813617</td>\n",
       "      <td>4.0</td>\n",
       "      <td>0.745709</td>\n",
       "      <td>0.186427</td>\n",
       "      <td>4.0</td>\n",
       "      <td>1</td>\n",
       "    </tr>\n",
       "    <tr>\n",
       "      <th>Parallel</th>\n",
       "      <td>1.583323</td>\n",
       "      <td>8.0</td>\n",
       "      <td>0.854173</td>\n",
       "      <td>0.106772</td>\n",
       "      <td>8.0</td>\n",
       "      <td>1</td>\n",
       "    </tr>\n",
       "    <tr>\n",
       "      <th>Parallel</th>\n",
       "      <td>1.928213</td>\n",
       "      <td>16.0</td>\n",
       "      <td>0.701391</td>\n",
       "      <td>0.043837</td>\n",
       "      <td>16.0</td>\n",
       "      <td>1</td>\n",
       "    </tr>\n",
       "    <tr>\n",
       "      <th>Parallel</th>\n",
       "      <td>3.074654</td>\n",
       "      <td>32.0</td>\n",
       "      <td>0.439865</td>\n",
       "      <td>0.013746</td>\n",
       "      <td>32.0</td>\n",
       "      <td>1</td>\n",
       "    </tr>\n",
       "    <tr>\n",
       "      <th>Parallel</th>\n",
       "      <td>5.678622</td>\n",
       "      <td>64.0</td>\n",
       "      <td>0.238162</td>\n",
       "      <td>0.003721</td>\n",
       "      <td>64.0</td>\n",
       "      <td>1</td>\n",
       "    </tr>\n",
       "  </tbody>\n",
       "</table>\n",
       "</div>"
      ],
      "text/plain": [
       "              Time  Processors  Speed-Up  Efficiency  Theoretical Speed-Up  \\\n",
       "Serial    1.352432         1.0  1.000000    1.000000                   1.0   \n",
       "Parallel  5.130235         1.0  0.263620    0.263620                   1.0   \n",
       "Parallel  2.843898         2.0  0.475556    0.237778                   2.0   \n",
       "Parallel  1.813617         4.0  0.745709    0.186427                   4.0   \n",
       "Parallel  1.583323         8.0  0.854173    0.106772                   8.0   \n",
       "Parallel  1.928213        16.0  0.701391    0.043837                  16.0   \n",
       "Parallel  3.074654        32.0  0.439865    0.013746                  32.0   \n",
       "Parallel  5.678622        64.0  0.238162    0.003721                  64.0   \n",
       "\n",
       "          Theoretical Efficiency  \n",
       "Serial                         1  \n",
       "Parallel                       1  \n",
       "Parallel                       1  \n",
       "Parallel                       1  \n",
       "Parallel                       1  \n",
       "Parallel                       1  \n",
       "Parallel                       1  \n",
       "Parallel                       1  "
      ]
     },
     "execution_count": 55,
     "metadata": {},
     "output_type": "execute_result"
    }
   ],
   "source": [
    "divided_data['Speed-Up'] = T0/divided_data['Time']\n",
    "divided_data['Efficiency'] = divided_data['Speed-Up']/divided_data['Processors']\n",
    "divided_data['Theoretical Speed-Up'] = divided_data['Processors']\n",
    "divided_data['Theoretical Efficiency'] = 1\n",
    "divided_data"
   ]
  },
  {
   "cell_type": "code",
   "execution_count": 56,
   "metadata": {
    "collapsed": false
   },
   "outputs": [
    {
     "data": {
      "image/png": "[encoded data removed]",
      "text/plain": [
       "<matplotlib.figure.Figure at 0x7effc4aa14a8>"
      ]
     },
     "metadata": {},
     "output_type": "display_data"
    }
   ],
   "source": [
    "parallel_data = divided_data.loc['Parallel'][['Processors','Speed-Up','Theoretical Speed-Up']]\n",
    "plt = parallel_data.plot(x='Processors',style='.-', loglog=True)\n",
    "plt.set_title('Pre-chunking the list',fontsize=18);\n",
    "plt.set_xlabel('Processes',fontsize=16);\n",
    "plt.set_ylabel('Speed-Up',fontsize=16);"
   ]
  },
  {
   "cell_type": "code",
   "execution_count": 57,
   "metadata": {
    "collapsed": false
   },
   "outputs": [
    {
     "data": {
      "image/png": "[encoded data removed]",
      "text/plain": [
       "<matplotlib.figure.Figure at 0x7effb8162c88>"
      ]
     },
     "metadata": {},
     "output_type": "display_data"
    }
   ],
   "source": [
    "parallel_data = divided_data.loc['Parallel'][['Processors','Efficiency','Theoretical Efficiency']]\n",
    "plt = parallel_data.plot(x='Processors',style='.-', logx=True)\n",
    "plt.set_title(\"Pre-chunking the list\",fontsize=18);\n",
    "plt.set_xlabel('Processes',fontsize=16);\n",
    "plt.set_ylabel('Efficiency',fontsize=16);\n",
    "plt.set_ylim(-0.1, 1.1);"
   ]
  },
  {
   "cell_type": "markdown",
   "metadata": {},
   "source": [
    "These results weekly support the hypothesis in that they do show much more improvement as the number of cores goes up, but they are still laughably slower than the simple way of performing the calculations in serial. "
   ]
  },
  {
   "cell_type": "markdown",
   "metadata": {},
   "source": [
    "# Calculating the Median"
   ]
  },
  {
   "cell_type": "code",
   "execution_count": 85,
   "metadata": {
    "collapsed": true
   },
   "outputs": [],
   "source": [
    "N = 10**5\n",
    "lst = [random() for i in range(N)]"
   ]
  },
  {
   "cell_type": "code",
   "execution_count": 86,
   "metadata": {
    "collapsed": true
   },
   "outputs": [],
   "source": [
    "def median_serial_sort(lst):\n",
    "    return sorted(lst)[N//2]"
   ]
  },
  {
   "cell_type": "code",
   "execution_count": 87,
   "metadata": {
    "collapsed": false
   },
   "outputs": [
    {
     "name": "stdout",
     "output_type": "stream",
     "text": [
      "0.49902855648716693\n"
     ]
    }
   ],
   "source": [
    "print(median_serial_sort(lst))"
   ]
  },
  {
   "cell_type": "code",
   "execution_count": null,
   "metadata": {
    "collapsed": false
   },
   "outputs": [],
   "source": []
  },
  {
   "cell_type": "code",
   "execution_count": null,
   "metadata": {
    "collapsed": true
   },
   "outputs": [],
   "source": []
  }
 ],
 "metadata": {
  "kernelspec": {
   "display_name": "Python 3",
   "language": "python",
   "name": "python3"
  },
  "language_info": {
   "codemirror_mode": {
    "name": "ipython",
    "version": 3
   },
   "file_extension": ".py",
   "mimetype": "text/x-python",
   "name": "python",
   "nbconvert_exporter": "python",
   "pygments_lexer": "ipython3",
   "version": "3.5.4"
  }
 },
 "nbformat": 4,
 "nbformat_minor": 2
}
