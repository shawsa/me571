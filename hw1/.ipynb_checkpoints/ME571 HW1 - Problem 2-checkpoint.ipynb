{
 "cells": [
  {
   "cell_type": "code",
   "execution_count": null,
   "metadata": {},
   "outputs": [],
   "source": [
    "import numpy as np\n",
    "from random import random\n",
    "import multiprocessing as mp\n",
    "from itertools import repeat\n",
    "\n",
    "N = 10**6\n",
    "\n",
    "lst = [random() for i in range(N)]"
   ]
  },
  {
   "cell_type": "code",
   "execution_count": null,
   "metadata": {},
   "outputs": [],
   "source": [
    "num_arr = np.random.randn(N)"
   ]
  },
  {
   "cell_type": "code",
   "execution_count": null,
   "metadata": {},
   "outputs": [],
   "source": [
    "%%timeit\n",
    "np.sum(num_arr)"
   ]
  },
  {
   "cell_type": "markdown",
   "metadata": {},
   "source": [
    "## In Serial"
   ]
  },
  {
   "cell_type": "code",
   "execution_count": null,
   "metadata": {},
   "outputs": [],
   "source": [
    "def serial_mean(lst):\n",
    "    return sum(lst)/len(lst)\n",
    "def serial_sd(lst, u=None):\n",
    "    if u==None:\n",
    "        u = serial_mean(lst)\n",
    "    return sum([(x-u)**2 for x in lst])/(len(lst) - 1)"
   ]
  },
  {
   "cell_type": "code",
   "execution_count": null,
   "metadata": {},
   "outputs": [],
   "source": [
    "%%timeit\n",
    "serial_mean(lst)"
   ]
  },
  {
   "cell_type": "code",
   "execution_count": null,
   "metadata": {},
   "outputs": [],
   "source": [
    "u_serial = serial_mean(lst)\n",
    "sd_serial = serial_sd(lst, u_serial)"
   ]
  },
  {
   "cell_type": "markdown",
   "metadata": {},
   "source": [
    "## In Serial with C-like loops"
   ]
  },
  {
   "cell_type": "code",
   "execution_count": null,
   "metadata": {},
   "outputs": [],
   "source": [
    "%%timeit\n",
    "my_sum = 0\n",
    "for n in lst:\n",
    "    my_sum+=n\n",
    "u_serial = my_sum/len(lst)"
   ]
  },
  {
   "cell_type": "markdown",
   "metadata": {},
   "source": [
    "## In Parallel"
   ]
  },
  {
   "cell_type": "code",
   "execution_count": null,
   "metadata": {},
   "outputs": [],
   "source": [
    "def parallel_mean(lst, p):\n",
    "    pool = mp.Pool(processes = p)\n",
    "    l = len(lst)\n",
    "    size = l//p + 1\n",
    "    my_lst = [lst[i:i + size] for i in range(0, l, size)]\n",
    "    my_lst = pool.map(sum, my_lst)\n",
    "    pool.close()\n",
    "    pool.join()\n",
    "    return sum(my_lst)/len(lst)\n",
    "    "
   ]
  },
  {
   "cell_type": "code",
   "execution_count": null,
   "metadata": {},
   "outputs": [],
   "source": [
    "%%timeit\n",
    "parallel_mean(lst,1) - u_serial"
   ]
  },
  {
   "cell_type": "code",
   "execution_count": null,
   "metadata": {},
   "outputs": [],
   "source": [
    "%%timeit\n",
    "parallel_mean(lst,4) - u_serial"
   ]
  },
  {
   "cell_type": "code",
   "execution_count": null,
   "metadata": {},
   "outputs": [],
   "source": [
    "def proc_sum2(args):\n",
    "    lst, i, size = args[0], args[1], args[2]\n",
    "    return sum(lst[i*size:(i+1)*size])\n",
    "\n",
    "def parallel_mean2(lst,p):\n",
    "    manager = mp.Manager()\n",
    "    shared_list = manager.list(lst)\n",
    "    pool = mp.Pool(processes = p)\n",
    "    l = len(lst)\n",
    "    size = l//p + 1\n",
    "    sums = pool.map(proc_sum2, [(shared_list, i,size) for i in range(p)])\n",
    "    pool.close()\n",
    "    pool.join()\n",
    "    return sum(sums)/l\n",
    "    \n",
    "    "
   ]
  },
  {
   "cell_type": "code",
   "execution_count": null,
   "metadata": {},
   "outputs": [],
   "source": [
    "%%timeit\n",
    "parallel_mean2(lst,1) - u_serial"
   ]
  },
  {
   "cell_type": "code",
   "execution_count": null,
   "metadata": {},
   "outputs": [],
   "source": [
    "%%timeit\n",
    "parallel_mean2(lst,4) - u_serial"
   ]
  },
  {
   "cell_type": "code",
   "execution_count": null,
   "metadata": {},
   "outputs": [],
   "source": [
    "def proc_sum3(args):\n",
    "    lst, i, size = args[0], args[1], args[2]\n",
    "    my_sum = 0\n",
    "    for num in lst[i*size:(i+1)*size]:\n",
    "        my_sum+= num\n",
    "    return sum(lst[i*size:(i+1)*size])\n",
    "\n",
    "def parallel_mean3(lst,p):\n",
    "    manager = mp.Manager()\n",
    "    shared_list = manager.list(lst)\n",
    "    pool = mp.Pool(processes = p)\n",
    "    l = len(lst)\n",
    "    size = l//p + 1\n",
    "    sums = pool.map(proc_sum3, [(shared_list, i,size) for i in range(p)])\n",
    "    pool.close()\n",
    "    pool.join()\n",
    "    return sum(sums)/l"
   ]
  },
  {
   "cell_type": "code",
   "execution_count": null,
   "metadata": {},
   "outputs": [],
   "source": [
    "%%timeit\n",
    "parallel_mean3(lst,1) - u_serial"
   ]
  },
  {
   "cell_type": "code",
   "execution_count": null,
   "metadata": {},
   "outputs": [],
   "source": [
    "%%timeit\n",
    "parallel_mean3(lst,4) - u_serial"
   ]
  },
  {
   "cell_type": "code",
   "execution_count": null,
   "metadata": {},
   "outputs": [],
   "source": [
    "def proc_sum4(i, size, lst, ret_list):\n",
    "    #lst, i, size = args[0], args[1], args[2]\n",
    "    my_sum = 0\n",
    "    for num in lst[i*size:(i+1)*size]:\n",
    "        my_sum+= num\n",
    "    ret_list[i] = sum(lst[i*size:(i+1)*size])\n",
    "    return \n",
    "\n",
    "def parallel_mean4(lst,p):\n",
    "    manager = mp.Manager()\n",
    "    shared_list = manager.list(lst)\n",
    "    ret_list = manager.list([0]*p)\n",
    "    #pool = mp.Pool(processes = p)\n",
    "    l = len(lst)\n",
    "    size = l//p + 1\n",
    "    jobs = [mp.Process(target=proc_sum4, args=(i, size, shared_list, ret_list)) for i in range(p)]\n",
    "    #sums = pool.map(proc_sum, [(shared_list, i,size) for i in range(p)])\n",
    "    for job in jobs: job.start()\n",
    "    for job in jobs: job.join()\n",
    "    return sum(ret_list)/l"
   ]
  },
  {
   "cell_type": "code",
   "execution_count": null,
   "metadata": {},
   "outputs": [],
   "source": [
    "%%timeit\n",
    "parallel_mean4(lst,1) - u_serial"
   ]
  },
  {
   "cell_type": "code",
   "execution_count": null,
   "metadata": {},
   "outputs": [],
   "source": [
    "%%timeit\n",
    "parallel_mean4(lst,4) - u_serial"
   ]
  },
  {
   "cell_type": "code",
   "execution_count": null,
   "metadata": {},
   "outputs": [],
   "source": [
    "def proc_sum3(args):\n",
    "    lst, i, size = args[0], args[1], args[2]\n",
    "    my_sum = 0\n",
    "    for num in lst[i*size:(i+1)*size]:\n",
    "        my_sum+= num\n",
    "    return sum(lst[i*size:(i+1)*size])\n",
    "\n",
    "def parallel_mean3(lst,p):\n",
    "    manager = mp.Manager()\n",
    "    shared_list = manager.Array('f',lst)\n",
    "    pool = mp.Pool(processes = p)\n",
    "    l = len(lst)\n",
    "    size = l//p + 1\n",
    "    sums = pool.map(proc_sum3, [(shared_list, i,size) for i in range(p)])\n",
    "    pool.close()\n",
    "    pool.join()\n",
    "    return sum(sums)/l"
   ]
  },
  {
   "cell_type": "code",
   "execution_count": null,
   "metadata": {},
   "outputs": [],
   "source": [
    "%%timeit\n",
    "parallel_mean5(lst,1) - u_serial"
   ]
  },
  {
   "cell_type": "code",
   "execution_count": null,
   "metadata": {},
   "outputs": [],
   "source": []
  },
  {
   "cell_type": "code",
   "execution_count": null,
   "metadata": {},
   "outputs": [],
   "source": []
  },
  {
   "cell_type": "code",
   "execution_count": null,
   "metadata": {},
   "outputs": [],
   "source": []
  }
 ],
 "metadata": {
  "kernelspec": {
   "display_name": "Python 3",
   "language": "python",
   "name": "python3"
  },
  "language_info": {
   "codemirror_mode": {
    "name": "ipython",
    "version": 3
   },
   "file_extension": ".py",
   "mimetype": "text/x-python",
   "name": "python",
   "nbconvert_exporter": "python",
   "pygments_lexer": "ipython3",
   "version": "3.5.2"
  }
 },
 "nbformat": 4,
 "nbformat_minor": 2
}
