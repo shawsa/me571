{
 "cells": [
  {
   "cell_type": "markdown",
   "metadata": {},
   "source": [
    "# Sage Shaw\n",
    "\n",
    "### ME 571 - Spring 2018\n",
    "\n",
    "# HW 1 - Problem 1"
   ]
  },
  {
   "cell_type": "code",
   "execution_count": 240,
   "metadata": {},
   "outputs": [],
   "source": [
    "import numpy as np\n",
    "import pandas as pd\n",
    "import matplotlib.pyplot as plt\n",
    "from math import sin\n",
    "from array import array"
   ]
  },
  {
   "cell_type": "code",
   "execution_count": 241,
   "metadata": {},
   "outputs": [],
   "source": [
    "N = 10**6\n",
    "v = range(N)"
   ]
  },
  {
   "cell_type": "code",
   "execution_count": 242,
   "metadata": {},
   "outputs": [],
   "source": [
    "columns = ['Addition', 'Multiplication', 'Sine']\n",
    "index = ['Python list loop',\n",
    "         'Python list map',\n",
    "         'Python list comprehension', \n",
    "         'Python array loop',\n",
    "         'Python array map',\n",
    "         'Python array comprehension',\n",
    "         'Numpy loop',\n",
    "         'Numpy vectors',\n",
    "         'Matlab']\n",
    "time_results = pd.DataFrame(columns=columns, index=index)"
   ]
  },
  {
   "cell_type": "code",
   "execution_count": 243,
   "metadata": {},
   "outputs": [
    {
     "name": "stdout",
     "output_type": "stream",
     "text": [
      "111 ms ± 1.09 ms per loop (mean ± std. dev. of 7 runs, 1 loop each)\n"
     ]
    },
    {
     "data": {
      "text/plain": [
       "<TimeitResult : 111 ms ± 1.09 ms per loop (mean ± std. dev. of 7 runs, 1 loop each)>"
      ]
     },
     "execution_count": 243,
     "metadata": {},
     "output_type": "execute_result"
    }
   ],
   "source": [
    "%%timeit -o -n 1\n",
    "#Python list loop - Addition\n",
    "w = []\n",
    "for val in v:\n",
    "    w.append(val+val)"
   ]
  },
  {
   "cell_type": "code",
   "execution_count": 244,
   "metadata": {},
   "outputs": [],
   "source": [
    "time_results.loc['Python list loop']['Addition'] = _.average"
   ]
  },
  {
   "cell_type": "code",
   "execution_count": 245,
   "metadata": {},
   "outputs": [
    {
     "name": "stdout",
     "output_type": "stream",
     "text": [
      "118 ms ± 449 µs per loop (mean ± std. dev. of 7 runs, 1 loop each)\n"
     ]
    },
    {
     "data": {
      "text/plain": [
       "<TimeitResult : 118 ms ± 449 µs per loop (mean ± std. dev. of 7 runs, 1 loop each)>"
      ]
     },
     "execution_count": 245,
     "metadata": {},
     "output_type": "execute_result"
    }
   ],
   "source": [
    "%%timeit -o -n 1\n",
    "#Python list loop - Multiplication\n",
    "w = []\n",
    "for val in v:\n",
    "    w.append(val*val)"
   ]
  },
  {
   "cell_type": "code",
   "execution_count": 246,
   "metadata": {},
   "outputs": [],
   "source": [
    "time_results.loc['Python list loop']['Multiplication'] = _.average"
   ]
  },
  {
   "cell_type": "code",
   "execution_count": 247,
   "metadata": {},
   "outputs": [
    {
     "name": "stdout",
     "output_type": "stream",
     "text": [
      "244 ms ± 3.36 ms per loop (mean ± std. dev. of 7 runs, 1 loop each)\n"
     ]
    },
    {
     "data": {
      "text/plain": [
       "<TimeitResult : 244 ms ± 3.36 ms per loop (mean ± std. dev. of 7 runs, 1 loop each)>"
      ]
     },
     "execution_count": 247,
     "metadata": {},
     "output_type": "execute_result"
    }
   ],
   "source": [
    "%%timeit -o -n 1\n",
    "#Python list loop - Sine\n",
    "w = []\n",
    "for val in v:\n",
    "    w.append(sin(val))"
   ]
  },
  {
   "cell_type": "code",
   "execution_count": 248,
   "metadata": {},
   "outputs": [],
   "source": [
    "time_results.loc['Python list loop']['Sine'] = _.average"
   ]
  },
  {
   "cell_type": "code",
   "execution_count": 249,
   "metadata": {},
   "outputs": [],
   "source": [
    "def add(x,y):\n",
    "    return x+y\n",
    "def mult(x,y):\n",
    "    return x*y"
   ]
  },
  {
   "cell_type": "code",
   "execution_count": 250,
   "metadata": {},
   "outputs": [
    {
     "name": "stdout",
     "output_type": "stream",
     "text": [
      "152 ms ± 15 ms per loop (mean ± std. dev. of 7 runs, 1 loop each)\n"
     ]
    },
    {
     "data": {
      "text/plain": [
       "<TimeitResult : 152 ms ± 15 ms per loop (mean ± std. dev. of 7 runs, 1 loop each)>"
      ]
     },
     "execution_count": 250,
     "metadata": {},
     "output_type": "execute_result"
    }
   ],
   "source": [
    "%%timeit -o -n 1\n",
    "#Python list map - Addition\n",
    "w = list(map(add, v,v))"
   ]
  },
  {
   "cell_type": "code",
   "execution_count": 251,
   "metadata": {},
   "outputs": [],
   "source": [
    "time_results.loc['Python list map']['Addition'] = _.average"
   ]
  },
  {
   "cell_type": "code",
   "execution_count": null,
   "metadata": {},
   "outputs": [],
   "source": []
  },
  {
   "cell_type": "code",
   "execution_count": 252,
   "metadata": {},
   "outputs": [
    {
     "name": "stdout",
     "output_type": "stream",
     "text": [
      "155 ms ± 1.8 ms per loop (mean ± std. dev. of 7 runs, 1 loop each)\n"
     ]
    },
    {
     "data": {
      "text/plain": [
       "<TimeitResult : 155 ms ± 1.8 ms per loop (mean ± std. dev. of 7 runs, 1 loop each)>"
      ]
     },
     "execution_count": 252,
     "metadata": {},
     "output_type": "execute_result"
    }
   ],
   "source": [
    "%%timeit -o -n 1\n",
    "#Python list map - Multiplication\n",
    "w = list(map(mult, v,v))"
   ]
  },
  {
   "cell_type": "code",
   "execution_count": 253,
   "metadata": {},
   "outputs": [],
   "source": [
    "time_results.loc['Python list map']['Multiplication'] = _.average"
   ]
  },
  {
   "cell_type": "code",
   "execution_count": 254,
   "metadata": {},
   "outputs": [
    {
     "name": "stdout",
     "output_type": "stream",
     "text": [
      "177 ms ± 17.3 ms per loop (mean ± std. dev. of 7 runs, 1 loop each)\n"
     ]
    },
    {
     "data": {
      "text/plain": [
       "<TimeitResult : 177 ms ± 17.3 ms per loop (mean ± std. dev. of 7 runs, 1 loop each)>"
      ]
     },
     "execution_count": 254,
     "metadata": {},
     "output_type": "execute_result"
    }
   ],
   "source": [
    "%%timeit -o -n 1\n",
    "#Python list map - Sine\n",
    "w = list(map(sin, v))"
   ]
  },
  {
   "cell_type": "code",
   "execution_count": 255,
   "metadata": {},
   "outputs": [],
   "source": [
    "time_results.loc['Python list map']['Sine'] = _.average"
   ]
  },
  {
   "cell_type": "code",
   "execution_count": 256,
   "metadata": {},
   "outputs": [
    {
     "name": "stdout",
     "output_type": "stream",
     "text": [
      "65.3 ms ± 4.86 ms per loop (mean ± std. dev. of 7 runs, 1 loop each)\n"
     ]
    },
    {
     "data": {
      "text/plain": [
       "<TimeitResult : 65.3 ms ± 4.86 ms per loop (mean ± std. dev. of 7 runs, 1 loop each)>"
      ]
     },
     "execution_count": 256,
     "metadata": {},
     "output_type": "execute_result"
    }
   ],
   "source": [
    "%%timeit -o -n 1\n",
    "#Python list comprehension - Addition\n",
    "w = [x+x for x in v]"
   ]
  },
  {
   "cell_type": "code",
   "execution_count": 257,
   "metadata": {},
   "outputs": [],
   "source": [
    "time_results.loc['Python list comprehension']['Addition'] = _.average"
   ]
  },
  {
   "cell_type": "code",
   "execution_count": 258,
   "metadata": {},
   "outputs": [
    {
     "name": "stdout",
     "output_type": "stream",
     "text": [
      "66 ms ± 407 µs per loop (mean ± std. dev. of 7 runs, 1 loop each)\n"
     ]
    },
    {
     "data": {
      "text/plain": [
       "<TimeitResult : 66 ms ± 407 µs per loop (mean ± std. dev. of 7 runs, 1 loop each)>"
      ]
     },
     "execution_count": 258,
     "metadata": {},
     "output_type": "execute_result"
    }
   ],
   "source": [
    "%%timeit -o -n 1\n",
    "#Python list comprehension - Multiplication\n",
    "w = [x*x for x in v]"
   ]
  },
  {
   "cell_type": "code",
   "execution_count": 259,
   "metadata": {},
   "outputs": [],
   "source": [
    "time_results.loc['Python list comprehension']['Multiplication'] = _.average"
   ]
  },
  {
   "cell_type": "code",
   "execution_count": 260,
   "metadata": {},
   "outputs": [
    {
     "name": "stdout",
     "output_type": "stream",
     "text": [
      "177 ms ± 1.74 ms per loop (mean ± std. dev. of 7 runs, 1 loop each)\n"
     ]
    },
    {
     "data": {
      "text/plain": [
       "<TimeitResult : 177 ms ± 1.74 ms per loop (mean ± std. dev. of 7 runs, 1 loop each)>"
      ]
     },
     "execution_count": 260,
     "metadata": {},
     "output_type": "execute_result"
    }
   ],
   "source": [
    "%%timeit -o -n 1\n",
    "#Python list comprehension - Sine\n",
    "w = [sin(x) for x in v]"
   ]
  },
  {
   "cell_type": "code",
   "execution_count": 261,
   "metadata": {},
   "outputs": [],
   "source": [
    "time_results.loc['Python list comprehension']['Sine'] = _.average"
   ]
  },
  {
   "cell_type": "code",
   "execution_count": 262,
   "metadata": {},
   "outputs": [],
   "source": [
    "v_arr = array('f',v)\n",
    "w = array('f',[0]*N)"
   ]
  },
  {
   "cell_type": "code",
   "execution_count": 263,
   "metadata": {},
   "outputs": [
    {
     "name": "stdout",
     "output_type": "stream",
     "text": [
      "465 ms ± 2.93 ms per loop (mean ± std. dev. of 7 runs, 1 loop each)\n"
     ]
    },
    {
     "data": {
      "text/plain": [
       "<TimeitResult : 465 ms ± 2.93 ms per loop (mean ± std. dev. of 7 runs, 1 loop each)>"
      ]
     },
     "execution_count": 263,
     "metadata": {},
     "output_type": "execute_result"
    }
   ],
   "source": [
    "%%timeit -o -n 1\n",
    "#Python array loop - addition\n",
    "for i in range(N):\n",
    "    w[i] = v[i]+v[i]"
   ]
  },
  {
   "cell_type": "code",
   "execution_count": 264,
   "metadata": {},
   "outputs": [],
   "source": [
    "time_results.loc['Python array loop']['Addition'] = _.average"
   ]
  },
  {
   "cell_type": "code",
   "execution_count": 265,
   "metadata": {},
   "outputs": [
    {
     "name": "stdout",
     "output_type": "stream",
     "text": [
      "471 ms ± 18.4 ms per loop (mean ± std. dev. of 7 runs, 1 loop each)\n"
     ]
    },
    {
     "data": {
      "text/plain": [
       "<TimeitResult : 471 ms ± 18.4 ms per loop (mean ± std. dev. of 7 runs, 1 loop each)>"
      ]
     },
     "execution_count": 265,
     "metadata": {},
     "output_type": "execute_result"
    }
   ],
   "source": [
    "%%timeit -o -n 1\n",
    "#Python array loop - Multiplication\n",
    "for i in range(N):\n",
    "    w[i] = v[i]+v[i]"
   ]
  },
  {
   "cell_type": "code",
   "execution_count": 266,
   "metadata": {},
   "outputs": [],
   "source": [
    "time_results.loc['Python array loop']['Multiplication'] = _.average"
   ]
  },
  {
   "cell_type": "code",
   "execution_count": 267,
   "metadata": {},
   "outputs": [
    {
     "name": "stdout",
     "output_type": "stream",
     "text": [
      "425 ms ± 11 ms per loop (mean ± std. dev. of 7 runs, 1 loop each)\n"
     ]
    },
    {
     "data": {
      "text/plain": [
       "<TimeitResult : 425 ms ± 11 ms per loop (mean ± std. dev. of 7 runs, 1 loop each)>"
      ]
     },
     "execution_count": 267,
     "metadata": {},
     "output_type": "execute_result"
    }
   ],
   "source": [
    "%%timeit -o -n 1\n",
    "#Python array loop - Sine\n",
    "for i in range(N):\n",
    "    w[i] = sin(v[i])"
   ]
  },
  {
   "cell_type": "code",
   "execution_count": 268,
   "metadata": {},
   "outputs": [],
   "source": [
    "time_results.loc['Python array loop']['Sine'] = _.average"
   ]
  },
  {
   "cell_type": "code",
   "execution_count": 269,
   "metadata": {},
   "outputs": [
    {
     "name": "stdout",
     "output_type": "stream",
     "text": [
      "305 ms ± 17.9 ms per loop (mean ± std. dev. of 7 runs, 1 loop each)\n"
     ]
    },
    {
     "data": {
      "text/plain": [
       "<TimeitResult : 305 ms ± 17.9 ms per loop (mean ± std. dev. of 7 runs, 1 loop each)>"
      ]
     },
     "execution_count": 269,
     "metadata": {},
     "output_type": "execute_result"
    }
   ],
   "source": [
    "%%timeit -o -n 1\n",
    "#Python array map - Addition\n",
    "w = array('f',map(add, v,v))"
   ]
  },
  {
   "cell_type": "code",
   "execution_count": 270,
   "metadata": {},
   "outputs": [],
   "source": [
    "time_results.loc['Python array map']['Addition'] = _.average\n"
   ]
  },
  {
   "cell_type": "code",
   "execution_count": 271,
   "metadata": {},
   "outputs": [
    {
     "name": "stdout",
     "output_type": "stream",
     "text": [
      "303 ms ± 17.1 ms per loop (mean ± std. dev. of 7 runs, 1 loop each)\n"
     ]
    },
    {
     "data": {
      "text/plain": [
       "<TimeitResult : 303 ms ± 17.1 ms per loop (mean ± std. dev. of 7 runs, 1 loop each)>"
      ]
     },
     "execution_count": 271,
     "metadata": {},
     "output_type": "execute_result"
    }
   ],
   "source": [
    "%%timeit -o -n 1\n",
    "#Python array map - Multiplication\n",
    "w = array('f',map(mult, v,v))"
   ]
  },
  {
   "cell_type": "code",
   "execution_count": 272,
   "metadata": {},
   "outputs": [],
   "source": [
    "time_results.loc['Python array map']['Multiplication'] = _.average"
   ]
  },
  {
   "cell_type": "code",
   "execution_count": 273,
   "metadata": {},
   "outputs": [
    {
     "name": "stdout",
     "output_type": "stream",
     "text": [
      "234 ms ± 3.26 ms per loop (mean ± std. dev. of 7 runs, 1 loop each)\n"
     ]
    },
    {
     "data": {
      "text/plain": [
       "<TimeitResult : 234 ms ± 3.26 ms per loop (mean ± std. dev. of 7 runs, 1 loop each)>"
      ]
     },
     "execution_count": 273,
     "metadata": {},
     "output_type": "execute_result"
    }
   ],
   "source": [
    "%%timeit -o -n 1\n",
    "#Python array map - Sine\n",
    "w = array('f',map(sin,v))"
   ]
  },
  {
   "cell_type": "code",
   "execution_count": 274,
   "metadata": {},
   "outputs": [],
   "source": [
    "time_results.loc['Python array map']['Sine'] = _.average"
   ]
  },
  {
   "cell_type": "code",
   "execution_count": 275,
   "metadata": {},
   "outputs": [
    {
     "name": "stdout",
     "output_type": "stream",
     "text": [
      "70.9 ms ± 14.3 ms per loop (mean ± std. dev. of 7 runs, 1 loop each)\n"
     ]
    },
    {
     "data": {
      "text/plain": [
       "<TimeitResult : 70.9 ms ± 14.3 ms per loop (mean ± std. dev. of 7 runs, 1 loop each)>"
      ]
     },
     "execution_count": 275,
     "metadata": {},
     "output_type": "execute_result"
    }
   ],
   "source": [
    "%%timeit -o -n 1\n",
    "#Python array comprehension - Addition\n",
    "w = [val+val for val in v]"
   ]
  },
  {
   "cell_type": "code",
   "execution_count": 276,
   "metadata": {},
   "outputs": [
    {
     "data": {
      "text/plain": [
       "\"\\n         'Python array comprehension',\\n         'Numpy loop',\\n         'Numpy vectors']\\n\""
      ]
     },
     "execution_count": 276,
     "metadata": {},
     "output_type": "execute_result"
    }
   ],
   "source": [
    "time_results.loc['Python array comprehension']['Addition'] = _.average\n",
    "'''\n",
    "         'Python array comprehension',\n",
    "         'Numpy loop',\n",
    "         'Numpy vectors']\n",
    "'''"
   ]
  },
  {
   "cell_type": "code",
   "execution_count": 277,
   "metadata": {},
   "outputs": [
    {
     "name": "stdout",
     "output_type": "stream",
     "text": [
      "65.2 ms ± 1.36 ms per loop (mean ± std. dev. of 7 runs, 1 loop each)\n"
     ]
    },
    {
     "data": {
      "text/plain": [
       "<TimeitResult : 65.2 ms ± 1.36 ms per loop (mean ± std. dev. of 7 runs, 1 loop each)>"
      ]
     },
     "execution_count": 277,
     "metadata": {},
     "output_type": "execute_result"
    }
   ],
   "source": [
    "%%timeit -o -n 1\n",
    "#Python array comprehension - Multi;lication\n",
    "w = [val*val for val in v]"
   ]
  },
  {
   "cell_type": "code",
   "execution_count": 278,
   "metadata": {},
   "outputs": [],
   "source": [
    "time_results.loc['Python array comprehension']['Multiplication'] = _.average"
   ]
  },
  {
   "cell_type": "code",
   "execution_count": 279,
   "metadata": {},
   "outputs": [
    {
     "name": "stdout",
     "output_type": "stream",
     "text": [
      "175 ms ± 1.32 ms per loop (mean ± std. dev. of 7 runs, 1 loop each)\n"
     ]
    },
    {
     "data": {
      "text/plain": [
       "<TimeitResult : 175 ms ± 1.32 ms per loop (mean ± std. dev. of 7 runs, 1 loop each)>"
      ]
     },
     "execution_count": 279,
     "metadata": {},
     "output_type": "execute_result"
    }
   ],
   "source": [
    "%%timeit -o -n 1\n",
    "#Python array comprehension - Sine\n",
    "w = [sin(val)for val in v]"
   ]
  },
  {
   "cell_type": "code",
   "execution_count": 280,
   "metadata": {},
   "outputs": [],
   "source": [
    "time_results.loc['Python array comprehension']['Sine'] = _.average"
   ]
  },
  {
   "cell_type": "code",
   "execution_count": 281,
   "metadata": {},
   "outputs": [],
   "source": [
    "v = np.arange(N)\n",
    "w = np.zeros(N)"
   ]
  },
  {
   "cell_type": "code",
   "execution_count": 282,
   "metadata": {},
   "outputs": [
    {
     "name": "stdout",
     "output_type": "stream",
     "text": [
      "405 ms ± 2.3 ms per loop (mean ± std. dev. of 7 runs, 1 loop each)\n"
     ]
    },
    {
     "data": {
      "text/plain": [
       "<TimeitResult : 405 ms ± 2.3 ms per loop (mean ± std. dev. of 7 runs, 1 loop each)>"
      ]
     },
     "execution_count": 282,
     "metadata": {},
     "output_type": "execute_result"
    }
   ],
   "source": [
    "%%timeit -o -n 1\n",
    "#Numpy loop - Addition\n",
    "for i in range(N):\n",
    "    w[i] = v[i]+v[i]"
   ]
  },
  {
   "cell_type": "code",
   "execution_count": 283,
   "metadata": {},
   "outputs": [],
   "source": [
    "time_results.loc['Numpy loop']['Addition'] = _.average"
   ]
  },
  {
   "cell_type": "code",
   "execution_count": 284,
   "metadata": {},
   "outputs": [
    {
     "name": "stdout",
     "output_type": "stream",
     "text": [
      "386 ms ± 22.1 ms per loop (mean ± std. dev. of 7 runs, 1 loop each)\n"
     ]
    },
    {
     "data": {
      "text/plain": [
       "<TimeitResult : 386 ms ± 22.1 ms per loop (mean ± std. dev. of 7 runs, 1 loop each)>"
      ]
     },
     "execution_count": 284,
     "metadata": {},
     "output_type": "execute_result"
    }
   ],
   "source": [
    "%%timeit -o -n 1\n",
    "#Numpy loop - Multiplication\n",
    "for i in range(N):\n",
    "    w[i] = v[i]*v[i]"
   ]
  },
  {
   "cell_type": "code",
   "execution_count": 285,
   "metadata": {},
   "outputs": [],
   "source": [
    "time_results.loc['Numpy loop']['Multiplication'] = _.average"
   ]
  },
  {
   "cell_type": "code",
   "execution_count": 286,
   "metadata": {},
   "outputs": [
    {
     "name": "stdout",
     "output_type": "stream",
     "text": [
      "357 ms ± 6.36 ms per loop (mean ± std. dev. of 7 runs, 1 loop each)\n"
     ]
    },
    {
     "data": {
      "text/plain": [
       "<TimeitResult : 357 ms ± 6.36 ms per loop (mean ± std. dev. of 7 runs, 1 loop each)>"
      ]
     },
     "execution_count": 286,
     "metadata": {},
     "output_type": "execute_result"
    }
   ],
   "source": [
    "%%timeit -o -n 1\n",
    "#Numpy loop - Sine\n",
    "for i in range(N):\n",
    "    w[i] = sin(v[i])"
   ]
  },
  {
   "cell_type": "code",
   "execution_count": 287,
   "metadata": {},
   "outputs": [],
   "source": [
    "time_results.loc['Numpy loop']['Sine'] = _.average"
   ]
  },
  {
   "cell_type": "code",
   "execution_count": 288,
   "metadata": {},
   "outputs": [
    {
     "name": "stdout",
     "output_type": "stream",
     "text": [
      "1.9 ms ± 665 µs per loop (mean ± std. dev. of 7 runs, 1 loop each)\n"
     ]
    },
    {
     "data": {
      "text/plain": [
       "<TimeitResult : 1.9 ms ± 665 µs per loop (mean ± std. dev. of 7 runs, 1 loop each)>"
      ]
     },
     "execution_count": 288,
     "metadata": {},
     "output_type": "execute_result"
    }
   ],
   "source": [
    "%%timeit -o -n 1\n",
    "#Numpy vectors - Addition\n",
    "w = v+v"
   ]
  },
  {
   "cell_type": "code",
   "execution_count": 289,
   "metadata": {},
   "outputs": [],
   "source": [
    "time_results.loc['Numpy vectors']['Addition'] = _.average"
   ]
  },
  {
   "cell_type": "code",
   "execution_count": 290,
   "metadata": {},
   "outputs": [
    {
     "name": "stdout",
     "output_type": "stream",
     "text": [
      "1.44 ms ± 28.8 µs per loop (mean ± std. dev. of 7 runs, 1 loop each)\n"
     ]
    },
    {
     "data": {
      "text/plain": [
       "<TimeitResult : 1.44 ms ± 28.8 µs per loop (mean ± std. dev. of 7 runs, 1 loop each)>"
      ]
     },
     "execution_count": 290,
     "metadata": {},
     "output_type": "execute_result"
    }
   ],
   "source": [
    "%%timeit -o -n 1\n",
    "#Numpy vectors - Multiplication\n",
    "w = v*v"
   ]
  },
  {
   "cell_type": "code",
   "execution_count": 291,
   "metadata": {},
   "outputs": [],
   "source": [
    "time_results.loc['Numpy vectors']['Multiplication'] = _.average"
   ]
  },
  {
   "cell_type": "code",
   "execution_count": 292,
   "metadata": {},
   "outputs": [
    {
     "name": "stdout",
     "output_type": "stream",
     "text": [
      "36.7 ms ± 496 µs per loop (mean ± std. dev. of 7 runs, 1 loop each)\n"
     ]
    },
    {
     "data": {
      "text/plain": [
       "<TimeitResult : 36.7 ms ± 496 µs per loop (mean ± std. dev. of 7 runs, 1 loop each)>"
      ]
     },
     "execution_count": 292,
     "metadata": {},
     "output_type": "execute_result"
    }
   ],
   "source": [
    "%%timeit -o -n 1\n",
    "#Numpy vectors - Sine\n",
    "w = np.sin(v)"
   ]
  },
  {
   "cell_type": "code",
   "execution_count": 293,
   "metadata": {},
   "outputs": [],
   "source": [
    "time_results.loc['Numpy vectors']['Sine'] = _.average"
   ]
  },
  {
   "cell_type": "code",
   "execution_count": 294,
   "metadata": {},
   "outputs": [],
   "source": [
    "time_results.loc['Matlab']['Addition'] = 0.001516\n",
    "time_results.loc['Matlab']['Multiplication'] = 0.001467\n",
    "time_results.loc['Matlab']['Sine'] = 0.015683"
   ]
  },
  {
   "cell_type": "code",
   "execution_count": 295,
   "metadata": {},
   "outputs": [],
   "source": [
    "def highlight(s):\n",
    "    yellow = 'background-color: yellow'\n",
    "    cyan = 'background-color: cyan'\n",
    "    return [yellow if val==s.max() else cyan if val==s.min() else '' for val in s]"
   ]
  },
  {
   "cell_type": "code",
   "execution_count": 296,
   "metadata": {},
   "outputs": [
    {
     "data": {
      "text/html": [
       "<style  type=\"text/css\" >\n",
       "    #T_aeafd704_fc03_11e7_8ec9_180373272ae0row3_col0 {\n",
       "            background-color:  yellow;\n",
       "        }    #T_aeafd704_fc03_11e7_8ec9_180373272ae0row3_col1 {\n",
       "            background-color:  yellow;\n",
       "        }    #T_aeafd704_fc03_11e7_8ec9_180373272ae0row3_col2 {\n",
       "            background-color:  yellow;\n",
       "        }    #T_aeafd704_fc03_11e7_8ec9_180373272ae0row7_col1 {\n",
       "            background-color:  cyan;\n",
       "        }    #T_aeafd704_fc03_11e7_8ec9_180373272ae0row8_col0 {\n",
       "            background-color:  cyan;\n",
       "        }    #T_aeafd704_fc03_11e7_8ec9_180373272ae0row8_col2 {\n",
       "            background-color:  cyan;\n",
       "        }</style>  \n",
       "<table id=\"T_aeafd704_fc03_11e7_8ec9_180373272ae0\" > \n",
       "<thead>    <tr> \n",
       "        <th class=\"blank level0\" ></th> \n",
       "        <th class=\"col_heading level0 col0\" >Addition</th> \n",
       "        <th class=\"col_heading level0 col1\" >Multiplication</th> \n",
       "        <th class=\"col_heading level0 col2\" >Sine</th> \n",
       "    </tr></thead> \n",
       "<tbody>    <tr> \n",
       "        <th id=\"T_aeafd704_fc03_11e7_8ec9_180373272ae0level0_row0\" class=\"row_heading level0 row0\" >Python list loop</th> \n",
       "        <td id=\"T_aeafd704_fc03_11e7_8ec9_180373272ae0row0_col0\" class=\"data row0 col0\" >0.111311</td> \n",
       "        <td id=\"T_aeafd704_fc03_11e7_8ec9_180373272ae0row0_col1\" class=\"data row0 col1\" >0.118019</td> \n",
       "        <td id=\"T_aeafd704_fc03_11e7_8ec9_180373272ae0row0_col2\" class=\"data row0 col2\" >0.243977</td> \n",
       "    </tr>    <tr> \n",
       "        <th id=\"T_aeafd704_fc03_11e7_8ec9_180373272ae0level0_row1\" class=\"row_heading level0 row1\" >Python list map</th> \n",
       "        <td id=\"T_aeafd704_fc03_11e7_8ec9_180373272ae0row1_col0\" class=\"data row1 col0\" >0.152287</td> \n",
       "        <td id=\"T_aeafd704_fc03_11e7_8ec9_180373272ae0row1_col1\" class=\"data row1 col1\" >0.154999</td> \n",
       "        <td id=\"T_aeafd704_fc03_11e7_8ec9_180373272ae0row1_col2\" class=\"data row1 col2\" >0.176805</td> \n",
       "    </tr>    <tr> \n",
       "        <th id=\"T_aeafd704_fc03_11e7_8ec9_180373272ae0level0_row2\" class=\"row_heading level0 row2\" >Python list comprehension</th> \n",
       "        <td id=\"T_aeafd704_fc03_11e7_8ec9_180373272ae0row2_col0\" class=\"data row2 col0\" >0.0653243</td> \n",
       "        <td id=\"T_aeafd704_fc03_11e7_8ec9_180373272ae0row2_col1\" class=\"data row2 col1\" >0.0659771</td> \n",
       "        <td id=\"T_aeafd704_fc03_11e7_8ec9_180373272ae0row2_col2\" class=\"data row2 col2\" >0.177292</td> \n",
       "    </tr>    <tr> \n",
       "        <th id=\"T_aeafd704_fc03_11e7_8ec9_180373272ae0level0_row3\" class=\"row_heading level0 row3\" >Python array loop</th> \n",
       "        <td id=\"T_aeafd704_fc03_11e7_8ec9_180373272ae0row3_col0\" class=\"data row3 col0\" >0.465406</td> \n",
       "        <td id=\"T_aeafd704_fc03_11e7_8ec9_180373272ae0row3_col1\" class=\"data row3 col1\" >0.470737</td> \n",
       "        <td id=\"T_aeafd704_fc03_11e7_8ec9_180373272ae0row3_col2\" class=\"data row3 col2\" >0.42482</td> \n",
       "    </tr>    <tr> \n",
       "        <th id=\"T_aeafd704_fc03_11e7_8ec9_180373272ae0level0_row4\" class=\"row_heading level0 row4\" >Python array map</th> \n",
       "        <td id=\"T_aeafd704_fc03_11e7_8ec9_180373272ae0row4_col0\" class=\"data row4 col0\" >0.304931</td> \n",
       "        <td id=\"T_aeafd704_fc03_11e7_8ec9_180373272ae0row4_col1\" class=\"data row4 col1\" >0.303483</td> \n",
       "        <td id=\"T_aeafd704_fc03_11e7_8ec9_180373272ae0row4_col2\" class=\"data row4 col2\" >0.234364</td> \n",
       "    </tr>    <tr> \n",
       "        <th id=\"T_aeafd704_fc03_11e7_8ec9_180373272ae0level0_row5\" class=\"row_heading level0 row5\" >Python array comprehension</th> \n",
       "        <td id=\"T_aeafd704_fc03_11e7_8ec9_180373272ae0row5_col0\" class=\"data row5 col0\" >0.0709063</td> \n",
       "        <td id=\"T_aeafd704_fc03_11e7_8ec9_180373272ae0row5_col1\" class=\"data row5 col1\" >0.0652115</td> \n",
       "        <td id=\"T_aeafd704_fc03_11e7_8ec9_180373272ae0row5_col2\" class=\"data row5 col2\" >0.1751</td> \n",
       "    </tr>    <tr> \n",
       "        <th id=\"T_aeafd704_fc03_11e7_8ec9_180373272ae0level0_row6\" class=\"row_heading level0 row6\" >Numpy loop</th> \n",
       "        <td id=\"T_aeafd704_fc03_11e7_8ec9_180373272ae0row6_col0\" class=\"data row6 col0\" >0.404714</td> \n",
       "        <td id=\"T_aeafd704_fc03_11e7_8ec9_180373272ae0row6_col1\" class=\"data row6 col1\" >0.385579</td> \n",
       "        <td id=\"T_aeafd704_fc03_11e7_8ec9_180373272ae0row6_col2\" class=\"data row6 col2\" >0.35713</td> \n",
       "    </tr>    <tr> \n",
       "        <th id=\"T_aeafd704_fc03_11e7_8ec9_180373272ae0level0_row7\" class=\"row_heading level0 row7\" >Numpy vectors</th> \n",
       "        <td id=\"T_aeafd704_fc03_11e7_8ec9_180373272ae0row7_col0\" class=\"data row7 col0\" >0.00190173</td> \n",
       "        <td id=\"T_aeafd704_fc03_11e7_8ec9_180373272ae0row7_col1\" class=\"data row7 col1\" >0.00143854</td> \n",
       "        <td id=\"T_aeafd704_fc03_11e7_8ec9_180373272ae0row7_col2\" class=\"data row7 col2\" >0.0367016</td> \n",
       "    </tr>    <tr> \n",
       "        <th id=\"T_aeafd704_fc03_11e7_8ec9_180373272ae0level0_row8\" class=\"row_heading level0 row8\" >Matlab</th> \n",
       "        <td id=\"T_aeafd704_fc03_11e7_8ec9_180373272ae0row8_col0\" class=\"data row8 col0\" >0.001516</td> \n",
       "        <td id=\"T_aeafd704_fc03_11e7_8ec9_180373272ae0row8_col1\" class=\"data row8 col1\" >0.001467</td> \n",
       "        <td id=\"T_aeafd704_fc03_11e7_8ec9_180373272ae0row8_col2\" class=\"data row8 col2\" >0.015683</td> \n",
       "    </tr></tbody> \n",
       "</table> "
      ],
      "text/plain": [
       "<pandas.io.formats.style.Styler at 0x7f13bc7993c8>"
      ]
     },
     "execution_count": 296,
     "metadata": {},
     "output_type": "execute_result"
    }
   ],
   "source": [
    "time_results.style.apply(highlight)"
   ]
  },
  {
   "cell_type": "code",
   "execution_count": 313,
   "metadata": {},
   "outputs": [
    {
     "data": {
      "text/plain": [
       "<matplotlib.axes._subplots.AxesSubplot at 0x7f13bc7a77f0>"
      ]
     },
     "execution_count": 313,
     "metadata": {},
     "output_type": "execute_result"
    },
    {
     "data": {
      "image/png": "[encoded data removed]",
      "text/plain": [
       "<matplotlib.figure.Figure at 0x7f13bddb5320>"
      ]
     },
     "metadata": {},
     "output_type": "display_data"
    }
   ],
   "source": [
    "time_results.plot.bar()"
   ]
  },
  {
   "cell_type": "markdown",
   "metadata": {},
   "source": [
    "# Analysis"
   ]
  },
  {
   "cell_type": "markdown",
   "metadata": {},
   "source": [
    "Numpy and Matlab are comparable and far superior to the other methods as expected. This is because they both use parallelized algorithms and/or BLAS librarys to do efficient linear algebra operations.\n",
    "\n",
    "After these two list comprehensions were far superior to using loops or maping. List comprehensions for arrays were roughly as fast as they are for lists whereas all other array operations were far slower than their list couterparts. \n",
    "\n",
    "I susspect that this is not an effective way to measure the speed of using maps. In Python 3 the map function returns a map object which doesn't actually compute any values until the values are referenced. This means that the map function on its own would return in nanoseconds regardless of the size of the array. Obviously this is not comparable. My solution was to pass the map object to the list and array constructors, but I suspect that this the speed of those constructors more than it tests the speed of the map function. In some sense it doesn't make sense to talk about the speed of the map function in Python 3."
   ]
  },
  {
   "cell_type": "markdown",
   "metadata": {},
   "source": [
    "# Pre-allocation"
   ]
  },
  {
   "cell_type": "markdown",
   "metadata": {},
   "source": [
    "In C and other compiled languages, there is an operational cost to allocating memory. Preallocating memory in an Array is much more efficient than using a list data structure for two reasons. The first is that lists deal with objects and so have an inherrant operational cost whereas most uses of arrays deal with primative data types making them very fast. The second reason is that to retrieve an element from an array multiplication can be used to quickly find the memory location of that element, but with lists one must start at the head of the list and pass through each node following the pointers until the desired element is found. On the otherhand, lists do not require contiguous blocks of memory and arrays do. \n",
    "\n",
    "Python does not have arrays in the traditional sense. Lists and arrays (from the array module) are both lists in Python. This is easily seen by examining the memory location of elements in the lists and arrays as seen below."
   ]
  },
  {
   "cell_type": "code",
   "execution_count": 302,
   "metadata": {},
   "outputs": [
    {
     "name": "stdout",
     "output_type": "stream",
     "text": [
      "[32, 32, 32, 32, 32, 32, 32, 32, 32, 32, 32, 32, 32, 32, 32, 32, 32, 32, 32, 32, 32, 32, 32, 32, 32, 32, 32, 32, 32, 32, 32, 32, 32, 32, 32, 32, 32, 32, 32, 32, 32, 32, 32, 32, 32, 32, 32, 32, 32, 32, 32, 32, 32, 32, 32, 32, 32, 32, 32, 32, 32, 32, 32, 32, 32, 32, 32, 32, 32, 32, 32, 32, 32, 32, 32, 32, 32, 32, 32, 32, 32, 32, 32, 32, 32, 32, 32, 32, 32, 32, 32, 32, 32, 32, 32, 32, 32, 32, 32, 32, 32, 32, 32, 32, 32, 32, 32, 32, 32, 32, 32, 32, 32, 32, 32, 32, 32, 32, 32, 32, 32, 32, 32, 32, 32, 32, 32, 32, 32, 32, 32, 32, 32, 32, 32, 32, 32, 32, 32, 32, 32, 32, 32, 32, 32, 32, 32, 32, 32, 32, 32, 32, 32, 32, 32, 32, 32, 32, 32, 32, 32, 32, 32, 32, 32, 32, 32, 32, 32, 32, 32, 32, 32, 32, 32, 32, 32, 32, 32, 32, 32, 32, 32, 32, 32, 32, 32, 32, 32, 32, 32, 32, 32, 32, 32, 32, 32, 32, 32, 32, 32, 32, 32, 32, 32, 32, 32, 32, 32, 32, 32, 32, 32, 32, 32, 32, 32, 32, 32, 32, 32, 32, 32, 32, 32, 32, 32, 32, 32, 32, 32, 32, 32, 32, 32, 32, 32, 32, 32, 32, 32, 32, 32, 32, 32, 32, 32, 32, 32, 32, 32, 32, 32, 32, 32, 32, 139722755442384, -23085184, -608, 320, -32, 96, -128, 96, -128, 192, -224, 448, -608, 480, -32, -32, -352, 480, 96, 32, 32, 32, 32, 32, 32, 32, 32, 32, 32, 32, 32, 32, 32, 32, 32, 32, 32, 32, 32, 32, 32, 32, 32, 32, 32, 32, 32, 32, 32, 32, 32, 32, 32, 32, 32, 32, 32, 32, 32, 32, 32, 32, 32, 32, 32, 32, 32, 32, 32, 32, 32, 32, 32, 32, 32, 32, 32, 32, 32, 32, 32, 32, 32, 32, 32, 32, 32, 32, 32, 32, 32, 32, 32, 32, 32, 32, 32, 32, 32, 32, 32, 32, 32, 32, 32, 32, 32, 32, 32, 32, 12384, 32, 32, 32, 32, 32, 32, 32, 32, 32, 32, 32, 32, 32, 32, 32, 32, 32, 32, 32, 32, 32, 32, 32, 32, 32, 32, 32, 32, 32, 32, 32, 32, 32, 32, 32, 32, 32, 32, 32, 32, 32, 32, 32, 32, 32, 32, 32, 32, 32, 32, 32, 32, 32, 32, 32, 32, 32, 32, 32, 32, 32, 32, 32, 32, 32, 32, 32, 32, 32, 32, 32, 32, 32, 32, 32, 32, 32, 32, 32, 32, 32, 32, 32, 32, 32, 32, 32, 32, 32, 32, 32, 32, 32, 32, 32, 32, 32, 32, 32, 32, 32, 32, 32, 32, 32, 32, 32, 32, 32, 32, 32, 32, 32, 32, 32, 32, 32, 32, 32, 32, 32, 32, 32, 32, 32, 96, 32, 32, 32, 32, 32, 32, 32, 32, 32, 32, 32, 32, 32, 32, 32, 32, 32, 32, 32, 32, 32, 32, 32, 32, 32, 32, 32, 32, 32, 32, 32, 32, 32, 32, 32, 32, 32, 32, 32, 32, 32, 32, 32, 32, 32, 32, 32, 32, 32, 32, 32, 32, 32, 32, 32, 32, 32, 32, 32, 32, 32, 32, 32, 32, 32, 32, 32, 32, 32, 32, 32, 32, 32, 32, 32, 32, 32, 32, 32, 32, 32, 32, 32, 32, 32, 32, 32, 32, 32, 32, 32, 32, 32, 32, 32, 32, 32, 32, 32, 32, 32, 32, 32, 32, 32, 32, 32, 32, 32, 32, 32, 32, 32, 32, 32, 32, 32, 32, 32, 32, 32, 32, 32, 32, 32, 96, 32, 32, 32, 32, 32, 32, 32, 32, 32, 32, 32, 32, 32, 32, 32, 32, 32, 32, 32, 32, 32, 32, 32, 32, 32, 32, 32, 32, 32, 32, 32, 32, 32, 32, 32, 32, 32, 32, 32, 32, 32, 32, 32, 32, 32, 32, 32, 32, 32, 32, 32, 32, 32, 32, 32, 32, 32, 32, 32, 32, 32, 32, 32, 32, 32, 32, 32, 32, 32, 32, 32, 32, 32, 32, 32, 32, 32, 32, 32, 32, 32, 32, 32, 32, 32, 32, 32, 32, 32, 32, 32, 32, 32, 32, 32, 32, 32, 32, 32, 32, 32, 32, 32, 32, 32, 32, 32, 32, 32, 32, 32, 32, 32, 32, 32, 32, 32, 32, 32, 32, 32, 32, 32, 32, 32, 96, 32, 32, 32, 32, 32, 32, 32, 32, 32, 32, 32, 32, 32, 32, 32, 32, 32, 32, 32, 32, 32, 32, 32, 32, 32, 32, 32, 32, 32, 32, 32, 32, 32, 32, 32, 32, 32, 32, 32, 32, 32, 32, 32, 32, 32, 32, 32, 32, 32, 32, 32, 32, 32, 32, 32, 32, 32, 32, 32, 32, 32, 32, 32, 32, 32, 32, 32, 32, 32, 32, 32, 32, 32, 32, 32, 32, 32, 32, 32, 32, 32, 32, 32, 32, 32, 32, 32, 32, 32, 32, 32, 32, 32, 32, 32, 32, 32, 32, 32, 32, 32, 32, 32, 32, 32, 32, 32, 32, 32, 32, 32, 32, 32, 32, 32, 32, 32, 32, 32, 32, 32, 32, 32, 32, 32, 8288, 32, 32, 32, 32, 32, 32, 32, 32, 32, 32, 32, 32, 32, 32, 32, 32, 32, 32, 32, 32, 32, 32, 32, 32, 32, 32, 32, 32, 32, 32, 32, 32, 32, 32, 32, 32, 32, 32, 32, 32, 32, 32, 32, 32, 32, 32, 32, 32, 32, 32, 32, 32, 32, 32, 32, 32, 32, 32, 32, 32, 32, 32, 32, 32, 32, 32, 32, 32, 32, 32, 32, 32, 32, 32, 32, 32, 32, 32, 32, 32, 32, 32, 32, 32, 32, 32, 32, 32, 32, 32, 32, 32, 32, 32, 32, 32, 32, 32, 32, 32, 32, 32, 32, 32, 32, 32, 32, 32, 32, 32, 32, 32, 32, 32, 32, 32, 32, 32, 32, 32, 32, 32, 32, 32, 32, 96, 32, 32]\n"
     ]
    }
   ],
   "source": [
    "a = list(range(1000))\n",
    "ids = [id(val) for val in a]\n",
    "print([x1 - x0 for x1,x0 in zip(ids[1:],ids[:-1])])"
   ]
  },
  {
   "cell_type": "code",
   "execution_count": 305,
   "metadata": {},
   "outputs": [
    {
     "name": "stdout",
     "output_type": "stream",
     "text": [
      "[32, 32, 32, 32, 32, 32, 32, 32, 32, 32, 32, 32, 32, 32, 32, 32, 32, 32, 32, 32, 32, 32, 32, 32, 32, 32, 32, 32, 32, 32, 32, 32, 32, 32, 32, 32, 32, 32, 32, 32, 32, 32, 32, 32, 32, 32, 32, 32, 32, 32, 32, 32, 32, 32, 32, 32, 32, 32, 32, 32, 32, 32, 32, 32, 32, 32, 32, 32, 32, 32, 32, 32, 32, 32, 32, 32, 32, 32, 32, 32, 32, 32, 32, 32, 32, 32, 32, 32, 32, 32, 32, 32, 32, 32, 32, 32, 32, 32, 32, 32, 32, 32, 32, 32, 32, 32, 32, 32, 32, 32, 32, 32, 32, 32, 32, 32, 32, 32, 32, 32, 32, 32, 32, 32, 32, 32, 32, 32, 32, 32, 32, 32, 32, 32, 32, 32, 32, 32, 32, 32, 32, 32, 32, 32, 32, 32, 32, 32, 32, 32, 32, 32, 32, 32, 32, 32, 32, 32, 32, 32, 32, 32, 32, 32, 32, 32, 32, 32, 32, 32, 32, 32, 32, 32, 32, 32, 32, 32, 32, 32, 32, 32, 32, 32, 32, 32, 32, 32, 32, 32, 32, 32, 32, 32, 32, 32, 32, 32, 32, 32, 32, 32, 32, 32, 32, 32, 32, 32, 32, 32, 32, 32, 32, 32, 32, 32, 32, 32, 32, 32, 32, 32, 32, 32, 32, 32, 32, 32, 32, 32, 32, 32, 32, 32, 32, 32, 32, 32, 32, 32, 32, 32, 32, 32, 32, 32, 32, 32, 32, 32, 32, 32, 32, 32, 32, 32, 139722732435312, 64, 32, 32, 32, 32, 32, 32, 32, 32, 32, 32, 32, 32, 32, 32, 32, 32, 32, 32, 32, 32, 32, 32, 32, 32, 32, 32, 32, 32, 32, 32, 32, 32, 32, 32, 32, 32, 32, 32, 32, 32, 32, 32, 32, 32, 32, 32, 32, 32, 32, 32, 32, 32, 32, 32, 32, 32, 32, 32, 32, 32, 32, 32, 32, 32, 32, 32, 32, 32, 32, 32, 32, 32, 32, 32, 32, 32, 32, 32, 32, 32, 32, 32, -32672, 32, 32, 32, 32, 32, 32, 32, 32, 32, 32, 32, 32, 32, 32, 32, 32, 32, 32, 32, 32, 32, 32, 32, 32, 32, 32, 32, 32, 32, 32, 32, 32, 32, 32, 32, 32, 32, 32, 32, 32, 32, 32, 32, 32, 32, 32, 32, 32, 32, 32, 32, 32, 32, 32, 32, 32, 32, 32, 32, 32, 32, 32, 32, 32, 32, 32, 32, 32, 32, 32, 32, 32, 32, 32, 32, 32, 32, 32, 32, 32, 32, 32, 32, 32, 32, 32, 32, 32, 32, 32, 32, 32, 32, 32, 32, 32, 32, 32, 32, 32, 32, 32, 32, 32, 32, 32, 32, 32, 32, 32, 32, 32, 32, 32, 32, 32, 32, 32, 32, 32, 32, 32, 32, 32, 32, 8288, 32, 32, 32, 32, 32, 32, 32, 32, 32, 32, 32, 32, 32, 32, 32, 32, 32, 32, 32, 32, 32, 32, 32, 32, 32, 32, 32, 32, 32, 32, 32, 32, 32, 32, 32, 32, 32, 32, 32, 32, 32, 32, 32, 32, 32, 32, 32, 32, 32, 32, 32, 32, 32, 32, 32, 32, 32, 32, 32, 32, 32, 32, 32, 32, 32, 32, 32, 32, 32, 32, 32, 32, 32, 32, 32, 32, 32, 32, 32, 32, 32, 32, 32, 32, 32, 32, 32, 32, 32, 32, 32, 32, 32, 32, 32, 32, 32, 32, 32, 32, 32, 32, 32, 32, 32, 32, 32, 32, 32, 32, 32, 32, 32, 32, 32, 32, 32, 32, 32, 32, 32, 32, 32, 32, 32, -12192, 32, 32, 32, 32, 32, 32, 32, 32, 32, 32, 32, 32, 32, 32, 32, 32, 32, 32, 32, 32, 32, 32, 32, 32, 32, 32, 32, 32, 32, 32, 32, 32, 32, 32, 32, 32, 32, 32, 32, 32, 32, 32, 32, 32, 32, 32, 32, 32, 32, 32, 32, 32, 32, 32, 32, 32, 32, 32, 32, 32, 32, 32, 32, 32, 32, 32, 32, 32, 32, 32, 32, 32, 32, 32, 32, 32, 32, 32, 32, 32, 32, 32, 32, 32, 32, 32, 32, 32, 32, 32, 32, 32, 32, 32, 32, 32, 32, 32, 32, 32, 32, 32, 32, 32, 32, 32, 32, 32, 32, 32, 32, 32, 32, 32, 32, 32, 32, 32, 32, 32, 32, 32, 32, 32, 32, 96, 32, 32, 32, 32, 32, 32, 32, 32, 32, 32, 32, 32, 32, 32, 32, 32, 32, 32, 32, 32, 32, 32, 32, 32, 32, 32, 32, 32, 32, 32, 32, 32, 32, 32, 32, 32, 32, 32, 32, 32, 32, 32, 32, 32, 32, 32, 32, 32, 32, 32, 32, 32, 32, 32, 32, 32, 32, 32, 32, 32, 32, 32, 32, 32, 32, 32, 32, 32, 32, 32, 32, 32, 32, 32, 32, 32, 32, 32, 32, 32, 32, 32, 32, 32, 32, 32, 32, 32, 32, 32, 32, 32, 32, 32, 32, 32, 32, 32, 32, 32, 32, 32, 32, 32, 32, 32, 32, 32, 32, 32, 32, 32, 32, 32, 32, 32, 32, 32, 32, 32, 32, 32, 32, 32, 32, 4192, 32, 32, 32, 32, 32, 32, 32, 32, 32, 32, 32, 32, 32, 32, 32, 32, 32, 32, 32, 32, 32, 32, 32, 32, 32, 32, 32, 32, 32, 32, 32, 32, 32, 32, 32, 32, 32, 32, 32, 32, 32, 32, 32, 32, 32, 32, 32, 32, 32, 32, 32, 32, 32, 32, 32, 32, 32, 32, 32, 32, 32, 32, 32, 32, 32, 32, 32, 32, 32, 32, 32, 32, 32, 32, 32, 32, 32, 32, 32, 32, 32, 32, 32, 32, 32, 32, 32, 32, 32, 32, 32, 32, 32, 32, 32, 32, 32, 32, 32, 32, 32, 32, 32, 32, 32, 32, 32, 32, 32, 32, 32, 32, 32, 32, 32, 32, 32, 32, 32, 32, 32, 32, 32, 32, 32, 96, 32, 32, 32, 32, 32, 32, 32, 32, 32, 32, 32, 32, 32, 32, 32, 32, 32, 32, 32, 32, 32, 32, 32, 32, 32, 32, 32, 32]\n"
     ]
    }
   ],
   "source": [
    "a = array('i',range(1000))\n",
    "ids = [id(val) for val in a]\n",
    "print([x1 - x0 for x1,x0 in zip(ids[1:],ids[:-1])])"
   ]
  },
  {
   "cell_type": "markdown",
   "metadata": {},
   "source": [
    "As you can see, most elements of the lists are adjacent (separated by 32 address locations), but the list is split between several contiguous blocks of memory.\n",
    "\n",
    "Furthermore, Python 3 does not overwrite these memory locations, but rather it manipulates pointers to swap list elements out."
   ]
  },
  {
   "cell_type": "code",
   "execution_count": 307,
   "metadata": {},
   "outputs": [
    {
     "name": "stdout",
     "output_type": "stream",
     "text": [
      "[0, 160, 0]\n"
     ]
    }
   ],
   "source": [
    "l = [1,2,3]\n",
    "previous_ids = [id(val) for val in l]\n",
    "l[1] = 7\n",
    "new_ids = [id(val) for val in l]\n",
    "print([x-y for x,y in zip(new_ids, previous_ids)])"
   ]
  },
  {
   "cell_type": "markdown",
   "metadata": {},
   "source": [
    "The code above demonstrates that instead of overwriting the value at a memory location in a list, Python creates a new object to contain the value, then swaps pointers around to include the new object and remove the old object. The important takeaway here is that $\\textbf{it is imposible to pre-allocate memory in Python 3}$. Even if one creates a list to \"hold the values\" Python will essentially ignore it and reserve new memory locations for new objects. \n",
    "\n",
    "There is one more minor footnote that ought to be addressed. In class we did see very modest speed ups when \"pre-allocating\" lists and looping over them using indices. The best explaination I have for that is that there must be some overhead in the append function that is avoided when simply reassigning a list value. Perhaps this overhead has to do with keeping track of the length of the list or maybe tracking pointers to specific places."
   ]
  },
  {
   "cell_type": "markdown",
   "metadata": {},
   "source": [
    "## Addendum\n",
    "Numpy is different than standard Python and does use real arrays. In fact this method of checking memory location can't be used for numpy array elements because the Python interpreter treats a numpy array as one object and gives the same memory location for any element of the array. \n",
    "\n",
    "There may be some speed ups to pre-allocating memory for numpy arrays, but this should be done carefully. Most numpy operations return copies of arrays anyway so attempts to pre-allocate may be self defeating. "
   ]
  },
  {
   "cell_type": "code",
   "execution_count": null,
   "metadata": {},
   "outputs": [],
   "source": []
  }
 ],
 "metadata": {
  "CodeCell": {
   "cm_config": {
    "lineWrapping": true
   }
  },
  "MarkdownCell": {
   "cm_config": {
    "lineWrapping": true
   }
  },
  "kernelspec": {
   "display_name": "Python 3",
   "language": "python",
   "name": "python3"
  },
  "language_info": {
   "codemirror_mode": {
    "name": "ipython",
    "version": 3
   },
   "file_extension": ".py",
   "mimetype": "text/x-python",
   "name": "python",
   "nbconvert_exporter": "python",
   "pygments_lexer": "ipython3",
   "version": "3.5.2"
  }
 },
 "nbformat": 4,
 "nbformat_minor": 2
}
