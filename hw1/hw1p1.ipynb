{
 "cells": [
  {
   "cell_type": "markdown",
   "metadata": {},
   "source": [
    "# Sage Shaw\n",
    "\n",
    "### ME 571 - Spring 2018\n",
    "\n",
    "# HW 1 - Problem 1"
   ]
  },
  {
   "cell_type": "code",
   "execution_count": 1,
   "metadata": {
    "collapsed": false
   },
   "outputs": [],
   "source": [
    "import numpy as np\n",
    "import pandas as pd\n",
    "\n",
    "%matplotlib inline\n",
    "import matplotlib.pyplot as plt\n",
    "\n",
    "from math import sin\n",
    "from array import array\n",
    "\n",
    "import pickle"
   ]
  },
  {
   "cell_type": "code",
   "execution_count": 2,
   "metadata": {
    "collapsed": true
   },
   "outputs": [],
   "source": [
    "N = 10**9\n",
    "v = range(N)"
   ]
  },
  {
   "cell_type": "code",
   "execution_count": 3,
   "metadata": {
    "collapsed": true
   },
   "outputs": [],
   "source": [
    "columns = ['Addition', 'Multiplication', 'Sine']\n",
    "index = ['Python list loop',\n",
    "         'Python list map',\n",
    "         'Python list comprehension', \n",
    "         'Python array loop',\n",
    "         'Python array map',\n",
    "         'Python array comprehension',\n",
    "         'Numpy loop',\n",
    "         'Numpy vectors',\n",
    "         'Matlab']\n",
    "time_results = pd.DataFrame(columns=columns, index=index)"
   ]
  },
  {
   "cell_type": "markdown",
   "metadata": {},
   "source": [
    "## Lists"
   ]
  },
  {
   "cell_type": "code",
   "execution_count": 5,
   "metadata": {
    "collapsed": false
   },
   "outputs": [
    {
     "name": "stdout",
     "output_type": "stream",
     "text": [
      "1 loop, best of 3: 16.5 s per loop\n"
     ]
    }
   ],
   "source": [
    "#Python list loop - Addition\n",
    "def py_list_loop_add(v):\n",
    "    w = []\n",
    "    for val in v:\n",
    "        w.append(val+val)\n",
    "    return w\n",
    "\n",
    "my_time = %timeit -o w = py_list_loop_add(v)\n",
    "time_results.loc['Python list loop']['Addition'] = my_time.best"
   ]
  },
  {
   "cell_type": "code",
   "execution_count": 6,
   "metadata": {
    "collapsed": false
   },
   "outputs": [
    {
     "name": "stdout",
     "output_type": "stream",
     "text": [
      "1 loop, best of 3: 16.6 s per loop\n"
     ]
    }
   ],
   "source": [
    "#Python list loop - Multiplication\n",
    "def py_list_loop_mult(v):\n",
    "    w = []\n",
    "    for val in v:\n",
    "        w.append(val*val)\n",
    "    return w\n",
    "    \n",
    "my_time = %timeit -o w = py_list_loop_mult(v)\n",
    "time_results.loc['Python list loop']['Multiplication'] = my_time.best"
   ]
  },
  {
   "cell_type": "code",
   "execution_count": 7,
   "metadata": {
    "collapsed": false
   },
   "outputs": [
    {
     "name": "stdout",
     "output_type": "stream",
     "text": [
      "1 loop, best of 3: 16.7 s per loop\n"
     ]
    }
   ],
   "source": [
    "#Python list loop - Sine\n",
    "def py_list_loop_sin(v):\n",
    "    w = []\n",
    "    for val in v:\n",
    "        w.append(sin(val))\n",
    "    return w\n",
    "\n",
    "my_time = %timeit -o w = py_list_loop_mult(v)\n",
    "time_results.loc['Python list loop']['Sine'] = my_time.best"
   ]
  },
  {
   "cell_type": "code",
   "execution_count": 8,
   "metadata": {
    "collapsed": true
   },
   "outputs": [],
   "source": [
    "def add(x,y):\n",
    "    return x+y\n",
    "def mult(x,y):\n",
    "    return x*y"
   ]
  },
  {
   "cell_type": "code",
   "execution_count": 9,
   "metadata": {
    "collapsed": false
   },
   "outputs": [
    {
     "name": "stdout",
     "output_type": "stream",
     "text": [
      "1 loop, best of 3: 24 s per loop\n"
     ]
    }
   ],
   "source": [
    "#Python list map - Addition\n",
    "def py_list_map_add(v):\n",
    "    return list(map(add, v,v))\n",
    "\n",
    "my_time = %timeit -o w = py_list_map_add(v)\n",
    "time_results.loc['Python list map']['Addition'] = my_time.best"
   ]
  },
  {
   "cell_type": "code",
   "execution_count": 10,
   "metadata": {
    "collapsed": false
   },
   "outputs": [
    {
     "name": "stdout",
     "output_type": "stream",
     "text": [
      "1 loop, best of 3: 24.6 s per loop\n"
     ]
    }
   ],
   "source": [
    "#Python list map - Multiplication\n",
    "def py_list_map_mult(v):\n",
    "    return list(map(mult, v,v))\n",
    "\n",
    "my_time = %timeit -o w = py_list_map_mult(v)\n",
    "time_results.loc['Python list map']['Multiplication'] = my_time.best"
   ]
  },
  {
   "cell_type": "code",
   "execution_count": 11,
   "metadata": {
    "collapsed": false
   },
   "outputs": [
    {
     "name": "stdout",
     "output_type": "stream",
     "text": [
      "1 loop, best of 3: 22.9 s per loop\n"
     ]
    }
   ],
   "source": [
    "#Python list map - Sine\n",
    "def py_list_map_sin(v):\n",
    "    return list(map(sin, v))\n",
    "\n",
    "my_time = %timeit -o w = py_list_map_sin(v)\n",
    "time_results.loc['Python list map']['Sine'] = my_time.best"
   ]
  },
  {
   "cell_type": "code",
   "execution_count": 12,
   "metadata": {
    "collapsed": false
   },
   "outputs": [
    {
     "name": "stdout",
     "output_type": "stream",
     "text": [
      "1 loop, best of 3: 9.6 s per loop\n"
     ]
    }
   ],
   "source": [
    "#Python list comprehension - Addition\n",
    "def py_list_comp_add(v):\n",
    "    return [x+x for x in v]\n",
    "\n",
    "my_time = %timeit -o w = py_list_comp_add(v)\n",
    "time_results.loc['Python list comprehension']['Addition'] = my_time.best"
   ]
  },
  {
   "cell_type": "code",
   "execution_count": 13,
   "metadata": {
    "collapsed": false
   },
   "outputs": [
    {
     "name": "stdout",
     "output_type": "stream",
     "text": [
      "1 loop, best of 3: 9.43 s per loop\n"
     ]
    }
   ],
   "source": [
    "#Python list comprehension - Multiplication\n",
    "def py_list_comp_mult(v):\n",
    "    return [x+x for x in v]\n",
    "\n",
    "my_time = %timeit -o w = py_list_comp_mult(v)\n",
    "time_results.loc['Python list comprehension']['Multiplication'] = my_time.best"
   ]
  },
  {
   "cell_type": "code",
   "execution_count": 14,
   "metadata": {
    "collapsed": false
   },
   "outputs": [
    {
     "name": "stdout",
     "output_type": "stream",
     "text": [
      "1 loop, best of 3: 23.8 s per loop\n"
     ]
    }
   ],
   "source": [
    "#Python list comprehension - Sine\n",
    "def py_list_comp_sin(v):\n",
    "    return [sin(x) for x in v]\n",
    "\n",
    "my_time = %timeit -o w = py_list_comp_sin(v)\n",
    "time_results.loc['Python list comprehension']['Sine'] = my_time.best"
   ]
  },
  {
   "cell_type": "markdown",
   "metadata": {},
   "source": [
    "## Arrays"
   ]
  },
  {
   "cell_type": "code",
   "execution_count": 15,
   "metadata": {
    "collapsed": false
   },
   "outputs": [],
   "source": [
    "v_arr = array('f',range(N))\n",
    "w_arr = array('f',[0]*N)"
   ]
  },
  {
   "cell_type": "code",
   "execution_count": 16,
   "metadata": {
    "collapsed": false
   },
   "outputs": [
    {
     "name": "stdout",
     "output_type": "stream",
     "text": [
      "1 loop, best of 3: 26.8 s per loop\n"
     ]
    }
   ],
   "source": [
    "#Python array loop - addition\n",
    "def py_arr_loop_add(v):\n",
    "    for i in range(N):\n",
    "        w_arr[i] = v_arr[i]+v_arr[i]\n",
    "    return w_arr\n",
    "\n",
    "my_time = %timeit -o w = py_arr_loop_add(v_arr)\n",
    "time_results.loc['Python array loop']['Addition'] = my_time.best"
   ]
  },
  {
   "cell_type": "code",
   "execution_count": 17,
   "metadata": {
    "collapsed": false
   },
   "outputs": [
    {
     "name": "stdout",
     "output_type": "stream",
     "text": [
      "1 loop, best of 3: 20.6 s per loop\n"
     ]
    }
   ],
   "source": [
    "#Python array loop - Multiplication\n",
    "def py_arr_loop_mult(v_arr):\n",
    "    for i in range(N):\n",
    "        w_arr[i] = v_arr[i]+v_arr[i]\n",
    "    return w_arr\n",
    "\n",
    "my_time = %timeit -o py_arr_loop_mult(v_arr)\n",
    "time_results.loc['Python array loop']['Multiplication'] = my_time.best"
   ]
  },
  {
   "cell_type": "code",
   "execution_count": 18,
   "metadata": {
    "collapsed": false
   },
   "outputs": [
    {
     "name": "stdout",
     "output_type": "stream",
     "text": [
      "1 loop, best of 3: 26.5 s per loop\n"
     ]
    }
   ],
   "source": [
    "#Python array loop - Sine\n",
    "def py_arr_loop_sin(v_arr):\n",
    "    for i in range(N):\n",
    "        w_arr[i] = sin(v_arr[i])\n",
    "    return w_arr\n",
    "\n",
    "my_time = %timeit -o py_arr_loop_sin(v_arr)\n",
    "time_results.loc['Python array loop']['Sine'] = my_time.best"
   ]
  },
  {
   "cell_type": "code",
   "execution_count": 19,
   "metadata": {
    "collapsed": false
   },
   "outputs": [
    {
     "name": "stdout",
     "output_type": "stream",
     "text": [
      "1 loop, best of 3: 27 s per loop\n"
     ]
    }
   ],
   "source": [
    "#Python array map - Addition\n",
    "def py_arr_map_add(v_arr):\n",
    "    return array('f',map(add, v_arr,v_arr))\n",
    "\n",
    "my_time = %timeit -o py_arr_map_add(v_arr)\n",
    "time_results.loc['Python array map']['Addition'] = my_time.best"
   ]
  },
  {
   "cell_type": "code",
   "execution_count": 20,
   "metadata": {
    "collapsed": false
   },
   "outputs": [
    {
     "name": "stdout",
     "output_type": "stream",
     "text": [
      "1 loop, best of 3: 26.7 s per loop\n"
     ]
    }
   ],
   "source": [
    "#Python array map - Multiplication\n",
    "def py_arr_map_mult(v_arr):\n",
    "    return array('f',map(mult, v_arr,v_arr))\n",
    "\n",
    "my_time = %timeit -o py_arr_map_mult(v_arr)\n",
    "time_results.loc['Python array map']['Multiplication'] = my_time.best"
   ]
  },
  {
   "cell_type": "code",
   "execution_count": 21,
   "metadata": {
    "collapsed": false
   },
   "outputs": [
    {
     "name": "stdout",
     "output_type": "stream",
     "text": [
      "1 loop, best of 3: 22.1 s per loop\n"
     ]
    }
   ],
   "source": [
    "#Python array map - Sine\n",
    "def py_arr_map_sin(v_arr):\n",
    "    return array('f',map(sin,v_arr))\n",
    "\n",
    "my_time = %timeit -o py_arr_map_sin(v_arr)\n",
    "time_results.loc['Python array map']['Sine'] = my_time.best"
   ]
  },
  {
   "cell_type": "code",
   "execution_count": 22,
   "metadata": {
    "collapsed": false
   },
   "outputs": [
    {
     "name": "stdout",
     "output_type": "stream",
     "text": [
      "1 loop, best of 3: 8.07 s per loop\n"
     ]
    }
   ],
   "source": [
    "#Python array comprehension - Addition\n",
    "def py_arr_comp_add(v_arr):\n",
    "    return [val+val for val in v_arr]\n",
    "\n",
    "my_time = %timeit -o py_arr_comp_add(v_arr)\n",
    "time_results.loc['Python array comprehension']['Addition'] = my_time.best"
   ]
  },
  {
   "cell_type": "code",
   "execution_count": 23,
   "metadata": {
    "collapsed": false
   },
   "outputs": [
    {
     "name": "stdout",
     "output_type": "stream",
     "text": [
      "1 loop, best of 3: 8.4 s per loop\n"
     ]
    }
   ],
   "source": [
    "#Python array comprehension - Multi;lication\n",
    "def py_arr_comp_mult(v_arr):\n",
    "    return [val*val for val in v_arr]\n",
    "\n",
    "my_time = %timeit -o py_arr_comp_mult(v_arr)\n",
    "time_results.loc['Python array comprehension']['Multiplication'] = my_time.best"
   ]
  },
  {
   "cell_type": "code",
   "execution_count": 24,
   "metadata": {
    "collapsed": false
   },
   "outputs": [
    {
     "name": "stdout",
     "output_type": "stream",
     "text": [
      "1 loop, best of 3: 16.6 s per loop\n"
     ]
    }
   ],
   "source": [
    "#Python array comprehension - Sine\n",
    "def py_arr_comp_sin(v_arr):\n",
    "    return [sin(val)for val in v_arr]\n",
    "\n",
    "my_time = %timeit -o py_arr_comp_sin(v_arr)\n",
    "time_results.loc['Python array comprehension']['Sine'] = my_time.best"
   ]
  },
  {
   "cell_type": "markdown",
   "metadata": {},
   "source": [
    "## Numpy"
   ]
  },
  {
   "cell_type": "code",
   "execution_count": 4,
   "metadata": {
    "collapsed": true
   },
   "outputs": [],
   "source": [
    "v_num_arr = np.arange(N)\n",
    "w_num_arr = np.zeros(N)"
   ]
  },
  {
   "cell_type": "code",
   "execution_count": 26,
   "metadata": {
    "collapsed": false
   },
   "outputs": [
    {
     "name": "stdout",
     "output_type": "stream",
     "text": [
      "1 loop, best of 3: 43.2 s per loop\n"
     ]
    }
   ],
   "source": [
    "#Numpy loop - Addition\n",
    "def np_loop_add(v_num_arr):\n",
    "    for i in range(N):\n",
    "        w_num_arr[i] = v_num_arr[i]+v_num_arr[i]\n",
    "    return w_num_arr\n",
    "\n",
    "my_time = %timeit -o np_loop_add(v_num_arr)\n",
    "time_results.loc['Numpy loop']['Addition'] = my_time.best"
   ]
  },
  {
   "cell_type": "code",
   "execution_count": 27,
   "metadata": {
    "collapsed": false
   },
   "outputs": [
    {
     "name": "stdout",
     "output_type": "stream",
     "text": [
      "1 loop, best of 3: 43.1 s per loop\n"
     ]
    }
   ],
   "source": [
    "#Numpy loop - Multiplication\n",
    "def np_loop_mult(v_num_arr):\n",
    "    for i in range(N):\n",
    "        w_num_arr[i] = v_num_arr[i]*v_num_arr[i]\n",
    "    return w_num_arr\n",
    "\n",
    "my_time = %timeit -o np_loop_mult(v_num_arr)\n",
    "time_results.loc['Numpy loop']['Multiplication'] = my_time.best"
   ]
  },
  {
   "cell_type": "code",
   "execution_count": 28,
   "metadata": {
    "collapsed": false
   },
   "outputs": [
    {
     "name": "stdout",
     "output_type": "stream",
     "text": [
      "1 loop, best of 3: 2min 57s per loop\n"
     ]
    }
   ],
   "source": [
    "#Numpy loop - Sine\n",
    "def np_loop_sin(v_num_arr):\n",
    "    for i in range(N):\n",
    "        w_num_arr[i] = np.sin(v_num_arr[i])\n",
    "    return w_num_arr\n",
    "\n",
    "my_time = %timeit -o np_loop_sin(v_num_arr)\n",
    "time_results.loc['Numpy loop']['Sine'] = my_time.best"
   ]
  },
  {
   "cell_type": "code",
   "execution_count": 5,
   "metadata": {
    "collapsed": false
   },
   "outputs": [
    {
     "name": "stdout",
     "output_type": "stream",
     "text": [
      "1 loop, best of 3: 2.82 s per loop\n"
     ]
    }
   ],
   "source": [
    "#Numpy vectors - Addition\n",
    "def np_vec_add(v_num_arr):\n",
    "    return v_num_arr+v_num_arr\n",
    "\n",
    "my_time = %timeit -o v_num_arr+v_num_arr\n",
    "time_results.loc['Numpy vectors']['Addition'] = my_time.best"
   ]
  },
  {
   "cell_type": "code",
   "execution_count": 30,
   "metadata": {
    "collapsed": false
   },
   "outputs": [
    {
     "name": "stdout",
     "output_type": "stream",
     "text": [
      "1 loop, best of 3: 305 ms per loop\n"
     ]
    }
   ],
   "source": [
    "#Numpy vectors - Multiplication\n",
    "def np_vec_mult(v_num_arr):\n",
    "    return v_num_arr*v_num_arr\n",
    "\n",
    "my_time = %timeit -o v_num_arr*v_num_arr\n",
    "time_results.loc['Numpy vectors']['Multiplication'] = my_time.best"
   ]
  },
  {
   "cell_type": "code",
   "execution_count": 31,
   "metadata": {
    "collapsed": false
   },
   "outputs": [
    {
     "name": "stdout",
     "output_type": "stream",
     "text": [
      "1 loop, best of 3: 4.8 s per loop\n"
     ]
    }
   ],
   "source": [
    "#Numpy vectors - Sine\n",
    "\n",
    "my_time = %timeit -o np.sin(v_num_arr)\n",
    "time_results.loc['Numpy vectors']['Sine'] = my_time.best"
   ]
  },
  {
   "cell_type": "code",
   "execution_count": 40,
   "metadata": {
    "collapsed": true
   },
   "outputs": [],
   "source": [
    "#Matlab Results\n",
    "if N == 10**7:\n",
    "    pass\n",
    "\n",
    "if N == 10**8:\n",
    "    time_results.loc['Matlab']['Addition'] = 0.136806\n",
    "    time_results.loc['Matlab']['Multiplication'] = 0.137132\n",
    "    time_results.loc['Matlab']['Sine'] = 4.312847 "
   ]
  },
  {
   "cell_type": "code",
   "execution_count": 41,
   "metadata": {
    "collapsed": true
   },
   "outputs": [],
   "source": [
    "def highlight(s):\n",
    "    yellow = 'background-color: yellow'\n",
    "    cyan = 'background-color: cyan'\n",
    "    return [yellow if val==s.max() else cyan if val==s.min() else '' for val in s]"
   ]
  },
  {
   "cell_type": "code",
   "execution_count": 42,
   "metadata": {
    "collapsed": false
   },
   "outputs": [
    {
     "data": {
      "text/html": [
       "\n",
       "        <style  type=\"text/css\" >\n",
       "        \n",
       "        \n",
       "            #T_17d008b8_0121_11e8_9c45_005056864d39row6_col0 {\n",
       "            \n",
       "                background-color:  yellow;\n",
       "            \n",
       "            }\n",
       "        \n",
       "            #T_17d008b8_0121_11e8_9c45_005056864d39row6_col1 {\n",
       "            \n",
       "                background-color:  yellow;\n",
       "            \n",
       "            }\n",
       "        \n",
       "            #T_17d008b8_0121_11e8_9c45_005056864d39row6_col2 {\n",
       "            \n",
       "                background-color:  yellow;\n",
       "            \n",
       "            }\n",
       "        \n",
       "            #T_17d008b8_0121_11e8_9c45_005056864d39row8_col0 {\n",
       "            \n",
       "                background-color:  cyan;\n",
       "            \n",
       "            }\n",
       "        \n",
       "            #T_17d008b8_0121_11e8_9c45_005056864d39row8_col1 {\n",
       "            \n",
       "                background-color:  cyan;\n",
       "            \n",
       "            }\n",
       "        \n",
       "            #T_17d008b8_0121_11e8_9c45_005056864d39row8_col2 {\n",
       "            \n",
       "                background-color:  cyan;\n",
       "            \n",
       "            }\n",
       "        \n",
       "        </style>\n",
       "\n",
       "        <table id=\"T_17d008b8_0121_11e8_9c45_005056864d39\" None>\n",
       "        \n",
       "\n",
       "        <thead>\n",
       "            \n",
       "            <tr>\n",
       "                \n",
       "                <th class=\"blank\">\n",
       "                \n",
       "                <th class=\"col_heading level0 col0\">Addition\n",
       "                \n",
       "                <th class=\"col_heading level0 col1\">Multiplication\n",
       "                \n",
       "                <th class=\"col_heading level0 col2\">Sine\n",
       "                \n",
       "            </tr>\n",
       "            \n",
       "        </thead>\n",
       "        <tbody>\n",
       "            \n",
       "            <tr>\n",
       "                \n",
       "                <th id=\"T_17d008b8_0121_11e8_9c45_005056864d39\" class=\"row_heading level2 row0\">\n",
       "                    Python list loop\n",
       "                \n",
       "                <td id=\"T_17d008b8_0121_11e8_9c45_005056864d39row0_col0\" class=\"data row0 col0\">\n",
       "                    16.46\n",
       "                \n",
       "                <td id=\"T_17d008b8_0121_11e8_9c45_005056864d39row0_col1\" class=\"data row0 col1\">\n",
       "                    16.6376\n",
       "                \n",
       "                <td id=\"T_17d008b8_0121_11e8_9c45_005056864d39row0_col2\" class=\"data row0 col2\">\n",
       "                    16.695\n",
       "                \n",
       "            </tr>\n",
       "            \n",
       "            <tr>\n",
       "                \n",
       "                <th id=\"T_17d008b8_0121_11e8_9c45_005056864d39\" class=\"row_heading level2 row1\">\n",
       "                    Python list map\n",
       "                \n",
       "                <td id=\"T_17d008b8_0121_11e8_9c45_005056864d39row1_col0\" class=\"data row1 col0\">\n",
       "                    23.9762\n",
       "                \n",
       "                <td id=\"T_17d008b8_0121_11e8_9c45_005056864d39row1_col1\" class=\"data row1 col1\">\n",
       "                    24.5778\n",
       "                \n",
       "                <td id=\"T_17d008b8_0121_11e8_9c45_005056864d39row1_col2\" class=\"data row1 col2\">\n",
       "                    22.8752\n",
       "                \n",
       "            </tr>\n",
       "            \n",
       "            <tr>\n",
       "                \n",
       "                <th id=\"T_17d008b8_0121_11e8_9c45_005056864d39\" class=\"row_heading level2 row2\">\n",
       "                    Python list comprehension\n",
       "                \n",
       "                <td id=\"T_17d008b8_0121_11e8_9c45_005056864d39row2_col0\" class=\"data row2 col0\">\n",
       "                    9.60408\n",
       "                \n",
       "                <td id=\"T_17d008b8_0121_11e8_9c45_005056864d39row2_col1\" class=\"data row2 col1\">\n",
       "                    9.43001\n",
       "                \n",
       "                <td id=\"T_17d008b8_0121_11e8_9c45_005056864d39row2_col2\" class=\"data row2 col2\">\n",
       "                    23.7846\n",
       "                \n",
       "            </tr>\n",
       "            \n",
       "            <tr>\n",
       "                \n",
       "                <th id=\"T_17d008b8_0121_11e8_9c45_005056864d39\" class=\"row_heading level2 row3\">\n",
       "                    Python array loop\n",
       "                \n",
       "                <td id=\"T_17d008b8_0121_11e8_9c45_005056864d39row3_col0\" class=\"data row3 col0\">\n",
       "                    26.7864\n",
       "                \n",
       "                <td id=\"T_17d008b8_0121_11e8_9c45_005056864d39row3_col1\" class=\"data row3 col1\">\n",
       "                    20.6364\n",
       "                \n",
       "                <td id=\"T_17d008b8_0121_11e8_9c45_005056864d39row3_col2\" class=\"data row3 col2\">\n",
       "                    26.4553\n",
       "                \n",
       "            </tr>\n",
       "            \n",
       "            <tr>\n",
       "                \n",
       "                <th id=\"T_17d008b8_0121_11e8_9c45_005056864d39\" class=\"row_heading level2 row4\">\n",
       "                    Python array map\n",
       "                \n",
       "                <td id=\"T_17d008b8_0121_11e8_9c45_005056864d39row4_col0\" class=\"data row4 col0\">\n",
       "                    26.9524\n",
       "                \n",
       "                <td id=\"T_17d008b8_0121_11e8_9c45_005056864d39row4_col1\" class=\"data row4 col1\">\n",
       "                    26.7495\n",
       "                \n",
       "                <td id=\"T_17d008b8_0121_11e8_9c45_005056864d39row4_col2\" class=\"data row4 col2\">\n",
       "                    22.0819\n",
       "                \n",
       "            </tr>\n",
       "            \n",
       "            <tr>\n",
       "                \n",
       "                <th id=\"T_17d008b8_0121_11e8_9c45_005056864d39\" class=\"row_heading level2 row5\">\n",
       "                    Python array comprehension\n",
       "                \n",
       "                <td id=\"T_17d008b8_0121_11e8_9c45_005056864d39row5_col0\" class=\"data row5 col0\">\n",
       "                    8.06713\n",
       "                \n",
       "                <td id=\"T_17d008b8_0121_11e8_9c45_005056864d39row5_col1\" class=\"data row5 col1\">\n",
       "                    8.40014\n",
       "                \n",
       "                <td id=\"T_17d008b8_0121_11e8_9c45_005056864d39row5_col2\" class=\"data row5 col2\">\n",
       "                    16.5509\n",
       "                \n",
       "            </tr>\n",
       "            \n",
       "            <tr>\n",
       "                \n",
       "                <th id=\"T_17d008b8_0121_11e8_9c45_005056864d39\" class=\"row_heading level2 row6\">\n",
       "                    Numpy loop\n",
       "                \n",
       "                <td id=\"T_17d008b8_0121_11e8_9c45_005056864d39row6_col0\" class=\"data row6 col0\">\n",
       "                    43.1761\n",
       "                \n",
       "                <td id=\"T_17d008b8_0121_11e8_9c45_005056864d39row6_col1\" class=\"data row6 col1\">\n",
       "                    43.1456\n",
       "                \n",
       "                <td id=\"T_17d008b8_0121_11e8_9c45_005056864d39row6_col2\" class=\"data row6 col2\">\n",
       "                    177.271\n",
       "                \n",
       "            </tr>\n",
       "            \n",
       "            <tr>\n",
       "                \n",
       "                <th id=\"T_17d008b8_0121_11e8_9c45_005056864d39\" class=\"row_heading level2 row7\">\n",
       "                    Numpy vectors\n",
       "                \n",
       "                <td id=\"T_17d008b8_0121_11e8_9c45_005056864d39row7_col0\" class=\"data row7 col0\">\n",
       "                    0.270073\n",
       "                \n",
       "                <td id=\"T_17d008b8_0121_11e8_9c45_005056864d39row7_col1\" class=\"data row7 col1\">\n",
       "                    0.305033\n",
       "                \n",
       "                <td id=\"T_17d008b8_0121_11e8_9c45_005056864d39row7_col2\" class=\"data row7 col2\">\n",
       "                    4.80182\n",
       "                \n",
       "            </tr>\n",
       "            \n",
       "            <tr>\n",
       "                \n",
       "                <th id=\"T_17d008b8_0121_11e8_9c45_005056864d39\" class=\"row_heading level2 row8\">\n",
       "                    Matlab\n",
       "                \n",
       "                <td id=\"T_17d008b8_0121_11e8_9c45_005056864d39row8_col0\" class=\"data row8 col0\">\n",
       "                    0.136806\n",
       "                \n",
       "                <td id=\"T_17d008b8_0121_11e8_9c45_005056864d39row8_col1\" class=\"data row8 col1\">\n",
       "                    0.137132\n",
       "                \n",
       "                <td id=\"T_17d008b8_0121_11e8_9c45_005056864d39row8_col2\" class=\"data row8 col2\">\n",
       "                    4.31285\n",
       "                \n",
       "            </tr>\n",
       "            \n",
       "        </tbody>\n",
       "        </table>\n",
       "        "
      ],
      "text/plain": [
       "<pandas.core.style.Styler at 0x7f45902d7748>"
      ]
     },
     "execution_count": 42,
     "metadata": {},
     "output_type": "execute_result"
    }
   ],
   "source": [
    "time_results.style.apply(highlight)"
   ]
  },
  {
   "cell_type": "code",
   "execution_count": 35,
   "metadata": {
    "collapsed": false
   },
   "outputs": [
    {
     "data": {
      "text/plain": [
       "<matplotlib.axes._subplots.AxesSubplot at 0x7f457988ccf8>"
      ]
     },
     "execution_count": 35,
     "metadata": {},
     "output_type": "execute_result"
    },
    {
     "data": {
      "image/png": "[encoded data removed]",
      "text/plain": [
       "<matplotlib.figure.Figure at 0x7f457987f5f8>"
      ]
     },
     "metadata": {},
     "output_type": "display_data"
    }
   ],
   "source": [
    "time_results.plot.bar()"
   ]
  },
  {
   "cell_type": "code",
   "execution_count": 36,
   "metadata": {
    "collapsed": false
   },
   "outputs": [],
   "source": [
    "pickle.dump( time_results, open(\"pickles/current_run.pickle\", 'wb'))"
   ]
  },
  {
   "cell_type": "markdown",
   "metadata": {},
   "source": [
    "# Analysis"
   ]
  },
  {
   "cell_type": "markdown",
   "metadata": {},
   "source": [
    "Numpy and Matlab are comparable and far superior to the other methods as expected. This is because they both use parallelized algorithms and/or BLAS librarys to do efficient linear algebra operations. \n",
    "\n",
    "After these two list comprehensions were far superior to using loops or maping. List comprehensions for arrays were roughly as fast as they are for lists whereas all other array operations were far slower than their list couterparts. \n",
    "\n",
    "I susspect that this is not an effective way to measure the speed of using maps. In Python 3 the map function returns a map object which doesn't actually compute any values until the values are referenced. This means that the map function on its own would return in nanoseconds regardless of the size of the array. Obviously this is not comparable. My solution was to pass the map object to the list and array constructors, but I suspect that this the speed of those constructors more than it tests the speed of the map function. In some sense it doesn't make sense to talk about the speed of the map function in Python 3."
   ]
  },
  {
   "cell_type": "markdown",
   "metadata": {},
   "source": [
    "# Pre-allocation"
   ]
  },
  {
   "cell_type": "markdown",
   "metadata": {},
   "source": [
    "In C and other compiled languages, there is an operational cost to allocating memory. Preallocating memory in an Array is much more efficient than using a list data structure for two reasons. The first is that lists deal with objects and so have an inherrant operational cost whereas most uses of arrays deal with primative data types making them very fast. The second reason is that to retrieve an element from an array multiplication can be used to quickly find the memory location of that element, but with lists one must start at the head of the list and pass through each node following the pointers until the desired element is found. On the otherhand, lists do not require contiguous blocks of memory and arrays do. \n",
    "\n",
    "Python does not have arrays in the traditional sense. Lists and arrays (from the array module) are both lists in Python. This is easily seen by examining the memory location of elements in the lists and arrays as seen below."
   ]
  },
  {
   "cell_type": "code",
   "execution_count": 37,
   "metadata": {
    "collapsed": false
   },
   "outputs": [
    {
     "name": "stdout",
     "output_type": "stream",
     "text": [
      "[32, 32, 32, 32, 32, 32, 32, 32, 32, 32, 32, 32, 32, 32, 32, 32, 32, 32, 32, 32, 32, 32, 32, 32, 32, 32, 32, 32, 32, 32, 32, 32, 32, 32, 32, 32, 32, 32, 32, 32, 32, 32, 32, 32, 32, 32, 32, 32, 32, 32, 32, 32, 32, 32, 32, 32, 32, 32, 32, 32, 32, 32, 32, 32, 32, 32, 32, 32, 32, 32, 32, 32, 32, 32, 32, 32, 32, 32, 32, 32, 32, 32, 32, 32, 32, 32, 32, 32, 32, 32, 32, 32, 32, 32, 32, 32, 32, 32, 32, 32, 32, 32, 32, 32, 32, 32, 32, 32, 32, 32, 32, 32, 32, 32, 32, 32, 32, 32, 32, 32, 32, 32, 32, 32, 32, 32, 32, 32, 32, 32, 32, 32, 32, 32, 32, 32, 32, 32, 32, 32, 32, 32, 32, 32, 32, 32, 32, 32, 32, 32, 32, 32, 32, 32, 32, 32, 32, 32, 32, 32, 32, 32, 32, 32, 32, 32, 32, 32, 32, 32, 32, 32, 32, 32, 32, 32, 32, 32, 32, 32, 32, 32, 32, 32, 32, 32, 32, 32, 32, 32, 32, 32, 32, 32, 32, 32, 32, 32, 32, 32, 32, 32, 32, 32, 32, 32, 32, 32, 32, 32, 32, 32, 32, 32, 32, 32, 32, 32, 32, 32, 32, 32, 32, 32, 32, 32, 32, 32, 32, 32, 32, 32, 32, 32, 32, 32, 32, 32, 32, 32, 32, 32, 32, 32, 32, 32, 32, 32, 32, 32, 32, 32, 32, 32, 32, 32, -572361968, -286132544, 286956384, -992, -288, -960, 832, -3661879456, -288, 32, 64, -32, 192, 64, -96, -32, -32, -32, -224, 448, 32, 32, 32, 32, 32, 32, 32, 32, 32, 32, 32, 32, 32, 32, 32, 32, 32, 32, 32, 32, 32, 32, 32, 32, 32, 32, 32, 32, 32, 32, 32, 32, 32, 32, 32, 32, 32, 32, 32, 32, 32, 32, 32, 32, 32, 32, 32, 32, 32, 32, 32, 32, 32, 32, 32, 32, 32, 32, 32, 32, 32, 32, 32, 32, 32, 32, 32, 32, 32, 32, 32, 32, 32, 32, 32, 32, 32, 32, 32, 32, 32, 32, 32, 32, 32, 32, 32, 32, 32, 32, 32, 32, 32, 32, 32, 32, 32, 32, 32, 32, 32, 32, 32, 32, 32, 32, 32, 32, 32, 32, 32, 36960, 32, 32, 32, 32, 32, 32, 32, 32, 32, 32, 32, 32, 32, 32, 32, 32, 32, 32, 32, 32, 32, 32, 32, 32, 32, 32, 32, 32, 32, 32, 32, 32, 32, 32, 32, 32, 32, 32, 32, 32, 32, 32, 32, 32, 32, 32, 32, 32, 32, 32, 32, 32, 32, 32, 32, 32, 32, 32, 32, 32, 32, 32, 32, 32, 32, 32, 32, 32, 32, 32, 32, 32, 32, 32, 32, 32, 32, 32, 32, 32, 32, 32, 32, 32, 32, 32, 32, 32, 32, 32, 32, 32, 32, 32, 32, 32, 32, 32, 32, 32, 32, 32, 32, 32, 32, 32, 32, 32, 32, 32, 32, 32, 32, 32, 32, 32, 32, 32, 32, 32, 32, 32, 32, 32, 32, 96, 32, 32, 32, 32, 32, 32, 32, 32, 32, 32, 32, 32, 32, 32, 32, 32, 32, 32, 32, 32, 32, 32, 32, 32, 32, 32, 32, 32, 32, 32, 32, 32, 32, 32, 32, 32, 32, 32, 32, 32, 32, 32, 32, 32, 32, 32, 32, 32, 32, 32, 32, 32, 32, 32, 32, 32, 32, 32, 32, 32, 32, 32, 32, 32, 32, 32, 32, 32, 32, 32, 32, 32, 32, 32, 32, 32, 32, 32, 32, 32, 32, 32, 32, 32, 32, 32, 32, 32, 32, 32, 32, 32, 32, 32, 32, 32, 32, 32, 32, 32, 32, 32, 32, 32, 32, 32, 32, 32, 32, 32, 32, 32, 32, 32, 32, 32, 32, 32, 32, 32, 32, 32, 32, 32, 32, -12192, 32, 32, 32, 32, 32, 32, 32, 32, 32, 32, 32, 32, 32, 32, 32, 32, 32, 32, 32, 32, 32, 32, 32, 32, 32, 32, 32, 32, 32, 32, 32, 32, 32, 32, 32, 32, 32, 32, 32, 32, 32, 32, 32, 32, 32, 32, 32, 32, 32, 32, 32, 32, 32, 32, 32, 32, 32, 32, 32, 32, 32, 32, 32, 32, 32, 32, 32, 32, 32, 32, 32, 32, 32, 32, 32, 32, 32, 32, 32, 32, 32, 32, 32, 32, 32, 32, 32, 32, 32, 32, 32, 32, 32, 32, 32, 32, 32, 32, 32, 32, 32, 32, 32, 32, 32, 32, 32, 32, 32, 32, 32, 32, 32, 32, 32, 32, 32, 32, 32, 32, 32, 32, 32, 32, 32, 16480, 32, 32, 32, 32, 32, 32, 32, 32, 32, 32, 32, 32, 32, 32, 32, 32, 32, 32, 32, 32, 32, 32, 32, 32, 32, 32, 32, 32, 32, 32, 32, 32, 32, 32, 32, 32, 32, 32, 32, 32, 32, 32, 32, 32, 32, 32, 32, 32, 32, 32, 32, 32, 32, 32, 32, 32, 32, 32, 32, 32, 32, 32, 32, 32, 32, 32, 32, 32, 32, 32, 32, 32, 32, 32, 32, 32, 32, 32, 32, 32, 32, 32, 32, 32, 32, 32, 32, 32, 32, 32, 32, 32, 32, 32, 32, 32, 32, 32, 32, 32, 32, 32, 32, 32, 32, 32, 32, 32, 32, 32, 32, 32, 32, 32, 32, 32, 32, 32, 32, 32, 32, 32, 32, 32, 32, 96, 32, 32, 32, 32, 32, 32, 32, 32, 32, 32, 32, 32, 32, 32, 32, 32, 32, 32, 32, 32, 32, 32, 32, 32, 32, 32, 32, 32, 32, 32, 32, 32, 32, 32, 32, 32, 32, 32, 32, 32, 32, 32, 32, 32, 32, 32, 32, 32, 32, 32, 32, 32, 32, 32, 32, 32, 32, 32, 32, 32, 32, 32, 32, 32, 32, 32, 32, 32, 32, 32, 32, 32, 32, 32, 32, 32, 32, 32, 32, 32, 32, 32, 32, 32, 32, 32, 32, 32, 32, 32, 32, 32, 32, 32, 32, 32, 32, 32, 32, 32, 32, 32, 32, 32, 32, 32, 32]\n"
     ]
    }
   ],
   "source": [
    "a = list(range(1000))\n",
    "ids = [id(val) for val in a]\n",
    "print([x1 - x0 for x1,x0 in zip(ids[1:],ids[:-1])])"
   ]
  },
  {
   "cell_type": "code",
   "execution_count": 38,
   "metadata": {
    "collapsed": false
   },
   "outputs": [
    {
     "name": "stdout",
     "output_type": "stream",
     "text": [
      "[32, 32, 32, 32, 32, 32, 32, 32, 32, 32, 32, 32, 32, 32, 32, 32, 32, 32, 32, 32, 32, 32, 32, 32, 32, 32, 32, 32, 32, 32, 32, 32, 32, 32, 32, 32, 32, 32, 32, 32, 32, 32, 32, 32, 32, 32, 32, 32, 32, 32, 32, 32, 32, 32, 32, 32, 32, 32, 32, 32, 32, 32, 32, 32, 32, 32, 32, 32, 32, 32, 32, 32, 32, 32, 32, 32, 32, 32, 32, 32, 32, 32, 32, 32, 32, 32, 32, 32, 32, 32, 32, 32, 32, 32, 32, 32, 32, 32, 32, 32, 32, 32, 32, 32, 32, 32, 32, 32, 32, 32, 32, 32, 32, 32, 32, 32, 32, 32, 32, 32, 32, 32, 32, 32, 32, 32, 32, 32, 32, 32, 32, 32, 32, 32, 32, 32, 32, 32, 32, 32, 32, 32, 32, 32, 32, 32, 32, 32, 32, 32, 32, 32, 32, 32, 32, 32, 32, 32, 32, 32, 32, 32, 32, 32, 32, 32, 32, 32, 32, 32, 32, 32, 32, 32, 32, 32, 32, 32, 32, 32, 32, 32, 32, 32, 32, 32, 32, 32, 32, 32, 32, 32, 32, 32, 32, 32, 32, 32, 32, 32, 32, 32, 32, 32, 32, 32, 32, 32, 32, 32, 32, 32, 32, 32, 32, 32, 32, 32, 32, 32, 32, 32, 32, 32, 32, 32, 32, 32, 32, 32, 32, 32, 32, 32, 32, 32, 32, 32, 32, 32, 32, 32, 32, 32, 32, 32, 32, 32, 32, 32, 32, 32, 32, 32, 32, 32, -4231158800, 128, 32, 32, 32, 32, 32, 32, -2219936, 32, 32, 32, 32, 32, 32, 32, 32, 32, 32, 32, 32, 32, 32, 32, 32, 32, 32, 32, 32, 32, 32, 32, 32, 32, 32, 32, 32, 32, 32, 32, 32, 32, 32, 32, 32, 32, 32, 32, 32, 32, 32, 32, 32, 32, 32, 32, 32, 32, 32, 32, 32, 32, 32, 32, 32, 32, 32, 32, 32, 32, 32, 32, 32, 32, 32, 32, 32, 32, 32, 32, 32, 32, 32, 32, 32, 32, 32, 32, 32, 32, 32, 32, 32, 32, 32, 32, 32, 32, 32, 32, 32, 32, 32, 32, 32, 32, 32, 32, 32, 32, 32, 32, 32, 32, 32, 32, 32, 32, 32, 32, 32, 32, 32, 32, 32, 32, 32, 32, 32, 32, 32, 32, 32, 32, 96, 32, 32, 32, 32, 32, 32, 32, 32, 32, 32, 32, 32, 32, 32, 32, 32, 32, 32, 32, 32, 32, 32, 32, 32, 32, 32, 32, 32, 32, 32, 32, 32, 32, 32, 32, 32, 32, 32, 32, 32, 32, 32, 32, 32, 32, 32, 32, 32, 32, 32, 32, 32, 32, 32, 32, 32, 32, 32, 32, 32, 32, 32, 32, 32, 32, 32, 32, 32, 32, 32, 32, 32, 32, 32, 32, 32, 32, 32, 32, 32, 32, 32, 32, 32, 32, 32, 32, 32, 32, 32, 32, 32, 32, 32, 32, 32, 32, 32, 32, 32, 32, 32, 32, 32, 32, 32, 32, 32, 32, 32, 32, 32, 32, 32, 32, 32, 32, 32, 32, 32, 32, 32, 32, 32, 32, -12192, 32, 32, 32, 32, 32, 32, 32, 32, 32, 32, 32, 32, 32, 32, 32, 32, 32, 32, 32, 32, 32, 32, 32, 32, 32, 32, 32, 32, 32, 32, 32, 32, 32, 32, 32, 32, 32, 32, 32, 32, 32, 32, 32, 32, 32, 32, 32, 32, 32, 32, 32, 32, 32, 32, 32, 32, 32, 32, 32, 32, 32, 32, 32, 32, 32, 32, 32, 32, 32, 32, 32, 32, 32, 32, 32, 32, 32, 32, 32, 32, 32, 32, 32, 32, 32, 32, 32, 32, 32, 32, 32, 32, 32, 32, 32, 32, 32, 32, 32, 32, 32, 32, 32, 32, 32, 32, 32, 32, 32, 32, 32, 32, 32, 32, 32, 32, 32, 32, 32, 32, 32, 32, 32, 32, 32, 16480, 32, 32, 32, 32, 32, 32, 32, 32, 32, 32, 32, 32, 32, 32, 32, 32, 32, 32, 32, 32, 32, 32, 32, 32, 32, 32, 32, 32, 32, 32, 32, 32, 32, 32, 32, 32, 32, 32, 32, 32, 32, 32, 32, 32, 32, 32, 32, 32, 32, 32, 32, 32, 32, 32, 32, 32, 32, 32, 32, 32, 32, 32, 32, 32, 32, 32, 32, 32, 32, 32, 32, 32, 32, 32, 32, 32, 32, 32, 32, 32, 32, 32, 32, 32, 32, 32, 32, 32, 32, 32, 32, 32, 32, 32, 32, 32, 32, 32, 32, 32, 32, 32, 32, 32, 32, 32, 32, 32, 32, 32, 32, 32, 32, 32, 32, 32, 32, 32, 32, 32, 32, 32, 32, 32, 32, 2125920, 32, 32, 32, 32, 32, 32, 32, 32, 32, 32, 32, 32, 32, 32, 32, 32, 32, 32, 32, 32, 32, 32, 32, 32, 32, 32, 32, 32, 32, 32, 32, 32, 32, 32, 32, 32, 32, 32, 32, 32, 32, 32, 32, 32, 32, 32, 32, 32, 32, 32, 32, 32, 32, 32, 32, 32, 32, 32, 32, 32, 32, 32, 32, 32, 32, 32, 32, 32, 32, 32, 32, 32, 32, 32, 32, 32, 32, 32, 32, 32, 32, 32, 32, 32, 32, 32, 32, 32, 32, 32, 32, 32, 32, 32, 32, 32, 32, 32, 32, 32, 32, 32, 32, 32, 32, 32, 32, 32, 32, 32, 32, 32, 32, 32, 32, 32, 32, 32, 32, 32, 32, 32, 32, 32, 32, -8096, 32, 32, 32, 32, 32, 32, 32, 32, 32, 32, 32, 32, 32, 32, 32, 32, 32, 32, 32, 32, 32, 32, 32, 32, 32, 32, 32, 32, 32, 32, 32, 32, 32, 32, 32, 32, 32, 32, 32, 32, 32, 32, 32, 32, 32, 32, 32, 32, 32, 32, 32, 32, 32, 32, 32, 32, 32, 32, 32, 32, 32, 32, 32, 32, 32, 32, 32, 32, 32, 32, 32, 32, 32, 32, 32, 32, 32, 32, 32, 32, 32, 32, 32, 32, 32, 32, 32, 32, 32, 32, 32, 32, 32, 32, 32, 32, 32, 32, 32, 32, 32, 32, 32, 32]\n"
     ]
    }
   ],
   "source": [
    "a = array('i',range(1000))\n",
    "ids = [id(val) for val in a]\n",
    "print([x1 - x0 for x1,x0 in zip(ids[1:],ids[:-1])])"
   ]
  },
  {
   "cell_type": "markdown",
   "metadata": {},
   "source": [
    "As you can see, most elements of the lists are adjacent (separated by 32 address locations), but the list is split between several contiguous blocks of memory.\n",
    "\n",
    "Furthermore, Python 3 does not overwrite these memory locations, but rather it manipulates pointers to swap list elements out."
   ]
  },
  {
   "cell_type": "code",
   "execution_count": 39,
   "metadata": {
    "collapsed": false
   },
   "outputs": [
    {
     "name": "stdout",
     "output_type": "stream",
     "text": [
      "[0, 160, 0]\n"
     ]
    }
   ],
   "source": [
    "l = [1,2,3]\n",
    "previous_ids = [id(val) for val in l]\n",
    "l[1] = 7\n",
    "new_ids = [id(val) for val in l]\n",
    "print([x-y for x,y in zip(new_ids, previous_ids)])"
   ]
  },
  {
   "cell_type": "markdown",
   "metadata": {},
   "source": [
    "The code above demonstrates that instead of overwriting the value at a memory location in a list, Python creates a new object to contain the value, then swaps pointers around to include the new object and remove the old object. The important takeaway here is that $\\textbf{it is imposible to pre-allocate memory in Python 3}$. Even if one creates a list to \"hold the values\" Python will essentially ignore it and reserve new memory locations for new objects. \n",
    "\n",
    "There is one more minor footnote that ought to be addressed. In class we did see very modest speed ups when \"pre-allocating\" lists and looping over them using indices. The best explaination I have for that is that there must be some overhead in the append function that is avoided when simply reassigning a list value. Perhaps this overhead has to do with keeping track of the length of the list or maybe tracking pointers to specific places."
   ]
  },
  {
   "cell_type": "markdown",
   "metadata": {},
   "source": [
    "## Addendum\n",
    "Numpy is different than standard Python and does use real arrays. In fact this method of checking memory location can't be used for numpy array elements because the Python interpreter treats a numpy array as one object and gives the same memory location for any element of the array. \n",
    "\n",
    "There may be some speed ups to pre-allocating memory for numpy arrays, but this should be done carefully. Most numpy operations return copies of arrays anyway so attempts to pre-allocate may be self defeating. "
   ]
  }
 ],
 "metadata": {
  "CodeCell": {
   "cm_config": {
    "lineWrapping": true
   }
  },
  "MarkdownCell": {
   "cm_config": {
    "lineWrapping": true
   }
  },
  "kernelspec": {
   "display_name": "Python 3",
   "language": "python",
   "name": "python3"
  },
  "language_info": {
   "codemirror_mode": {
    "name": "ipython",
    "version": 3
   },
   "file_extension": ".py",
   "mimetype": "text/x-python",
   "name": "python",
   "nbconvert_exporter": "python",
   "pygments_lexer": "ipython3",
   "version": "3.5.4"
  }
 },
 "nbformat": 4,
 "nbformat_minor": 2
}
