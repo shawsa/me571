{
 "cells": [
  {
   "cell_type": "code",
   "execution_count": 125,
   "metadata": {},
   "outputs": [],
   "source": [
    "import numpy as np\n",
    "import pandas as pd\n",
    "import matplotlib.pyplot as plt\n",
    "from math import sin\n",
    "from array import array"
   ]
  },
  {
   "cell_type": "code",
   "execution_count": 126,
   "metadata": {},
   "outputs": [],
   "source": [
    "N = 10**6\n",
    "v = range(N)"
   ]
  },
  {
   "cell_type": "code",
   "execution_count": 127,
   "metadata": {},
   "outputs": [],
   "source": [
    "columns = ['Addition', 'Multiplication', 'Sine']\n",
    "index = ['Python list loop',\n",
    "         'Python list map',\n",
    "         'Python list comprehension', \n",
    "         'Python array loop',\n",
    "         'Python array map',\n",
    "         'Python array comprehension',\n",
    "         'Numpy loop',\n",
    "         'Numpy vectors',\n",
    "         'Matlab']\n",
    "time_results = pd.DataFrame(columns=columns, index=index)"
   ]
  },
  {
   "cell_type": "code",
   "execution_count": 128,
   "metadata": {},
   "outputs": [
    {
     "name": "stdout",
     "output_type": "stream",
     "text": [
      "115 ms ± 2.48 ms per loop (mean ± std. dev. of 7 runs, 1 loop each)\n"
     ]
    },
    {
     "data": {
      "text/plain": [
       "<TimeitResult : 115 ms ± 2.48 ms per loop (mean ± std. dev. of 7 runs, 1 loop each)>"
      ]
     },
     "execution_count": 128,
     "metadata": {},
     "output_type": "execute_result"
    }
   ],
   "source": [
    "%%timeit -o -n 1\n",
    "#Python list loop - Addition\n",
    "w = []\n",
    "for val in v:\n",
    "    w.append(val+val)"
   ]
  },
  {
   "cell_type": "code",
   "execution_count": 129,
   "metadata": {},
   "outputs": [],
   "source": [
    "time_results.loc['Python list loop']['Addition'] = _.average"
   ]
  },
  {
   "cell_type": "code",
   "execution_count": 130,
   "metadata": {},
   "outputs": [
    {
     "name": "stdout",
     "output_type": "stream",
     "text": [
      "124 ms ± 12.7 ms per loop (mean ± std. dev. of 7 runs, 1 loop each)\n"
     ]
    },
    {
     "data": {
      "text/plain": [
       "<TimeitResult : 124 ms ± 12.7 ms per loop (mean ± std. dev. of 7 runs, 1 loop each)>"
      ]
     },
     "execution_count": 130,
     "metadata": {},
     "output_type": "execute_result"
    }
   ],
   "source": [
    "%%timeit -o -n 1\n",
    "#Python list loop - Multiplication\n",
    "w = []\n",
    "for val in v:\n",
    "    w.append(val*val)"
   ]
  },
  {
   "cell_type": "code",
   "execution_count": 131,
   "metadata": {},
   "outputs": [],
   "source": [
    "time_results.loc['Python list loop']['Multiplication'] = _.average"
   ]
  },
  {
   "cell_type": "code",
   "execution_count": 132,
   "metadata": {},
   "outputs": [
    {
     "name": "stdout",
     "output_type": "stream",
     "text": [
      "242 ms ± 10.8 ms per loop (mean ± std. dev. of 7 runs, 1 loop each)\n"
     ]
    },
    {
     "data": {
      "text/plain": [
       "<TimeitResult : 242 ms ± 10.8 ms per loop (mean ± std. dev. of 7 runs, 1 loop each)>"
      ]
     },
     "execution_count": 132,
     "metadata": {},
     "output_type": "execute_result"
    }
   ],
   "source": [
    "%%timeit -o -n 1\n",
    "#Python list loop - Sine\n",
    "w = []\n",
    "for val in v:\n",
    "    w.append(sin(val))"
   ]
  },
  {
   "cell_type": "code",
   "execution_count": 133,
   "metadata": {},
   "outputs": [],
   "source": [
    "time_results.loc['Python list loop']['Sine'] = _.average"
   ]
  },
  {
   "cell_type": "code",
   "execution_count": 134,
   "metadata": {},
   "outputs": [],
   "source": [
    "def add(x,y):\n",
    "    return x+y\n",
    "def mult(x,y):\n",
    "    return x*y"
   ]
  },
  {
   "cell_type": "code",
   "execution_count": 135,
   "metadata": {},
   "outputs": [
    {
     "name": "stdout",
     "output_type": "stream",
     "text": [
      "152 ms ± 4.34 ms per loop (mean ± std. dev. of 7 runs, 1 loop each)\n"
     ]
    },
    {
     "data": {
      "text/plain": [
       "<TimeitResult : 152 ms ± 4.34 ms per loop (mean ± std. dev. of 7 runs, 1 loop each)>"
      ]
     },
     "execution_count": 135,
     "metadata": {},
     "output_type": "execute_result"
    }
   ],
   "source": [
    "%%timeit -o -n 1\n",
    "#Python list map - Addition\n",
    "w = list(map(add, v,v))"
   ]
  },
  {
   "cell_type": "code",
   "execution_count": 136,
   "metadata": {},
   "outputs": [],
   "source": [
    "time_results.loc['Python list map']['Addition'] = _.average"
   ]
  },
  {
   "cell_type": "code",
   "execution_count": null,
   "metadata": {},
   "outputs": [],
   "source": []
  },
  {
   "cell_type": "code",
   "execution_count": 137,
   "metadata": {},
   "outputs": [
    {
     "name": "stdout",
     "output_type": "stream",
     "text": [
      "157 ms ± 2.82 ms per loop (mean ± std. dev. of 7 runs, 1 loop each)\n"
     ]
    },
    {
     "data": {
      "text/plain": [
       "<TimeitResult : 157 ms ± 2.82 ms per loop (mean ± std. dev. of 7 runs, 1 loop each)>"
      ]
     },
     "execution_count": 137,
     "metadata": {},
     "output_type": "execute_result"
    }
   ],
   "source": [
    "%%timeit -o -n 1\n",
    "#Python list map - Multiplication\n",
    "w = list(map(mult, v,v))"
   ]
  },
  {
   "cell_type": "code",
   "execution_count": 138,
   "metadata": {},
   "outputs": [],
   "source": [
    "time_results.loc['Python list map']['Multiplication'] = _.average"
   ]
  },
  {
   "cell_type": "code",
   "execution_count": 139,
   "metadata": {},
   "outputs": [
    {
     "name": "stdout",
     "output_type": "stream",
     "text": [
      "170 ms ± 1.43 ms per loop (mean ± std. dev. of 7 runs, 1 loop each)\n"
     ]
    },
    {
     "data": {
      "text/plain": [
       "<TimeitResult : 170 ms ± 1.43 ms per loop (mean ± std. dev. of 7 runs, 1 loop each)>"
      ]
     },
     "execution_count": 139,
     "metadata": {},
     "output_type": "execute_result"
    }
   ],
   "source": [
    "%%timeit -o -n 1\n",
    "#Python list map - Sine\n",
    "w = list(map(sin, v))"
   ]
  },
  {
   "cell_type": "code",
   "execution_count": 140,
   "metadata": {},
   "outputs": [],
   "source": [
    "time_results.loc['Python list map']['Sine'] = _.average"
   ]
  },
  {
   "cell_type": "code",
   "execution_count": 141,
   "metadata": {},
   "outputs": [
    {
     "name": "stdout",
     "output_type": "stream",
     "text": [
      "65.7 ms ± 1.74 ms per loop (mean ± std. dev. of 7 runs, 1 loop each)\n"
     ]
    },
    {
     "data": {
      "text/plain": [
       "<TimeitResult : 65.7 ms ± 1.74 ms per loop (mean ± std. dev. of 7 runs, 1 loop each)>"
      ]
     },
     "execution_count": 141,
     "metadata": {},
     "output_type": "execute_result"
    }
   ],
   "source": [
    "%%timeit -o -n 1\n",
    "#Python list comprehension - Addition\n",
    "w = [x+x for x in v]"
   ]
  },
  {
   "cell_type": "code",
   "execution_count": 142,
   "metadata": {},
   "outputs": [],
   "source": [
    "time_results.loc['Python list comprehension']['Addition'] = _.average"
   ]
  },
  {
   "cell_type": "code",
   "execution_count": 143,
   "metadata": {},
   "outputs": [
    {
     "name": "stdout",
     "output_type": "stream",
     "text": [
      "70.9 ms ± 4.82 ms per loop (mean ± std. dev. of 7 runs, 1 loop each)\n"
     ]
    },
    {
     "data": {
      "text/plain": [
       "<TimeitResult : 70.9 ms ± 4.82 ms per loop (mean ± std. dev. of 7 runs, 1 loop each)>"
      ]
     },
     "execution_count": 143,
     "metadata": {},
     "output_type": "execute_result"
    }
   ],
   "source": [
    "%%timeit -o -n 1\n",
    "#Python list comprehension - Multiplication\n",
    "w = [x*x for x in v]"
   ]
  },
  {
   "cell_type": "code",
   "execution_count": 144,
   "metadata": {},
   "outputs": [],
   "source": [
    "time_results.loc['Python list comprehension']['Multiplication'] = _.average"
   ]
  },
  {
   "cell_type": "code",
   "execution_count": 145,
   "metadata": {},
   "outputs": [
    {
     "name": "stdout",
     "output_type": "stream",
     "text": [
      "181 ms ± 1.24 ms per loop (mean ± std. dev. of 7 runs, 1 loop each)\n"
     ]
    },
    {
     "data": {
      "text/plain": [
       "<TimeitResult : 181 ms ± 1.24 ms per loop (mean ± std. dev. of 7 runs, 1 loop each)>"
      ]
     },
     "execution_count": 145,
     "metadata": {},
     "output_type": "execute_result"
    }
   ],
   "source": [
    "%%timeit -o -n 1\n",
    "#Python list comprehension - Sine\n",
    "w = [sin(x) for x in v]"
   ]
  },
  {
   "cell_type": "code",
   "execution_count": 146,
   "metadata": {},
   "outputs": [],
   "source": [
    "time_results.loc['Python list comprehension']['Sine'] = _.average"
   ]
  },
  {
   "cell_type": "code",
   "execution_count": 147,
   "metadata": {},
   "outputs": [],
   "source": [
    "v_arr = array('f',v)\n",
    "w = array('f',[0]*N)"
   ]
  },
  {
   "cell_type": "code",
   "execution_count": 148,
   "metadata": {},
   "outputs": [
    {
     "name": "stdout",
     "output_type": "stream",
     "text": [
      "468 ms ± 4.8 ms per loop (mean ± std. dev. of 7 runs, 1 loop each)\n"
     ]
    },
    {
     "data": {
      "text/plain": [
       "<TimeitResult : 468 ms ± 4.8 ms per loop (mean ± std. dev. of 7 runs, 1 loop each)>"
      ]
     },
     "execution_count": 148,
     "metadata": {},
     "output_type": "execute_result"
    }
   ],
   "source": [
    "%%timeit -o -n 1\n",
    "#Python array loop - addition\n",
    "for i in range(N):\n",
    "    w[i] = v[i]+v[i]"
   ]
  },
  {
   "cell_type": "code",
   "execution_count": 149,
   "metadata": {},
   "outputs": [],
   "source": [
    "time_results.loc['Python array loop']['Addition'] = _.average"
   ]
  },
  {
   "cell_type": "code",
   "execution_count": 150,
   "metadata": {},
   "outputs": [
    {
     "name": "stdout",
     "output_type": "stream",
     "text": [
      "469 ms ± 4.43 ms per loop (mean ± std. dev. of 7 runs, 1 loop each)\n"
     ]
    },
    {
     "data": {
      "text/plain": [
       "<TimeitResult : 469 ms ± 4.43 ms per loop (mean ± std. dev. of 7 runs, 1 loop each)>"
      ]
     },
     "execution_count": 150,
     "metadata": {},
     "output_type": "execute_result"
    }
   ],
   "source": [
    "%%timeit -o -n 1\n",
    "#Python array loop - Multiplication\n",
    "for i in range(N):\n",
    "    w[i] = v[i]+v[i]"
   ]
  },
  {
   "cell_type": "code",
   "execution_count": 151,
   "metadata": {},
   "outputs": [],
   "source": [
    "time_results.loc['Python array loop']['Multiplication'] = _.average"
   ]
  },
  {
   "cell_type": "code",
   "execution_count": 152,
   "metadata": {},
   "outputs": [
    {
     "name": "stdout",
     "output_type": "stream",
     "text": [
      "428 ms ± 12.1 ms per loop (mean ± std. dev. of 7 runs, 1 loop each)\n"
     ]
    },
    {
     "data": {
      "text/plain": [
       "<TimeitResult : 428 ms ± 12.1 ms per loop (mean ± std. dev. of 7 runs, 1 loop each)>"
      ]
     },
     "execution_count": 152,
     "metadata": {},
     "output_type": "execute_result"
    }
   ],
   "source": [
    "%%timeit -o -n 1\n",
    "#Python array loop - Sine\n",
    "for i in range(N):\n",
    "    w[i] = sin(v[i])"
   ]
  },
  {
   "cell_type": "code",
   "execution_count": 153,
   "metadata": {},
   "outputs": [],
   "source": [
    "time_results.loc['Python array loop']['Sine'] = _.average"
   ]
  },
  {
   "cell_type": "code",
   "execution_count": 154,
   "metadata": {},
   "outputs": [
    {
     "name": "stdout",
     "output_type": "stream",
     "text": [
      "311 ms ± 9.54 ms per loop (mean ± std. dev. of 7 runs, 1 loop each)\n"
     ]
    },
    {
     "data": {
      "text/plain": [
       "<TimeitResult : 311 ms ± 9.54 ms per loop (mean ± std. dev. of 7 runs, 1 loop each)>"
      ]
     },
     "execution_count": 154,
     "metadata": {},
     "output_type": "execute_result"
    }
   ],
   "source": [
    "%%timeit -o -n 1\n",
    "#Python array map - Addition\n",
    "w = array('f',map(add, v,v))"
   ]
  },
  {
   "cell_type": "code",
   "execution_count": 155,
   "metadata": {},
   "outputs": [],
   "source": [
    "time_results.loc['Python array map']['Addition'] = _.average\n"
   ]
  },
  {
   "cell_type": "code",
   "execution_count": 156,
   "metadata": {},
   "outputs": [
    {
     "name": "stdout",
     "output_type": "stream",
     "text": [
      "306 ms ± 12.5 ms per loop (mean ± std. dev. of 7 runs, 1 loop each)\n"
     ]
    },
    {
     "data": {
      "text/plain": [
       "<TimeitResult : 306 ms ± 12.5 ms per loop (mean ± std. dev. of 7 runs, 1 loop each)>"
      ]
     },
     "execution_count": 156,
     "metadata": {},
     "output_type": "execute_result"
    }
   ],
   "source": [
    "%%timeit -o -n 1\n",
    "#Python array map - Multiplication\n",
    "w = array('f',map(mult, v,v))"
   ]
  },
  {
   "cell_type": "code",
   "execution_count": 157,
   "metadata": {},
   "outputs": [],
   "source": [
    "time_results.loc['Python array map']['Multiplication'] = _.average"
   ]
  },
  {
   "cell_type": "code",
   "execution_count": 158,
   "metadata": {},
   "outputs": [
    {
     "name": "stdout",
     "output_type": "stream",
     "text": [
      "238 ms ± 17.7 ms per loop (mean ± std. dev. of 7 runs, 1 loop each)\n"
     ]
    },
    {
     "data": {
      "text/plain": [
       "<TimeitResult : 238 ms ± 17.7 ms per loop (mean ± std. dev. of 7 runs, 1 loop each)>"
      ]
     },
     "execution_count": 158,
     "metadata": {},
     "output_type": "execute_result"
    }
   ],
   "source": [
    "%%timeit -o -n 1\n",
    "#Python array map - Sine\n",
    "w = array('f',map(sin,v))"
   ]
  },
  {
   "cell_type": "code",
   "execution_count": 159,
   "metadata": {},
   "outputs": [],
   "source": [
    "time_results.loc['Python array map']['Sine'] = _.average"
   ]
  },
  {
   "cell_type": "code",
   "execution_count": 160,
   "metadata": {},
   "outputs": [
    {
     "name": "stdout",
     "output_type": "stream",
     "text": [
      "66 ms ± 1.3 ms per loop (mean ± std. dev. of 7 runs, 1 loop each)\n"
     ]
    },
    {
     "data": {
      "text/plain": [
       "<TimeitResult : 66 ms ± 1.3 ms per loop (mean ± std. dev. of 7 runs, 1 loop each)>"
      ]
     },
     "execution_count": 160,
     "metadata": {},
     "output_type": "execute_result"
    }
   ],
   "source": [
    "%%timeit -o -n 1\n",
    "#Python array comprehension - Addition\n",
    "w = [val+val for val in v]"
   ]
  },
  {
   "cell_type": "code",
   "execution_count": 161,
   "metadata": {},
   "outputs": [
    {
     "data": {
      "text/plain": [
       "\"\\n         'Python array comprehension',\\n         'Numpy loop',\\n         'Numpy vectors']\\n\""
      ]
     },
     "execution_count": 161,
     "metadata": {},
     "output_type": "execute_result"
    }
   ],
   "source": [
    "time_results.loc['Python array comprehension']['Addition'] = _.average\n",
    "'''\n",
    "         'Python array comprehension',\n",
    "         'Numpy loop',\n",
    "         'Numpy vectors']\n",
    "'''"
   ]
  },
  {
   "cell_type": "code",
   "execution_count": 162,
   "metadata": {},
   "outputs": [
    {
     "name": "stdout",
     "output_type": "stream",
     "text": [
      "69.8 ms ± 553 µs per loop (mean ± std. dev. of 7 runs, 1 loop each)\n"
     ]
    },
    {
     "data": {
      "text/plain": [
       "<TimeitResult : 69.8 ms ± 553 µs per loop (mean ± std. dev. of 7 runs, 1 loop each)>"
      ]
     },
     "execution_count": 162,
     "metadata": {},
     "output_type": "execute_result"
    }
   ],
   "source": [
    "%%timeit -o -n 1\n",
    "#Python array comprehension - Multi;lication\n",
    "w = [val*val for val in v]"
   ]
  },
  {
   "cell_type": "code",
   "execution_count": 163,
   "metadata": {},
   "outputs": [],
   "source": [
    "time_results.loc['Python array comprehension']['Multiplication'] = _.average"
   ]
  },
  {
   "cell_type": "code",
   "execution_count": 164,
   "metadata": {},
   "outputs": [
    {
     "name": "stdout",
     "output_type": "stream",
     "text": [
      "190 ms ± 1.34 ms per loop (mean ± std. dev. of 7 runs, 1 loop each)\n"
     ]
    },
    {
     "data": {
      "text/plain": [
       "<TimeitResult : 190 ms ± 1.34 ms per loop (mean ± std. dev. of 7 runs, 1 loop each)>"
      ]
     },
     "execution_count": 164,
     "metadata": {},
     "output_type": "execute_result"
    }
   ],
   "source": [
    "%%timeit -o -n 1\n",
    "#Python array comprehension - Sine\n",
    "w = [sin(val)for val in v]"
   ]
  },
  {
   "cell_type": "code",
   "execution_count": 165,
   "metadata": {},
   "outputs": [],
   "source": [
    "time_results.loc['Python array comprehension']['Sine'] = _.average"
   ]
  },
  {
   "cell_type": "code",
   "execution_count": 166,
   "metadata": {},
   "outputs": [],
   "source": [
    "v = np.arange(N)\n",
    "w = np.zeros(N)"
   ]
  },
  {
   "cell_type": "code",
   "execution_count": 167,
   "metadata": {},
   "outputs": [
    {
     "name": "stdout",
     "output_type": "stream",
     "text": [
      "407 ms ± 12.5 ms per loop (mean ± std. dev. of 7 runs, 1 loop each)\n"
     ]
    },
    {
     "data": {
      "text/plain": [
       "<TimeitResult : 407 ms ± 12.5 ms per loop (mean ± std. dev. of 7 runs, 1 loop each)>"
      ]
     },
     "execution_count": 167,
     "metadata": {},
     "output_type": "execute_result"
    }
   ],
   "source": [
    "%%timeit -o -n 1\n",
    "#Numpy loop - Addition\n",
    "for i in range(N):\n",
    "    w[i] = v[i]+v[i]"
   ]
  },
  {
   "cell_type": "code",
   "execution_count": 168,
   "metadata": {},
   "outputs": [],
   "source": [
    "time_results.loc['Numpy loop']['Addition'] = _.average"
   ]
  },
  {
   "cell_type": "code",
   "execution_count": 169,
   "metadata": {},
   "outputs": [
    {
     "name": "stdout",
     "output_type": "stream",
     "text": [
      "379 ms ± 16.6 ms per loop (mean ± std. dev. of 7 runs, 1 loop each)\n"
     ]
    },
    {
     "data": {
      "text/plain": [
       "<TimeitResult : 379 ms ± 16.6 ms per loop (mean ± std. dev. of 7 runs, 1 loop each)>"
      ]
     },
     "execution_count": 169,
     "metadata": {},
     "output_type": "execute_result"
    }
   ],
   "source": [
    "%%timeit -o -n 1\n",
    "#Numpy loop - Multiplication\n",
    "for i in range(N):\n",
    "    w[i] = v[i]*v[i]"
   ]
  },
  {
   "cell_type": "code",
   "execution_count": 170,
   "metadata": {},
   "outputs": [],
   "source": [
    "time_results.loc['Python array comprehension']['Multiplication'] = _.average"
   ]
  },
  {
   "cell_type": "code",
   "execution_count": 171,
   "metadata": {},
   "outputs": [
    {
     "name": "stdout",
     "output_type": "stream",
     "text": [
      "343 ms ± 4.56 ms per loop (mean ± std. dev. of 7 runs, 1 loop each)\n"
     ]
    },
    {
     "data": {
      "text/plain": [
       "<TimeitResult : 343 ms ± 4.56 ms per loop (mean ± std. dev. of 7 runs, 1 loop each)>"
      ]
     },
     "execution_count": 171,
     "metadata": {},
     "output_type": "execute_result"
    }
   ],
   "source": [
    "%%timeit -o -n 1\n",
    "#Numpy loop - Sine\n",
    "for i in range(N):\n",
    "    w[i] = sin(v[i])"
   ]
  },
  {
   "cell_type": "code",
   "execution_count": 172,
   "metadata": {},
   "outputs": [],
   "source": [
    "time_results.loc['Python array comprehension']['Sine'] = _.average"
   ]
  },
  {
   "cell_type": "code",
   "execution_count": 173,
   "metadata": {},
   "outputs": [
    {
     "name": "stdout",
     "output_type": "stream",
     "text": [
      "1.95 ms ± 497 µs per loop (mean ± std. dev. of 7 runs, 1 loop each)\n"
     ]
    },
    {
     "data": {
      "text/plain": [
       "<TimeitResult : 1.95 ms ± 497 µs per loop (mean ± std. dev. of 7 runs, 1 loop each)>"
      ]
     },
     "execution_count": 173,
     "metadata": {},
     "output_type": "execute_result"
    }
   ],
   "source": [
    "%%timeit -o -n 1\n",
    "#Numpy vectors - Addition\n",
    "w = v+v"
   ]
  },
  {
   "cell_type": "code",
   "execution_count": 174,
   "metadata": {},
   "outputs": [],
   "source": [
    "time_results.loc['Numpy vectors']['Addition'] = _.average"
   ]
  },
  {
   "cell_type": "code",
   "execution_count": 175,
   "metadata": {},
   "outputs": [
    {
     "name": "stdout",
     "output_type": "stream",
     "text": [
      "1.88 ms ± 173 µs per loop (mean ± std. dev. of 7 runs, 1 loop each)\n"
     ]
    },
    {
     "data": {
      "text/plain": [
       "<TimeitResult : 1.88 ms ± 173 µs per loop (mean ± std. dev. of 7 runs, 1 loop each)>"
      ]
     },
     "execution_count": 175,
     "metadata": {},
     "output_type": "execute_result"
    }
   ],
   "source": [
    "%%timeit -o -n 1\n",
    "#Numpy vectors - Multiplication\n",
    "w = v*v"
   ]
  },
  {
   "cell_type": "code",
   "execution_count": 176,
   "metadata": {},
   "outputs": [],
   "source": [
    "time_results.loc['Numpy vectors']['Multiplication'] = _.average"
   ]
  },
  {
   "cell_type": "code",
   "execution_count": 177,
   "metadata": {},
   "outputs": [
    {
     "name": "stdout",
     "output_type": "stream",
     "text": [
      "38.7 ms ± 697 µs per loop (mean ± std. dev. of 7 runs, 1 loop each)\n"
     ]
    },
    {
     "data": {
      "text/plain": [
       "<TimeitResult : 38.7 ms ± 697 µs per loop (mean ± std. dev. of 7 runs, 1 loop each)>"
      ]
     },
     "execution_count": 177,
     "metadata": {},
     "output_type": "execute_result"
    }
   ],
   "source": [
    "%%timeit -o -n 1\n",
    "#Numpy vectors - Sine\n",
    "w = np.sin(v)"
   ]
  },
  {
   "cell_type": "code",
   "execution_count": 178,
   "metadata": {},
   "outputs": [],
   "source": [
    "time_results.loc['Numpy vectors']['Sine'] = _.average"
   ]
  },
  {
   "cell_type": "code",
   "execution_count": 179,
   "metadata": {},
   "outputs": [],
   "source": [
    "time_results.loc['Matlab']['Addition'] = 0.001516\n",
    "time_results.loc['Matlab']['Multiplication'] = 0.001467\n",
    "time_results.loc['Matlab']['Sine'] = 0.015683"
   ]
  },
  {
   "cell_type": "code",
   "execution_count": 180,
   "metadata": {},
   "outputs": [],
   "source": [
    "def highlight(s):\n",
    "    yellow = 'background-color: yellow'\n",
    "    cyan = 'background-color: cyan'\n",
    "    return [yellow if val==s.max() else cyan if val==s.min() else '' for val in s]"
   ]
  },
  {
   "cell_type": "code",
   "execution_count": 181,
   "metadata": {},
   "outputs": [
    {
     "data": {
      "text/html": [
       "<style  type=\"text/css\" >\n",
       "    #T_18456662_fc03_11e7_8ec9_180373272ae0row3_col0 {\n",
       "            background-color:  yellow;\n",
       "        }    #T_18456662_fc03_11e7_8ec9_180373272ae0row3_col1 {\n",
       "            background-color:  yellow;\n",
       "        }    #T_18456662_fc03_11e7_8ec9_180373272ae0row3_col2 {\n",
       "            background-color:  yellow;\n",
       "        }    #T_18456662_fc03_11e7_8ec9_180373272ae0row8_col0 {\n",
       "            background-color:  cyan;\n",
       "        }    #T_18456662_fc03_11e7_8ec9_180373272ae0row8_col1 {\n",
       "            background-color:  cyan;\n",
       "        }    #T_18456662_fc03_11e7_8ec9_180373272ae0row8_col2 {\n",
       "            background-color:  cyan;\n",
       "        }</style>  \n",
       "<table id=\"T_18456662_fc03_11e7_8ec9_180373272ae0\" > \n",
       "<thead>    <tr> \n",
       "        <th class=\"blank level0\" ></th> \n",
       "        <th class=\"col_heading level0 col0\" >Addition</th> \n",
       "        <th class=\"col_heading level0 col1\" >Multiplication</th> \n",
       "        <th class=\"col_heading level0 col2\" >Sine</th> \n",
       "    </tr></thead> \n",
       "<tbody>    <tr> \n",
       "        <th id=\"T_18456662_fc03_11e7_8ec9_180373272ae0level0_row0\" class=\"row_heading level0 row0\" >Python list loop</th> \n",
       "        <td id=\"T_18456662_fc03_11e7_8ec9_180373272ae0row0_col0\" class=\"data row0 col0\" >0.115365</td> \n",
       "        <td id=\"T_18456662_fc03_11e7_8ec9_180373272ae0row0_col1\" class=\"data row0 col1\" >0.124486</td> \n",
       "        <td id=\"T_18456662_fc03_11e7_8ec9_180373272ae0row0_col2\" class=\"data row0 col2\" >0.242377</td> \n",
       "    </tr>    <tr> \n",
       "        <th id=\"T_18456662_fc03_11e7_8ec9_180373272ae0level0_row1\" class=\"row_heading level0 row1\" >Python list map</th> \n",
       "        <td id=\"T_18456662_fc03_11e7_8ec9_180373272ae0row1_col0\" class=\"data row1 col0\" >0.152323</td> \n",
       "        <td id=\"T_18456662_fc03_11e7_8ec9_180373272ae0row1_col1\" class=\"data row1 col1\" >0.156787</td> \n",
       "        <td id=\"T_18456662_fc03_11e7_8ec9_180373272ae0row1_col2\" class=\"data row1 col2\" >0.170409</td> \n",
       "    </tr>    <tr> \n",
       "        <th id=\"T_18456662_fc03_11e7_8ec9_180373272ae0level0_row2\" class=\"row_heading level0 row2\" >Python list comprehension</th> \n",
       "        <td id=\"T_18456662_fc03_11e7_8ec9_180373272ae0row2_col0\" class=\"data row2 col0\" >0.065735</td> \n",
       "        <td id=\"T_18456662_fc03_11e7_8ec9_180373272ae0row2_col1\" class=\"data row2 col1\" >0.0709315</td> \n",
       "        <td id=\"T_18456662_fc03_11e7_8ec9_180373272ae0row2_col2\" class=\"data row2 col2\" >0.181163</td> \n",
       "    </tr>    <tr> \n",
       "        <th id=\"T_18456662_fc03_11e7_8ec9_180373272ae0level0_row3\" class=\"row_heading level0 row3\" >Python array loop</th> \n",
       "        <td id=\"T_18456662_fc03_11e7_8ec9_180373272ae0row3_col0\" class=\"data row3 col0\" >0.468203</td> \n",
       "        <td id=\"T_18456662_fc03_11e7_8ec9_180373272ae0row3_col1\" class=\"data row3 col1\" >0.468795</td> \n",
       "        <td id=\"T_18456662_fc03_11e7_8ec9_180373272ae0row3_col2\" class=\"data row3 col2\" >0.427764</td> \n",
       "    </tr>    <tr> \n",
       "        <th id=\"T_18456662_fc03_11e7_8ec9_180373272ae0level0_row4\" class=\"row_heading level0 row4\" >Python array map</th> \n",
       "        <td id=\"T_18456662_fc03_11e7_8ec9_180373272ae0row4_col0\" class=\"data row4 col0\" >0.31063</td> \n",
       "        <td id=\"T_18456662_fc03_11e7_8ec9_180373272ae0row4_col1\" class=\"data row4 col1\" >0.306168</td> \n",
       "        <td id=\"T_18456662_fc03_11e7_8ec9_180373272ae0row4_col2\" class=\"data row4 col2\" >0.238157</td> \n",
       "    </tr>    <tr> \n",
       "        <th id=\"T_18456662_fc03_11e7_8ec9_180373272ae0level0_row5\" class=\"row_heading level0 row5\" >Python array comprehension</th> \n",
       "        <td id=\"T_18456662_fc03_11e7_8ec9_180373272ae0row5_col0\" class=\"data row5 col0\" >0.0660497</td> \n",
       "        <td id=\"T_18456662_fc03_11e7_8ec9_180373272ae0row5_col1\" class=\"data row5 col1\" >0.379162</td> \n",
       "        <td id=\"T_18456662_fc03_11e7_8ec9_180373272ae0row5_col2\" class=\"data row5 col2\" >0.342669</td> \n",
       "    </tr>    <tr> \n",
       "        <th id=\"T_18456662_fc03_11e7_8ec9_180373272ae0level0_row6\" class=\"row_heading level0 row6\" >Numpy loop</th> \n",
       "        <td id=\"T_18456662_fc03_11e7_8ec9_180373272ae0row6_col0\" class=\"data row6 col0\" >0.406661</td> \n",
       "        <td id=\"T_18456662_fc03_11e7_8ec9_180373272ae0row6_col1\" class=\"data row6 col1\" >nan</td> \n",
       "        <td id=\"T_18456662_fc03_11e7_8ec9_180373272ae0row6_col2\" class=\"data row6 col2\" >nan</td> \n",
       "    </tr>    <tr> \n",
       "        <th id=\"T_18456662_fc03_11e7_8ec9_180373272ae0level0_row7\" class=\"row_heading level0 row7\" >Numpy vectors</th> \n",
       "        <td id=\"T_18456662_fc03_11e7_8ec9_180373272ae0row7_col0\" class=\"data row7 col0\" >0.00194728</td> \n",
       "        <td id=\"T_18456662_fc03_11e7_8ec9_180373272ae0row7_col1\" class=\"data row7 col1\" >0.00187638</td> \n",
       "        <td id=\"T_18456662_fc03_11e7_8ec9_180373272ae0row7_col2\" class=\"data row7 col2\" >0.038693</td> \n",
       "    </tr>    <tr> \n",
       "        <th id=\"T_18456662_fc03_11e7_8ec9_180373272ae0level0_row8\" class=\"row_heading level0 row8\" >Matlab</th> \n",
       "        <td id=\"T_18456662_fc03_11e7_8ec9_180373272ae0row8_col0\" class=\"data row8 col0\" >0.001516</td> \n",
       "        <td id=\"T_18456662_fc03_11e7_8ec9_180373272ae0row8_col1\" class=\"data row8 col1\" >0.001467</td> \n",
       "        <td id=\"T_18456662_fc03_11e7_8ec9_180373272ae0row8_col2\" class=\"data row8 col2\" >0.015683</td> \n",
       "    </tr></tbody> \n",
       "</table> "
      ],
      "text/plain": [
       "<pandas.io.formats.style.Styler at 0x7f13bdd88320>"
      ]
     },
     "execution_count": 181,
     "metadata": {},
     "output_type": "execute_result"
    }
   ],
   "source": [
    "time_results.style.apply(highlight)"
   ]
  },
  {
   "cell_type": "code",
   "execution_count": null,
   "metadata": {},
   "outputs": [],
   "source": []
  }
 ],
 "metadata": {
  "kernelspec": {
   "display_name": "Python 3",
   "language": "python",
   "name": "python3"
  },
  "language_info": {
   "codemirror_mode": {
    "name": "ipython",
    "version": 3
   },
   "file_extension": ".py",
   "mimetype": "text/x-python",
   "name": "python",
   "nbconvert_exporter": "python",
   "pygments_lexer": "ipython3",
   "version": "3.5.2"
  }
 },
 "nbformat": 4,
 "nbformat_minor": 2
}
