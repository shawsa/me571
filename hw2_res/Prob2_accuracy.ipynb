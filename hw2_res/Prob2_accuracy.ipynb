{
 "cells": [
  {
   "cell_type": "code",
   "execution_count": null,
   "metadata": {
    "collapsed": true
   },
   "outputs": [],
   "source": [
    "%pylab inline\n",
    "%matplotlib notebook\n",
    "\n",
    "import pandas"
   ]
  },
  {
   "cell_type": "markdown",
   "metadata": {},
   "source": [
    "<hr/>\n",
    "\n",
    "## Verify the results\n",
    "\n",
    "We verify the results by making sure that we get the expect error behavior and convergence rates.\n",
    "\n",
    "Load the results into a Numpy array and create arrays from the columns."
   ]
  },
  {
   "cell_type": "code",
   "execution_count": null,
   "metadata": {
    "collapsed": true
   },
   "outputs": [],
   "source": [
    "# TODO : Run this code for processor counts [1,2,4,8,16]\n",
    "\n",
    "file_prefix = 'trap_'\n",
    "nprocs = 8   # set to 1,2,4, and 8\n",
    "filename = file_prefix + '{:02d}'.format(nprocs) + '.out'"
   ]
  },
  {
   "cell_type": "code",
   "execution_count": null,
   "metadata": {
    "collapsed": true
   },
   "outputs": [],
   "source": [
    "# Read text file into numpy array\n",
    "T = loadtxt(filename)\n",
    "\n",
    "# Convert slices to column arrays\n",
    "Nvec = T[:,0].astype('int')\n",
    "soln = T[:,1]\n",
    "err  = T[:,2]\n",
    "t    = T[:,3]"
   ]
  },
  {
   "cell_type": "markdown",
   "metadata": {},
   "source": [
    "## Plot accuracy results"
   ]
  },
  {
   "cell_type": "code",
   "execution_count": null,
   "metadata": {
    "collapsed": true
   },
   "outputs": [],
   "source": [
    "loglog(Nvec,err,'.-',markersize=10)\n",
    "xlabel('N')\n",
    "ylabel('Error')\n",
    "title('Convergence of Trapezoidal method');\n",
    "\n",
    "c = polyfit(log(Nvec[:-9]),log(err[:-9]),1)\n",
    "loglog(Nvec,exp(polyval(c,log(Nvec))),'r--')\n",
    "legend([\"Error\",\"best-fit-line (slope = {:6.2f})\".format(c[0])])"
   ]
  },
  {
   "cell_type": "markdown",
   "metadata": {},
   "source": [
    "<hr/>\n",
    "\n",
    "## Show results in a table\n",
    "\n",
    "Create and print a Pandas table displaying results. We will add a column containing the convergence rate.\n",
    "\n",
    "To compute the convergence rate, we assume that the error in our trapezoidal rule is given as a function of $h = (b-a)/N$.  \n",
    "\n",
    "\\begin{equation}\n",
    "e(h) \\sim Ch^r\n",
    "\\end{equation}\n",
    "\n",
    "For a second order method, we expect the convergence rate $r$ to satisfy $r \\sim 2$.  To numerically estimate $r$, we further assume that $e_i$ is the error computed using a mesh width $h$ and $e_{i+1}$ is the error on mesh width $h/2$.  Furthermore, for small $h$, we assume that the constant $C$ is independent of $h$.   Then, \n",
    "\\begin{equation}\n",
    "\\frac{e_{i}}{e_{i+1}} = \\frac{C h^r}{C(h/2)^r} \\sim 2^r\n",
    "\\end{equation}\n",
    "\n",
    "We can then compute the numerical converence rate $r_i$ as\n",
    "\\begin{equation}\n",
    "r_i = \\log_2\\left(\\frac{e_{i}}{e_{i+1}}\\right)\n",
    "\\end{equation}\n",
    "for errors $e_i$.  "
   ]
  },
  {
   "cell_type": "code",
   "execution_count": null,
   "metadata": {
    "collapsed": true
   },
   "outputs": [],
   "source": [
    "df = pandas.DataFrame({'N' : Nvec, 'soln' : soln, 'err' : err, 't' : t})\n",
    "\n",
    "rate = log2(err[:-1]/err[1:]).reshape(-1,1)\n",
    "df['rate'] = vstack((numpy.nan,rate))         # Add a Nan as the first item"
   ]
  },
  {
   "cell_type": "code",
   "execution_count": null,
   "metadata": {
    "collapsed": true
   },
   "outputs": [],
   "source": [
    "# Re-label column headers\n",
    "di = {'soln' : 'Solution', 'err' : 'Error','rate' : 'Rate','t' : 'Time (s)'}\n",
    "\n",
    "# Format string\n",
    "fstr = {'N' : '{:d}'.format, di['soln'] : '{:.16f}'.format,\n",
    "        di['err'] : '{:.4e}'.format, di['rate'] : '{:.2f}'.format,\n",
    "        di['t'] : '{:.2e}'.format} # Width has no effect\n",
    "\n",
    "# Set up properties for the table\n",
    "pr = df.rename(columns=di).style\n",
    "pr.format(fstr)\n",
    "\n",
    "pr.set_properties(subset= 'N',      width='60px')          \n",
    "pr.set_properties(subset=di['soln'],width='120px')\n",
    "pr.set_properties(subset=di['err'], width='110px')\n",
    "pr.set_properties(subset=di['t'], width='110px')\n",
    "pr.set_properties(subset=di['rate'],width='80px')\n",
    "\n",
    "exact_soln = .8725929572658386    # Copied from output\n",
    "pr.set_caption(\"True solution is {:20.16f};  Simulation run on {:d} processors\\n\".format(exact_soln,nprocs))"
   ]
  },
  {
   "cell_type": "code",
   "execution_count": null,
   "metadata": {
    "collapsed": true
   },
   "outputs": [],
   "source": []
  }
 ],
 "metadata": {
  "kernelspec": {
   "display_name": "Python 3",
   "language": "python",
   "name": "python3"
  },
  "language_info": {
   "codemirror_mode": {
    "name": "ipython",
    "version": 3
   },
   "file_extension": ".py",
   "mimetype": "text/x-python",
   "name": "python",
   "nbconvert_exporter": "python",
   "pygments_lexer": "ipython3",
   "version": "3.5.2"
  }
 },
 "nbformat": 4,
 "nbformat_minor": 2
}
