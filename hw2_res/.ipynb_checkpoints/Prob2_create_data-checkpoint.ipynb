{
 "cells": [
  {
   "cell_type": "code",
   "execution_count": null,
   "metadata": {
    "collapsed": true
   },
   "outputs": [],
   "source": [
    "%pylab inline\n",
    "%matplotlib notebook\n",
    "\n",
    "import pandas"
   ]
  },
  {
   "cell_type": "markdown",
   "metadata": {},
   "source": [
    "<hr/>\n",
    "# Prob 2 : Create data from MPI runs\n",
    "<hr/>\n",
    "\n",
    "Run the following code for 1,2,4 and 8 processors. This will create files `trap_1.out`, `trap_2.out` and so on.\n",
    "You may need to modify thsi code so it works for your setup.\n",
    "\n",
    "This cell calls your MPI routine, collects the output, and then \"splits\" into a list of string data. This data is written to a text file so that you don't have to rerun the code to re-create plots and tables below.  This version assumes your output from your program looks like\n",
    "\n",
    "    Processor [0] :       1024   1.8725924894828205   1.8725929572658386   4.67783018e-07\n",
    "\n",
    "Feel free to modify the Python code below to match your output. If you improve it, please let know!"
   ]
  },
  {
   "cell_type": "code",
   "execution_count": null,
   "metadata": {
    "collapsed": true
   },
   "outputs": [],
   "source": [
    "file_prefix = 'trap_'\n",
    "\n",
    "nprocs = 8   # set to 1,2,4, and 8\n",
    "filename = file_prefix + '{:02d}'.format(nprocs) + '.out'"
   ]
  },
  {
   "cell_type": "code",
   "execution_count": null,
   "metadata": {
    "collapsed": true
   },
   "outputs": [],
   "source": [
    "import subprocess, sys, time\n",
    "\n",
    "# We write the data to a file so that it doesn't have to be re-run everytime we modify \n",
    "# formatting or plotting\n",
    "\n",
    "f = open(filename,'w')\n",
    "for pv in range(10,29):\n",
    "    arg_list = ['/opt/local/bin/mpirun','-n', str(nprocs), 'demo_trap1','-p',str(pv)]\n",
    "        \n",
    "    # Test to make sure we can run this code\n",
    "    p = subprocess.run(arg_list,stdout=subprocess.PIPE)    \n",
    "    if p.returncode > 0:\n",
    "        print(\"Something went wrong!\")\n",
    "        sys.exit(0)\n",
    "    output = p.stdout.decode(\"utf-8\").split()\n",
    "    \n",
    "    tr = %timeit -n 5 -r 5 -o pass; p = subprocess.run(arg_list,stdout=subprocess.PIPE)\n",
    "    \n",
    "    # Read output\n",
    "    N = int(output[3])\n",
    "    soln = float(output[4])\n",
    "    err = float(output[6])\n",
    "    \n",
    "    f.write(\"{:10d} {:20.16f} {:12.4e} {:12.2e}\\n\".format(N,soln,err,tr.best))\n",
    "    \n",
    "f.close()"
   ]
  },
  {
   "cell_type": "markdown",
   "metadata": {},
   "source": [
    "We can look at the contents of the text file created above using the magic command `%cat`. "
   ]
  },
  {
   "cell_type": "code",
   "execution_count": null,
   "metadata": {
    "collapsed": true
   },
   "outputs": [],
   "source": [
    "%cat $filename"
   ]
  }
 ],
 "metadata": {
  "kernelspec": {
   "display_name": "Python 3",
   "language": "python",
   "name": "python3"
  },
  "language_info": {
   "codemirror_mode": {
    "name": "ipython",
    "version": 3
   },
   "file_extension": ".py",
   "mimetype": "text/x-python",
   "name": "python",
   "nbconvert_exporter": "python",
   "pygments_lexer": "ipython3",
   "version": "3.5.4"
  }
 },
 "nbformat": 4,
 "nbformat_minor": 2
}
