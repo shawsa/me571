{
 "cells": [
  {
   "cell_type": "markdown",
   "metadata": {},
   "source": [
    "# Sage Shaw\n",
    "\n",
    "### ME 571 - Spring 2018\n",
    "\n",
    "# HW 1 - Problem 4"
   ]
  },
  {
   "cell_type": "code",
   "execution_count": 3,
   "metadata": {},
   "outputs": [],
   "source": [
    "import numpy as np\n",
    "import pandas as pd\n",
    "import matplotlib.pyplot as plt\n",
    "from random import random\n",
    "import multiprocessing as mp\n",
    "from timeit import timeit\n",
    "\n",
    "N = 10**7"
   ]
  },
  {
   "cell_type": "markdown",
   "metadata": {},
   "source": [
    "## Single Processor w/o Numpy"
   ]
  },
  {
   "cell_type": "code",
   "execution_count": 11,
   "metadata": {},
   "outputs": [
    {
     "name": "stdout",
     "output_type": "stream",
     "text": [
      "3.1407896\n"
     ]
    }
   ],
   "source": [
    "nums = [(random(),random()) for i in range(N)]\n",
    "\n",
    "def single_calc():\n",
    "    #r = [x**2 + y**2 for x,y in nums]\n",
    "    #hits = [1> radius for radius in r]\n",
    "    #return 4 * sum(hits)/len(nums)\n",
    "    return 4 * sum([x**2 + y**2 <= 1 for x, y in nums]) /N\n",
    "print(single_calc())\n",
    "\n",
    "setup = \"\"\"\n",
    "from random import random\n",
    "N = \"\"\" + str(N) + \"\"\"\n",
    "nums = [(random(),random()) for i in range(N)]\n",
    "def single_calc():\n",
    "    return 4 * sum([x**2 + y**2 <= 1 for x, y in nums]) /N\n",
    "\"\"\""
   ]
  },
  {
   "cell_type": "code",
   "execution_count": 12,
   "metadata": {},
   "outputs": [
    {
     "name": "stdout",
     "output_type": "stream",
     "text": [
      "3.41 s ± 2.41 ms per loop (mean ± std. dev. of 7 runs, 1 loop each)\n"
     ]
    }
   ],
   "source": [
    "%%timeit\n",
    "single_calc()"
   ]
  },
  {
   "cell_type": "code",
   "execution_count": null,
   "metadata": {},
   "outputs": [],
   "source": [
    "#%%timeit\n",
    "#print( 4 * sum([x**2 + y**2 <= 1 for x, y in nums]) /N )\n",
    "repeats = 10\n",
    "single = timeit(stmt=\"single_calc()\", setup=setup, number=repeats)\n",
    "print(single/repeats)"
   ]
  },
  {
   "cell_type": "markdown",
   "metadata": {},
   "source": [
    "## Single Processor w/ Numpy"
   ]
  },
  {
   "cell_type": "code",
   "execution_count": 37,
   "metadata": {},
   "outputs": [],
   "source": [
    "num = np.random.rand(N,2)"
   ]
  },
  {
   "cell_type": "code",
   "execution_count": 38,
   "metadata": {},
   "outputs": [
    {
     "name": "stdout",
     "output_type": "stream",
     "text": [
      "102 ms ± 222 µs per loop (mean ± std. dev. of 7 runs, 10 loops each)\n"
     ]
    }
   ],
   "source": [
    "%%timeit\n",
    "r = num[:,0]**2 + num[:,1]**2\n",
    "hits = np.greater(1, r)\n",
    "pi = 4 * np.sum(hits)/ N"
   ]
  },
  {
   "cell_type": "markdown",
   "metadata": {},
   "source": [
    "## Multiprocessor w/o Numpy"
   ]
  },
  {
   "cell_type": "code",
   "execution_count": 15,
   "metadata": {},
   "outputs": [],
   "source": [
    "#nums = [(random(),random()) for i in range(N)]\n",
    "\n",
    "def calc_pi(proc_num, sublist_size, ret_queue, nums):\n",
    "    #sublist_size = len(nums)//p\n",
    "    my_nums = nums[proc_num*sublist_size : min((proc_num+1)*sublist_size, len(nums))]\n",
    "    pi = 4 * sum([x**2 + y**2 <= 1 for x, y in my_nums]) / len(my_nums)\n",
    "    ret_queue.put(pi)\n",
    "    return"
   ]
  },
  {
   "cell_type": "code",
   "execution_count": 10,
   "metadata": {},
   "outputs": [],
   "source": [
    "def multi_calc(nums, p):\n",
    "    manager = mp.Manager()\n",
    "    ret_queue = mp.Queue()\n",
    "    sublist_size = len(nums)//p\n",
    "    #sublists = [nums[i:i+sublist_size] for i in range(0, len(nums), sublist_size)]\n",
    "    #jobs = [mp.Process(target=calc_pi, args=(ret_queue, sublist) ) for sublist in sublists]\n",
    "    jobs = [mp.Process(target=calc_pi, args=(i, sublist_size, ret_queue, nums) ) for i in range(p)]\n",
    "    #for job in jobs:\n",
    "    #    job.start()\n",
    "        \n",
    "    [job.start() for job in jobs]\n",
    "    [job.join() for job in jobs]\n",
    "    #for job in jobs:\n",
    "     #   job.join()\n",
    "        \n",
    "    pi = 0\n",
    "    while not ret_queue.empty():\n",
    "        temp = ret_queue.get()\n",
    "        pi += temp\n",
    "    return pi/p"
   ]
  },
  {
   "cell_type": "code",
   "execution_count": 11,
   "metadata": {},
   "outputs": [],
   "source": [
    "nums = [(random(),random()) for i in range(N)]\n",
    "#nums = np.random.random( (N,2))"
   ]
  },
  {
   "cell_type": "code",
   "execution_count": 18,
   "metadata": {},
   "outputs": [
    {
     "name": "stdout",
     "output_type": "stream",
     "text": [
      "4.26 s ± 39.6 ms per loop (mean ± std. dev. of 7 runs, 1 loop each)\n"
     ]
    }
   ],
   "source": [
    "%%timeit\n",
    "pi = multi_calc(nums, 1)"
   ]
  },
  {
   "cell_type": "code",
   "execution_count": 19,
   "metadata": {},
   "outputs": [
    {
     "name": "stdout",
     "output_type": "stream",
     "text": [
      "2.31 s ± 32.2 ms per loop (mean ± std. dev. of 7 runs, 1 loop each)\n"
     ]
    }
   ],
   "source": [
    "%%timeit\n",
    "pi = multi_calc(nums, 2)"
   ]
  },
  {
   "cell_type": "code",
   "execution_count": 20,
   "metadata": {},
   "outputs": [
    {
     "name": "stdout",
     "output_type": "stream",
     "text": [
      "1.62 s ± 11.5 ms per loop (mean ± std. dev. of 7 runs, 1 loop each)\n"
     ]
    }
   ],
   "source": [
    "%%timeit\n",
    "pi = multi_calc(nums, 3)"
   ]
  },
  {
   "cell_type": "code",
   "execution_count": 21,
   "metadata": {},
   "outputs": [
    {
     "name": "stdout",
     "output_type": "stream",
     "text": [
      "1.34 s ± 18.3 ms per loop (mean ± std. dev. of 7 runs, 1 loop each)\n"
     ]
    }
   ],
   "source": [
    "%%timeit\n",
    "pi = multi_calc(nums, 4)"
   ]
  },
  {
   "cell_type": "code",
   "execution_count": 22,
   "metadata": {},
   "outputs": [
    {
     "name": "stdout",
     "output_type": "stream",
     "text": [
      "1.44 s ± 59.6 ms per loop (mean ± std. dev. of 7 runs, 1 loop each)\n"
     ]
    }
   ],
   "source": [
    "%%timeit\n",
    "pi = multi_calc(nums, 5)"
   ]
  },
  {
   "cell_type": "code",
   "execution_count": 23,
   "metadata": {},
   "outputs": [
    {
     "name": "stdout",
     "output_type": "stream",
     "text": [
      "1.42 s ± 50.3 ms per loop (mean ± std. dev. of 7 runs, 1 loop each)\n"
     ]
    }
   ],
   "source": [
    "%%timeit\n",
    "pi = multi_calc(nums, 6)"
   ]
  },
  {
   "cell_type": "code",
   "execution_count": 24,
   "metadata": {},
   "outputs": [
    {
     "name": "stdout",
     "output_type": "stream",
     "text": [
      "1.38 s ± 24.8 ms per loop (mean ± std. dev. of 7 runs, 1 loop each)\n"
     ]
    }
   ],
   "source": [
    "%%timeit\n",
    "pi = multi_calc(nums, 8)"
   ]
  },
  {
   "cell_type": "code",
   "execution_count": 25,
   "metadata": {},
   "outputs": [
    {
     "name": "stdout",
     "output_type": "stream",
     "text": [
      "1.49 s ± 12.6 ms per loop (mean ± std. dev. of 7 runs, 1 loop each)\n"
     ]
    }
   ],
   "source": [
    "%%timeit\n",
    "pi = multi_calc(nums, 16)"
   ]
  },
  {
   "cell_type": "code",
   "execution_count": 26,
   "metadata": {},
   "outputs": [
    {
     "name": "stdout",
     "output_type": "stream",
     "text": [
      "1.71 s ± 47.4 ms per loop (mean ± std. dev. of 7 runs, 1 loop each)\n"
     ]
    }
   ],
   "source": [
    "%%timeit\n",
    "pi = multi_calc(nums, 32)"
   ]
  },
  {
   "cell_type": "markdown",
   "metadata": {},
   "source": [
    "## Multiprocessor w/ Numpy"
   ]
  },
  {
   "cell_type": "code",
   "execution_count": 14,
   "metadata": {},
   "outputs": [],
   "source": [
    "nums = np.random.random( (N,2) )\n",
    "\n",
    "def calc_pi(proc_num, sublist_size, ret_queue, nums):\n",
    "    #sublist_size = len(nums)//p\n",
    "    my_nums = nums[proc_num*sublist_size : min((proc_num+1)*sublist_size, len(nums))]\n",
    "    x,y = my_nums[:,0], my_nums[:,1]\n",
    "    pi = 4 * sum( np.greater(1, x**2 + y**2))/len(my_nums)\n",
    "    #pi = 4 * sum([x**2 + y**2 <= 1 for x, y in my_nums]) / len(my_nums)\n",
    "    #r = x**2 + y**2\n",
    "    #hits = np.greater(1,r)\n",
    "    #pi = 4 * sum(hits)\n",
    "    ret_queue.put(pi)\n",
    "    return"
   ]
  },
  {
   "cell_type": "code",
   "execution_count": 13,
   "metadata": {},
   "outputs": [
    {
     "name": "stdout",
     "output_type": "stream",
     "text": [
      "49.2 s ± 367 ms per loop (mean ± std. dev. of 7 runs, 1 loop each)\n"
     ]
    }
   ],
   "source": [
    "%%timeit\n",
    "pi = multi_calc(nums, 1)"
   ]
  },
  {
   "cell_type": "code",
   "execution_count": 15,
   "metadata": {},
   "outputs": [
    {
     "name": "stdout",
     "output_type": "stream",
     "text": [
      "8.39 s ± 28 ms per loop (mean ± std. dev. of 7 runs, 1 loop each)\n"
     ]
    }
   ],
   "source": [
    "%%timeit\n",
    "pi = multi_calc(nums, 4)"
   ]
  },
  {
   "cell_type": "markdown",
   "metadata": {},
   "source": [
    "## Multiprocessor w/Numpy - Pythonic"
   ]
  },
  {
   "cell_type": "code",
   "execution_count": 7,
   "metadata": {},
   "outputs": [],
   "source": [
    "nums = np.random.random( (N,2) )\n",
    "\n",
    "def calc_pi(proc_num, sublist_size, ret_queue, nums):\n",
    "    #sublist_size = len(nums)//p\n",
    "    my_nums = nums[proc_num*sublist_size : min((proc_num+1)*sublist_size, len(nums))]\n",
    "    x,y = my_nums[:,0], my_nums[:,1]\n",
    "    pi = 4 * sum( np.greater(1, x**2 + y**2))/len(my_nums)\n",
    "    #pi = 4 * sum([x**2 + y**2 <= 1 for x, y in my_nums]) / len(my_nums)\n",
    "    #r = x**2 + y**2\n",
    "    #hits = np.greater(1,r)\n",
    "    #pi = 4 * sum(hits)\n",
    "    ret_queue.put(pi)\n",
    "    return"
   ]
  },
  {
   "cell_type": "markdown",
   "metadata": {},
   "source": [
    "## Analysis\n",
    "By far the best method is to use **Numpy** without the **multiprocessing** module. **Numpy** is very well optimized and uses BLAS and multithreading via lower level languages (complied languages) to optimize runtimes. Interestingly using the **multiprocessing** module with Numpy drastically increases runtime and appears to take 8-10 times longer than the **multiprocessing** module with list comprehensions (the most efficient way to work with lists in Python 3). \n",
    "\n",
    "For the parallelized runs, we did indeed see an increase in speed when more processes were used. Using one process introduced extra overhead and took longer, but as the number of processors rose the time decreased. This capped at 4 processes, which is expected since the machine has 4 processor cores and cannot physically run more than 4 processes at a time."
   ]
  },
  {
   "cell_type": "markdown",
   "metadata": {},
   "source": [
    "## A note on Pythonic code\n",
    "In the math portion of the **calc_pi** functions above I experimented using multiple lines of clean code (i.e. Pythonic code) vs compressed one-line versions. In the plain-python version the one-line version seemed to be slightly faster. I believe this is due to the fact that it only generates a single list, whereas the cleaner version stores the outputs in separate lists. It is somewhat unfortunate because the purpose of the python programming language is to create simple, human-readable code."
   ]
  },
  {
   "cell_type": "code",
   "execution_count": null,
   "metadata": {},
   "outputs": [],
   "source": []
  },
  {
   "cell_type": "code",
   "execution_count": null,
   "metadata": {},
   "outputs": [],
   "source": []
  }
 ],
 "metadata": {
  "kernelspec": {
   "display_name": "Python 3",
   "language": "python",
   "name": "python3"
  },
  "language_info": {
   "codemirror_mode": {
    "name": "ipython",
    "version": 3
   },
   "file_extension": ".py",
   "mimetype": "text/x-python",
   "name": "python",
   "nbconvert_exporter": "python",
   "pygments_lexer": "ipython3",
   "version": "3.5.2"
  }
 },
 "nbformat": 4,
 "nbformat_minor": 2
}
