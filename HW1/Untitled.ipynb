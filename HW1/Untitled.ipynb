{
 "cells": [
  {
   "cell_type": "code",
   "execution_count": 2,
   "metadata": {},
   "outputs": [],
   "source": [
    "import numpy as np\n",
    "from random import random\n",
    "import multiprocessing as mp\n",
    "from itertools import repeat\n",
    "\n",
    "N = 10**6\n",
    "\n",
    "lst = [random() for i in range(N)]"
   ]
  },
  {
   "cell_type": "code",
   "execution_count": 3,
   "metadata": {},
   "outputs": [],
   "source": [
    "def proc_min(i, size, lst, ret_list):\n",
    "    #lst, i, size = args[0], args[1], args[2]\n",
    "    my_sum = 0\n",
    "    for num in lst[i*size:(i+1)*size]:\n",
    "        my_sum+= num\n",
    "    ret_list[i] = min(lst[i*size:(i+1)*size])\n",
    "    return \n",
    "\n",
    "def par_min(lst,p):\n",
    "    manager = mp.Manager()\n",
    "    shared_list = manager.list(lst)\n",
    "    ret_list = manager.list([0]*p)\n",
    "    #pool = mp.Pool(processes = p)\n",
    "    l = len(lst)\n",
    "    size = l//p + 1\n",
    "    jobs = [mp.Process(target=proc_min, args=(i, size, shared_list, ret_list))\n",
    "            for i in range(p)]\n",
    "    #sums = pool.map(proc_sum, [(shared_list, i,size) for i in range(p)])\n",
    "    for job in jobs: job.start()\n",
    "    for job in jobs: job.join()\n",
    "    return min(ret_list)"
   ]
  },
  {
   "cell_type": "code",
   "execution_count": 4,
   "metadata": {},
   "outputs": [
    {
     "name": "stdout",
     "output_type": "stream",
     "text": [
      "583 ms ± 33.9 ms per loop (mean ± std. dev. of 7 runs, 1 loop each)\n"
     ]
    }
   ],
   "source": [
    "%%timeit\n",
    "my_min = par_min(lst, mp.cpu_count())"
   ]
  },
  {
   "cell_type": "code",
   "execution_count": 9,
   "metadata": {},
   "outputs": [
    {
     "data": {
      "text/plain": [
       "0.0"
      ]
     },
     "execution_count": 9,
     "metadata": {},
     "output_type": "execute_result"
    }
   ],
   "source": [
    "par_min(lst, mp.cpu_count()) - min(lst)"
   ]
  },
  {
   "cell_type": "code",
   "execution_count": 7,
   "metadata": {},
   "outputs": [],
   "source": [
    "num_arr = np.array(lst)"
   ]
  },
  {
   "cell_type": "code",
   "execution_count": 8,
   "metadata": {},
   "outputs": [
    {
     "name": "stdout",
     "output_type": "stream",
     "text": [
      "1.3 ms ± 47 µs per loop (mean ± std. dev. of 7 runs, 1000 loops each)\n"
     ]
    }
   ],
   "source": [
    "%%timeit\n",
    "np.min(num_arr)"
   ]
  },
  {
   "cell_type": "code",
   "execution_count": 10,
   "metadata": {},
   "outputs": [],
   "source": [
    "def num_proc_min(i, size, lst, ret_list):\n",
    "    #lst, i, size = args[0], args[1], args[2]\n",
    "    my_sum = 0\n",
    "    for num in lst[i*size:(i+1)*size]:\n",
    "        my_sum+= num\n",
    "    ret_list[i] = min(lst[i*size:(i+1)*size])\n",
    "    return \n",
    "\n",
    "def num_par_min(lst,p):\n",
    "    manager = mp.Manager()\n",
    "    shared_list = manager.list(lst)\n",
    "    ret_list = manager.list([0]*p)\n",
    "    #pool = mp.Pool(processes = p)\n",
    "    l = len(lst)\n",
    "    size = l//p + 1\n",
    "    jobs = [mp.Process(target=num_proc_min, args=(i, size, shared_list, ret_list))\n",
    "            for i in range(p)]\n",
    "    #sums = pool.map(proc_sum, [(shared_list, i,size) for i in range(p)])\n",
    "    for job in jobs: job.start()\n",
    "    for job in jobs: job.join()\n",
    "    return min(ret_list)"
   ]
  },
  {
   "cell_type": "code",
   "execution_count": 12,
   "metadata": {},
   "outputs": [
    {
     "name": "stdout",
     "output_type": "stream",
     "text": [
      "14 s ± 214 ms per loop (mean ± std. dev. of 7 runs, 1 loop each)\n"
     ]
    }
   ],
   "source": [
    "%%timeit\n",
    "num_par_min(num_arr,mp.cpu_count())"
   ]
  },
  {
   "cell_type": "code",
   "execution_count": null,
   "metadata": {},
   "outputs": [],
   "source": [
    "%%\n",
    "np.min()"
   ]
  }
 ],
 "metadata": {
  "kernelspec": {
   "display_name": "Python 3",
   "language": "python",
   "name": "python3"
  },
  "language_info": {
   "codemirror_mode": {
    "name": "ipython",
    "version": 3
   },
   "file_extension": ".py",
   "mimetype": "text/x-python",
   "name": "python",
   "nbconvert_exporter": "python",
   "pygments_lexer": "ipython3",
   "version": "3.5.2"
  }
 },
 "nbformat": 4,
 "nbformat_minor": 2
}
