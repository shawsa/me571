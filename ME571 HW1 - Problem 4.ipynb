{
 "cells": [
  {
   "cell_type": "markdown",
   "metadata": {},
   "source": [
    "# Sage Shaw\n",
    "\n",
    "### ME 571 - Spring 2018\n",
    "\n",
    "# HW 1 - Problem 4"
   ]
  },
  {
   "cell_type": "code",
   "execution_count": 1,
   "metadata": {},
   "outputs": [],
   "source": [
    "import numpy as np\n",
    "import pandas as pd\n",
    "import matplotlib.pyplot as plt\n",
    "from random import random\n",
    "import multiprocessing as mp\n",
    "from timeit import timeit\n",
    "\n",
    "N = 10**4"
   ]
  },
  {
   "cell_type": "markdown",
   "metadata": {},
   "source": [
    "## Single Processor w/o Numpy"
   ]
  },
  {
   "cell_type": "code",
   "execution_count": 2,
   "metadata": {},
   "outputs": [
    {
     "name": "stdout",
     "output_type": "stream",
     "text": [
      "3.141432\n"
     ]
    }
   ],
   "source": [
    "nums = [(random(),random()) for i in range(N)]\n",
    "\n",
    "def single_calc():\n",
    "    return 4 * sum([x**2 + y**2 <= 1 for x, y in nums]) /N\n",
    "print(single_calc())\n",
    "\n",
    "setup = \"\"\"\n",
    "from random import random\n",
    "N = \"\"\" + str(N) + \"\"\"\n",
    "nums = [(random(),random()) for i in range(N)]\n",
    "def single_calc():\n",
    "    return 4 * sum([x**2 + y**2 <= 1 for x, y in nums]) /N\n",
    "\"\"\""
   ]
  },
  {
   "cell_type": "code",
   "execution_count": 3,
   "metadata": {},
   "outputs": [
    {
     "name": "stdout",
     "output_type": "stream",
     "text": [
      "330 ms ± 1.29 ms per loop (mean ± std. dev. of 7 runs, 1 loop each)\n"
     ]
    }
   ],
   "source": [
    "%%timeit\n",
    "single_calc()"
   ]
  },
  {
   "cell_type": "code",
   "execution_count": 4,
   "metadata": {},
   "outputs": [
    {
     "name": "stdout",
     "output_type": "stream",
     "text": [
      "0.329663548595272\n"
     ]
    }
   ],
   "source": [
    "#%%timeit\n",
    "#print( 4 * sum([x**2 + y**2 <= 1 for x, y in nums]) /N )\n",
    "repeats = 10\n",
    "single = timeit(stmt=\"single_calc()\", setup=setup, number=repeats)\n",
    "print(single/repeats)"
   ]
  },
  {
   "cell_type": "markdown",
   "metadata": {},
   "source": [
    "## Single Processor w/ Numpy"
   ]
  },
  {
   "cell_type": "code",
   "execution_count": 5,
   "metadata": {},
   "outputs": [],
   "source": [
    "num = np.random.rand(N,2)"
   ]
  },
  {
   "cell_type": "code",
   "execution_count": 6,
   "metadata": {},
   "outputs": [
    {
     "name": "stdout",
     "output_type": "stream",
     "text": [
      "8.33 ms ± 33.4 µs per loop (mean ± std. dev. of 7 runs, 100 loops each)\n"
     ]
    }
   ],
   "source": [
    "%%timeit\n",
    "r = num[:,0]**2 + num[:,1]**2\n",
    "hits = np.greater(np.ones(N,), r)\n",
    "pi = 4 * np.sum(hits)/ N"
   ]
  },
  {
   "cell_type": "markdown",
   "metadata": {},
   "source": [
    "## Multiprocessor"
   ]
  },
  {
   "cell_type": "code",
   "execution_count": 7,
   "metadata": {},
   "outputs": [],
   "source": [
    "nums = [(random(),random()) for i in range(N)]\n",
    "\n",
    "p = 1\n",
    "\n",
    "def calc_pi(i, ret_list, nums):\n",
    "    pi = 4 * sum([x**2 + y**2 <= 1 for x, y in nums]) / len(nums)\n",
    "    ret_list[i] = pi\n",
    "    return"
   ]
  },
  {
   "cell_type": "code",
   "execution_count": 8,
   "metadata": {},
   "outputs": [],
   "source": [
    "def multi_calc():\n",
    "    manager = mp.Manager()\n",
    "    ret_list = manager.list(range(p))\n",
    "    sublist_size = len(nums)//p\n",
    "    #sublists = [nums[i:i+sublist_size] for i in range(0, len(nums), sublist_size)]\n",
    "    jobs = [mp.Process(target=calc_pi, args=(i, ret_list, sublists[i]) ) for i in range(p)]\n",
    "    for job in jobs:\n",
    "        job.start()\n",
    "\n",
    "    for job in jobs:\n",
    "        job.join()\n",
    "        job.terminate()\n",
    "    return sum(ret_list)/p"
   ]
  },
  {
   "cell_type": "code",
   "execution_count": 9,
   "metadata": {},
   "outputs": [
    {
     "data": {
      "text/plain": [
       "3.142435142435142"
      ]
     },
     "execution_count": 9,
     "metadata": {},
     "output_type": "execute_result"
    }
   ],
   "source": [
    "nums = [(random(),random()) for i in range(N)]\n",
    "p = 3\n",
    "multi_calc()"
   ]
  },
  {
   "cell_type": "code",
   "execution_count": 10,
   "metadata": {},
   "outputs": [
    {
     "name": "stdout",
     "output_type": "stream",
     "text": [
      "3.142435142435142\n",
      "3.142435142435142\n",
      "3.142435142435142\n",
      "3.142435142435142\n",
      "3.142435142435142\n",
      "3.142435142435142\n",
      "3.142435142435142\n",
      "3.142435142435142\n",
      "265 ms ± 7.06 ms per loop (mean ± std. dev. of 7 runs, 1 loop each)\n"
     ]
    }
   ],
   "source": [
    "%%timeit\n",
    "p=1\n",
    "print(multi_calc())"
   ]
  },
  {
   "cell_type": "code",
   "execution_count": 11,
   "metadata": {},
   "outputs": [
    {
     "name": "stdout",
     "output_type": "stream",
     "text": [
      "3.142435142435142\n",
      "3.142435142435142\n",
      "3.142435142435142\n",
      "3.142435142435142\n",
      "3.142435142435142\n",
      "3.142435142435142\n",
      "3.142435142435142\n",
      "3.142435142435142\n",
      "269 ms ± 3.62 ms per loop (mean ± std. dev. of 7 runs, 1 loop each)\n"
     ]
    }
   ],
   "source": [
    "%%timeit\n",
    "p=2\n",
    "print(multi_calc())"
   ]
  },
  {
   "cell_type": "code",
   "execution_count": 12,
   "metadata": {},
   "outputs": [
    {
     "name": "stdout",
     "output_type": "stream",
     "text": [
      "3.142435142435142\n",
      "3.142435142435142\n",
      "3.142435142435142\n",
      "3.142435142435142\n",
      "3.142435142435142\n",
      "3.142435142435142\n",
      "3.142435142435142\n",
      "3.142435142435142\n",
      "257 ms ± 8.83 ms per loop (mean ± std. dev. of 7 runs, 1 loop each)\n"
     ]
    }
   ],
   "source": [
    "%%timeit\n",
    "p=3\n",
    "print(multi_calc())"
   ]
  },
  {
   "cell_type": "code",
   "execution_count": 13,
   "metadata": {},
   "outputs": [
    {
     "name": "stdout",
     "output_type": "stream",
     "text": [
      "3.142435142435142\n",
      "3.142435142435142\n",
      "3.142435142435142\n",
      "3.142435142435142\n",
      "3.142435142435142\n",
      "3.142435142435142\n",
      "3.142435142435142\n",
      "3.142435142435142\n",
      "268 ms ± 6.44 ms per loop (mean ± std. dev. of 7 runs, 1 loop each)\n"
     ]
    }
   ],
   "source": [
    "%%timeit\n",
    "p=5\n",
    "print(multi_calc())"
   ]
  },
  {
   "cell_type": "code",
   "execution_count": 14,
   "metadata": {},
   "outputs": [
    {
     "name": "stdout",
     "output_type": "stream",
     "text": [
      "3.142435142435142\n",
      "3.142435142435142\n",
      "3.142435142435142\n",
      "3.142435142435142\n",
      "3.142435142435142\n",
      "3.142435142435142\n",
      "3.142435142435142\n",
      "3.142435142435142\n",
      "268 ms ± 12.8 ms per loop (mean ± std. dev. of 7 runs, 1 loop each)\n"
     ]
    }
   ],
   "source": [
    "%%timeit\n",
    "p=6\n",
    "print(multi_calc())"
   ]
  },
  {
   "cell_type": "code",
   "execution_count": 15,
   "metadata": {},
   "outputs": [
    {
     "name": "stdout",
     "output_type": "stream",
     "text": [
      "3.142435142435142\n",
      "3.142435142435142\n",
      "3.142435142435142\n",
      "3.142435142435142\n",
      "3.142435142435142\n",
      "3.142435142435142\n",
      "3.142435142435142\n",
      "3.142435142435142\n",
      "268 ms ± 11.7 ms per loop (mean ± std. dev. of 7 runs, 1 loop each)\n"
     ]
    }
   ],
   "source": [
    "%%timeit\n",
    "p=7\n",
    "print(multi_calc())"
   ]
  },
  {
   "cell_type": "code",
   "execution_count": null,
   "metadata": {},
   "outputs": [],
   "source": []
  }
 ],
 "metadata": {
  "kernelspec": {
   "display_name": "Python 3",
   "language": "python",
   "name": "python3"
  },
  "language_info": {
   "codemirror_mode": {
    "name": "ipython",
    "version": 3
   },
   "file_extension": ".py",
   "mimetype": "text/x-python",
   "name": "python",
   "nbconvert_exporter": "python",
   "pygments_lexer": "ipython3",
   "version": "3.5.2"
  }
 },
 "nbformat": 4,
 "nbformat_minor": 2
}
